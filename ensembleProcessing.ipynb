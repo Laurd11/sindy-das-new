{
 "cells": [
  {
   "cell_type": "code",
   "execution_count": 12,
   "id": "5444ad99",
   "metadata": {},
   "outputs": [],
   "source": [
    "import numpy as np\n",
    "import matplotlib.pyplot as plt\n",
    "import glob\n"
   ]
  },
  {
   "cell_type": "code",
   "execution_count": 3,
   "id": "7da2dcc7",
   "metadata": {},
   "outputs": [],
   "source": [
    "direct = \"/home/ldoyle/notebooks/ensembleSINDyArrays/\""
   ]
  },
  {
   "cell_type": "code",
   "execution_count": 4,
   "id": "5e03c246",
   "metadata": {},
   "outputs": [],
   "source": [
    "filename = \"2021-11-01T2311_normal_thresh_3.00E-03.npy\"\n",
    "arr = np.load(direct+filename)"
   ]
  },
  {
   "cell_type": "code",
   "execution_count": 23,
   "id": "b57b72c5",
   "metadata": {},
   "outputs": [
    {
     "data": {
      "text/plain": [
       "array([ 0.        ,  0.        ,  0.        ,  0.00858177, -1.        ,\n",
       "        0.01233089,  0.        , -1.        ,  0.1205261 , -1.        ,\n",
       "       -1.        ,  0.        , -1.        ,  0.        ,  0.        ])"
      ]
     },
     "execution_count": 23,
     "metadata": {},
     "output_type": "execute_result"
    }
   ],
   "source": [
    "rel_err = np.divide(np.std(arr, axis=0)[0,:],np.abs(np.mean(arr, axis=0)[0,:]),where=np.mean(arr, axis=0)[0,:]!=0)\n"
   ]
  },
  {
   "cell_type": "code",
   "execution_count": 27,
   "id": "1c025743",
   "metadata": {},
   "outputs": [
    {
     "data": {
      "text/plain": [
       "array([-1.        , -1.        , -1.        ,  0.00858177, -1.        ,\n",
       "        0.01233089, -1.        , -1.        ,  0.1205261 , -1.        ,\n",
       "       -1.        , -1.        , -1.        , -1.        , -1.        ])"
      ]
     },
     "execution_count": 27,
     "metadata": {},
     "output_type": "execute_result"
    }
   ],
   "source": [
    "rel_err_conditional = np.where(np.where(rel_err<=0.2,rel_err,-1)>0,rel_err,-1)"
   ]
  },
  {
   "cell_type": "code",
   "execution_count": null,
   "id": "123dbf12",
   "metadata": {},
   "outputs": [],
   "source": []
  }
 ],
 "metadata": {
  "kernelspec": {
   "display_name": "Python 3",
   "language": "python",
   "name": "python3"
  },
  "language_info": {
   "codemirror_mode": {
    "name": "ipython",
    "version": 3
   },
   "file_extension": ".py",
   "mimetype": "text/x-python",
   "name": "python",
   "nbconvert_exporter": "python",
   "pygments_lexer": "ipython3",
   "version": "3.9.16"
  }
 },
 "nbformat": 4,
 "nbformat_minor": 5
}
