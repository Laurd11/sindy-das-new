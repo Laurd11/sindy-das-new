{
 "cells": [
  {
   "cell_type": "code",
   "execution_count": 20,
   "id": "c79b63f1",
   "metadata": {},
   "outputs": [],
   "source": [
    "import sys\n",
    "sys.path.insert(0, '/home/ldoyle/packages')\n",
    "import h5py\n",
    "import numpy as np\n",
    "from tqdm import tqdm\n",
    "import matplotlib\n",
    "\n",
    "import matplotlib.dates as mdates\n",
    "import matplotlib.pyplot as plt\n",
    "from sklearn.decomposition import PCA\n",
    "import pandas as pd\n",
    "import pysindy as ps\n",
    "from lr_ed import localreg\n",
    "from datetime import datetime\n",
    "from scipy.fft import fft, fftfreq,rfft2\n",
    "\n",
    "import scipy.signal as signal\n",
    "from obspy.signal import filter as obsfilt\n",
    "import glob\n",
    "from pyproj import Proj\n"
   ]
  },
  {
   "cell_type": "markdown",
   "id": "e4368083",
   "metadata": {},
   "source": [
    "### Load data and Adjust Units"
   ]
  },
  {
   "cell_type": "code",
   "execution_count": 21,
   "id": "ef646fc3",
   "metadata": {},
   "outputs": [],
   "source": [
    "file_list = glob.glob(\"/home/ldoyle/notebooks/rad_10_smooth_data/*\")"
   ]
  },
  {
   "cell_type": "code",
   "execution_count": 22,
   "id": "645a1a19",
   "metadata": {},
   "outputs": [],
   "source": [
    "n = 1.4682\n",
    "L = 51.04762\n",
    "\n",
    "b=0\n",
    "for q in np.arange(2,7):\n",
    "    if b==0:\n",
    "        working_dat = np.load(file_list[q])\n",
    "        b=1\n",
    "    else:\n",
    "        working_dat = np.hstack((working_dat, np.load(file_list[q])))\n",
    "\n",
    "# working_dat = np.load(file_list[15])\n",
    "working_dat = ((2*np.pi)/2**16)*((1550.12 * 1e-9)/(0.78 * 4 * np.pi * n * L))*working_dat#[:,::10]\n",
    "working_dat = working_dat *10**6#/(np.std(working_dat))\n",
    "working_dat = working_dat[:,::10].T\n",
    "mean_remove = (working_dat - np.mean(working_dat,axis=0)).T\n",
    "\n",
    "working_dat = mean_remove.reshape(working_dat.shape[1],working_dat.shape[0],1)"
   ]
  },
  {
   "cell_type": "code",
   "execution_count": 23,
   "id": "8bc7daa7",
   "metadata": {},
   "outputs": [
    {
     "name": "stdout",
     "output_type": "stream",
     "text": [
      "(5000, 6000, 1)\n",
      "1.9783986066197787\n",
      "-1.948681685699635\n"
     ]
    }
   ],
   "source": [
    "print(working_dat.shape)\n",
    "print(np.amax(working_dat))\n",
    "print(np.amin(working_dat))"
   ]
  },
  {
   "cell_type": "markdown",
   "id": "76cd4773",
   "metadata": {},
   "source": [
    "### Construct library"
   ]
  },
  {
   "cell_type": "code",
   "execution_count": 6,
   "id": "1285677c",
   "metadata": {},
   "outputs": [],
   "source": [
    "dt=1. #/200\n",
    "xs = np.arange(working_dat.shape[0]) #2.0419047*np.arange(working_dat.shape[1])\n",
    "# time = dt*np.arange(working_dat.shape[0])\n",
    "\n",
    "library_functions = [lambda x: x, lambda x: x * x]\n",
    "library_function_names = [lambda x: x, lambda x: x + x]\n",
    "pde_lib = ps.PDELibrary(\n",
    "    library_functions=library_functions,\n",
    "    function_names=library_function_names,\n",
    "    derivative_order=4,\n",
    "    spatial_grid=xs,\n",
    "    include_bias=True,\n",
    "    is_uniform=True,\n",
    "#     periodic=True\n",
    ")\n",
    "\n",
    "u_dot = ps.SpectralDerivative(axis=1)._differentiate(working_dat, t=1) #ps.FiniteDifference(axis=1)._differentiate(working_dat, t=1)"
   ]
  },
  {
   "cell_type": "code",
   "execution_count": 7,
   "id": "6f4b8a12",
   "metadata": {},
   "outputs": [],
   "source": [
    "thresh = 0.05\n",
    "optimizer = ps.STLSQ(threshold=thresh, alpha=1e-5, max_iter=50)\n",
    "model = ps.SINDy(feature_library=pde_lib, optimizer=optimizer)\n",
    "model.fit(working_dat,  x_dot=u_dot, t=dt,ensemble=True)\n",
    "\n",
    "\n",
    "library_ensemble_coefs = model.coef_list\n",
    "mean_library_ensemble = np.mean(library_ensemble_coefs, axis=0)\n",
    "std_library_ensemble = np.std(library_ensemble_coefs, axis=0)"
   ]
  },
  {
   "cell_type": "code",
   "execution_count": 8,
   "id": "fccb90f6",
   "metadata": {},
   "outputs": [
    {
     "name": "stdout",
     "output_type": "stream",
     "text": [
      "Ensemble STLSQ with Threshold 0.05\n",
      "(x0)' = 0.640 x0_1 + -0.041 x0_11 + 30.989 x0_111 + -1.741 x0_1111 + -0.152 x0x0_111 + -0.058 x0x0x0_111 + 0.341 x0x0_1111 + -2.780 x0x0x0_1111\n"
     ]
    }
   ],
   "source": [
    "print(\"Ensemble STLSQ with Threshold \"+str(thresh))\n",
    "model.print()"
   ]
  },
  {
   "cell_type": "code",
   "execution_count": 9,
   "id": "2903197c",
   "metadata": {},
   "outputs": [],
   "source": [
    "u_test = (((2*np.pi)/2**16)*((1550.12 * 1e-9)/(0.78 * 4 * np.pi * n * L))*np.load(file_list[19])*10**6)[:,::10]\n",
    "u_test = u_test.reshape(u_test.shape[0],u_test.shape[1],1)\n",
    "u_dot_stlsq = model.predict(u_test)\n",
    "u_dot_test = ps.FiniteDifference(axis=1)._differentiate(u_test, t=1)\n"
   ]
  },
  {
   "cell_type": "code",
   "execution_count": 10,
   "id": "4f8a6fb8",
   "metadata": {},
   "outputs": [
    {
     "data": {
      "text/plain": [
       "AxesArray(1.25370503)"
      ]
     },
     "execution_count": 10,
     "metadata": {},
     "output_type": "execute_result"
    }
   ],
   "source": [
    "np.mean(np.abs(u_dot_test[:,:,0]-u_dot_stlsq[:,:,0]))/np.mean(np.abs(u_dot_test[:,:,0]))"
   ]
  },
  {
   "cell_type": "markdown",
   "id": "dd97f613",
   "metadata": {},
   "source": [
    "### Include depth"
   ]
  },
  {
   "cell_type": "code",
   "execution_count": 24,
   "id": "4102a15b",
   "metadata": {},
   "outputs": [],
   "source": [
    "latlondepth = np.genfromtxt('south_DAS_latlondepth.txt')\n",
    "\n",
    "relevant = latlondepth[6558:11558,3]"
   ]
  },
  {
   "cell_type": "code",
   "execution_count": 25,
   "id": "bf1d2a22",
   "metadata": {},
   "outputs": [],
   "source": [
    "h_shaped = np.tile(relevant.reshape(-1,1),working_dat.shape[1])\n",
    "data_2 = np.stack((working_dat[:,:,0],h_shaped),\n",
    "         axis=-1)\n",
    "# data_2 = np.transpose(np.asarray([working_dat,h_shaped]),[1,2,0])"
   ]
  },
  {
   "cell_type": "code",
   "execution_count": 26,
   "id": "0c8d9605",
   "metadata": {},
   "outputs": [
    {
     "data": {
      "text/plain": [
       "(5000, 6000, 2)"
      ]
     },
     "execution_count": 26,
     "metadata": {},
     "output_type": "execute_result"
    }
   ],
   "source": [
    "data_2.shape"
   ]
  },
  {
   "cell_type": "code",
   "execution_count": 27,
   "id": "b08062e6",
   "metadata": {},
   "outputs": [],
   "source": [
    "inputs_per_library = np.array([[0,1],[0,1],[0,1]])\n",
    "tensor_array = [[1, 1, 0]]"
   ]
  },
  {
   "cell_type": "markdown",
   "id": "b8ed91e9",
   "metadata": {},
   "source": [
    "### Construct library"
   ]
  },
  {
   "cell_type": "code",
   "execution_count": 28,
   "id": "7cc958b8",
   "metadata": {},
   "outputs": [],
   "source": [
    "dt=1. #/200\n",
    "xs = np.arange(5000) #2.0419047*np.arange(working_dat.shape[1])\n",
    "# time = dt*np.arange(working_dat.shape[0])\n",
    "\n",
    "library_functions = [lambda x: x, lambda x: x * x]\n",
    "library_function_names = [lambda x: x, lambda x: x + x]\n",
    "pde_lib = ps.PDELibrary(\n",
    "    library_functions=library_functions,\n",
    "    function_names=library_function_names,\n",
    "    derivative_order=4,\n",
    "    spatial_grid=xs,\n",
    "    include_bias=True,\n",
    "    is_uniform=True,\n",
    "#     periodic=True\n",
    ")"
   ]
  },
  {
   "cell_type": "code",
   "execution_count": 29,
   "id": "172c6421",
   "metadata": {},
   "outputs": [],
   "source": [
    "poly_library = ps.PolynomialLibrary(include_bias=False)\n",
    "fourier_library = ps.FourierLibrary()"
   ]
  },
  {
   "cell_type": "code",
   "execution_count": 30,
   "id": "5e1627aa",
   "metadata": {},
   "outputs": [],
   "source": [
    "generalized_library = ps.GeneralizedLibrary(\n",
    "    [poly_library, fourier_library, pde_lib],\n",
    "    tensor_array=tensor_array,\n",
    "    inputs_per_library=inputs_per_library,\n",
    ")"
   ]
  },
  {
   "cell_type": "code",
   "execution_count": 33,
   "id": "cb114139",
   "metadata": {},
   "outputs": [
    {
     "name": "stdout",
     "output_type": "stream",
     "text": [
      "<bound method GeneralizedLibrary.get_feature_names of <pysindy.feature_library.generalized_library.GeneralizedLibrary object at 0x7fd2c02f05e0>>\n"
     ]
    }
   ],
   "source": [
    "print(generalized_library.get_feature_names)"
   ]
  },
  {
   "cell_type": "code",
   "execution_count": 18,
   "id": "47e4fbc9",
   "metadata": {},
   "outputs": [],
   "source": [
    "u_dot = ps.FiniteDifference(axis=1)._differentiate(working_dat, t=1)\n",
    "data_dot = np.stack((u_dot[:,:,0],h_shaped),axis=-1)"
   ]
  },
  {
   "cell_type": "code",
   "execution_count": 19,
   "id": "673448fd",
   "metadata": {},
   "outputs": [
    {
     "ename": "KeyboardInterrupt",
     "evalue": "",
     "output_type": "error",
     "traceback": [
      "\u001b[0;31m---------------------------------------------------------------------------\u001b[0m",
      "\u001b[0;31mKeyboardInterrupt\u001b[0m                         Traceback (most recent call last)",
      "\u001b[0;32m<ipython-input-19-f22018539ece>\u001b[0m in \u001b[0;36m<module>\u001b[0;34m\u001b[0m\n\u001b[1;32m      1\u001b[0m \u001b[0moptimizer\u001b[0m \u001b[0;34m=\u001b[0m \u001b[0mps\u001b[0m\u001b[0;34m.\u001b[0m\u001b[0mSTLSQ\u001b[0m\u001b[0;34m(\u001b[0m\u001b[0mthreshold\u001b[0m\u001b[0;34m=\u001b[0m\u001b[0;36m0.05\u001b[0m\u001b[0;34m,\u001b[0m\u001b[0malpha\u001b[0m\u001b[0;34m=\u001b[0m\u001b[0;36m1e-5\u001b[0m\u001b[0;34m)\u001b[0m\u001b[0;31m#, normalize_columns=True)\u001b[0m\u001b[0;34m\u001b[0m\u001b[0;34m\u001b[0m\u001b[0m\n\u001b[1;32m      2\u001b[0m \u001b[0mmodel\u001b[0m \u001b[0;34m=\u001b[0m \u001b[0mps\u001b[0m\u001b[0;34m.\u001b[0m\u001b[0mSINDy\u001b[0m\u001b[0;34m(\u001b[0m\u001b[0mfeature_library\u001b[0m\u001b[0;34m=\u001b[0m\u001b[0mgeneralized_library\u001b[0m\u001b[0;34m,\u001b[0m \u001b[0moptimizer\u001b[0m\u001b[0;34m=\u001b[0m\u001b[0moptimizer\u001b[0m\u001b[0;34m)\u001b[0m\u001b[0;34m\u001b[0m\u001b[0;34m\u001b[0m\u001b[0m\n\u001b[0;32m----> 3\u001b[0;31m \u001b[0mmodel\u001b[0m\u001b[0;34m.\u001b[0m\u001b[0mfit\u001b[0m\u001b[0;34m(\u001b[0m\u001b[0mdata_2\u001b[0m\u001b[0;34m,\u001b[0m \u001b[0mx_dot\u001b[0m\u001b[0;34m=\u001b[0m\u001b[0mdata_dot\u001b[0m\u001b[0;34m)\u001b[0m\u001b[0;34m\u001b[0m\u001b[0;34m\u001b[0m\u001b[0m\n\u001b[0m",
      "\u001b[0;32m~/packages/pysindy/pysindy.py\u001b[0m in \u001b[0;36mfit\u001b[0;34m(self, x, t, x_dot, u, multiple_trajectories, unbias, quiet, ensemble, library_ensemble, replace, n_candidates_to_drop, n_subset, n_models, ensemble_aggregator)\u001b[0m\n\u001b[1;32m    412\u001b[0m             \u001b[0mwarnings\u001b[0m\u001b[0;34m.\u001b[0m\u001b[0mfilterwarnings\u001b[0m\u001b[0;34m(\u001b[0m\u001b[0maction\u001b[0m\u001b[0;34m,\u001b[0m \u001b[0mcategory\u001b[0m\u001b[0;34m=\u001b[0m\u001b[0mLinAlgWarning\u001b[0m\u001b[0;34m)\u001b[0m\u001b[0;34m\u001b[0m\u001b[0;34m\u001b[0m\u001b[0m\n\u001b[1;32m    413\u001b[0m             \u001b[0mwarnings\u001b[0m\u001b[0;34m.\u001b[0m\u001b[0mfilterwarnings\u001b[0m\u001b[0;34m(\u001b[0m\u001b[0maction\u001b[0m\u001b[0;34m,\u001b[0m \u001b[0mcategory\u001b[0m\u001b[0;34m=\u001b[0m\u001b[0mUserWarning\u001b[0m\u001b[0;34m)\u001b[0m\u001b[0;34m\u001b[0m\u001b[0;34m\u001b[0m\u001b[0m\n\u001b[0;32m--> 414\u001b[0;31m             \u001b[0mself\u001b[0m\u001b[0;34m.\u001b[0m\u001b[0mmodel\u001b[0m\u001b[0;34m.\u001b[0m\u001b[0mfit\u001b[0m\u001b[0;34m(\u001b[0m\u001b[0mx\u001b[0m\u001b[0;34m,\u001b[0m \u001b[0mx_dot\u001b[0m\u001b[0;34m)\u001b[0m\u001b[0;34m\u001b[0m\u001b[0;34m\u001b[0m\u001b[0m\n\u001b[0m\u001b[1;32m    415\u001b[0m \u001b[0;34m\u001b[0m\u001b[0m\n\u001b[1;32m    416\u001b[0m         \u001b[0;31m# New version of sklearn changes attribute name\u001b[0m\u001b[0;34m\u001b[0m\u001b[0;34m\u001b[0m\u001b[0m\n",
      "\u001b[0;32m~/packages/sklearn/pipeline.py\u001b[0m in \u001b[0;36mfit\u001b[0;34m(self, X, y, **fit_params)\u001b[0m\n\u001b[1;32m    403\u001b[0m             \u001b[0;32mif\u001b[0m \u001b[0mself\u001b[0m\u001b[0;34m.\u001b[0m\u001b[0m_final_estimator\u001b[0m \u001b[0;34m!=\u001b[0m \u001b[0;34m\"passthrough\"\u001b[0m\u001b[0;34m:\u001b[0m\u001b[0;34m\u001b[0m\u001b[0;34m\u001b[0m\u001b[0m\n\u001b[1;32m    404\u001b[0m                 \u001b[0mfit_params_last_step\u001b[0m \u001b[0;34m=\u001b[0m \u001b[0mfit_params_steps\u001b[0m\u001b[0;34m[\u001b[0m\u001b[0mself\u001b[0m\u001b[0;34m.\u001b[0m\u001b[0msteps\u001b[0m\u001b[0;34m[\u001b[0m\u001b[0;34m-\u001b[0m\u001b[0;36m1\u001b[0m\u001b[0;34m]\u001b[0m\u001b[0;34m[\u001b[0m\u001b[0;36m0\u001b[0m\u001b[0;34m]\u001b[0m\u001b[0;34m]\u001b[0m\u001b[0;34m\u001b[0m\u001b[0;34m\u001b[0m\u001b[0m\n\u001b[0;32m--> 405\u001b[0;31m                 \u001b[0mself\u001b[0m\u001b[0;34m.\u001b[0m\u001b[0m_final_estimator\u001b[0m\u001b[0;34m.\u001b[0m\u001b[0mfit\u001b[0m\u001b[0;34m(\u001b[0m\u001b[0mXt\u001b[0m\u001b[0;34m,\u001b[0m \u001b[0my\u001b[0m\u001b[0;34m,\u001b[0m \u001b[0;34m**\u001b[0m\u001b[0mfit_params_last_step\u001b[0m\u001b[0;34m)\u001b[0m\u001b[0;34m\u001b[0m\u001b[0;34m\u001b[0m\u001b[0m\n\u001b[0m\u001b[1;32m    406\u001b[0m \u001b[0;34m\u001b[0m\u001b[0m\n\u001b[1;32m    407\u001b[0m         \u001b[0;32mreturn\u001b[0m \u001b[0mself\u001b[0m\u001b[0;34m\u001b[0m\u001b[0;34m\u001b[0m\u001b[0m\n",
      "\u001b[0;32m~/packages/pysindy/optimizers/sindy_optimizer.py\u001b[0m in \u001b[0;36mfit\u001b[0;34m(self, x, y)\u001b[0m\n\u001b[1;32m     58\u001b[0m         )\n\u001b[1;32m     59\u001b[0m \u001b[0;34m\u001b[0m\u001b[0m\n\u001b[0;32m---> 60\u001b[0;31m         \u001b[0mself\u001b[0m\u001b[0;34m.\u001b[0m\u001b[0moptimizer\u001b[0m\u001b[0;34m.\u001b[0m\u001b[0mfit\u001b[0m\u001b[0;34m(\u001b[0m\u001b[0mx\u001b[0m\u001b[0;34m,\u001b[0m \u001b[0my\u001b[0m\u001b[0;34m)\u001b[0m\u001b[0;34m\u001b[0m\u001b[0;34m\u001b[0m\u001b[0m\n\u001b[0m\u001b[1;32m     61\u001b[0m         \u001b[0;32mif\u001b[0m \u001b[0;32mnot\u001b[0m \u001b[0mhasattr\u001b[0m\u001b[0;34m(\u001b[0m\u001b[0mself\u001b[0m\u001b[0;34m.\u001b[0m\u001b[0moptimizer\u001b[0m\u001b[0;34m,\u001b[0m \u001b[0;34m\"coef_\"\u001b[0m\u001b[0;34m)\u001b[0m\u001b[0;34m:\u001b[0m\u001b[0;34m\u001b[0m\u001b[0;34m\u001b[0m\u001b[0m\n\u001b[1;32m     62\u001b[0m             \u001b[0;32mraise\u001b[0m \u001b[0mAttributeError\u001b[0m\u001b[0;34m(\u001b[0m\u001b[0;34m\"optimizer has no attribute coef_\"\u001b[0m\u001b[0;34m)\u001b[0m\u001b[0;34m\u001b[0m\u001b[0;34m\u001b[0m\u001b[0m\n",
      "\u001b[0;32m~/packages/pysindy/optimizers/base.py\u001b[0m in \u001b[0;36mfit\u001b[0;34m(self, x_, y, sample_weight, **reduce_kws)\u001b[0m\n\u001b[1;32m    176\u001b[0m         \u001b[0mx_normed\u001b[0m \u001b[0;34m=\u001b[0m \u001b[0mnp\u001b[0m\u001b[0;34m.\u001b[0m\u001b[0masarray\u001b[0m\u001b[0;34m(\u001b[0m\u001b[0mx_normed\u001b[0m\u001b[0;34m)\u001b[0m\u001b[0;34m\u001b[0m\u001b[0;34m\u001b[0m\u001b[0m\n\u001b[1;32m    177\u001b[0m \u001b[0;34m\u001b[0m\u001b[0m\n\u001b[0;32m--> 178\u001b[0;31m         \u001b[0mself\u001b[0m\u001b[0;34m.\u001b[0m\u001b[0m_reduce\u001b[0m\u001b[0;34m(\u001b[0m\u001b[0mx_normed\u001b[0m\u001b[0;34m,\u001b[0m \u001b[0my\u001b[0m\u001b[0;34m,\u001b[0m \u001b[0;34m**\u001b[0m\u001b[0mreduce_kws\u001b[0m\u001b[0;34m)\u001b[0m\u001b[0;34m\u001b[0m\u001b[0;34m\u001b[0m\u001b[0m\n\u001b[0m\u001b[1;32m    179\u001b[0m         \u001b[0mself\u001b[0m\u001b[0;34m.\u001b[0m\u001b[0mind_\u001b[0m \u001b[0;34m=\u001b[0m \u001b[0mnp\u001b[0m\u001b[0;34m.\u001b[0m\u001b[0mabs\u001b[0m\u001b[0;34m(\u001b[0m\u001b[0mself\u001b[0m\u001b[0;34m.\u001b[0m\u001b[0mcoef_\u001b[0m\u001b[0;34m)\u001b[0m \u001b[0;34m>\u001b[0m \u001b[0;36m1e-14\u001b[0m\u001b[0;34m\u001b[0m\u001b[0;34m\u001b[0m\u001b[0m\n\u001b[1;32m    180\u001b[0m \u001b[0;34m\u001b[0m\u001b[0m\n",
      "\u001b[0;32m~/packages/pysindy/optimizers/stlsq.py\u001b[0m in \u001b[0;36m_reduce\u001b[0;34m(self, x, y)\u001b[0m\n\u001b[1;32m    204\u001b[0m                     )\n\u001b[1;32m    205\u001b[0m                     \u001b[0;32mcontinue\u001b[0m\u001b[0;34m\u001b[0m\u001b[0;34m\u001b[0m\u001b[0m\n\u001b[0;32m--> 206\u001b[0;31m                 \u001b[0mcoef_i\u001b[0m \u001b[0;34m=\u001b[0m \u001b[0mself\u001b[0m\u001b[0;34m.\u001b[0m\u001b[0m_regress\u001b[0m\u001b[0;34m(\u001b[0m\u001b[0mx\u001b[0m\u001b[0;34m[\u001b[0m\u001b[0;34m:\u001b[0m\u001b[0;34m,\u001b[0m \u001b[0mind\u001b[0m\u001b[0;34m[\u001b[0m\u001b[0mi\u001b[0m\u001b[0;34m]\u001b[0m\u001b[0;34m]\u001b[0m\u001b[0;34m,\u001b[0m \u001b[0my\u001b[0m\u001b[0;34m[\u001b[0m\u001b[0;34m:\u001b[0m\u001b[0;34m,\u001b[0m \u001b[0mi\u001b[0m\u001b[0;34m]\u001b[0m\u001b[0;34m)\u001b[0m\u001b[0;34m\u001b[0m\u001b[0;34m\u001b[0m\u001b[0m\n\u001b[0m\u001b[1;32m    207\u001b[0m                 coef_i, ind_i = self._sparse_coefficients(\n\u001b[1;32m    208\u001b[0m                     \u001b[0mn_features\u001b[0m\u001b[0;34m,\u001b[0m \u001b[0mind\u001b[0m\u001b[0;34m[\u001b[0m\u001b[0mi\u001b[0m\u001b[0;34m]\u001b[0m\u001b[0;34m,\u001b[0m \u001b[0mcoef_i\u001b[0m\u001b[0;34m,\u001b[0m \u001b[0mself\u001b[0m\u001b[0;34m.\u001b[0m\u001b[0mthreshold\u001b[0m\u001b[0;34m\u001b[0m\u001b[0;34m\u001b[0m\u001b[0m\n",
      "\u001b[0;32m~/packages/pysindy/optimizers/stlsq.py\u001b[0m in \u001b[0;36m_regress\u001b[0;34m(self, x, y)\u001b[0m\n\u001b[1;32m    142\u001b[0m             \u001b[0mwarnings\u001b[0m\u001b[0;34m.\u001b[0m\u001b[0mfilterwarnings\u001b[0m\u001b[0;34m(\u001b[0m\u001b[0;34m\"ignore\"\u001b[0m\u001b[0;34m,\u001b[0m \u001b[0mcategory\u001b[0m\u001b[0;34m=\u001b[0m\u001b[0mLinAlgWarning\u001b[0m\u001b[0;34m)\u001b[0m\u001b[0;34m\u001b[0m\u001b[0;34m\u001b[0m\u001b[0m\n\u001b[1;32m    143\u001b[0m             \u001b[0;32mtry\u001b[0m\u001b[0;34m:\u001b[0m\u001b[0;34m\u001b[0m\u001b[0;34m\u001b[0m\u001b[0m\n\u001b[0;32m--> 144\u001b[0;31m                 \u001b[0mcoef\u001b[0m \u001b[0;34m=\u001b[0m \u001b[0mridge_regression\u001b[0m\u001b[0;34m(\u001b[0m\u001b[0mx\u001b[0m\u001b[0;34m,\u001b[0m \u001b[0my\u001b[0m\u001b[0;34m,\u001b[0m \u001b[0mself\u001b[0m\u001b[0;34m.\u001b[0m\u001b[0malpha\u001b[0m\u001b[0;34m,\u001b[0m \u001b[0;34m**\u001b[0m\u001b[0mkw\u001b[0m\u001b[0;34m)\u001b[0m\u001b[0;34m\u001b[0m\u001b[0;34m\u001b[0m\u001b[0m\n\u001b[0m\u001b[1;32m    145\u001b[0m             \u001b[0;32mexcept\u001b[0m \u001b[0mLinAlgWarning\u001b[0m\u001b[0;34m:\u001b[0m\u001b[0;34m\u001b[0m\u001b[0;34m\u001b[0m\u001b[0m\n\u001b[1;32m    146\u001b[0m                 \u001b[0;31m# increase alpha until warning stops\u001b[0m\u001b[0;34m\u001b[0m\u001b[0;34m\u001b[0m\u001b[0m\n",
      "\u001b[0;32m~/packages/sklearn/linear_model/_ridge.py\u001b[0m in \u001b[0;36mridge_regression\u001b[0;34m(X, y, alpha, sample_weight, solver, max_iter, tol, verbose, positive, random_state, return_n_iter, return_intercept, check_input)\u001b[0m\n\u001b[1;32m    535\u001b[0m     \u001b[0mnumber\u001b[0m\u001b[0;34m.\u001b[0m\u001b[0;34m\u001b[0m\u001b[0;34m\u001b[0m\u001b[0m\n\u001b[1;32m    536\u001b[0m     \"\"\"\n\u001b[0;32m--> 537\u001b[0;31m     return _ridge_regression(\n\u001b[0m\u001b[1;32m    538\u001b[0m         \u001b[0mX\u001b[0m\u001b[0;34m,\u001b[0m\u001b[0;34m\u001b[0m\u001b[0;34m\u001b[0m\u001b[0m\n\u001b[1;32m    539\u001b[0m         \u001b[0my\u001b[0m\u001b[0;34m,\u001b[0m\u001b[0;34m\u001b[0m\u001b[0;34m\u001b[0m\u001b[0m\n",
      "\u001b[0;32m~/packages/sklearn/linear_model/_ridge.py\u001b[0m in \u001b[0;36m_ridge_regression\u001b[0;34m(X, y, alpha, sample_weight, solver, max_iter, tol, verbose, positive, random_state, return_n_iter, return_intercept, X_scale, X_offset, check_input, fit_intercept)\u001b[0m\n\u001b[1;32m    615\u001b[0m         \u001b[0m_dtype\u001b[0m \u001b[0;34m=\u001b[0m \u001b[0;34m[\u001b[0m\u001b[0mnp\u001b[0m\u001b[0;34m.\u001b[0m\u001b[0mfloat64\u001b[0m\u001b[0;34m,\u001b[0m \u001b[0mnp\u001b[0m\u001b[0;34m.\u001b[0m\u001b[0mfloat32\u001b[0m\u001b[0;34m]\u001b[0m\u001b[0;34m\u001b[0m\u001b[0;34m\u001b[0m\u001b[0m\n\u001b[1;32m    616\u001b[0m         \u001b[0m_accept_sparse\u001b[0m \u001b[0;34m=\u001b[0m \u001b[0m_get_valid_accept_sparse\u001b[0m\u001b[0;34m(\u001b[0m\u001b[0msparse\u001b[0m\u001b[0;34m.\u001b[0m\u001b[0missparse\u001b[0m\u001b[0;34m(\u001b[0m\u001b[0mX\u001b[0m\u001b[0;34m)\u001b[0m\u001b[0;34m,\u001b[0m \u001b[0msolver\u001b[0m\u001b[0;34m)\u001b[0m\u001b[0;34m\u001b[0m\u001b[0;34m\u001b[0m\u001b[0m\n\u001b[0;32m--> 617\u001b[0;31m         \u001b[0mX\u001b[0m \u001b[0;34m=\u001b[0m \u001b[0mcheck_array\u001b[0m\u001b[0;34m(\u001b[0m\u001b[0mX\u001b[0m\u001b[0;34m,\u001b[0m \u001b[0maccept_sparse\u001b[0m\u001b[0;34m=\u001b[0m\u001b[0m_accept_sparse\u001b[0m\u001b[0;34m,\u001b[0m \u001b[0mdtype\u001b[0m\u001b[0;34m=\u001b[0m\u001b[0m_dtype\u001b[0m\u001b[0;34m,\u001b[0m \u001b[0morder\u001b[0m\u001b[0;34m=\u001b[0m\u001b[0;34m\"C\"\u001b[0m\u001b[0;34m)\u001b[0m\u001b[0;34m\u001b[0m\u001b[0;34m\u001b[0m\u001b[0m\n\u001b[0m\u001b[1;32m    618\u001b[0m         \u001b[0my\u001b[0m \u001b[0;34m=\u001b[0m \u001b[0mcheck_array\u001b[0m\u001b[0;34m(\u001b[0m\u001b[0my\u001b[0m\u001b[0;34m,\u001b[0m \u001b[0mdtype\u001b[0m\u001b[0;34m=\u001b[0m\u001b[0mX\u001b[0m\u001b[0;34m.\u001b[0m\u001b[0mdtype\u001b[0m\u001b[0;34m,\u001b[0m \u001b[0mensure_2d\u001b[0m\u001b[0;34m=\u001b[0m\u001b[0;32mFalse\u001b[0m\u001b[0;34m,\u001b[0m \u001b[0morder\u001b[0m\u001b[0;34m=\u001b[0m\u001b[0;32mNone\u001b[0m\u001b[0;34m)\u001b[0m\u001b[0;34m\u001b[0m\u001b[0;34m\u001b[0m\u001b[0m\n\u001b[1;32m    619\u001b[0m     \u001b[0mcheck_consistent_length\u001b[0m\u001b[0;34m(\u001b[0m\u001b[0mX\u001b[0m\u001b[0;34m,\u001b[0m \u001b[0my\u001b[0m\u001b[0;34m)\u001b[0m\u001b[0;34m\u001b[0m\u001b[0;34m\u001b[0m\u001b[0m\n",
      "\u001b[0;32m~/packages/sklearn/utils/validation.py\u001b[0m in \u001b[0;36mcheck_array\u001b[0;34m(array, accept_sparse, accept_large_sparse, dtype, order, copy, force_all_finite, ensure_2d, allow_nd, ensure_min_samples, ensure_min_features, estimator, input_name)\u001b[0m\n\u001b[1;32m    877\u001b[0m                     \u001b[0marray\u001b[0m \u001b[0;34m=\u001b[0m \u001b[0mxp\u001b[0m\u001b[0;34m.\u001b[0m\u001b[0mastype\u001b[0m\u001b[0;34m(\u001b[0m\u001b[0marray\u001b[0m\u001b[0;34m,\u001b[0m \u001b[0mdtype\u001b[0m\u001b[0;34m,\u001b[0m \u001b[0mcopy\u001b[0m\u001b[0;34m=\u001b[0m\u001b[0;32mFalse\u001b[0m\u001b[0;34m)\u001b[0m\u001b[0;34m\u001b[0m\u001b[0;34m\u001b[0m\u001b[0m\n\u001b[1;32m    878\u001b[0m                 \u001b[0;32melse\u001b[0m\u001b[0;34m:\u001b[0m\u001b[0;34m\u001b[0m\u001b[0;34m\u001b[0m\u001b[0m\n\u001b[0;32m--> 879\u001b[0;31m                     \u001b[0marray\u001b[0m \u001b[0;34m=\u001b[0m \u001b[0m_asarray_with_order\u001b[0m\u001b[0;34m(\u001b[0m\u001b[0marray\u001b[0m\u001b[0;34m,\u001b[0m \u001b[0morder\u001b[0m\u001b[0;34m=\u001b[0m\u001b[0morder\u001b[0m\u001b[0;34m,\u001b[0m \u001b[0mdtype\u001b[0m\u001b[0;34m=\u001b[0m\u001b[0mdtype\u001b[0m\u001b[0;34m,\u001b[0m \u001b[0mxp\u001b[0m\u001b[0;34m=\u001b[0m\u001b[0mxp\u001b[0m\u001b[0;34m)\u001b[0m\u001b[0;34m\u001b[0m\u001b[0;34m\u001b[0m\u001b[0m\n\u001b[0m\u001b[1;32m    880\u001b[0m             \u001b[0;32mexcept\u001b[0m \u001b[0mComplexWarning\u001b[0m \u001b[0;32mas\u001b[0m \u001b[0mcomplex_warning\u001b[0m\u001b[0;34m:\u001b[0m\u001b[0;34m\u001b[0m\u001b[0;34m\u001b[0m\u001b[0m\n\u001b[1;32m    881\u001b[0m                 raise ValueError(\n",
      "\u001b[0;32m~/packages/sklearn/utils/_array_api.py\u001b[0m in \u001b[0;36m_asarray_with_order\u001b[0;34m(array, dtype, order, copy, xp)\u001b[0m\n\u001b[1;32m    183\u001b[0m     \u001b[0;32mif\u001b[0m \u001b[0mxp\u001b[0m\u001b[0;34m.\u001b[0m\u001b[0m__name__\u001b[0m \u001b[0;32min\u001b[0m \u001b[0;34m{\u001b[0m\u001b[0;34m\"numpy\"\u001b[0m\u001b[0;34m,\u001b[0m \u001b[0;34m\"numpy.array_api\"\u001b[0m\u001b[0;34m}\u001b[0m\u001b[0;34m:\u001b[0m\u001b[0;34m\u001b[0m\u001b[0;34m\u001b[0m\u001b[0m\n\u001b[1;32m    184\u001b[0m         \u001b[0;31m# Use NumPy API to support order\u001b[0m\u001b[0;34m\u001b[0m\u001b[0;34m\u001b[0m\u001b[0m\n\u001b[0;32m--> 185\u001b[0;31m         \u001b[0marray\u001b[0m \u001b[0;34m=\u001b[0m \u001b[0mnumpy\u001b[0m\u001b[0;34m.\u001b[0m\u001b[0masarray\u001b[0m\u001b[0;34m(\u001b[0m\u001b[0marray\u001b[0m\u001b[0;34m,\u001b[0m \u001b[0morder\u001b[0m\u001b[0;34m=\u001b[0m\u001b[0morder\u001b[0m\u001b[0;34m,\u001b[0m \u001b[0mdtype\u001b[0m\u001b[0;34m=\u001b[0m\u001b[0mdtype\u001b[0m\u001b[0;34m)\u001b[0m\u001b[0;34m\u001b[0m\u001b[0;34m\u001b[0m\u001b[0m\n\u001b[0m\u001b[1;32m    186\u001b[0m         \u001b[0;32mreturn\u001b[0m \u001b[0mxp\u001b[0m\u001b[0;34m.\u001b[0m\u001b[0masarray\u001b[0m\u001b[0;34m(\u001b[0m\u001b[0marray\u001b[0m\u001b[0;34m,\u001b[0m \u001b[0mcopy\u001b[0m\u001b[0;34m=\u001b[0m\u001b[0mcopy\u001b[0m\u001b[0;34m)\u001b[0m\u001b[0;34m\u001b[0m\u001b[0;34m\u001b[0m\u001b[0m\n\u001b[1;32m    187\u001b[0m     \u001b[0;32melse\u001b[0m\u001b[0;34m:\u001b[0m\u001b[0;34m\u001b[0m\u001b[0;34m\u001b[0m\u001b[0m\n",
      "\u001b[0;31mKeyboardInterrupt\u001b[0m: "
     ]
    }
   ],
   "source": [
    "optimizer = ps.STLSQ(threshold=0.05,alpha=1e-5)#, normalize_columns=True)\n",
    "model = ps.SINDy(feature_library=generalized_library, optimizer=optimizer)\n",
    "model.fit(data_2, x_dot=data_dot)\n"
   ]
  },
  {
   "cell_type": "code",
   "execution_count": null,
   "id": "102fc425",
   "metadata": {},
   "outputs": [],
   "source": [
    "model.print()"
   ]
  },
  {
   "cell_type": "code",
   "execution_count": null,
   "id": "f7d6bf06",
   "metadata": {},
   "outputs": [],
   "source": [
    "u_test = (((2*np.pi)/2**16)*((1550.12 * 1e-9)/(0.78 * 4 * np.pi * n * L))*np.load(file_list[19])*10**6)[:,::10]\n",
    "# u_test = u_test.reshape(u_test.shape[0],u_test.shape[1],1)\n",
    "data_test = np.stack((u_test,h_shaped[:,:u_test.shape[1]]),\n",
    "         axis=-1)\n",
    "u_dot_stlsq = model.predict(data_test)\n",
    "u_dot_test = ps.FiniteDifference(axis=1)._differentiate(u_test, t=1)\n"
   ]
  },
  {
   "cell_type": "code",
   "execution_count": null,
   "id": "bbeb6687",
   "metadata": {},
   "outputs": [],
   "source": [
    "np.mean(np.abs(u_dot_test-u_dot_stlsq[:,:,0]))/np.mean(np.abs(u_dot_test))"
   ]
  },
  {
   "cell_type": "code",
   "execution_count": 14,
   "id": "23f7737d",
   "metadata": {},
   "outputs": [],
   "source": [
    "thresh = 0.01\n",
    "optimizer = ps.EnsembleOptimizer(ps.STLSQ(threshold=thresh, alpha=1e-5, max_iter=50),bagging=True)\n",
    "model = ps.SINDy(feature_library=generalized_library, optimizer=optimizer)\n",
    "model.fit(data_2,  x_dot=data_dot,ensemble=True)\n",
    "\n",
    "\n",
    "library_ensemble_coefs = model.coef_list\n",
    "mean_library_ensemble = np.mean(library_ensemble_coefs, axis=0)\n",
    "std_library_ensemble = np.std(library_ensemble_coefs, axis=0)"
   ]
  },
  {
   "cell_type": "code",
   "execution_count": 15,
   "id": "ee5921c1",
   "metadata": {},
   "outputs": [
    {
     "name": "stdout",
     "output_type": "stream",
     "text": [
      "(x0)' = 0.637 x0_1 + 36.124 x0_111 + -0.001 x1x0_11 + -0.064 x0x0_111 + 0.038 x0x1_111 + -0.576 x1x0_111\n",
      "(x1)' = 1.000 x1\n"
     ]
    }
   ],
   "source": [
    "model.print()"
   ]
  },
  {
   "cell_type": "code",
   "execution_count": 16,
   "id": "8c023905",
   "metadata": {},
   "outputs": [],
   "source": [
    "u_test = (((2*np.pi)/2**16)*((1550.12 * 1e-9)/(0.78 * 4 * np.pi * n * L))*np.load(file_list[19])*10**6)[:,::10]\n",
    "# u_test = u_test.reshape(u_test.shape[0],u_test.shape[1],1)\n",
    "data_test = np.stack((u_test,h_shaped[:,:u_test.shape[1]]),\n",
    "         axis=-1)\n",
    "u_dot_stlsq = model.predict(data_test)\n",
    "u_dot_test = ps.FiniteDifference(axis=1)._differentiate(u_test, t=1)\n"
   ]
  },
  {
   "cell_type": "code",
   "execution_count": 17,
   "id": "93088bb4",
   "metadata": {},
   "outputs": [
    {
     "data": {
      "text/plain": [
       "AxesArray(1.24857167)"
      ]
     },
     "execution_count": 17,
     "metadata": {},
     "output_type": "execute_result"
    }
   ],
   "source": [
    "np.mean(np.abs(u_dot_test-u_dot_stlsq[:,:,0]))/np.mean(np.abs(u_dot_test))"
   ]
  },
  {
   "cell_type": "code",
   "execution_count": null,
   "id": "6f06f80a",
   "metadata": {},
   "outputs": [],
   "source": []
  }
 ],
 "metadata": {
  "kernelspec": {
   "display_name": "Python 3",
   "language": "python",
   "name": "python3"
  },
  "language_info": {
   "codemirror_mode": {
    "name": "ipython",
    "version": 3
   },
   "file_extension": ".py",
   "mimetype": "text/x-python",
   "name": "python",
   "nbconvert_exporter": "python",
   "pygments_lexer": "ipython3",
   "version": "3.9.16"
  }
 },
 "nbformat": 4,
 "nbformat_minor": 5
}
