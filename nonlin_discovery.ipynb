{
 "cells": [
  {
   "cell_type": "code",
   "execution_count": 5,
   "id": "c79b63f1",
   "metadata": {},
   "outputs": [],
   "source": [
    "import sys\n",
    "sys.path.insert(0, '/home/ldoyle/packages')\n",
    "import h5py\n",
    "import numpy as np\n",
    "from tqdm import tqdm\n",
    "import matplotlib\n",
    "\n",
    "import matplotlib.dates as mdates\n",
    "import matplotlib.pyplot as plt\n",
    "from sklearn.decomposition import PCA\n",
    "import pandas as pd\n",
    "import pysindy as ps\n",
    "from lr_ed import localreg\n",
    "from datetime import datetime\n",
    "from scipy.fft import fft, fftfreq,rfft2\n",
    "\n",
    "import scipy.signal as signal\n",
    "from obspy.signal import filter as obsfilt\n",
    "import glob\n",
    "from pyproj import Proj\n"
   ]
  },
  {
   "cell_type": "markdown",
   "id": "e4368083",
   "metadata": {},
   "source": [
    "### Load data and Adjust Units"
   ]
  },
  {
   "cell_type": "code",
   "execution_count": 41,
   "id": "ef646fc3",
   "metadata": {},
   "outputs": [],
   "source": [
    "file_list = glob.glob(\"/home/ldoyle/notebooks/rad_10_smooth_data/*\")"
   ]
  },
  {
   "cell_type": "code",
   "execution_count": 42,
   "id": "645a1a19",
   "metadata": {},
   "outputs": [],
   "source": [
    "n = 1.4682\n",
    "L = 51.04762\n",
    "\n",
    "b=0\n",
    "for q in np.arange(5,8):\n",
    "    if b==0:\n",
    "        working_dat = np.load(file_list[q])\n",
    "        b=1\n",
    "    else:\n",
    "        working_dat = np.hstack((working_dat, np.load(file_list[q])))\n",
    "        \n",
    "working_dat = ((2*np.pi)/2**16)*((1550.12 * 1e-9)/(0.78 * 4 * np.pi * n * L))*working_dat#[:,::10]\n",
    "working_dat = working_dat.T *10**6#/(np.std(working_dat))\n",
    "# working_dat = working_dat[::10,:]\n",
    "# working_dat = working_dat.reshape(working_dat.shape[0],working_dat.shape[1],1)"
   ]
  },
  {
   "cell_type": "code",
   "execution_count": 43,
   "id": "8bc7daa7",
   "metadata": {},
   "outputs": [
    {
     "name": "stdout",
     "output_type": "stream",
     "text": [
      "(36000, 5000)\n",
      "2.0068433398443144\n",
      "-2.104901850989071\n"
     ]
    }
   ],
   "source": [
    "print(working_dat.shape)\n",
    "print(np.amax(working_dat))\n",
    "print(np.amin(working_dat))"
   ]
  },
  {
   "cell_type": "code",
   "execution_count": 5,
   "id": "1285677c",
   "metadata": {},
   "outputs": [],
   "source": [
    "dt=1. #/200\n",
    "xs = np.arange(working_dat.shape[1]) #2.0419047*np.arange(working_dat.shape[1])\n",
    "# time = dt*np.arange(working_dat.shape[0])\n",
    "\n",
    "library_functions = [lambda x: x, lambda x: x * x]\n",
    "library_function_names = [lambda x: x, lambda x: x + x]\n",
    "pde_lib = ps.PDELibrary(\n",
    "    library_functions=library_functions,\n",
    "    function_names=library_function_names,\n",
    "    derivative_order=4,\n",
    "    spatial_grid=xs,\n",
    "    include_bias=True,\n",
    "    is_uniform=True,\n",
    "#     periodic=True\n",
    ")"
   ]
  },
  {
   "cell_type": "code",
   "execution_count": null,
   "id": "6f4b8a12",
   "metadata": {},
   "outputs": [],
   "source": [
    "thresh = 0.001\n",
    "optimizer = ps.STLSQ(threshold=thresh, alpha=1e-5, max_iter=50)\n",
    "model = ps.SINDy(feature_library=pde_lib, optimizer=optimizer)\n",
    "model.fit(working_dat, t=dt,ensemble=True)\n",
    "\n",
    "\n",
    "library_ensemble_coefs = model.coef_list\n",
    "mean_library_ensemble = np.mean(library_ensemble_coefs, axis=0)\n",
    "std_library_ensemble = np.std(library_ensemble_coefs, axis=0)"
   ]
  },
  {
   "cell_type": "code",
   "execution_count": null,
   "id": "fccb90f6",
   "metadata": {},
   "outputs": [],
   "source": [
    "print(\"Ensemble STLSQ with Threshold \"+str(thresh))\n",
    "model.print()"
   ]
  },
  {
   "cell_type": "markdown",
   "id": "dd97f613",
   "metadata": {},
   "source": [
    "### Include depth"
   ]
  },
  {
   "cell_type": "code",
   "execution_count": 44,
   "id": "4102a15b",
   "metadata": {},
   "outputs": [],
   "source": [
    "latlondepth = np.genfromtxt('south_DAS_latlondepth.txt')\n",
    "\n",
    "relevant = latlondepth[6558:11558,3]"
   ]
  },
  {
   "cell_type": "code",
   "execution_count": 45,
   "id": "bf1d2a22",
   "metadata": {},
   "outputs": [],
   "source": [
    "h_shaped = np.tile(relevant.reshape(-1,1),working_dat.shape[0]).transpose()\n",
    "data_2 = np.stack((working_dat,h_shaped),\n",
    "         axis=-1)\n",
    "# data_2 = np.transpose(np.asarray([working_dat,h_shaped]),[1,2,0])"
   ]
  },
  {
   "cell_type": "code",
   "execution_count": 46,
   "id": "0c8d9605",
   "metadata": {},
   "outputs": [
    {
     "data": {
      "text/plain": [
       "(36000, 5000, 2)"
      ]
     },
     "execution_count": 46,
     "metadata": {},
     "output_type": "execute_result"
    }
   ],
   "source": [
    "data_2.shape"
   ]
  },
  {
   "cell_type": "code",
   "execution_count": 47,
   "id": "b08062e6",
   "metadata": {},
   "outputs": [],
   "source": [
    "inputs_per_library = np.array([[0,1],[0,1],[0,0]])\n",
    "tensor_array = [[1, 1, 0]]"
   ]
  },
  {
   "cell_type": "code",
   "execution_count": 48,
   "id": "7cc958b8",
   "metadata": {},
   "outputs": [],
   "source": [
    "dt=1. #/200\n",
    "xs = np.arange(5000) #2.0419047*np.arange(working_dat.shape[1])\n",
    "# time = dt*np.arange(working_dat.shape[0])\n",
    "\n",
    "library_functions = [lambda x: x, lambda x: x * x]\n",
    "library_function_names = [lambda x: x, lambda x: x + x]\n",
    "pde_lib = ps.PDELibrary(\n",
    "    library_functions=library_functions,\n",
    "    function_names=library_function_names,\n",
    "    derivative_order=4,\n",
    "    spatial_grid=xs,\n",
    "    include_bias=True,\n",
    "    is_uniform=True,\n",
    "#     periodic=True\n",
    ")"
   ]
  },
  {
   "cell_type": "code",
   "execution_count": 49,
   "id": "172c6421",
   "metadata": {},
   "outputs": [],
   "source": [
    "poly_library = ps.PolynomialLibrary(include_bias=False)\n",
    "fourier_library = ps.FourierLibrary()"
   ]
  },
  {
   "cell_type": "code",
   "execution_count": 50,
   "id": "5e1627aa",
   "metadata": {},
   "outputs": [],
   "source": [
    "generalized_library = ps.GeneralizedLibrary(\n",
    "    [poly_library, fourier_library, pde_lib],\n",
    "    tensor_array=tensor_array,\n",
    "    inputs_per_library=inputs_per_library,\n",
    ")"
   ]
  },
  {
   "cell_type": "code",
   "execution_count": 51,
   "id": "47e4fbc9",
   "metadata": {},
   "outputs": [],
   "source": [
    "u_dot = ps.FiniteDifference(axis=1)._differentiate(working_dat, t=1)\n",
    "data_dot = np.stack((u_dot,h_shaped),axis=-1)"
   ]
  },
  {
   "cell_type": "code",
   "execution_count": 52,
   "id": "673448fd",
   "metadata": {},
   "outputs": [
    {
     "data": {
      "text/html": [
       "<style>#sk-container-id-2 {color: black;background-color: white;}#sk-container-id-2 pre{padding: 0;}#sk-container-id-2 div.sk-toggleable {background-color: white;}#sk-container-id-2 label.sk-toggleable__label {cursor: pointer;display: block;width: 100%;margin-bottom: 0;padding: 0.3em;box-sizing: border-box;text-align: center;}#sk-container-id-2 label.sk-toggleable__label-arrow:before {content: \"▸\";float: left;margin-right: 0.25em;color: #696969;}#sk-container-id-2 label.sk-toggleable__label-arrow:hover:before {color: black;}#sk-container-id-2 div.sk-estimator:hover label.sk-toggleable__label-arrow:before {color: black;}#sk-container-id-2 div.sk-toggleable__content {max-height: 0;max-width: 0;overflow: hidden;text-align: left;background-color: #f0f8ff;}#sk-container-id-2 div.sk-toggleable__content pre {margin: 0.2em;color: black;border-radius: 0.25em;background-color: #f0f8ff;}#sk-container-id-2 input.sk-toggleable__control:checked~div.sk-toggleable__content {max-height: 200px;max-width: 100%;overflow: auto;}#sk-container-id-2 input.sk-toggleable__control:checked~label.sk-toggleable__label-arrow:before {content: \"▾\";}#sk-container-id-2 div.sk-estimator input.sk-toggleable__control:checked~label.sk-toggleable__label {background-color: #d4ebff;}#sk-container-id-2 div.sk-label input.sk-toggleable__control:checked~label.sk-toggleable__label {background-color: #d4ebff;}#sk-container-id-2 input.sk-hidden--visually {border: 0;clip: rect(1px 1px 1px 1px);clip: rect(1px, 1px, 1px, 1px);height: 1px;margin: -1px;overflow: hidden;padding: 0;position: absolute;width: 1px;}#sk-container-id-2 div.sk-estimator {font-family: monospace;background-color: #f0f8ff;border: 1px dotted black;border-radius: 0.25em;box-sizing: border-box;margin-bottom: 0.5em;}#sk-container-id-2 div.sk-estimator:hover {background-color: #d4ebff;}#sk-container-id-2 div.sk-parallel-item::after {content: \"\";width: 100%;border-bottom: 1px solid gray;flex-grow: 1;}#sk-container-id-2 div.sk-label:hover label.sk-toggleable__label {background-color: #d4ebff;}#sk-container-id-2 div.sk-serial::before {content: \"\";position: absolute;border-left: 1px solid gray;box-sizing: border-box;top: 0;bottom: 0;left: 50%;z-index: 0;}#sk-container-id-2 div.sk-serial {display: flex;flex-direction: column;align-items: center;background-color: white;padding-right: 0.2em;padding-left: 0.2em;position: relative;}#sk-container-id-2 div.sk-item {position: relative;z-index: 1;}#sk-container-id-2 div.sk-parallel {display: flex;align-items: stretch;justify-content: center;background-color: white;position: relative;}#sk-container-id-2 div.sk-item::before, #sk-container-id-2 div.sk-parallel-item::before {content: \"\";position: absolute;border-left: 1px solid gray;box-sizing: border-box;top: 0;bottom: 0;left: 50%;z-index: -1;}#sk-container-id-2 div.sk-parallel-item {display: flex;flex-direction: column;z-index: 1;position: relative;background-color: white;}#sk-container-id-2 div.sk-parallel-item:first-child::after {align-self: flex-end;width: 50%;}#sk-container-id-2 div.sk-parallel-item:last-child::after {align-self: flex-start;width: 50%;}#sk-container-id-2 div.sk-parallel-item:only-child::after {width: 0;}#sk-container-id-2 div.sk-dashed-wrapped {border: 1px dashed gray;margin: 0 0.4em 0.5em 0.4em;box-sizing: border-box;padding-bottom: 0.4em;background-color: white;}#sk-container-id-2 div.sk-label label {font-family: monospace;font-weight: bold;display: inline-block;line-height: 1.2em;}#sk-container-id-2 div.sk-label-container {text-align: center;}#sk-container-id-2 div.sk-container {/* jupyter's `normalize.less` sets `[hidden] { display: none; }` but bootstrap.min.css set `[hidden] { display: none !important; }` so we also need the `!important` here to be able to override the default hidden behavior on the sphinx rendered scikit-learn.org. See: https://github.com/scikit-learn/scikit-learn/issues/21755 */display: inline-block !important;position: relative;}#sk-container-id-2 div.sk-text-repr-fallback {display: none;}</style><div id=\"sk-container-id-2\" class=\"sk-top-container\"><div class=\"sk-text-repr-fallback\"><pre>SINDy(differentiation_method=FiniteDifference(axis=-2),\n",
       "      feature_library=&lt;pysindy.feature_library.generalized_library.GeneralizedLibrary object at 0x7fb8f1c6f370&gt;,\n",
       "      feature_names=[&#x27;x0&#x27;, &#x27;x1&#x27;],\n",
       "      optimizer=STLSQ(alpha=0.0001, normalize_columns=True, threshold=5.0))</pre><b>In a Jupyter environment, please rerun this cell to show the HTML representation or trust the notebook. <br />On GitHub, the HTML representation is unable to render, please try loading this page with nbviewer.org.</b></div><div class=\"sk-container\" hidden><div class=\"sk-item sk-dashed-wrapped\"><div class=\"sk-label-container\"><div class=\"sk-label sk-toggleable\"><input class=\"sk-toggleable__control sk-hidden--visually\" id=\"sk-estimator-id-4\" type=\"checkbox\" ><label for=\"sk-estimator-id-4\" class=\"sk-toggleable__label sk-toggleable__label-arrow\">SINDy</label><div class=\"sk-toggleable__content\"><pre>SINDy(differentiation_method=FiniteDifference(axis=-2),\n",
       "      feature_library=&lt;pysindy.feature_library.generalized_library.GeneralizedLibrary object at 0x7fb8f1c6f370&gt;,\n",
       "      feature_names=[&#x27;x0&#x27;, &#x27;x1&#x27;],\n",
       "      optimizer=STLSQ(alpha=0.0001, normalize_columns=True, threshold=5.0))</pre></div></div></div><div class=\"sk-parallel\"><div class=\"sk-parallel-item\"><div class=\"sk-item\"><div class=\"sk-label-container\"><div class=\"sk-label sk-toggleable\"><input class=\"sk-toggleable__control sk-hidden--visually\" id=\"sk-estimator-id-5\" type=\"checkbox\" ><label for=\"sk-estimator-id-5\" class=\"sk-toggleable__label sk-toggleable__label-arrow\">optimizer: STLSQ</label><div class=\"sk-toggleable__content\"><pre>STLSQ(alpha=0.0001, normalize_columns=True, threshold=5.0)</pre></div></div></div><div class=\"sk-serial\"><div class=\"sk-item\"><div class=\"sk-estimator sk-toggleable\"><input class=\"sk-toggleable__control sk-hidden--visually\" id=\"sk-estimator-id-6\" type=\"checkbox\" ><label for=\"sk-estimator-id-6\" class=\"sk-toggleable__label sk-toggleable__label-arrow\">STLSQ</label><div class=\"sk-toggleable__content\"><pre>STLSQ(alpha=0.0001, normalize_columns=True, threshold=5.0)</pre></div></div></div></div></div></div></div></div></div></div>"
      ],
      "text/plain": [
       "SINDy(differentiation_method=FiniteDifference(axis=-2),\n",
       "      feature_library=<pysindy.feature_library.generalized_library.GeneralizedLibrary object at 0x7fb8f1c6f370>,\n",
       "      feature_names=['x0', 'x1'],\n",
       "      optimizer=STLSQ(alpha=0.0001, normalize_columns=True, threshold=5.0))"
      ]
     },
     "execution_count": 52,
     "metadata": {},
     "output_type": "execute_result"
    }
   ],
   "source": [
    "optimizer = ps.STLSQ(threshold=5.,alpha=1e-4, normalize_columns=True)\n",
    "model = ps.SINDy(feature_library=generalized_library, optimizer=optimizer)\n",
    "model.fit(data_2, x_dot=data_dot)\n"
   ]
  },
  {
   "cell_type": "code",
   "execution_count": 53,
   "id": "102fc425",
   "metadata": {},
   "outputs": [
    {
     "name": "stdout",
     "output_type": "stream",
     "text": [
      "(x0)' = -0.207 x0^2 + -2.499 cos(1 x0) + -0.025 sin(1 x1) + -0.100 cos(1 x1) + 2.480 1 + -0.207 x0x0 + 0.006 x0_1 + 0.005 x0_111 + 0.002 x0x0_1 + 0.001 x0x0x0_1 + 0.001 x0x0_11 + -0.006 x0x0_111 + -0.003 x0x0_1111 + -0.946 x0 sin(1 x0) + 0.013 x0 cos(1 x0) + -0.003 x0 sin(1 x1) + -0.004 x0 cos(1 x1) + -0.001 x1 cos(1 x1) + 0.006 x0^2 sin(1 x0) + 0.104 x0^2 cos(1 x0) + -0.001 x0^2 sin(1 x1)\n",
      "(x1)' = -0.001 x0 + 1.000 x1 + 0.001 x0\n"
     ]
    }
   ],
   "source": [
    "model.print()"
   ]
  },
  {
   "cell_type": "code",
   "execution_count": 56,
   "id": "23f7737d",
   "metadata": {},
   "outputs": [
    {
     "name": "stderr",
     "output_type": "stream",
     "text": [
      "/home/ldoyle/packages/sklearn/linear_model/_ridge.py:212: LinAlgWarning: Ill-conditioned matrix (rcond=1.79429e-18): result may not be accurate.\n",
      "  return linalg.solve(A, Xy, sym_pos=True, overwrite_a=True).T\n",
      "/home/ldoyle/packages/sklearn/linear_model/_ridge.py:212: LinAlgWarning: Ill-conditioned matrix (rcond=1.79429e-18): result may not be accurate.\n",
      "  return linalg.solve(A, Xy, sym_pos=True, overwrite_a=True).T\n",
      "/home/ldoyle/packages/sklearn/linear_model/_ridge.py:212: LinAlgWarning: Ill-conditioned matrix (rcond=1.83169e-18): result may not be accurate.\n",
      "  return linalg.solve(A, Xy, sym_pos=True, overwrite_a=True).T\n",
      "/home/ldoyle/packages/sklearn/linear_model/_ridge.py:212: LinAlgWarning: Ill-conditioned matrix (rcond=1.83169e-18): result may not be accurate.\n",
      "  return linalg.solve(A, Xy, sym_pos=True, overwrite_a=True).T\n",
      "/home/ldoyle/packages/sklearn/linear_model/_ridge.py:212: LinAlgWarning: Ill-conditioned matrix (rcond=1.82496e-18): result may not be accurate.\n",
      "  return linalg.solve(A, Xy, sym_pos=True, overwrite_a=True).T\n",
      "/home/ldoyle/packages/sklearn/linear_model/_ridge.py:212: LinAlgWarning: Ill-conditioned matrix (rcond=1.82496e-18): result may not be accurate.\n",
      "  return linalg.solve(A, Xy, sym_pos=True, overwrite_a=True).T\n",
      "/home/ldoyle/packages/sklearn/linear_model/_ridge.py:212: LinAlgWarning: Ill-conditioned matrix (rcond=1.82181e-18): result may not be accurate.\n",
      "  return linalg.solve(A, Xy, sym_pos=True, overwrite_a=True).T\n",
      "/home/ldoyle/packages/sklearn/linear_model/_ridge.py:212: LinAlgWarning: Ill-conditioned matrix (rcond=1.82181e-18): result may not be accurate.\n",
      "  return linalg.solve(A, Xy, sym_pos=True, overwrite_a=True).T\n",
      "/home/ldoyle/packages/sklearn/linear_model/_ridge.py:212: LinAlgWarning: Ill-conditioned matrix (rcond=1.79595e-18): result may not be accurate.\n",
      "  return linalg.solve(A, Xy, sym_pos=True, overwrite_a=True).T\n",
      "/home/ldoyle/packages/sklearn/linear_model/_ridge.py:212: LinAlgWarning: Ill-conditioned matrix (rcond=1.79595e-18): result may not be accurate.\n",
      "  return linalg.solve(A, Xy, sym_pos=True, overwrite_a=True).T\n",
      "/home/ldoyle/packages/sklearn/linear_model/_ridge.py:212: LinAlgWarning: Ill-conditioned matrix (rcond=1.78068e-18): result may not be accurate.\n",
      "  return linalg.solve(A, Xy, sym_pos=True, overwrite_a=True).T\n",
      "/home/ldoyle/packages/sklearn/linear_model/_ridge.py:212: LinAlgWarning: Ill-conditioned matrix (rcond=1.78068e-18): result may not be accurate.\n",
      "  return linalg.solve(A, Xy, sym_pos=True, overwrite_a=True).T\n",
      "/home/ldoyle/packages/sklearn/linear_model/_ridge.py:212: LinAlgWarning: Ill-conditioned matrix (rcond=1.7956e-18): result may not be accurate.\n",
      "  return linalg.solve(A, Xy, sym_pos=True, overwrite_a=True).T\n",
      "/home/ldoyle/packages/sklearn/linear_model/_ridge.py:212: LinAlgWarning: Ill-conditioned matrix (rcond=1.7956e-18): result may not be accurate.\n",
      "  return linalg.solve(A, Xy, sym_pos=True, overwrite_a=True).T\n",
      "/home/ldoyle/packages/sklearn/linear_model/_ridge.py:212: LinAlgWarning: Ill-conditioned matrix (rcond=1.81502e-18): result may not be accurate.\n",
      "  return linalg.solve(A, Xy, sym_pos=True, overwrite_a=True).T\n",
      "/home/ldoyle/packages/sklearn/linear_model/_ridge.py:212: LinAlgWarning: Ill-conditioned matrix (rcond=1.81502e-18): result may not be accurate.\n",
      "  return linalg.solve(A, Xy, sym_pos=True, overwrite_a=True).T\n",
      "/home/ldoyle/packages/sklearn/linear_model/_ridge.py:212: LinAlgWarning: Ill-conditioned matrix (rcond=1.7659e-18): result may not be accurate.\n",
      "  return linalg.solve(A, Xy, sym_pos=True, overwrite_a=True).T\n",
      "/home/ldoyle/packages/sklearn/linear_model/_ridge.py:212: LinAlgWarning: Ill-conditioned matrix (rcond=1.7659e-18): result may not be accurate.\n",
      "  return linalg.solve(A, Xy, sym_pos=True, overwrite_a=True).T\n",
      "/home/ldoyle/packages/sklearn/linear_model/_ridge.py:212: LinAlgWarning: Ill-conditioned matrix (rcond=1.78124e-18): result may not be accurate.\n",
      "  return linalg.solve(A, Xy, sym_pos=True, overwrite_a=True).T\n",
      "/home/ldoyle/packages/sklearn/linear_model/_ridge.py:212: LinAlgWarning: Ill-conditioned matrix (rcond=1.78124e-18): result may not be accurate.\n",
      "  return linalg.solve(A, Xy, sym_pos=True, overwrite_a=True).T\n",
      "/home/ldoyle/packages/sklearn/linear_model/_ridge.py:212: LinAlgWarning: Ill-conditioned matrix (rcond=1.77875e-18): result may not be accurate.\n",
      "  return linalg.solve(A, Xy, sym_pos=True, overwrite_a=True).T\n",
      "/home/ldoyle/packages/sklearn/linear_model/_ridge.py:212: LinAlgWarning: Ill-conditioned matrix (rcond=1.77875e-18): result may not be accurate.\n",
      "  return linalg.solve(A, Xy, sym_pos=True, overwrite_a=True).T\n",
      "/home/ldoyle/packages/sklearn/linear_model/_ridge.py:212: LinAlgWarning: Ill-conditioned matrix (rcond=1.78683e-18): result may not be accurate.\n",
      "  return linalg.solve(A, Xy, sym_pos=True, overwrite_a=True).T\n",
      "/home/ldoyle/packages/sklearn/linear_model/_ridge.py:212: LinAlgWarning: Ill-conditioned matrix (rcond=1.78683e-18): result may not be accurate.\n",
      "  return linalg.solve(A, Xy, sym_pos=True, overwrite_a=True).T\n",
      "/home/ldoyle/packages/sklearn/linear_model/_ridge.py:212: LinAlgWarning: Ill-conditioned matrix (rcond=1.81872e-18): result may not be accurate.\n",
      "  return linalg.solve(A, Xy, sym_pos=True, overwrite_a=True).T\n",
      "/home/ldoyle/packages/sklearn/linear_model/_ridge.py:212: LinAlgWarning: Ill-conditioned matrix (rcond=1.81872e-18): result may not be accurate.\n",
      "  return linalg.solve(A, Xy, sym_pos=True, overwrite_a=True).T\n",
      "/home/ldoyle/packages/sklearn/linear_model/_ridge.py:212: LinAlgWarning: Ill-conditioned matrix (rcond=1.84169e-18): result may not be accurate.\n",
      "  return linalg.solve(A, Xy, sym_pos=True, overwrite_a=True).T\n",
      "/home/ldoyle/packages/sklearn/linear_model/_ridge.py:212: LinAlgWarning: Ill-conditioned matrix (rcond=1.84169e-18): result may not be accurate.\n",
      "  return linalg.solve(A, Xy, sym_pos=True, overwrite_a=True).T\n",
      "/home/ldoyle/packages/sklearn/linear_model/_ridge.py:212: LinAlgWarning: Ill-conditioned matrix (rcond=1.77543e-18): result may not be accurate.\n",
      "  return linalg.solve(A, Xy, sym_pos=True, overwrite_a=True).T\n",
      "/home/ldoyle/packages/sklearn/linear_model/_ridge.py:212: LinAlgWarning: Ill-conditioned matrix (rcond=1.77543e-18): result may not be accurate.\n",
      "  return linalg.solve(A, Xy, sym_pos=True, overwrite_a=True).T\n",
      "/home/ldoyle/packages/sklearn/linear_model/_ridge.py:212: LinAlgWarning: Ill-conditioned matrix (rcond=1.77838e-18): result may not be accurate.\n",
      "  return linalg.solve(A, Xy, sym_pos=True, overwrite_a=True).T\n",
      "/home/ldoyle/packages/sklearn/linear_model/_ridge.py:212: LinAlgWarning: Ill-conditioned matrix (rcond=1.77838e-18): result may not be accurate.\n",
      "  return linalg.solve(A, Xy, sym_pos=True, overwrite_a=True).T\n",
      "/home/ldoyle/packages/sklearn/linear_model/_ridge.py:212: LinAlgWarning: Ill-conditioned matrix (rcond=1.78658e-18): result may not be accurate.\n",
      "  return linalg.solve(A, Xy, sym_pos=True, overwrite_a=True).T\n",
      "/home/ldoyle/packages/sklearn/linear_model/_ridge.py:212: LinAlgWarning: Ill-conditioned matrix (rcond=1.78658e-18): result may not be accurate.\n",
      "  return linalg.solve(A, Xy, sym_pos=True, overwrite_a=True).T\n",
      "/home/ldoyle/packages/sklearn/linear_model/_ridge.py:212: LinAlgWarning: Ill-conditioned matrix (rcond=1.79347e-18): result may not be accurate.\n",
      "  return linalg.solve(A, Xy, sym_pos=True, overwrite_a=True).T\n",
      "/home/ldoyle/packages/sklearn/linear_model/_ridge.py:212: LinAlgWarning: Ill-conditioned matrix (rcond=1.79347e-18): result may not be accurate.\n",
      "  return linalg.solve(A, Xy, sym_pos=True, overwrite_a=True).T\n",
      "/home/ldoyle/packages/sklearn/linear_model/_ridge.py:212: LinAlgWarning: Ill-conditioned matrix (rcond=1.80322e-18): result may not be accurate.\n",
      "  return linalg.solve(A, Xy, sym_pos=True, overwrite_a=True).T\n",
      "/home/ldoyle/packages/sklearn/linear_model/_ridge.py:212: LinAlgWarning: Ill-conditioned matrix (rcond=1.80322e-18): result may not be accurate.\n",
      "  return linalg.solve(A, Xy, sym_pos=True, overwrite_a=True).T\n",
      "/home/ldoyle/packages/sklearn/linear_model/_ridge.py:212: LinAlgWarning: Ill-conditioned matrix (rcond=1.80175e-18): result may not be accurate.\n",
      "  return linalg.solve(A, Xy, sym_pos=True, overwrite_a=True).T\n",
      "/home/ldoyle/packages/sklearn/linear_model/_ridge.py:212: LinAlgWarning: Ill-conditioned matrix (rcond=1.80175e-18): result may not be accurate.\n",
      "  return linalg.solve(A, Xy, sym_pos=True, overwrite_a=True).T\n"
     ]
    }
   ],
   "source": [
    "thresh = 0.01\n",
    "optimizer = ps.STLSQ(threshold=thresh, alpha=1e-5, max_iter=50)\n",
    "model = ps.SINDy(feature_library=generalized_library, optimizer=optimizer)\n",
    "model.fit(data_2,  x_dot=data_dot,ensemble=True)\n",
    "\n",
    "\n",
    "library_ensemble_coefs = model.coef_list\n",
    "mean_library_ensemble = np.mean(library_ensemble_coefs, axis=0)\n",
    "std_library_ensemble = np.std(library_ensemble_coefs, axis=0)"
   ]
  },
  {
   "cell_type": "code",
   "execution_count": 57,
   "id": "ee5921c1",
   "metadata": {},
   "outputs": [
    {
     "name": "stdout",
     "output_type": "stream",
     "text": [
      "(x0)' = -3.538 x0 + 13.582 sin(1 x0) + 0.249 cos(1 x0) + -0.248 1 + -3.538 x0 + 0.159 x0 sin(1 x0) + -6.505 x0 cos(1 x0) + -0.999 x0^2 sin(1 x0) + -0.037 x0^2 cos(1 x0)\n",
      "(x1)' = 1.000 x1\n"
     ]
    }
   ],
   "source": [
    "model.print()"
   ]
  },
  {
   "cell_type": "code",
   "execution_count": 40,
   "id": "8c023905",
   "metadata": {},
   "outputs": [
    {
     "data": {
      "text/plain": [
       "array([[-1.20231637, -1.18104781, -1.1589953 , -1.1361282 ],\n",
       "       [-1.19182347, -1.17034013, -1.1480649 , -1.12496701],\n",
       "       [-1.1810587 , -1.1593875 , -1.13691459, -1.11360881],\n",
       "       [-1.17020462, -1.14826571, -1.12551329, -1.10191614]])"
      ]
     },
     "execution_count": 40,
     "metadata": {},
     "output_type": "execute_result"
    }
   ],
   "source": [
    "data_2[:4,:4,0]"
   ]
  },
  {
   "cell_type": "code",
   "execution_count": null,
   "id": "93088bb4",
   "metadata": {},
   "outputs": [],
   "source": []
  }
 ],
 "metadata": {
  "kernelspec": {
   "display_name": "Python 3",
   "language": "python",
   "name": "python3"
  },
  "language_info": {
   "codemirror_mode": {
    "name": "ipython",
    "version": 3
   },
   "file_extension": ".py",
   "mimetype": "text/x-python",
   "name": "python",
   "nbconvert_exporter": "python",
   "pygments_lexer": "ipython3",
   "version": "3.9.16"
  }
 },
 "nbformat": 4,
 "nbformat_minor": 5
}
