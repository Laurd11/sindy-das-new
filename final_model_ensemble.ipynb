{
 "cells": [
  {
   "cell_type": "code",
   "execution_count": 1,
   "id": "d3f483ca",
   "metadata": {},
   "outputs": [],
   "source": [
    "import sys\n",
    "sys.path.insert(0, '/home/ldoyle/packages')\n",
    "import numpy as np\n"
   ]
  },
  {
   "cell_type": "code",
   "execution_count": 2,
   "id": "2bdfa8d8",
   "metadata": {},
   "outputs": [],
   "source": [
    "def printEnsemble(coeff_arr, features, cut_off = 1e-3, median= False):\n",
    "    if median:\n",
    "        coefs = np.median(coeff_arr, axis=0)\n",
    "    else:\n",
    "        coefs = np.mean(coeff_arr, axis=0)\n",
    "    above_cut_off = np.argwhere(np.abs(coefs)>cut_off).flatten()\n",
    "#     features =  model.get_feature_names()\n",
    "    equation_str= \"(x0)' = \"\n",
    "    for count, val in enumerate(above_cut_off):\n",
    "        if count >0:\n",
    "            equation_str+=\" + \"\n",
    "        equation_str+= \"{0:.4f}\".format(coefs[val])\n",
    "        equation_str+= \" \"+features[val]\n",
    "        \n",
    "    print(equation_str)"
   ]
  },
  {
   "cell_type": "code",
   "execution_count": 2,
   "id": "e34689d0",
   "metadata": {},
   "outputs": [],
   "source": [
    "h = np.load(\"/home/ldoyle/notebooks/ensembleSINDyArrays/2021-11-01T2311_smoothed_rad_4_thresh_1.00E-03.npy\")"
   ]
  },
  {
   "cell_type": "code",
   "execution_count": 20,
   "id": "e88fc88b",
   "metadata": {},
   "outputs": [
    {
     "data": {
      "text/plain": [
       "(20, 15)"
      ]
     },
     "execution_count": 20,
     "metadata": {},
     "output_type": "execute_result"
    }
   ],
   "source": [
    "h[:,0,:].shape"
   ]
  },
  {
   "cell_type": "code",
   "execution_count": 9,
   "id": "b1c6681e",
   "metadata": {},
   "outputs": [],
   "source": [
    "feats = ['1',\n",
    " 'x0',\n",
    " 'x0x0',\n",
    " 'x0_1',\n",
    " 'x0_11',\n",
    " 'x0_111',\n",
    " 'x0_1111',\n",
    " 'x0x0_1',\n",
    " 'x0x0x0_1',\n",
    " 'x0x0_11',\n",
    " 'x0x0x0_11',\n",
    " 'x0x0_111',\n",
    " 'x0x0x0_111',\n",
    " 'x0x0_1111',\n",
    " 'x0x0x0_1111']"
   ]
  },
  {
   "cell_type": "code",
   "execution_count": 13,
   "id": "8a769290",
   "metadata": {},
   "outputs": [
    {
     "name": "stdout",
     "output_type": "stream",
     "text": [
      "(x0)' = 0.9912 x0_1 + 0.0466 x0_111 + 0.0033 x0x0x0_1 + 0.0489 x0x0x0_111\n"
     ]
    }
   ],
   "source": [
    "printEnsemble(h, feats,median=True)"
   ]
  },
  {
   "cell_type": "code",
   "execution_count": 23,
   "id": "938c3252",
   "metadata": {},
   "outputs": [
    {
     "name": "stdout",
     "output_type": "stream",
     "text": [
      "(x0)' = 0.9912 x0_1 + 0.0465 x0_111 + 0.0033 x0x0x0_1 + 0.0492 x0x0x0_111\n"
     ]
    }
   ],
   "source": [
    "printEnsemble(h[:,0,:], feats,median=False)"
   ]
  },
  {
   "cell_type": "code",
   "execution_count": 27,
   "id": "0859b413",
   "metadata": {},
   "outputs": [],
   "source": [
    "h1 = np.load(\"/home/ldoyle/notebooks/ensembleSINDyArrays/2021-11-01T2311_smoothed_rad_4_thresh_1.00E-03.npy\")[:,0,:]\n",
    "h2 = np.load(\"/home/ldoyle/notebooks/ensembleSINDyArrays/2021-11-01T2321_smoothed_rad_4_thresh_1.00E-03.npy\")[:,0,:]\n",
    "h3 = np.load(\"/home/ldoyle/notebooks/ensembleSINDyArrays/2021-11-02T0511_smoothed_rad_4_thresh_1.00E-03.npy\")[:,0,:]\n",
    "h4 = np.load(\"/home/ldoyle/notebooks/ensembleSINDyArrays/2021-11-02T2311_smoothed_rad_4_thresh_1.00E-03.npy\")[:,0,:]"
   ]
  },
  {
   "cell_type": "code",
   "execution_count": 28,
   "id": "924b4729",
   "metadata": {},
   "outputs": [],
   "source": [
    "h_U = np.vstack((h1,h2,h3,h4))"
   ]
  },
  {
   "cell_type": "code",
   "execution_count": 31,
   "id": "52426b30",
   "metadata": {},
   "outputs": [
    {
     "name": "stdout",
     "output_type": "stream",
     "text": [
      "(x0)' = 0.9924 x0_1 + 0.0666 x0_111 + 0.0026 x0x0x0_1 + 0.0558 x0x0x0_111\n"
     ]
    }
   ],
   "source": [
    "printEnsemble(h_U, feats,median=False)"
   ]
  },
  {
   "cell_type": "code",
   "execution_count": 39,
   "id": "da1dbc1d",
   "metadata": {},
   "outputs": [],
   "source": [
    "h1 = np.load(\"/home/ldoyle/notebooks/ensembleSINDyArrays/2021-11-01T2311_smoothed_rad_4_thresh_3.00E-03.npy\")[:,0,:]\n",
    "h2 = np.load(\"/home/ldoyle/notebooks/ensembleSINDyArrays/2021-11-01T2321_smoothed_rad_4_thresh_3.00E-03.npy\")[:,0,:]\n",
    "h3 = np.load(\"/home/ldoyle/notebooks/ensembleSINDyArrays/2021-11-02T0511_smoothed_rad_4_thresh_3.00E-03.npy\")[:,0,:]\n",
    "h4 = np.load(\"/home/ldoyle/notebooks/ensembleSINDyArrays/2021-11-02T2311_smoothed_rad_4_thresh_3.00E-03.npy\")[:,0,:]"
   ]
  },
  {
   "cell_type": "code",
   "execution_count": 40,
   "id": "ed5fc12e",
   "metadata": {},
   "outputs": [],
   "source": [
    "h_U = np.vstack((h1,h2,h3,h4))"
   ]
  },
  {
   "cell_type": "code",
   "execution_count": 41,
   "id": "fa127b7c",
   "metadata": {},
   "outputs": [
    {
     "name": "stdout",
     "output_type": "stream",
     "text": [
      "(x0)' = 0.9946 x0_1 + 0.0556 x0_111 + 0.0470 x0x0x0_111\n"
     ]
    }
   ],
   "source": [
    "printEnsemble(h_U, feats,median=True)"
   ]
  },
  {
   "cell_type": "code",
   "execution_count": 42,
   "id": "31ca2f4e",
   "metadata": {},
   "outputs": [],
   "source": [
    "h1 = np.load(\"/home/ldoyle/notebooks/ensembleSINDyArrays/2021-11-01T2311_smoothed_rad_4_thresh_1.00E-02.npy\")[:,0,:]\n",
    "h2 = np.load(\"/home/ldoyle/notebooks/ensembleSINDyArrays/2021-11-01T2321_smoothed_rad_4_thresh_1.00E-02.npy\")[:,0,:]\n",
    "h3 = np.load(\"/home/ldoyle/notebooks/ensembleSINDyArrays/2021-11-02T0511_smoothed_rad_4_thresh_1.00E-02.npy\")[:,0,:]\n",
    "h4 = np.load(\"/home/ldoyle/notebooks/ensembleSINDyArrays/2021-11-02T2311_smoothed_rad_4_thresh_1.00E-02.npy\")[:,0,:]"
   ]
  },
  {
   "cell_type": "code",
   "execution_count": 43,
   "id": "ae427175",
   "metadata": {},
   "outputs": [],
   "source": [
    "h_U = np.vstack((h1,h2,h3,h4))"
   ]
  },
  {
   "cell_type": "code",
   "execution_count": 44,
   "id": "dcb73fb5",
   "metadata": {
    "scrolled": true
   },
   "outputs": [
    {
     "name": "stdout",
     "output_type": "stream",
     "text": [
      "(x0)' = 0.9949 x0_1 + 0.0558 x0_111 + 0.0458 x0x0x0_111\n"
     ]
    }
   ],
   "source": [
    "printEnsemble(h_U, feats,median=True)"
   ]
  },
  {
   "cell_type": "code",
   "execution_count": 45,
   "id": "7cb8895c",
   "metadata": {},
   "outputs": [],
   "source": [
    "h1 = np.load(\"/home/ldoyle/notebooks/ensembleSINDyArrays/2021-11-01T2311_smoothed_rad_4_thresh_1.00E-01.npy\")[:,0,:]\n",
    "h2 = np.load(\"/home/ldoyle/notebooks/ensembleSINDyArrays/2021-11-01T2321_smoothed_rad_4_thresh_1.00E-01.npy\")[:,0,:]\n",
    "h3 = np.load(\"/home/ldoyle/notebooks/ensembleSINDyArrays/2021-11-02T0511_smoothed_rad_4_thresh_1.00E-01.npy\")[:,0,:]\n",
    "h4 = np.load(\"/home/ldoyle/notebooks/ensembleSINDyArrays/2021-11-02T2311_smoothed_rad_4_thresh_1.00E-01.npy\")[:,0,:]"
   ]
  },
  {
   "cell_type": "code",
   "execution_count": 46,
   "id": "1a56d93f",
   "metadata": {},
   "outputs": [],
   "source": [
    "h_U = np.vstack((h1,h2,h3,h4))"
   ]
  },
  {
   "cell_type": "code",
   "execution_count": 47,
   "id": "19f9d3e8",
   "metadata": {
    "scrolled": true
   },
   "outputs": [
    {
     "name": "stdout",
     "output_type": "stream",
     "text": [
      "(x0)' = 0.9939 x0_1\n"
     ]
    }
   ],
   "source": [
    "printEnsemble(h_U, feats,median=True)"
   ]
  },
  {
   "cell_type": "code",
   "execution_count": 48,
   "id": "2da693d5",
   "metadata": {},
   "outputs": [],
   "source": [
    "h1 = np.load(\"/home/ldoyle/notebooks/ensembleSINDyArrays/2021-11-01T2311_normal_thresh_1.00E-01.npy\")[:,0,:]\n",
    "h2 = np.load(\"/home/ldoyle/notebooks/ensembleSINDyArrays/2021-11-01T2321_normal_thresh_1.00E-01.npy\")[:,0,:]\n",
    "h3 = np.load(\"/home/ldoyle/notebooks/ensembleSINDyArrays/2021-11-02T0511_normal_thresh_1.00E-01.npy\")[:,0,:]\n",
    "h4 = np.load(\"/home/ldoyle/notebooks/ensembleSINDyArrays/2021-11-02T2311_normal_thresh_1.00E-01.npy\")[:,0,:]"
   ]
  },
  {
   "cell_type": "code",
   "execution_count": 49,
   "id": "5ad22c2d",
   "metadata": {},
   "outputs": [],
   "source": [
    "h_U = np.vstack((h1,h2,h3,h4))"
   ]
  },
  {
   "cell_type": "code",
   "execution_count": 50,
   "id": "87419504",
   "metadata": {
    "scrolled": true
   },
   "outputs": [
    {
     "name": "stdout",
     "output_type": "stream",
     "text": [
      "(x0)' = 0.6768 x0_1 + 0.3174 x0_111\n"
     ]
    }
   ],
   "source": [
    "printEnsemble(h_U, feats,median=True)"
   ]
  },
  {
   "cell_type": "code",
   "execution_count": 51,
   "id": "943e9038",
   "metadata": {},
   "outputs": [],
   "source": [
    "h1 = np.load(\"/home/ldoyle/notebooks/ensembleSINDyArrays/2021-11-01T2311_unfiltered_thresh_1.00E-03.npy\")[:,0,:]\n",
    "h2 = np.load(\"/home/ldoyle/notebooks/ensembleSINDyArrays/2021-11-01T2321_unfiltered_thresh_1.00E-03.npy\")[:,0,:]\n"
   ]
  },
  {
   "cell_type": "code",
   "execution_count": 52,
   "id": "c0805e20",
   "metadata": {},
   "outputs": [],
   "source": [
    "h_U = np.vstack((h1,h2))"
   ]
  },
  {
   "cell_type": "code",
   "execution_count": 53,
   "id": "87830dd7",
   "metadata": {
    "scrolled": true
   },
   "outputs": [
    {
     "name": "stdout",
     "output_type": "stream",
     "text": [
      "(x0)' = 0.6522 x0_1 + 0.0021 x0_11 + 0.3633 x0_111 + 0.0066 x0x0x0_1 + -0.0044 x0x0_111 + 0.0069 x0x0x0_111\n"
     ]
    }
   ],
   "source": [
    "printEnsemble(h_U, feats,median=True)"
   ]
  },
  {
   "cell_type": "code",
   "execution_count": 3,
   "id": "171e3519",
   "metadata": {},
   "outputs": [],
   "source": [
    "hh =np.load(\"/home/ldoyle/notebooks/ensembleSINDyArrays_50/2021-11-01T2311_unfiltered_thresh_1.00E-01.npy\")"
   ]
  },
  {
   "cell_type": "code",
   "execution_count": 4,
   "id": "8ad60acd",
   "metadata": {},
   "outputs": [
    {
     "data": {
      "text/plain": [
       "(50, 1, 15)"
      ]
     },
     "execution_count": 4,
     "metadata": {},
     "output_type": "execute_result"
    }
   ],
   "source": [
    "hh.shape"
   ]
  },
  {
   "cell_type": "code",
   "execution_count": null,
   "id": "c0d011ff",
   "metadata": {},
   "outputs": [],
   "source": []
  }
 ],
 "metadata": {
  "kernelspec": {
   "display_name": "Python 3",
   "language": "python",
   "name": "python3"
  },
  "language_info": {
   "codemirror_mode": {
    "name": "ipython",
    "version": 3
   },
   "file_extension": ".py",
   "mimetype": "text/x-python",
   "name": "python",
   "nbconvert_exporter": "python",
   "pygments_lexer": "ipython3",
   "version": "3.9.16"
  }
 },
 "nbformat": 4,
 "nbformat_minor": 5
}
