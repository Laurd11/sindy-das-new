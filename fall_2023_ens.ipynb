{
 "cells": [
  {
   "cell_type": "code",
   "execution_count": 1,
   "id": "f68d15c3",
   "metadata": {},
   "outputs": [],
   "source": [
    "import sys\n",
    "sys.path.insert(0, '/home/ldoyle/packages')\n",
    "import h5py\n",
    "import numpy as np\n",
    "from tqdm import tqdm\n",
    "import matplotlib\n",
    "import matplotlib.dates as mdates\n",
    "import matplotlib.pyplot as plt\n",
    "from sklearn.decomposition import PCA\n",
    "import pandas as pd\n",
    "import pysindy as ps\n",
    "from lr_ed import localreg\n",
    "from datetime import datetime\n",
    "from scipy.fft import fft, fftfreq,rfft2\n",
    "\n",
    "import scipy.signal as signal\n",
    "from obspy.signal import filter as obsfilt\n",
    "import glob\n"
   ]
  },
  {
   "cell_type": "code",
   "execution_count": 2,
   "id": "6d6928da",
   "metadata": {},
   "outputs": [],
   "source": [
    "WEAK = False\n",
    "\n",
    "x_len = 5000\n",
    "t_len = 6000\n",
    "\n",
    "xs = np.arange(x_len)\n",
    "dt = 1\n",
    "\n",
    "library_functions = [lambda x: x, lambda x: x * x]\n",
    "library_function_names = [lambda x: x, lambda x: x + x]  \n",
    "\n",
    "if WEAK:\n",
    "    X, T = np.meshgrid(xs, np.arange(t_len))\n",
    "    XT = np.asarray([X, T]).T\n",
    "\n",
    "    pde_lib = ps.WeakPDELibrary(\n",
    "        library_functions=library_functions,\n",
    "        function_names=library_function_names,\n",
    "        derivative_order=4,\n",
    "        spatiotemporal_grid=XT,\n",
    "        is_uniform=True,\n",
    "        K=1000,\n",
    "    )\n",
    "else:\n",
    "    \n",
    "    pde_lib = ps.PDELibrary(\n",
    "        library_functions=library_functions,\n",
    "        function_names=library_function_names,\n",
    "        derivative_order=4,\n",
    "        spatial_grid=xs,\n",
    "        include_bias=True,\n",
    "        is_uniform=True,\n",
    "    )\n",
    "    "
   ]
  },
  {
   "cell_type": "code",
   "execution_count": 3,
   "id": "6996b9e0",
   "metadata": {},
   "outputs": [],
   "source": [
    "def printEnsemble(model, cut_off = 1e-3, median= False):\n",
    "    if median:\n",
    "        coefs = np.median(model.coef_list, axis=0)[0,:]\n",
    "    else:\n",
    "        coefs = np.mean(model.coef_list, axis=0)[0,:]\n",
    "    above_cut_off = np.argwhere(np.abs(coefs)>cut_off).flatten()\n",
    "    features =  model.get_feature_names()\n",
    "    equation_str= \"(x0)' = \"\n",
    "    for count, val in enumerate(above_cut_off):\n",
    "        if count >0:\n",
    "            equation_str+=\" + \"\n",
    "        equation_str+= \"{0:.4f}\".format(coefs[val])\n",
    "        equation_str+= \" \"+features[val]\n",
    "        \n",
    "    print(equation_str)"
   ]
  },
  {
   "cell_type": "code",
   "execution_count": 4,
   "id": "611e33ce",
   "metadata": {},
   "outputs": [],
   "source": [
    "def saveEnsemble(model,fileStr,thresh):\n",
    "    np.save(\"/home/ldoyle/notebooks/ensembleSINDyArrays/\"+fileStr+\"_thresh_\"+\"{:.2E}\".format(thresh), model.coef_list)\n",
    "#     print(fileStr+\"_thresh_\"+\"{:.2E}\".format(thresh))"
   ]
  },
  {
   "cell_type": "code",
   "execution_count": 5,
   "id": "72a88349",
   "metadata": {},
   "outputs": [],
   "source": [
    "def SINDyImplementEnsemble(dataset, fileStr,thresh, alph=0.001, n_models=50, time_steps=200, stlsq_max =100,median=True):\n",
    "    optimizer = ps.EnsembleOptimizer( opt=ps.STLSQ(threshold=thresh, alpha=alph, max_iter=stlsq_max),bagging=True,  n_models = n_models,n_subset =time_steps)  \n",
    "    model = ps.SINDy(feature_library=pde_lib, optimizer=optimizer, differentiation_method= ps.differentiation.SmoothedFiniteDifference())\n",
    "    model.fit(dataset, t=dt,ensemble=True )\n",
    "    print(\"Ensemble STLSQ with Threshold \"+str(thresh))\n",
    "    printEnsemble(model,median=median)\n",
    "    saveEnsemble(model,fileStr,thresh)"
   ]
  },
  {
   "cell_type": "markdown",
   "id": "f60a6d9e",
   "metadata": {},
   "source": [
    "## Unfiltered"
   ]
  },
  {
   "cell_type": "markdown",
   "id": "441917af",
   "metadata": {},
   "source": [
    "### Dataset 1"
   ]
  },
  {
   "cell_type": "code",
   "execution_count": 30,
   "id": "bf4688d7",
   "metadata": {},
   "outputs": [],
   "source": [
    "path = \"/data/data2/south-data-ejm/hdd/South-C1-LR-95km-P1kHz-GL50m-SP2m-FS200Hz_2021-11-01T16_09_15-0700/\"\n",
    "\n",
    "fileStr = \"2021-11-01T2311_unfiltered\"\n",
    "\n",
    "init = 11\n",
    "final= 16\n",
    "\n",
    "time_subsample = 10\n",
    "full_dat = np.zeros((5000,(12000//time_subsample)*(final-init)))\n",
    "\n",
    "k = 0\n",
    "for i in np.arange(init,final):\n",
    "    file = \"South-C1-LR-95km-P1kHz-GL50m-SP2m-FS200Hz_2021-11-01T23\"+str(i)+\"14Z.h5\"\n",
    "    f = h5py.File(path+file, 'r')\n",
    "    data = f['Acquisition']['Raw[0]']['RawData'][:, :].astype('int64')\n",
    "#     timestamp = f['Acquisition']['Raw[0]']['RawDataTime'][:] / 1000000\n",
    "    f.close()\n",
    "    \n",
    "    full_dat[:,k*(12000//time_subsample):(k+1)*(12000//time_subsample)] = data[7500:12500,::time_subsample]\n",
    "    k+=1\n",
    "    \n",
    "working_dat = full_dat/np.std(full_dat)\n"
   ]
  },
  {
   "cell_type": "code",
   "execution_count": 31,
   "id": "14da64f2",
   "metadata": {},
   "outputs": [],
   "source": [
    "working_dat = working_dat.reshape(working_dat.shape[0],working_dat.shape[1],1)\n"
   ]
  },
  {
   "cell_type": "code",
   "execution_count": 32,
   "id": "29e5be5a",
   "metadata": {},
   "outputs": [
    {
     "name": "stdout",
     "output_type": "stream",
     "text": [
      "Ensemble STLSQ with Threshold 0.1\n",
      "(x0)' = 0.6411 x0_1 + 0.3544 x0_111\n"
     ]
    }
   ],
   "source": [
    "thresh = 1.e-1\n",
    "SINDyImplementEnsemble(working_dat, fileStr,thresh)"
   ]
  },
  {
   "cell_type": "code",
   "execution_count": 33,
   "id": "2a73781d",
   "metadata": {},
   "outputs": [
    {
     "name": "stdout",
     "output_type": "stream",
     "text": [
      "Ensemble STLSQ with Threshold 0.01\n",
      "(x0)' = 0.6384 x0_1 + 0.3543 x0_111\n"
     ]
    }
   ],
   "source": [
    "thresh = 1.e-2\n",
    "SINDyImplementEnsemble(working_dat, fileStr,thresh)"
   ]
  },
  {
   "cell_type": "code",
   "execution_count": 34,
   "id": "fb39c35d",
   "metadata": {},
   "outputs": [
    {
     "name": "stdout",
     "output_type": "stream",
     "text": [
      "Ensemble STLSQ with Threshold 0.005\n",
      "(x0)' = 0.6378 x0_1 + 0.3499 x0_111 + 0.0100 x0x0_1\n"
     ]
    }
   ],
   "source": [
    "thresh = 5e-3\n",
    "SINDyImplementEnsemble(working_dat, fileStr,thresh)"
   ]
  },
  {
   "cell_type": "code",
   "execution_count": 35,
   "id": "bb6a744c",
   "metadata": {},
   "outputs": [
    {
     "name": "stdout",
     "output_type": "stream",
     "text": [
      "Ensemble STLSQ with Threshold 0.003\n",
      "(x0)' = 0.6369 x0_1 + 0.3516 x0_111 + 0.0106 x0x0_1 + 0.0068 x0x0x0_1 + 0.0058 x0x0x0_111\n"
     ]
    }
   ],
   "source": [
    "thresh = 3e-3\n",
    "SINDyImplementEnsemble(working_dat, fileStr,thresh)"
   ]
  },
  {
   "cell_type": "code",
   "execution_count": 36,
   "id": "25a04b5a",
   "metadata": {},
   "outputs": [
    {
     "name": "stdout",
     "output_type": "stream",
     "text": [
      "Ensemble STLSQ with Threshold 0.001\n",
      "(x0)' = 0.6394 x0_1 + 0.0048 x0_11 + 0.3513 x0_111 + 0.0080 x0x0_1 + 0.0056 x0x0x0_1 + 0.0044 x0x0x0_111\n"
     ]
    }
   ],
   "source": [
    "thresh = 1e-3\n",
    "SINDyImplementEnsemble(working_dat, fileStr,thresh)"
   ]
  },
  {
   "cell_type": "markdown",
   "id": "dfcc7346",
   "metadata": {},
   "source": [
    "### Dataset 2"
   ]
  },
  {
   "cell_type": "code",
   "execution_count": 37,
   "id": "742af94a",
   "metadata": {},
   "outputs": [],
   "source": [
    "time_subsample = 10\n",
    "full_dat = np.zeros((5000,6000))\n",
    "fileStr = \"2021-11-01T2321_unfiltered\"\n",
    "\n",
    "\n",
    "k = 0\n",
    "for i in np.arange(21,26):\n",
    "    file = \"South-C1-LR-95km-P1kHz-GL50m-SP2m-FS200Hz_2021-11-01T23\"+str(i)+\"14Z.h5\"\n",
    "    f = h5py.File(path+file, 'r')\n",
    "    data = f['Acquisition']['Raw[0]']['RawData'][:, :].astype('int64')\n",
    "#     timestamp = f['Acquisition']['Raw[0]']['RawDataTime'][:] / 1000000\n",
    "    f.close()\n",
    "    \n",
    "    full_dat[:,k*(12000//time_subsample):(k+1)*(12000//time_subsample)] = data[7500:12500,::time_subsample]\n",
    "    k+=1\n",
    "    \n"
   ]
  },
  {
   "cell_type": "code",
   "execution_count": 38,
   "id": "89c6014e",
   "metadata": {},
   "outputs": [],
   "source": [
    "working_dat = full_dat/np.std(full_dat)#*10**6\n",
    "working_dat = working_dat.reshape(working_dat.shape[0],working_dat.shape[1],1)\n"
   ]
  },
  {
   "cell_type": "code",
   "execution_count": 39,
   "id": "0b9f21c0",
   "metadata": {},
   "outputs": [
    {
     "name": "stdout",
     "output_type": "stream",
     "text": [
      "Ensemble STLSQ with Threshold 0.1\n",
      "(x0)' = 0.6769 x0_1 + 0.3876 x0_111\n"
     ]
    }
   ],
   "source": [
    "thresh = 1.e-1\n",
    "SINDyImplementEnsemble(working_dat, fileStr,thresh)"
   ]
  },
  {
   "cell_type": "code",
   "execution_count": 40,
   "id": "a4744407",
   "metadata": {},
   "outputs": [
    {
     "name": "stdout",
     "output_type": "stream",
     "text": [
      "Ensemble STLSQ with Threshold 0.01\n",
      "(x0)' = 0.6666 x0_1 + 0.3801 x0_111\n"
     ]
    }
   ],
   "source": [
    "thresh = 1.e-2\n",
    "SINDyImplementEnsemble(working_dat, fileStr,thresh)"
   ]
  },
  {
   "cell_type": "code",
   "execution_count": 41,
   "id": "9c051eab",
   "metadata": {},
   "outputs": [
    {
     "name": "stdout",
     "output_type": "stream",
     "text": [
      "Ensemble STLSQ with Threshold 0.005\n",
      "(x0)' = 0.6719 x0_1 + 0.3846 x0_111\n"
     ]
    }
   ],
   "source": [
    "thresh = 5e-3\n",
    "SINDyImplementEnsemble(working_dat, fileStr,thresh)"
   ]
  },
  {
   "cell_type": "code",
   "execution_count": 42,
   "id": "078b7f6c",
   "metadata": {},
   "outputs": [
    {
     "name": "stdout",
     "output_type": "stream",
     "text": [
      "Ensemble STLSQ with Threshold 0.003\n",
      "(x0)' = 0.6655 x0_1 + -0.0078 x0_11 + 0.3825 x0_111 + -0.0038 x0x0_1 + 0.0081 x0x0x0_1 + -0.0123 x0x0_111 + 0.0054 x0x0x0_111\n"
     ]
    }
   ],
   "source": [
    "thresh = 3e-3\n",
    "SINDyImplementEnsemble(working_dat, fileStr,thresh)"
   ]
  },
  {
   "cell_type": "code",
   "execution_count": 43,
   "id": "84f87ccc",
   "metadata": {},
   "outputs": [
    {
     "name": "stdout",
     "output_type": "stream",
     "text": [
      "Ensemble STLSQ with Threshold 0.001\n",
      "(x0)' = -0.0017 x0x0 + 0.6669 x0_1 + -0.0031 x0_11 + 0.3806 x0_111 + -0.0022 x0_1111 + -0.0034 x0x0_1 + 0.0077 x0x0x0_1 + -0.0022 x0x0_11 + 0.0026 x0x0x0_11 + -0.0114 x0x0_111 + 0.0078 x0x0x0_111\n"
     ]
    }
   ],
   "source": [
    "thresh = 1e-3\n",
    "SINDyImplementEnsemble(working_dat, fileStr,thresh)"
   ]
  },
  {
   "cell_type": "markdown",
   "id": "8d0d6037",
   "metadata": {},
   "source": [
    "## Drift Removal Load"
   ]
  },
  {
   "cell_type": "markdown",
   "id": "b1c178ed",
   "metadata": {},
   "source": [
    "### Dataset 1"
   ]
  },
  {
   "cell_type": "code",
   "execution_count": 6,
   "id": "cbf0347e",
   "metadata": {},
   "outputs": [],
   "source": [
    "fileStr = \"2021-11-01T2311_normal\"\n",
    "\n",
    "working_dat = np.load(\"/home/ldoyle/notebooks/channel_drift_5_min_clips/normalized_5_min_start_South-C1-LR-95km-P1kHz-GL50m-SP2m-FS200Hz_2021-11-01T231114Z.npy\")[:,::10]\n",
    "scaler_val = np.std(working_dat)\n",
    "working_dat = working_dat/scaler_val\n",
    "working_dat = working_dat.reshape(working_dat.shape[0],working_dat.shape[1],1)\n"
   ]
  },
  {
   "cell_type": "code",
   "execution_count": 7,
   "id": "a8e0dbae",
   "metadata": {},
   "outputs": [
    {
     "name": "stdout",
     "output_type": "stream",
     "text": [
      "Ensemble STLSQ with Threshold 0.1\n",
      "(x0)' = 0.6893 x0_1 + 0.3284 x0_111\n"
     ]
    }
   ],
   "source": [
    "thresh = 1e-1\n",
    "SINDyImplementEnsemble(working_dat, fileStr,thresh)"
   ]
  },
  {
   "cell_type": "code",
   "execution_count": 8,
   "id": "8961e0ce",
   "metadata": {},
   "outputs": [
    {
     "name": "stdout",
     "output_type": "stream",
     "text": [
      "Ensemble STLSQ with Threshold 0.01\n",
      "(x0)' = 0.7055 x0_1 + 0.3357 x0_111\n"
     ]
    }
   ],
   "source": [
    "thresh = 1e-2\n",
    "SINDyImplementEnsemble(working_dat, fileStr,thresh)"
   ]
  },
  {
   "cell_type": "code",
   "execution_count": 9,
   "id": "5e60b63a",
   "metadata": {
    "scrolled": true
   },
   "outputs": [
    {
     "name": "stdout",
     "output_type": "stream",
     "text": [
      "Ensemble STLSQ with Threshold 0.003\n",
      "(x0)' = 0.7133 x0_1 + 0.3361 x0_111 + 0.0041 x0x0_1 + -0.0158 x0x0x0_1 + -0.0065 x0x0x0_111\n"
     ]
    }
   ],
   "source": [
    "thresh = 3e-3\n",
    "SINDyImplementEnsemble(working_dat, fileStr,thresh)"
   ]
  },
  {
   "cell_type": "code",
   "execution_count": 10,
   "id": "5731cbe2",
   "metadata": {},
   "outputs": [
    {
     "name": "stdout",
     "output_type": "stream",
     "text": [
      "Ensemble STLSQ with Threshold 0.001\n",
      "(x0)' = 0.7117 x0_1 + 0.0055 x0_11 + 0.3367 x0_111 + 0.0022 x0x0_1 + -0.0174 x0x0x0_1 + 0.0034 x0x0_111 + -0.0093 x0x0x0_111\n"
     ]
    }
   ],
   "source": [
    "thresh = 1e-3\n",
    "SINDyImplementEnsemble(working_dat, fileStr,thresh)"
   ]
  },
  {
   "cell_type": "markdown",
   "id": "331f62c6",
   "metadata": {},
   "source": [
    "### Dataset 2"
   ]
  },
  {
   "cell_type": "code",
   "execution_count": 11,
   "id": "12a8e7b0",
   "metadata": {},
   "outputs": [],
   "source": [
    "fileStr = \"2021-11-01T2321_normal\"\n",
    "\n",
    "working_dat = np.load(\"/home/ldoyle/notebooks/channel_drift_5_min_clips/normalized_5_min_start_South-C1-LR-95km-P1kHz-GL50m-SP2m-FS200Hz_2021-11-01T232114Z.npy\")[:,::10]\n",
    "scaler_val = np.std(working_dat)\n",
    "working_dat = working_dat/scaler_val\n",
    "working_dat = working_dat.reshape(working_dat.shape[0],working_dat.shape[1],1)\n"
   ]
  },
  {
   "cell_type": "code",
   "execution_count": 12,
   "id": "721dc241",
   "metadata": {},
   "outputs": [
    {
     "name": "stdout",
     "output_type": "stream",
     "text": [
      "Ensemble STLSQ with Threshold 0.1\n",
      "(x0)' = 0.6743 x0_1 + 0.3169 x0_111\n"
     ]
    }
   ],
   "source": [
    "thresh = 1e-1\n",
    "SINDyImplementEnsemble(working_dat, fileStr,thresh)"
   ]
  },
  {
   "cell_type": "code",
   "execution_count": 13,
   "id": "2c7f6238",
   "metadata": {},
   "outputs": [
    {
     "name": "stdout",
     "output_type": "stream",
     "text": [
      "Ensemble STLSQ with Threshold 0.01\n",
      "(x0)' = 0.6767 x0_1 + 0.3179 x0_111\n"
     ]
    }
   ],
   "source": [
    "thresh = 1e-2\n",
    "SINDyImplementEnsemble(working_dat, fileStr,thresh)"
   ]
  },
  {
   "cell_type": "code",
   "execution_count": 14,
   "id": "eb159659",
   "metadata": {},
   "outputs": [
    {
     "name": "stdout",
     "output_type": "stream",
     "text": [
      "Ensemble STLSQ with Threshold 0.003\n",
      "(x0)' = 0.6815 x0_1 + 0.3201 x0_111 + 0.0028 x0x0_1\n"
     ]
    }
   ],
   "source": [
    "thresh = 3e-3\n",
    "SINDyImplementEnsemble(working_dat, fileStr,thresh)"
   ]
  },
  {
   "cell_type": "code",
   "execution_count": 15,
   "id": "e0cb4532",
   "metadata": {},
   "outputs": [
    {
     "name": "stdout",
     "output_type": "stream",
     "text": [
      "Ensemble STLSQ with Threshold 0.001\n",
      "(x0)' = 0.6828 x0_1 + -0.0049 x0_11 + 0.3202 x0_111 + -0.0029 x0x0x0_1 + 0.0034 x0x0_11 + 0.0032 x0x0x0_11\n"
     ]
    }
   ],
   "source": [
    "thresh = 1e-3\n",
    "SINDyImplementEnsemble(working_dat, fileStr,thresh)"
   ]
  },
  {
   "cell_type": "markdown",
   "id": "ef3fbbe0",
   "metadata": {},
   "source": [
    "### Dataset 3"
   ]
  },
  {
   "cell_type": "code",
   "execution_count": 16,
   "id": "6bfb3c54",
   "metadata": {},
   "outputs": [],
   "source": [
    "fileStr = \"2021-11-02T0511_normal\"\n",
    "\n",
    "working_dat = np.load(\"/home/ldoyle/notebooks/channel_drift_5_min_clips/normalized_5_min_start_South-C1-LR-95km-P1kHz-GL50m-SP2m-FS200Hz_2021-11-02T051114Z.npy\")[:,::10]\n",
    "scaler_val = np.std(working_dat)\n",
    "working_dat = working_dat/scaler_val\n",
    "working_dat = working_dat.reshape(working_dat.shape[0],working_dat.shape[1],1)\n"
   ]
  },
  {
   "cell_type": "code",
   "execution_count": 17,
   "id": "7dec3790",
   "metadata": {
    "scrolled": true
   },
   "outputs": [
    {
     "name": "stdout",
     "output_type": "stream",
     "text": [
      "Ensemble STLSQ with Threshold 0.1\n",
      "(x0)' = 0.6798 x0_1 + 0.3204 x0_111\n"
     ]
    }
   ],
   "source": [
    "thresh = 1e-1\n",
    "SINDyImplementEnsemble(working_dat, fileStr,thresh)"
   ]
  },
  {
   "cell_type": "code",
   "execution_count": 18,
   "id": "2f91a741",
   "metadata": {},
   "outputs": [
    {
     "name": "stdout",
     "output_type": "stream",
     "text": [
      "Ensemble STLSQ with Threshold 0.01\n",
      "(x0)' = 0.6872 x0_1 + 0.3232 x0_111\n"
     ]
    }
   ],
   "source": [
    "thresh = 1e-2\n",
    "SINDyImplementEnsemble(working_dat, fileStr,thresh)"
   ]
  },
  {
   "cell_type": "code",
   "execution_count": 19,
   "id": "6e98d25b",
   "metadata": {
    "scrolled": true
   },
   "outputs": [
    {
     "name": "stdout",
     "output_type": "stream",
     "text": [
      "Ensemble STLSQ with Threshold 0.003\n",
      "(x0)' = 0.6890 x0_1 + -0.0083 x0_11 + 0.3277 x0_111 + -0.0035 x0x0x0_1\n"
     ]
    }
   ],
   "source": [
    "thresh = 3e-3\n",
    "SINDyImplementEnsemble(working_dat, fileStr,thresh)"
   ]
  },
  {
   "cell_type": "code",
   "execution_count": 20,
   "id": "81994fd2",
   "metadata": {},
   "outputs": [
    {
     "name": "stdout",
     "output_type": "stream",
     "text": [
      "Ensemble STLSQ with Threshold 0.001\n",
      "(x0)' = 0.6921 x0_1 + -0.0024 x0_11 + 0.3291 x0_111 + -0.0061 x0x0x0_1 + -0.0014 x0x0_111\n"
     ]
    }
   ],
   "source": [
    "thresh = 1e-3\n",
    "SINDyImplementEnsemble(working_dat, fileStr,thresh)"
   ]
  },
  {
   "cell_type": "markdown",
   "id": "de977dca",
   "metadata": {},
   "source": [
    "### Dataset 4"
   ]
  },
  {
   "cell_type": "code",
   "execution_count": 21,
   "id": "ad81d789",
   "metadata": {},
   "outputs": [],
   "source": [
    "fileStr = \"2021-11-02T2311_normal\"\n",
    "\n",
    "working_dat = np.load(\"/home/ldoyle/notebooks/channel_drift_5_min_clips/normalized_5_min_start_South-C1-LR-95km-P1kHz-GL50m-SP2m-FS200Hz_2021-11-02T231114Z.npy\")[:,::10]\n",
    "scaler_val = np.std(working_dat)\n",
    "working_dat = working_dat/scaler_val\n",
    "working_dat = working_dat.reshape(working_dat.shape[0],working_dat.shape[1],1)\n"
   ]
  },
  {
   "cell_type": "code",
   "execution_count": 22,
   "id": "a7cbd268",
   "metadata": {},
   "outputs": [
    {
     "name": "stdout",
     "output_type": "stream",
     "text": [
      "Ensemble STLSQ with Threshold 0.1\n",
      "(x0)' = 0.6189 x0_1 + 0.2938 x0_111\n"
     ]
    }
   ],
   "source": [
    "thresh = 1e-1\n",
    "SINDyImplementEnsemble(working_dat, fileStr,thresh)"
   ]
  },
  {
   "cell_type": "code",
   "execution_count": 23,
   "id": "b3c05a31",
   "metadata": {},
   "outputs": [
    {
     "name": "stdout",
     "output_type": "stream",
     "text": [
      "Ensemble STLSQ with Threshold 0.01\n",
      "(x0)' = 0.6197 x0_1 + 0.2941 x0_111\n"
     ]
    }
   ],
   "source": [
    "thresh = 1e-2\n",
    "SINDyImplementEnsemble(working_dat, fileStr,thresh)"
   ]
  },
  {
   "cell_type": "code",
   "execution_count": 24,
   "id": "456e216f",
   "metadata": {
    "scrolled": true
   },
   "outputs": [
    {
     "name": "stdout",
     "output_type": "stream",
     "text": [
      "Ensemble STLSQ with Threshold 0.003\n",
      "(x0)' = 0.6234 x0_1 + 0.2959 x0_111 + -0.0101 x0x0x0_1\n"
     ]
    }
   ],
   "source": [
    "thresh = 3e-3\n",
    "SINDyImplementEnsemble(working_dat, fileStr,thresh)"
   ]
  },
  {
   "cell_type": "code",
   "execution_count": 25,
   "id": "231da378",
   "metadata": {},
   "outputs": [
    {
     "name": "stdout",
     "output_type": "stream",
     "text": [
      "Ensemble STLSQ with Threshold 0.001\n",
      "(x0)' = 0.6212 x0_1 + -0.0059 x0_11 + 0.2935 x0_111 + -0.0020 x0_1111 + -0.0022 x0x0_1 + -0.0099 x0x0x0_1 + -0.0018 x0x0_111 + -0.0038 x0x0x0_111\n"
     ]
    }
   ],
   "source": [
    "thresh = 1e-3\n",
    "SINDyImplementEnsemble(working_dat, fileStr,thresh)"
   ]
  },
  {
   "cell_type": "markdown",
   "id": "9048546b",
   "metadata": {},
   "source": [
    "## Multifilt"
   ]
  },
  {
   "cell_type": "markdown",
   "id": "3d360055",
   "metadata": {},
   "source": [
    "### Dataset 1"
   ]
  },
  {
   "cell_type": "code",
   "execution_count": 6,
   "id": "f0dc58eb",
   "metadata": {},
   "outputs": [],
   "source": [
    "fileStr = \"2021-11-01T2311_smoothed_rad_4\"\n",
    "\n",
    "working_dat = np.load(\"/home/ldoyle/notebooks/channel_drift_5_min_clips/rad_4_smoothed_decimated_normalized_5_min_start_South-C1-LR-95km-P1kHz-GL50m-SP2m-FS200Hz_2021-11-01T231114Z.npy\")\n",
    "scaler_val = np.std(working_dat)\n",
    "working_dat = working_dat/scaler_val\n",
    "working_dat = working_dat.reshape(working_dat.shape[0],working_dat.shape[1],1)\n"
   ]
  },
  {
   "cell_type": "code",
   "execution_count": 7,
   "id": "a99569cb",
   "metadata": {
    "scrolled": true
   },
   "outputs": [
    {
     "name": "stdout",
     "output_type": "stream",
     "text": [
      "Ensemble STLSQ with Threshold 0.1\n",
      "(x0)' = 0.9937 x0_1\n"
     ]
    }
   ],
   "source": [
    "thresh = 1e-1\n",
    "SINDyImplementEnsemble(working_dat, fileStr,thresh)"
   ]
  },
  {
   "cell_type": "code",
   "execution_count": 8,
   "id": "fa209c0e",
   "metadata": {},
   "outputs": [
    {
     "name": "stdout",
     "output_type": "stream",
     "text": [
      "Ensemble STLSQ with Threshold 0.05\n",
      "(x0)' = 0.9938 x0_1\n"
     ]
    }
   ],
   "source": [
    "thresh = 5e-2\n",
    "SINDyImplementEnsemble(working_dat, fileStr,thresh)"
   ]
  },
  {
   "cell_type": "code",
   "execution_count": 9,
   "id": "eecbd2c9",
   "metadata": {},
   "outputs": [
    {
     "name": "stdout",
     "output_type": "stream",
     "text": [
      "Ensemble STLSQ with Threshold 0.01\n",
      "(x0)' = 0.9944 x0_1 + 0.0475 x0_111 + 0.0450 x0x0x0_111\n"
     ]
    }
   ],
   "source": [
    "thresh = 1e-2\n",
    "SINDyImplementEnsemble(working_dat, fileStr,thresh)"
   ]
  },
  {
   "cell_type": "code",
   "execution_count": 10,
   "id": "4407b1f2",
   "metadata": {
    "scrolled": true
   },
   "outputs": [
    {
     "name": "stdout",
     "output_type": "stream",
     "text": [
      "Ensemble STLSQ with Threshold 0.003\n",
      "(x0)' = 0.9921 x0_1 + 0.0469 x0_111 + 0.0032 x0x0x0_1 + 0.0454 x0x0x0_111\n"
     ]
    }
   ],
   "source": [
    "thresh = 3e-3\n",
    "SINDyImplementEnsemble(working_dat, fileStr,thresh)"
   ]
  },
  {
   "cell_type": "code",
   "execution_count": 11,
   "id": "0a272cd3",
   "metadata": {
    "scrolled": true
   },
   "outputs": [
    {
     "name": "stdout",
     "output_type": "stream",
     "text": [
      "Ensemble STLSQ with Threshold 0.001\n",
      "(x0)' = 0.9912 x0_1 + 0.0466 x0_111 + 0.0033 x0x0x0_1 + 0.0489 x0x0x0_111\n"
     ]
    }
   ],
   "source": [
    "thresh = 1e-3\n",
    "SINDyImplementEnsemble(working_dat, fileStr,thresh)"
   ]
  },
  {
   "cell_type": "markdown",
   "id": "54b376b3",
   "metadata": {},
   "source": [
    "### Dataset 2"
   ]
  },
  {
   "cell_type": "code",
   "execution_count": 12,
   "id": "6f738683",
   "metadata": {},
   "outputs": [],
   "source": [
    "fileStr = \"2021-11-01T2321_smoothed_rad_4\"\n",
    "\n",
    "working_dat = np.load(\"/home/ldoyle/notebooks/channel_drift_5_min_clips/rad_4_smoothed_decimated_normalized_5_min_start_South-C1-LR-95km-P1kHz-GL50m-SP2m-FS200Hz_2021-11-01T232114Z.npy\")\n",
    "scaler_val = np.std(working_dat)\n",
    "working_dat = working_dat/scaler_val\n",
    "working_dat = working_dat.reshape(working_dat.shape[0],working_dat.shape[1],1)\n"
   ]
  },
  {
   "cell_type": "code",
   "execution_count": 13,
   "id": "21b072a2",
   "metadata": {
    "scrolled": true
   },
   "outputs": [
    {
     "name": "stdout",
     "output_type": "stream",
     "text": [
      "Ensemble STLSQ with Threshold 0.1\n",
      "(x0)' = 0.9939 x0_1\n"
     ]
    }
   ],
   "source": [
    "thresh = 1e-1\n",
    "SINDyImplementEnsemble(working_dat, fileStr,thresh)"
   ]
  },
  {
   "cell_type": "code",
   "execution_count": 14,
   "id": "50be167c",
   "metadata": {},
   "outputs": [
    {
     "name": "stdout",
     "output_type": "stream",
     "text": [
      "Ensemble STLSQ with Threshold 0.05\n",
      "(x0)' = 0.9943 x0_1 + 0.0599 x0_111\n"
     ]
    }
   ],
   "source": [
    "thresh = 5e-2\n",
    "SINDyImplementEnsemble(working_dat, fileStr,thresh)"
   ]
  },
  {
   "cell_type": "code",
   "execution_count": 15,
   "id": "7bc1b289",
   "metadata": {},
   "outputs": [
    {
     "name": "stdout",
     "output_type": "stream",
     "text": [
      "Ensemble STLSQ with Threshold 0.01\n",
      "(x0)' = 0.9947 x0_1 + 0.0550 x0_111 + 0.0472 x0x0x0_111\n"
     ]
    }
   ],
   "source": [
    "thresh = 1e-2\n",
    "SINDyImplementEnsemble(working_dat, fileStr,thresh)"
   ]
  },
  {
   "cell_type": "code",
   "execution_count": 16,
   "id": "c7742401",
   "metadata": {
    "scrolled": true
   },
   "outputs": [
    {
     "name": "stdout",
     "output_type": "stream",
     "text": [
      "Ensemble STLSQ with Threshold 0.003\n",
      "(x0)' = 0.9943 x0_1 + 0.0544 x0_111 + 0.0478 x0x0x0_111\n"
     ]
    }
   ],
   "source": [
    "thresh = 3e-3\n",
    "SINDyImplementEnsemble(working_dat, fileStr,thresh)"
   ]
  },
  {
   "cell_type": "code",
   "execution_count": 17,
   "id": "f8955106",
   "metadata": {
    "scrolled": true
   },
   "outputs": [
    {
     "name": "stdout",
     "output_type": "stream",
     "text": [
      "Ensemble STLSQ with Threshold 0.001\n",
      "(x0)' = 0.9919 x0_1 + 0.0542 x0_111 + 0.0027 x0x0x0_1 + 0.0525 x0x0x0_111\n"
     ]
    }
   ],
   "source": [
    "thresh = 1e-3\n",
    "SINDyImplementEnsemble(working_dat, fileStr,thresh)"
   ]
  },
  {
   "cell_type": "markdown",
   "id": "4fcb7abd",
   "metadata": {},
   "source": [
    "### Dataset 3"
   ]
  },
  {
   "cell_type": "code",
   "execution_count": 18,
   "id": "5b5a73fa",
   "metadata": {},
   "outputs": [],
   "source": [
    "fileStr = \"2021-11-02T0511_smoothed_rad_4\"\n",
    "\n",
    "working_dat = np.load(\"/home/ldoyle/notebooks/channel_drift_5_min_clips/rad_4_smoothed_decimated_normalized_5_min_start_South-C1-LR-95km-P1kHz-GL50m-SP2m-FS200Hz_2021-11-02T051114Z.npy\")\n",
    "scaler_val = np.std(working_dat)\n",
    "working_dat = working_dat/scaler_val\n",
    "working_dat = working_dat.reshape(working_dat.shape[0],working_dat.shape[1],1)\n"
   ]
  },
  {
   "cell_type": "code",
   "execution_count": 19,
   "id": "93406e3b",
   "metadata": {
    "scrolled": true
   },
   "outputs": [
    {
     "name": "stdout",
     "output_type": "stream",
     "text": [
      "Ensemble STLSQ with Threshold 0.1\n",
      "(x0)' = 0.9942 x0_1\n"
     ]
    }
   ],
   "source": [
    "thresh = 1e-1\n",
    "SINDyImplementEnsemble(working_dat, fileStr,thresh)"
   ]
  },
  {
   "cell_type": "code",
   "execution_count": 20,
   "id": "ff8b94cb",
   "metadata": {},
   "outputs": [
    {
     "name": "stdout",
     "output_type": "stream",
     "text": [
      "Ensemble STLSQ with Threshold 0.05\n",
      "(x0)' = 0.9944 x0_1 + 0.0645 x0_111\n"
     ]
    }
   ],
   "source": [
    "thresh = 5e-2\n",
    "SINDyImplementEnsemble(working_dat, fileStr,thresh)"
   ]
  },
  {
   "cell_type": "code",
   "execution_count": 21,
   "id": "bedc5b1e",
   "metadata": {},
   "outputs": [
    {
     "name": "stdout",
     "output_type": "stream",
     "text": [
      "Ensemble STLSQ with Threshold 0.01\n",
      "(x0)' = 0.9949 x0_1 + 0.0578 x0_111 + 0.0445 x0x0x0_111\n"
     ]
    }
   ],
   "source": [
    "thresh = 1e-2\n",
    "SINDyImplementEnsemble(working_dat, fileStr,thresh)"
   ]
  },
  {
   "cell_type": "code",
   "execution_count": 22,
   "id": "33dff4b1",
   "metadata": {
    "scrolled": true
   },
   "outputs": [
    {
     "name": "stdout",
     "output_type": "stream",
     "text": [
      "Ensemble STLSQ with Threshold 0.003\n",
      "(x0)' = 0.9947 x0_1 + 0.0579 x0_111 + 0.0458 x0x0x0_111\n"
     ]
    }
   ],
   "source": [
    "thresh = 3e-3\n",
    "SINDyImplementEnsemble(working_dat, fileStr,thresh)"
   ]
  },
  {
   "cell_type": "code",
   "execution_count": 23,
   "id": "49019b3a",
   "metadata": {
    "scrolled": true
   },
   "outputs": [
    {
     "name": "stdout",
     "output_type": "stream",
     "text": [
      "Ensemble STLSQ with Threshold 0.001\n",
      "(x0)' = 0.9924 x0_1 + 0.0563 x0_111 + 0.0023 x0x0x0_1 + 0.0502 x0x0x0_111\n"
     ]
    }
   ],
   "source": [
    "thresh = 1e-3\n",
    "SINDyImplementEnsemble(working_dat, fileStr,thresh)"
   ]
  },
  {
   "cell_type": "markdown",
   "id": "5fe692e4",
   "metadata": {},
   "source": [
    "### Dataset 4"
   ]
  },
  {
   "cell_type": "code",
   "execution_count": 24,
   "id": "cc7bac00",
   "metadata": {},
   "outputs": [],
   "source": [
    "fileStr = \"2021-11-02T2311_smoothed_rad_4\"\n",
    "\n",
    "working_dat = np.load(\"/home/ldoyle/notebooks/channel_drift_5_min_clips/rad_4_smoothed_decimated_normalized_5_min_start_South-C1-LR-95km-P1kHz-GL50m-SP2m-FS200Hz_2021-11-02T231114Z.npy\")\n",
    "scaler_val = np.std(working_dat)\n",
    "working_dat = working_dat/scaler_val\n",
    "working_dat = working_dat.reshape(working_dat.shape[0],working_dat.shape[1],1)\n"
   ]
  },
  {
   "cell_type": "code",
   "execution_count": 25,
   "id": "e88cba94",
   "metadata": {
    "scrolled": true
   },
   "outputs": [
    {
     "name": "stdout",
     "output_type": "stream",
     "text": [
      "Ensemble STLSQ with Threshold 0.1\n",
      "(x0)' = 0.9957 x0_1 + 0.1386 x0_111\n"
     ]
    }
   ],
   "source": [
    "thresh = 1e-1\n",
    "SINDyImplementEnsemble(working_dat, fileStr,thresh)"
   ]
  },
  {
   "cell_type": "code",
   "execution_count": 26,
   "id": "d611109d",
   "metadata": {},
   "outputs": [
    {
     "name": "stdout",
     "output_type": "stream",
     "text": [
      "Ensemble STLSQ with Threshold 0.05\n",
      "(x0)' = 0.9961 x0_1 + 0.1142 x0_111 + 0.0625 x0x0x0_111\n"
     ]
    }
   ],
   "source": [
    "thresh = 5e-2\n",
    "SINDyImplementEnsemble(working_dat, fileStr,thresh)"
   ]
  },
  {
   "cell_type": "code",
   "execution_count": 27,
   "id": "8348c4a5",
   "metadata": {},
   "outputs": [
    {
     "name": "stdout",
     "output_type": "stream",
     "text": [
      "Ensemble STLSQ with Threshold 0.01\n",
      "(x0)' = 0.9963 x0_1 + 0.1119 x0_111 + 0.0615 x0x0x0_111\n"
     ]
    }
   ],
   "source": [
    "thresh = 1e-2\n",
    "SINDyImplementEnsemble(working_dat, fileStr,thresh)"
   ]
  },
  {
   "cell_type": "code",
   "execution_count": 28,
   "id": "e9d9fbe6",
   "metadata": {
    "scrolled": true
   },
   "outputs": [
    {
     "name": "stdout",
     "output_type": "stream",
     "text": [
      "Ensemble STLSQ with Threshold 0.003\n",
      "(x0)' = 0.9960 x0_1 + 0.1103 x0_111 + 0.0636 x0x0x0_111\n"
     ]
    }
   ],
   "source": [
    "thresh = 3e-3\n",
    "SINDyImplementEnsemble(working_dat, fileStr,thresh)"
   ]
  },
  {
   "cell_type": "code",
   "execution_count": 29,
   "id": "bd4fe0eb",
   "metadata": {
    "scrolled": true
   },
   "outputs": [
    {
     "name": "stdout",
     "output_type": "stream",
     "text": [
      "Ensemble STLSQ with Threshold 0.001\n",
      "(x0)' = 0.9939 x0_1 + 0.1089 x0_111 + 0.0021 x0x0x0_1 + 0.0714 x0x0x0_111\n"
     ]
    }
   ],
   "source": [
    "thresh = 1e-3\n",
    "SINDyImplementEnsemble(working_dat, fileStr,thresh)"
   ]
  },
  {
   "cell_type": "code",
   "execution_count": null,
   "id": "cc48b382",
   "metadata": {},
   "outputs": [],
   "source": []
  }
 ],
 "metadata": {
  "kernelspec": {
   "display_name": "Python 3",
   "language": "python",
   "name": "python3"
  },
  "language_info": {
   "codemirror_mode": {
    "name": "ipython",
    "version": 3
   },
   "file_extension": ".py",
   "mimetype": "text/x-python",
   "name": "python",
   "nbconvert_exporter": "python",
   "pygments_lexer": "ipython3",
   "version": "3.9.16"
  }
 },
 "nbformat": 4,
 "nbformat_minor": 5
}
