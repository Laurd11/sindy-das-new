{
 "cells": [
  {
   "cell_type": "code",
   "execution_count": 1,
   "id": "f68d15c3",
   "metadata": {},
   "outputs": [],
   "source": [
    "import sys\n",
    "sys.path.insert(0, '/home/ldoyle/packages')\n",
    "import h5py\n",
    "import numpy as np\n",
    "from tqdm import tqdm\n",
    "import matplotlib\n",
    "import matplotlib.dates as mdates\n",
    "import matplotlib.pyplot as plt\n",
    "from sklearn.decomposition import PCA\n",
    "import pandas as pd\n",
    "import pysindy as ps\n",
    "from lr_ed import localreg\n",
    "from datetime import datetime\n",
    "from scipy.fft import fft, fftfreq,rfft2\n",
    "\n",
    "import scipy.signal as signal\n",
    "from obspy.signal import filter as obsfilt\n",
    "import glob\n"
   ]
  },
  {
   "cell_type": "code",
   "execution_count": 2,
   "id": "6d6928da",
   "metadata": {},
   "outputs": [],
   "source": [
    "WEAK = False\n",
    "\n",
    "x_len = 5000\n",
    "t_len = 6000\n",
    "\n",
    "xs = np.arange(x_len)\n",
    "dt = 1\n",
    "\n",
    "library_functions = [lambda x: x, lambda x: x * x]\n",
    "library_function_names = [lambda x: x, lambda x: x + x]  \n",
    "\n",
    "if WEAK:\n",
    "    X, T = np.meshgrid(xs, np.arange(t_len))\n",
    "    XT = np.asarray([X, T]).T\n",
    "\n",
    "    pde_lib = ps.WeakPDELibrary(\n",
    "        library_functions=library_functions,\n",
    "        function_names=library_function_names,\n",
    "        derivative_order=4,\n",
    "        spatiotemporal_grid=XT,\n",
    "        is_uniform=True,\n",
    "        K=1000,\n",
    "    )\n",
    "else:\n",
    "    \n",
    "    pde_lib = ps.PDELibrary(\n",
    "        library_functions=library_functions,\n",
    "        function_names=library_function_names,\n",
    "        derivative_order=4,\n",
    "        spatial_grid=xs,\n",
    "        include_bias=True,\n",
    "        is_uniform=True,\n",
    "    )\n",
    "    "
   ]
  },
  {
   "cell_type": "code",
   "execution_count": 3,
   "id": "6996b9e0",
   "metadata": {},
   "outputs": [],
   "source": [
    "def printEnsemble(model, cut_off = 1e-3, median= False):\n",
    "    if median:\n",
    "        coefs = np.median(model.coef_list, axis=0)[0,:]\n",
    "    else:\n",
    "        coefs = np.mean(model.coef_list, axis=0)[0,:]\n",
    "    above_cut_off = np.argwhere(np.abs(coefs)>cut_off).flatten()\n",
    "    features =  model.get_feature_names()\n",
    "    equation_str= \"(x0)' = \"\n",
    "    for count, val in enumerate(above_cut_off):\n",
    "        if count >0:\n",
    "            equation_str+=\" + \"\n",
    "        equation_str+= \"{0:.4f}\".format(coefs[val])\n",
    "        equation_str+= \" \"+features[val]\n",
    "        \n",
    "    print(equation_str)"
   ]
  },
  {
   "cell_type": "code",
   "execution_count": 4,
   "id": "611e33ce",
   "metadata": {},
   "outputs": [],
   "source": [
    "def saveEnsemble(model,fileStr,thresh):\n",
    "    np.save(\"/home/ldoyle/notebooks/ensembleSINDyArrays_50/\"+fileStr+\"_thresh_\"+\"{:.2E}\".format(thresh), model.coef_list)\n",
    "#     print(fileStr+\"_thresh_\"+\"{:.2E}\".format(thresh))"
   ]
  },
  {
   "cell_type": "code",
   "execution_count": 5,
   "id": "72a88349",
   "metadata": {},
   "outputs": [],
   "source": [
    "def SINDyImplementEnsemble(dataset, fileStr,thresh, alph=0.001, n_models=30, time_steps=400, stlsq_max =100,median=True):\n",
    "    optimizer = ps.STLSQ(threshold=thresh, alpha=alph, max_iter=stlsq_max)\n",
    "#     optimizer = ps.EnsembleOptimizer( opt=ps.STLSQ(threshold=thresh, alpha=alph, max_iter=stlsq_max),bagging=True,  n_models = n_models,n_subset =time_steps)  \n",
    "    model = ps.SINDy(feature_library=pde_lib, optimizer=optimizer, \n",
    "                     differentiation_method= ps.differentiation.SmoothedFiniteDifference())\n",
    "    model.fit(dataset, t=dt,ensemble=True, n_models=n_models, n_subset=time_steps)\n",
    "    print(\"Ensemble STLSQ with Threshold \"+str(thresh))\n",
    "    printEnsemble(model,median=median)\n",
    "    saveEnsemble(model,fileStr,thresh)"
   ]
  },
  {
   "cell_type": "markdown",
   "id": "f60a6d9e",
   "metadata": {},
   "source": [
    "## Unfiltered"
   ]
  },
  {
   "cell_type": "markdown",
   "id": "441917af",
   "metadata": {},
   "source": [
    "### Dataset 1"
   ]
  },
  {
   "cell_type": "code",
   "execution_count": 6,
   "id": "bf4688d7",
   "metadata": {},
   "outputs": [],
   "source": [
    "path = \"/data/data2/south-data-ejm/hdd/South-C1-LR-95km-P1kHz-GL50m-SP2m-FS200Hz_2021-11-01T16_09_15-0700/\"\n",
    "\n",
    "fileStr = \"2021-11-01T2311_unfiltered\"\n",
    "\n",
    "init = 11\n",
    "final= 16\n",
    "\n",
    "time_subsample = 10\n",
    "full_dat = np.zeros((5000,(12000//time_subsample)*(final-init)))\n",
    "\n",
    "k = 0\n",
    "for i in np.arange(init,final):\n",
    "    file = \"South-C1-LR-95km-P1kHz-GL50m-SP2m-FS200Hz_2021-11-01T23\"+str(i)+\"14Z.h5\"\n",
    "    f = h5py.File(path+file, 'r')\n",
    "    data = f['Acquisition']['Raw[0]']['RawData'][:, :].astype('int64')\n",
    "#     timestamp = f['Acquisition']['Raw[0]']['RawDataTime'][:] / 1000000\n",
    "    f.close()\n",
    "    \n",
    "    full_dat[:,k*(12000//time_subsample):(k+1)*(12000//time_subsample)] = data[7500:12500,::time_subsample]\n",
    "    k+=1\n",
    "    \n",
    "working_dat = full_dat/np.std(full_dat)\n"
   ]
  },
  {
   "cell_type": "code",
   "execution_count": 7,
   "id": "14da64f2",
   "metadata": {},
   "outputs": [],
   "source": [
    "working_dat = working_dat.reshape(working_dat.shape[0],working_dat.shape[1],1)\n"
   ]
  },
  {
   "cell_type": "code",
   "execution_count": 8,
   "id": "29e5be5a",
   "metadata": {},
   "outputs": [
    {
     "name": "stdout",
     "output_type": "stream",
     "text": [
      "Ensemble STLSQ with Threshold 0.1\n",
      "(x0)' = 0.6433 x0_1 + 0.3577 x0_111\n"
     ]
    }
   ],
   "source": [
    "thresh = 1.e-1\n",
    "SINDyImplementEnsemble(working_dat, fileStr,thresh)"
   ]
  },
  {
   "cell_type": "code",
   "execution_count": 9,
   "id": "2a73781d",
   "metadata": {},
   "outputs": [
    {
     "name": "stdout",
     "output_type": "stream",
     "text": [
      "Ensemble STLSQ with Threshold 0.01\n",
      "(x0)' = 0.6425 x0_1 + 0.3456 x0_111\n"
     ]
    }
   ],
   "source": [
    "thresh = 1.e-2\n",
    "SINDyImplementEnsemble(working_dat, fileStr,thresh)"
   ]
  },
  {
   "cell_type": "code",
   "execution_count": 10,
   "id": "fb39c35d",
   "metadata": {},
   "outputs": [
    {
     "name": "stdout",
     "output_type": "stream",
     "text": [
      "Ensemble STLSQ with Threshold 0.005\n",
      "(x0)' = 0.6238 x0_1 + 0.3505 x0_111 + 0.0086 x0x0_1 + 0.0101 x0x0x0_1 + -0.0039 x0x0_111 + 0.0031 x0x0x0_111\n"
     ]
    }
   ],
   "source": [
    "thresh = 5e-3\n",
    "SINDyImplementEnsemble(working_dat, fileStr,thresh)"
   ]
  },
  {
   "cell_type": "code",
   "execution_count": 11,
   "id": "bb6a744c",
   "metadata": {},
   "outputs": [
    {
     "name": "stdout",
     "output_type": "stream",
     "text": [
      "Ensemble STLSQ with Threshold 0.003\n",
      "(x0)' = 0.6439 x0_1 + -0.0073 x0_11 + 0.3587 x0_111 + -0.0024 x0_1111 + 0.0160 x0x0_1 + -0.0042 x0x0_11 + 0.0020 x0x0_111\n"
     ]
    }
   ],
   "source": [
    "thresh = 3e-3\n",
    "SINDyImplementEnsemble(working_dat, fileStr,thresh)"
   ]
  },
  {
   "cell_type": "code",
   "execution_count": 12,
   "id": "25a04b5a",
   "metadata": {},
   "outputs": [
    {
     "name": "stdout",
     "output_type": "stream",
     "text": [
      "Ensemble STLSQ with Threshold 0.001\n",
      "(x0)' = 0.0014 1 + -0.0029 x0 + 0.6400 x0_1 + 0.0075 x0_11 + 0.3563 x0_111 + 0.0016 x0_1111 + 0.0035 x0x0_1 + 0.0108 x0x0x0_1 + -0.0104 x0x0_11 + -0.0048 x0x0x0_11 + 0.0010 x0x0_111 + 0.0046 x0x0x0_111 + -0.0042 x0x0_1111 + -0.0021 x0x0x0_1111\n"
     ]
    }
   ],
   "source": [
    "thresh = 1e-3\n",
    "SINDyImplementEnsemble(working_dat, fileStr,thresh)"
   ]
  },
  {
   "cell_type": "markdown",
   "id": "dfcc7346",
   "metadata": {},
   "source": [
    "### Dataset 2"
   ]
  },
  {
   "cell_type": "code",
   "execution_count": 13,
   "id": "742af94a",
   "metadata": {},
   "outputs": [],
   "source": [
    "time_subsample = 10\n",
    "full_dat = np.zeros((5000,6000))\n",
    "fileStr = \"2021-11-01T2321_unfiltered\"\n",
    "\n",
    "\n",
    "k = 0\n",
    "for i in np.arange(21,26):\n",
    "    file = \"South-C1-LR-95km-P1kHz-GL50m-SP2m-FS200Hz_2021-11-01T23\"+str(i)+\"14Z.h5\"\n",
    "    f = h5py.File(path+file, 'r')\n",
    "    data = f['Acquisition']['Raw[0]']['RawData'][:, :].astype('int64')\n",
    "#     timestamp = f['Acquisition']['Raw[0]']['RawDataTime'][:] / 1000000\n",
    "    f.close()\n",
    "    \n",
    "    full_dat[:,k*(12000//time_subsample):(k+1)*(12000//time_subsample)] = data[7500:12500,::time_subsample]\n",
    "    k+=1\n",
    "    \n"
   ]
  },
  {
   "cell_type": "code",
   "execution_count": 14,
   "id": "89c6014e",
   "metadata": {},
   "outputs": [],
   "source": [
    "working_dat = full_dat/np.std(full_dat)#*10**6\n",
    "working_dat = working_dat.reshape(working_dat.shape[0],working_dat.shape[1],1)\n"
   ]
  },
  {
   "cell_type": "code",
   "execution_count": 15,
   "id": "0b9f21c0",
   "metadata": {},
   "outputs": [
    {
     "name": "stdout",
     "output_type": "stream",
     "text": [
      "Ensemble STLSQ with Threshold 0.1\n",
      "(x0)' = 0.6695 x0_1 + 0.3843 x0_111\n"
     ]
    }
   ],
   "source": [
    "thresh = 1.e-1\n",
    "SINDyImplementEnsemble(working_dat, fileStr,thresh)"
   ]
  },
  {
   "cell_type": "code",
   "execution_count": 16,
   "id": "a4744407",
   "metadata": {},
   "outputs": [
    {
     "name": "stdout",
     "output_type": "stream",
     "text": [
      "Ensemble STLSQ with Threshold 0.01\n",
      "(x0)' = 0.6617 x0_1 + 0.3828 x0_111\n"
     ]
    }
   ],
   "source": [
    "thresh = 1.e-2\n",
    "SINDyImplementEnsemble(working_dat, fileStr,thresh)"
   ]
  },
  {
   "cell_type": "code",
   "execution_count": 17,
   "id": "9c051eab",
   "metadata": {},
   "outputs": [
    {
     "name": "stdout",
     "output_type": "stream",
     "text": [
      "Ensemble STLSQ with Threshold 0.005\n",
      "(x0)' = 0.6690 x0_1 + -0.0099 x0_11 + 0.3735 x0_111 + -0.0033 x0x0_11 + -0.0088 x0x0_111 + 0.0085 x0x0x0_111\n"
     ]
    }
   ],
   "source": [
    "thresh = 5e-3\n",
    "SINDyImplementEnsemble(working_dat, fileStr,thresh)"
   ]
  },
  {
   "cell_type": "code",
   "execution_count": 18,
   "id": "078b7f6c",
   "metadata": {},
   "outputs": [
    {
     "name": "stdout",
     "output_type": "stream",
     "text": [
      "Ensemble STLSQ with Threshold 0.003\n",
      "(x0)' = 0.6562 x0_1 + -0.0108 x0_11 + 0.3785 x0_111 + -0.0017 x0_1111 + -0.0058 x0x0_1 + 0.0128 x0x0x0_1 + -0.0074 x0x0_11 + 0.0055 x0x0x0_11 + -0.0177 x0x0_111 + 0.0088 x0x0x0_111 + 0.0015 x0x0x0_1111\n"
     ]
    }
   ],
   "source": [
    "thresh = 3e-3\n",
    "SINDyImplementEnsemble(working_dat, fileStr,thresh)"
   ]
  },
  {
   "cell_type": "code",
   "execution_count": 19,
   "id": "84f87ccc",
   "metadata": {},
   "outputs": [
    {
     "name": "stdout",
     "output_type": "stream",
     "text": [
      "Ensemble STLSQ with Threshold 0.001\n",
      "(x0)' = -0.0010 1 + 0.0041 x0 + -0.0046 x0x0 + 0.6563 x0_1 + -0.0117 x0_11 + 0.3768 x0_111 + -0.0052 x0_1111 + -0.0060 x0x0_1 + 0.0068 x0x0x0_1 + -0.0071 x0x0_11 + 0.0068 x0x0x0_11 + -0.0112 x0x0_111 + 0.0088 x0x0x0_111 + -0.0020 x0x0_1111 + 0.0023 x0x0x0_1111\n"
     ]
    }
   ],
   "source": [
    "thresh = 1e-3\n",
    "SINDyImplementEnsemble(working_dat, fileStr,thresh)"
   ]
  },
  {
   "cell_type": "markdown",
   "id": "8d0d6037",
   "metadata": {},
   "source": [
    "## Drift Removal Load"
   ]
  },
  {
   "cell_type": "markdown",
   "id": "b1c178ed",
   "metadata": {},
   "source": [
    "### Dataset 1"
   ]
  },
  {
   "cell_type": "code",
   "execution_count": 7,
   "id": "cbf0347e",
   "metadata": {},
   "outputs": [],
   "source": [
    "fileStr = \"2021-11-01T2311_normal\"\n",
    "\n",
    "working_dat = np.load(\"/home/ldoyle/notebooks/channel_drift_5_min_clips/normalized_5_min_start_South-C1-LR-95km-P1kHz-GL50m-SP2m-FS200Hz_2021-11-01T231114Z.npy\")[:,::10]\n",
    "scaler_val = np.std(working_dat)\n",
    "working_dat = working_dat/scaler_val\n",
    "working_dat = working_dat.reshape(working_dat.shape[0],working_dat.shape[1],1)\n"
   ]
  },
  {
   "cell_type": "code",
   "execution_count": 9,
   "id": "a8e0dbae",
   "metadata": {},
   "outputs": [
    {
     "name": "stdout",
     "output_type": "stream",
     "text": [
      "Ensemble STLSQ with Threshold 0.1\n",
      "(x0)' = 0.6939 x0_1 + 0.3295 x0_111\n"
     ]
    }
   ],
   "source": [
    "thresh = 1e-1\n",
    "SINDyImplementEnsemble(working_dat, fileStr,thresh)"
   ]
  },
  {
   "cell_type": "code",
   "execution_count": 14,
   "id": "40abbffc",
   "metadata": {},
   "outputs": [
    {
     "name": "stdout",
     "output_type": "stream",
     "text": [
      "Ensemble STLSQ with Threshold 0.05\n",
      "(x0)' = 0.6836 x0_1 + 0.3212 x0_111\n"
     ]
    }
   ],
   "source": [
    "thresh = 5e-2\n",
    "SINDyImplementEnsemble(working_dat, fileStr,thresh)"
   ]
  },
  {
   "cell_type": "code",
   "execution_count": 10,
   "id": "8961e0ce",
   "metadata": {},
   "outputs": [
    {
     "name": "stdout",
     "output_type": "stream",
     "text": [
      "Ensemble STLSQ with Threshold 0.01\n",
      "(x0)' = 0.7132 x0_1 + 0.3440 x0_111 + -0.0163 x0x0x0_1 + -0.0051 x0x0x0_111\n"
     ]
    }
   ],
   "source": [
    "thresh = 1e-2\n",
    "SINDyImplementEnsemble(working_dat, fileStr,thresh)"
   ]
  },
  {
   "cell_type": "code",
   "execution_count": 11,
   "id": "d9b805d7",
   "metadata": {},
   "outputs": [
    {
     "name": "stdout",
     "output_type": "stream",
     "text": [
      "Ensemble STLSQ with Threshold 0.005\n",
      "(x0)' = 0.7093 x0_1 + 0.0083 x0_11 + 0.3323 x0_111 + -0.0102 x0x0x0_1 + -0.0096 x0x0x0_111\n"
     ]
    }
   ],
   "source": [
    "thresh = 5e-3\n",
    "SINDyImplementEnsemble(working_dat, fileStr,thresh)"
   ]
  },
  {
   "cell_type": "code",
   "execution_count": 13,
   "id": "5731cbe2",
   "metadata": {},
   "outputs": [
    {
     "name": "stdout",
     "output_type": "stream",
     "text": [
      "Ensemble STLSQ with Threshold 0.001\n",
      "(x0)' = 0.7027 x0_1 + 0.3333 x0_111 + 0.0104 x0x0_1 + -0.0084 x0x0x0_1 + -0.0059 x0x0x0_111 + 0.0018 x0x0_1111\n"
     ]
    }
   ],
   "source": [
    "thresh = 1e-3\n",
    "SINDyImplementEnsemble(working_dat, fileStr,thresh)"
   ]
  },
  {
   "cell_type": "markdown",
   "id": "331f62c6",
   "metadata": {},
   "source": [
    "### Dataset 2"
   ]
  },
  {
   "cell_type": "code",
   "execution_count": 15,
   "id": "12a8e7b0",
   "metadata": {},
   "outputs": [],
   "source": [
    "fileStr = \"2021-11-01T2321_normal\"\n",
    "\n",
    "working_dat = np.load(\"/home/ldoyle/notebooks/channel_drift_5_min_clips/normalized_5_min_start_South-C1-LR-95km-P1kHz-GL50m-SP2m-FS200Hz_2021-11-01T232114Z.npy\")[:,::10]\n",
    "scaler_val = np.std(working_dat)\n",
    "working_dat = working_dat/scaler_val\n",
    "working_dat = working_dat.reshape(working_dat.shape[0],working_dat.shape[1],1)\n"
   ]
  },
  {
   "cell_type": "code",
   "execution_count": 16,
   "id": "e408ed3b",
   "metadata": {},
   "outputs": [
    {
     "name": "stdout",
     "output_type": "stream",
     "text": [
      "Ensemble STLSQ with Threshold 0.1\n",
      "(x0)' = 0.6659 x0_1 + 0.3176 x0_111\n"
     ]
    }
   ],
   "source": [
    "thresh = 1e-1\n",
    "SINDyImplementEnsemble(working_dat, fileStr,thresh)"
   ]
  },
  {
   "cell_type": "code",
   "execution_count": 17,
   "id": "320daec9",
   "metadata": {},
   "outputs": [
    {
     "name": "stdout",
     "output_type": "stream",
     "text": [
      "Ensemble STLSQ with Threshold 0.05\n",
      "(x0)' = 0.6857 x0_1 + 0.3270 x0_111\n"
     ]
    }
   ],
   "source": [
    "thresh = 5e-2\n",
    "SINDyImplementEnsemble(working_dat, fileStr,thresh)"
   ]
  },
  {
   "cell_type": "code",
   "execution_count": 18,
   "id": "1717834c",
   "metadata": {},
   "outputs": [
    {
     "name": "stdout",
     "output_type": "stream",
     "text": [
      "Ensemble STLSQ with Threshold 0.01\n",
      "(x0)' = 0.6808 x0_1 + 0.3222 x0_111\n"
     ]
    }
   ],
   "source": [
    "thresh = 1e-2\n",
    "SINDyImplementEnsemble(working_dat, fileStr,thresh)"
   ]
  },
  {
   "cell_type": "code",
   "execution_count": 19,
   "id": "37eb3f6c",
   "metadata": {},
   "outputs": [
    {
     "name": "stdout",
     "output_type": "stream",
     "text": [
      "Ensemble STLSQ with Threshold 0.005\n",
      "(x0)' = 0.6768 x0_1 + 0.3100 x0_111 + 0.0092 x0x0_1 + 0.0069 x0x0_111\n"
     ]
    }
   ],
   "source": [
    "thresh = 5e-3\n",
    "SINDyImplementEnsemble(working_dat, fileStr,thresh)"
   ]
  },
  {
   "cell_type": "code",
   "execution_count": 20,
   "id": "c63d705b",
   "metadata": {},
   "outputs": [
    {
     "name": "stdout",
     "output_type": "stream",
     "text": [
      "Ensemble STLSQ with Threshold 0.001\n",
      "(x0)' = 0.6867 x0_1 + 0.0102 x0_11 + 0.3169 x0_111 + 0.0033 x0_1111 + -0.0142 x0x0_1 + -0.0042 x0x0_11 + -0.0166 x0x0x0_11 + -0.0041 x0x0_111 + -0.0021 x0x0_1111 + -0.0045 x0x0x0_1111\n"
     ]
    }
   ],
   "source": [
    "thresh = 1e-3\n",
    "SINDyImplementEnsemble(working_dat, fileStr,thresh)"
   ]
  },
  {
   "cell_type": "markdown",
   "id": "ef3fbbe0",
   "metadata": {},
   "source": [
    "### Dataset 3"
   ]
  },
  {
   "cell_type": "code",
   "execution_count": 21,
   "id": "6bfb3c54",
   "metadata": {},
   "outputs": [],
   "source": [
    "fileStr = \"2021-11-02T0511_normal\"\n",
    "\n",
    "working_dat = np.load(\"/home/ldoyle/notebooks/channel_drift_5_min_clips/normalized_5_min_start_South-C1-LR-95km-P1kHz-GL50m-SP2m-FS200Hz_2021-11-02T051114Z.npy\")[:,::10]\n",
    "scaler_val = np.std(working_dat)\n",
    "working_dat = working_dat/scaler_val\n",
    "working_dat = working_dat.reshape(working_dat.shape[0],working_dat.shape[1],1)\n"
   ]
  },
  {
   "cell_type": "code",
   "execution_count": 22,
   "id": "7dec3790",
   "metadata": {
    "scrolled": true
   },
   "outputs": [
    {
     "name": "stdout",
     "output_type": "stream",
     "text": [
      "Ensemble STLSQ with Threshold 0.1\n",
      "(x0)' = 0.6758 x0_1 + 0.3260 x0_111\n"
     ]
    }
   ],
   "source": [
    "thresh = 1e-1\n",
    "SINDyImplementEnsemble(working_dat, fileStr,thresh)"
   ]
  },
  {
   "cell_type": "code",
   "execution_count": 23,
   "id": "e8c98caf",
   "metadata": {},
   "outputs": [
    {
     "name": "stdout",
     "output_type": "stream",
     "text": [
      "Ensemble STLSQ with Threshold 0.05\n",
      "(x0)' = 0.6973 x0_1 + 0.3310 x0_111\n"
     ]
    }
   ],
   "source": [
    "thresh = 5e-2\n",
    "SINDyImplementEnsemble(working_dat, fileStr,thresh)"
   ]
  },
  {
   "cell_type": "code",
   "execution_count": 24,
   "id": "2f91a741",
   "metadata": {},
   "outputs": [
    {
     "name": "stdout",
     "output_type": "stream",
     "text": [
      "Ensemble STLSQ with Threshold 0.01\n",
      "(x0)' = 0.7002 x0_1 + 0.3272 x0_111\n"
     ]
    }
   ],
   "source": [
    "thresh = 1e-2\n",
    "SINDyImplementEnsemble(working_dat, fileStr,thresh)"
   ]
  },
  {
   "cell_type": "code",
   "execution_count": 25,
   "id": "6a3c81ef",
   "metadata": {},
   "outputs": [
    {
     "name": "stdout",
     "output_type": "stream",
     "text": [
      "Ensemble STLSQ with Threshold 0.005\n",
      "(x0)' = 0.6879 x0_1 + 0.3161 x0_111 + 0.0133 x0x0_1 + 0.0029 x0x0_111\n"
     ]
    }
   ],
   "source": [
    "thresh = 5e-3\n",
    "SINDyImplementEnsemble(working_dat, fileStr,thresh)"
   ]
  },
  {
   "cell_type": "code",
   "execution_count": 26,
   "id": "81994fd2",
   "metadata": {},
   "outputs": [
    {
     "name": "stdout",
     "output_type": "stream",
     "text": [
      "Ensemble STLSQ with Threshold 0.001\n",
      "(x0)' = 0.6847 x0_1 + -0.0027 x0_11 + 0.3173 x0_111 + -0.0024 x0_1111 + -0.0052 x0x0_1 + -0.0055 x0x0x0_1 + -0.0050 x0x0_11 + 0.0023 x0x0x0_11 + -0.0059 x0x0_111 + -0.0017 x0x0x0_111\n"
     ]
    }
   ],
   "source": [
    "thresh = 1e-3\n",
    "SINDyImplementEnsemble(working_dat, fileStr,thresh)"
   ]
  },
  {
   "cell_type": "markdown",
   "id": "de977dca",
   "metadata": {},
   "source": [
    "### Dataset 4"
   ]
  },
  {
   "cell_type": "code",
   "execution_count": 27,
   "id": "ad81d789",
   "metadata": {},
   "outputs": [],
   "source": [
    "fileStr = \"2021-11-02T2311_normal\"\n",
    "\n",
    "working_dat = np.load(\"/home/ldoyle/notebooks/channel_drift_5_min_clips/normalized_5_min_start_South-C1-LR-95km-P1kHz-GL50m-SP2m-FS200Hz_2021-11-02T231114Z.npy\")[:,::10]\n",
    "scaler_val = np.std(working_dat)\n",
    "working_dat = working_dat/scaler_val\n",
    "working_dat = working_dat.reshape(working_dat.shape[0],working_dat.shape[1],1)\n"
   ]
  },
  {
   "cell_type": "code",
   "execution_count": 28,
   "id": "a7cbd268",
   "metadata": {},
   "outputs": [
    {
     "name": "stdout",
     "output_type": "stream",
     "text": [
      "Ensemble STLSQ with Threshold 0.1\n",
      "(x0)' = 0.6140 x0_1 + 0.2907 x0_111\n"
     ]
    }
   ],
   "source": [
    "thresh = 1e-1\n",
    "SINDyImplementEnsemble(working_dat, fileStr,thresh)"
   ]
  },
  {
   "cell_type": "code",
   "execution_count": 29,
   "id": "b3c05a31",
   "metadata": {},
   "outputs": [
    {
     "name": "stdout",
     "output_type": "stream",
     "text": [
      "Ensemble STLSQ with Threshold 0.01\n",
      "(x0)' = 0.6234 x0_1 + 0.2926 x0_111 + 0.0211 x0x0_1\n"
     ]
    }
   ],
   "source": [
    "thresh = 1e-2\n",
    "SINDyImplementEnsemble(working_dat, fileStr,thresh)"
   ]
  },
  {
   "cell_type": "code",
   "execution_count": 30,
   "id": "d52e883f",
   "metadata": {},
   "outputs": [
    {
     "name": "stdout",
     "output_type": "stream",
     "text": [
      "Ensemble STLSQ with Threshold 0.005\n",
      "(x0)' = 0.6369 x0_1 + 0.3017 x0_111 + -0.0161 x0x0x0_1 + -0.0070 x0x0x0_111\n"
     ]
    }
   ],
   "source": [
    "thresh = 5e-3\n",
    "SINDyImplementEnsemble(working_dat, fileStr,thresh)"
   ]
  },
  {
   "cell_type": "code",
   "execution_count": 31,
   "id": "456e216f",
   "metadata": {
    "scrolled": true
   },
   "outputs": [
    {
     "name": "stdout",
     "output_type": "stream",
     "text": [
      "Ensemble STLSQ with Threshold 0.003\n",
      "(x0)' = 0.6159 x0_1 + 0.2876 x0_111 + 0.0093 x0x0_11\n"
     ]
    }
   ],
   "source": [
    "thresh = 3e-3\n",
    "SINDyImplementEnsemble(working_dat, fileStr,thresh)"
   ]
  },
  {
   "cell_type": "code",
   "execution_count": 32,
   "id": "231da378",
   "metadata": {},
   "outputs": [
    {
     "name": "stdout",
     "output_type": "stream",
     "text": [
      "Ensemble STLSQ with Threshold 0.001\n",
      "(x0)' = 0.6127 x0_1 + -0.0103 x0_11 + 0.2838 x0_111 + 0.0147 x0x0_1 + -0.0024 x0x0x0_1 + 0.0018 x0x0_11 + 0.0081 x0x0x0_11 + 0.0043 x0x0_111 + 0.0026 x0x0x0_1111\n"
     ]
    }
   ],
   "source": [
    "thresh = 1e-3\n",
    "SINDyImplementEnsemble(working_dat, fileStr,thresh)"
   ]
  },
  {
   "cell_type": "markdown",
   "id": "9048546b",
   "metadata": {},
   "source": [
    "## Multifilt"
   ]
  },
  {
   "cell_type": "markdown",
   "id": "3d360055",
   "metadata": {},
   "source": [
    "### Dataset 1"
   ]
  },
  {
   "cell_type": "code",
   "execution_count": 20,
   "id": "f0dc58eb",
   "metadata": {},
   "outputs": [],
   "source": [
    "fileStr = \"2021-11-01T2311_smoothed_rad_4\"\n",
    "\n",
    "working_dat = np.load(\"/home/ldoyle/notebooks/channel_drift_5_min_clips/rad_4_smoothed_decimated_normalized_5_min_start_South-C1-LR-95km-P1kHz-GL50m-SP2m-FS200Hz_2021-11-01T231114Z.npy\")\n",
    "scaler_val = np.std(working_dat)\n",
    "working_dat = working_dat/scaler_val\n",
    "working_dat = working_dat.reshape(working_dat.shape[0],working_dat.shape[1],1)\n"
   ]
  },
  {
   "cell_type": "code",
   "execution_count": 34,
   "id": "a99569cb",
   "metadata": {
    "scrolled": true
   },
   "outputs": [
    {
     "name": "stdout",
     "output_type": "stream",
     "text": [
      "Ensemble STLSQ with Threshold 0.1\n",
      "(x0)' = 0.9959 x0_1\n"
     ]
    }
   ],
   "source": [
    "thresh = 1e-1\n",
    "SINDyImplementEnsemble(working_dat, fileStr,thresh)"
   ]
  },
  {
   "cell_type": "code",
   "execution_count": 35,
   "id": "fa209c0e",
   "metadata": {},
   "outputs": [
    {
     "name": "stdout",
     "output_type": "stream",
     "text": [
      "Ensemble STLSQ with Threshold 0.05\n",
      "(x0)' = 0.9969 x0_1 + 0.0869 x0_111 + 0.0632 x0x0x0_111\n"
     ]
    }
   ],
   "source": [
    "thresh = 5e-2\n",
    "SINDyImplementEnsemble(working_dat, fileStr,thresh)"
   ]
  },
  {
   "cell_type": "code",
   "execution_count": 36,
   "id": "eecbd2c9",
   "metadata": {},
   "outputs": [
    {
     "name": "stdout",
     "output_type": "stream",
     "text": [
      "Ensemble STLSQ with Threshold 0.01\n",
      "(x0)' = 0.9971 x0_1 + 0.0827 x0_111 + 0.0636 x0x0x0_111\n"
     ]
    }
   ],
   "source": [
    "thresh = 1e-2\n",
    "SINDyImplementEnsemble(working_dat, fileStr,thresh)"
   ]
  },
  {
   "cell_type": "code",
   "execution_count": 37,
   "id": "4407b1f2",
   "metadata": {
    "scrolled": true
   },
   "outputs": [
    {
     "name": "stdout",
     "output_type": "stream",
     "text": [
      "Ensemble STLSQ with Threshold 0.003\n",
      "(x0)' = 0.9971 x0_1 + 0.0851 x0_111 + 0.0638 x0x0x0_111\n"
     ]
    }
   ],
   "source": [
    "thresh = 3e-3\n",
    "SINDyImplementEnsemble(working_dat, fileStr,thresh)"
   ]
  },
  {
   "cell_type": "code",
   "execution_count": 38,
   "id": "0a272cd3",
   "metadata": {
    "scrolled": true
   },
   "outputs": [
    {
     "name": "stdout",
     "output_type": "stream",
     "text": [
      "Ensemble STLSQ with Threshold 0.001\n",
      "(x0)' = 0.9954 x0_1 + 0.0843 x0_111 + 0.0017 x0x0x0_1 + 0.0015 x0x0_111 + 0.0686 x0x0x0_111\n"
     ]
    }
   ],
   "source": [
    "thresh = 1e-3\n",
    "SINDyImplementEnsemble(working_dat, fileStr,thresh)"
   ]
  },
  {
   "cell_type": "code",
   "execution_count": 21,
   "id": "ace5bbee",
   "metadata": {},
   "outputs": [
    {
     "name": "stdout",
     "output_type": "stream",
     "text": [
      "Ensemble STLSQ with Threshold 0.0005\n",
      "(x0)' = 0.9953 x0_1 + 0.0858 x0_111 + 0.0017 x0x0x0_1 + -0.0015 x0x0_111 + 0.0719 x0x0x0_111\n"
     ]
    }
   ],
   "source": [
    "thresh = 5e-4\n",
    "SINDyImplementEnsemble(working_dat, fileStr,thresh)"
   ]
  },
  {
   "cell_type": "markdown",
   "id": "54b376b3",
   "metadata": {},
   "source": [
    "### Dataset 2"
   ]
  },
  {
   "cell_type": "code",
   "execution_count": 22,
   "id": "6f738683",
   "metadata": {},
   "outputs": [],
   "source": [
    "fileStr = \"2021-11-01T2321_smoothed_rad_4\"\n",
    "\n",
    "working_dat = np.load(\"/home/ldoyle/notebooks/channel_drift_5_min_clips/rad_4_smoothed_decimated_normalized_5_min_start_South-C1-LR-95km-P1kHz-GL50m-SP2m-FS200Hz_2021-11-01T232114Z.npy\")\n",
    "scaler_val = np.std(working_dat)\n",
    "working_dat = working_dat/scaler_val\n",
    "working_dat = working_dat.reshape(working_dat.shape[0],working_dat.shape[1],1)\n"
   ]
  },
  {
   "cell_type": "code",
   "execution_count": 40,
   "id": "21b072a2",
   "metadata": {
    "scrolled": true
   },
   "outputs": [
    {
     "name": "stdout",
     "output_type": "stream",
     "text": [
      "Ensemble STLSQ with Threshold 0.1\n",
      "(x0)' = 0.9964 x0_1\n"
     ]
    }
   ],
   "source": [
    "thresh = 1e-1\n",
    "SINDyImplementEnsemble(working_dat, fileStr,thresh)"
   ]
  },
  {
   "cell_type": "code",
   "execution_count": 41,
   "id": "50be167c",
   "metadata": {},
   "outputs": [
    {
     "name": "stdout",
     "output_type": "stream",
     "text": [
      "Ensemble STLSQ with Threshold 0.05\n",
      "(x0)' = 0.9971 x0_1 + 0.0992 x0_111 + 0.0621 x0x0x0_111\n"
     ]
    }
   ],
   "source": [
    "thresh = 5e-2\n",
    "SINDyImplementEnsemble(working_dat, fileStr,thresh)"
   ]
  },
  {
   "cell_type": "code",
   "execution_count": 42,
   "id": "7bc1b289",
   "metadata": {},
   "outputs": [
    {
     "name": "stdout",
     "output_type": "stream",
     "text": [
      "Ensemble STLSQ with Threshold 0.01\n",
      "(x0)' = 0.9973 x0_1 + 0.0972 x0_111 + 0.0626 x0x0x0_111\n"
     ]
    }
   ],
   "source": [
    "thresh = 1e-2\n",
    "SINDyImplementEnsemble(working_dat, fileStr,thresh)"
   ]
  },
  {
   "cell_type": "code",
   "execution_count": 43,
   "id": "c7742401",
   "metadata": {
    "scrolled": true
   },
   "outputs": [
    {
     "name": "stdout",
     "output_type": "stream",
     "text": [
      "Ensemble STLSQ with Threshold 0.003\n",
      "(x0)' = 0.9974 x0_1 + 0.0976 x0_111 + 0.0640 x0x0x0_111\n"
     ]
    }
   ],
   "source": [
    "thresh = 3e-3\n",
    "SINDyImplementEnsemble(working_dat, fileStr,thresh)"
   ]
  },
  {
   "cell_type": "code",
   "execution_count": 44,
   "id": "f8955106",
   "metadata": {
    "scrolled": true
   },
   "outputs": [
    {
     "name": "stdout",
     "output_type": "stream",
     "text": [
      "Ensemble STLSQ with Threshold 0.001\n",
      "(x0)' = 0.9955 x0_1 + 0.0975 x0_111 + 0.0016 x0x0x0_1 + 0.0654 x0x0x0_111\n"
     ]
    }
   ],
   "source": [
    "thresh = 1e-3\n",
    "SINDyImplementEnsemble(working_dat, fileStr,thresh)"
   ]
  },
  {
   "cell_type": "code",
   "execution_count": 45,
   "id": "cdcce3e4",
   "metadata": {},
   "outputs": [
    {
     "name": "stdout",
     "output_type": "stream",
     "text": [
      "Ensemble STLSQ with Threshold 0.0005\n",
      "(x0)' = 0.9956 x0_1 + -0.0012 x0_11 + 0.0972 x0_111 + 0.0016 x0x0x0_1 + -0.0018 x0x0_111 + 0.0700 x0x0x0_111\n"
     ]
    }
   ],
   "source": [
    "thresh = 5e-4\n",
    "SINDyImplementEnsemble(working_dat, fileStr,thresh)"
   ]
  },
  {
   "cell_type": "markdown",
   "id": "4fcb7abd",
   "metadata": {},
   "source": [
    "### Dataset 3"
   ]
  },
  {
   "cell_type": "code",
   "execution_count": 23,
   "id": "5b5a73fa",
   "metadata": {},
   "outputs": [],
   "source": [
    "fileStr = \"2021-11-02T0511_smoothed_rad_4\"\n",
    "\n",
    "working_dat = np.load(\"/home/ldoyle/notebooks/channel_drift_5_min_clips/rad_4_smoothed_decimated_normalized_5_min_start_South-C1-LR-95km-P1kHz-GL50m-SP2m-FS200Hz_2021-11-02T051114Z.npy\")\n",
    "scaler_val = np.std(working_dat)\n",
    "working_dat = working_dat/scaler_val\n",
    "working_dat = working_dat.reshape(working_dat.shape[0],working_dat.shape[1],1)\n"
   ]
  },
  {
   "cell_type": "code",
   "execution_count": 47,
   "id": "93406e3b",
   "metadata": {
    "scrolled": true
   },
   "outputs": [
    {
     "name": "stdout",
     "output_type": "stream",
     "text": [
      "Ensemble STLSQ with Threshold 0.1\n",
      "(x0)' = 0.9966 x0_1\n"
     ]
    }
   ],
   "source": [
    "thresh = 1e-1\n",
    "SINDyImplementEnsemble(working_dat, fileStr,thresh)"
   ]
  },
  {
   "cell_type": "code",
   "execution_count": 48,
   "id": "ff8b94cb",
   "metadata": {},
   "outputs": [
    {
     "name": "stdout",
     "output_type": "stream",
     "text": [
      "Ensemble STLSQ with Threshold 0.05\n",
      "(x0)' = 0.9968 x0_1 + 0.1074 x0_111 + 0.0525 x0x0x0_111\n"
     ]
    }
   ],
   "source": [
    "thresh = 5e-2\n",
    "SINDyImplementEnsemble(working_dat, fileStr,thresh)"
   ]
  },
  {
   "cell_type": "code",
   "execution_count": 49,
   "id": "bedc5b1e",
   "metadata": {},
   "outputs": [
    {
     "name": "stdout",
     "output_type": "stream",
     "text": [
      "Ensemble STLSQ with Threshold 0.01\n",
      "(x0)' = 0.9976 x0_1 + 0.1035 x0_111 + 0.0557 x0x0x0_111\n"
     ]
    }
   ],
   "source": [
    "thresh = 1e-2\n",
    "SINDyImplementEnsemble(working_dat, fileStr,thresh)"
   ]
  },
  {
   "cell_type": "code",
   "execution_count": 50,
   "id": "33dff4b1",
   "metadata": {
    "scrolled": true
   },
   "outputs": [
    {
     "name": "stdout",
     "output_type": "stream",
     "text": [
      "Ensemble STLSQ with Threshold 0.003\n",
      "(x0)' = 0.9971 x0_1 + 0.1022 x0_111 + 0.0568 x0x0x0_111\n"
     ]
    }
   ],
   "source": [
    "thresh = 3e-3\n",
    "SINDyImplementEnsemble(working_dat, fileStr,thresh)"
   ]
  },
  {
   "cell_type": "code",
   "execution_count": 51,
   "id": "49019b3a",
   "metadata": {
    "scrolled": true
   },
   "outputs": [
    {
     "name": "stdout",
     "output_type": "stream",
     "text": [
      "Ensemble STLSQ with Threshold 0.001\n",
      "(x0)' = 0.9959 x0_1 + 0.1000 x0_111 + 0.0013 x0x0x0_1 + 0.0630 x0x0x0_111\n"
     ]
    }
   ],
   "source": [
    "thresh = 1e-3\n",
    "SINDyImplementEnsemble(working_dat, fileStr,thresh)"
   ]
  },
  {
   "cell_type": "code",
   "execution_count": 24,
   "id": "a506ee1d",
   "metadata": {},
   "outputs": [
    {
     "name": "stdout",
     "output_type": "stream",
     "text": [
      "Ensemble STLSQ with Threshold 0.0005\n",
      "(x0)' = 0.9959 x0_1 + -0.0023 x0_11 + 0.1032 x0_111 + 0.0013 x0x0x0_1 + 0.0018 x0x0_111 + 0.0637 x0x0x0_111\n"
     ]
    }
   ],
   "source": [
    "thresh = 5e-4\n",
    "SINDyImplementEnsemble(working_dat, fileStr,thresh)"
   ]
  },
  {
   "cell_type": "markdown",
   "id": "5fe692e4",
   "metadata": {},
   "source": [
    "### Dataset 4"
   ]
  },
  {
   "cell_type": "code",
   "execution_count": 25,
   "id": "cc7bac00",
   "metadata": {},
   "outputs": [],
   "source": [
    "fileStr = \"2021-11-02T2311_smoothed_rad_4\"\n",
    "\n",
    "working_dat = np.load(\"/home/ldoyle/notebooks/channel_drift_5_min_clips/rad_4_smoothed_decimated_normalized_5_min_start_South-C1-LR-95km-P1kHz-GL50m-SP2m-FS200Hz_2021-11-02T231114Z.npy\")\n",
    "scaler_val = np.std(working_dat)\n",
    "working_dat = working_dat/scaler_val\n",
    "working_dat = working_dat.reshape(working_dat.shape[0],working_dat.shape[1],1)\n"
   ]
  },
  {
   "cell_type": "code",
   "execution_count": 53,
   "id": "e88cba94",
   "metadata": {
    "scrolled": true
   },
   "outputs": [
    {
     "name": "stdout",
     "output_type": "stream",
     "text": [
      "Ensemble STLSQ with Threshold 0.1\n",
      "(x0)' = 0.9978 x0_1 + 0.2165 x0_111\n"
     ]
    }
   ],
   "source": [
    "thresh = 1e-1\n",
    "SINDyImplementEnsemble(working_dat, fileStr,thresh)"
   ]
  },
  {
   "cell_type": "code",
   "execution_count": 54,
   "id": "d611109d",
   "metadata": {},
   "outputs": [
    {
     "name": "stdout",
     "output_type": "stream",
     "text": [
      "Ensemble STLSQ with Threshold 0.05\n",
      "(x0)' = 0.9982 x0_1 + 0.1826 x0_111 + 0.0607 x0x0x0_111\n"
     ]
    }
   ],
   "source": [
    "thresh = 5e-2\n",
    "SINDyImplementEnsemble(working_dat, fileStr,thresh)"
   ]
  },
  {
   "cell_type": "code",
   "execution_count": 55,
   "id": "8348c4a5",
   "metadata": {},
   "outputs": [
    {
     "name": "stdout",
     "output_type": "stream",
     "text": [
      "Ensemble STLSQ with Threshold 0.01\n",
      "(x0)' = 0.9984 x0_1 + 0.1815 x0_111 + 0.0616 x0x0x0_111\n"
     ]
    }
   ],
   "source": [
    "thresh = 1e-2\n",
    "SINDyImplementEnsemble(working_dat, fileStr,thresh)"
   ]
  },
  {
   "cell_type": "code",
   "execution_count": 56,
   "id": "e9d9fbe6",
   "metadata": {
    "scrolled": true
   },
   "outputs": [
    {
     "name": "stdout",
     "output_type": "stream",
     "text": [
      "Ensemble STLSQ with Threshold 0.003\n",
      "(x0)' = 0.9983 x0_1 + 0.1799 x0_111 + 0.0612 x0x0x0_111\n"
     ]
    }
   ],
   "source": [
    "thresh = 3e-3\n",
    "SINDyImplementEnsemble(working_dat, fileStr,thresh)"
   ]
  },
  {
   "cell_type": "code",
   "execution_count": 57,
   "id": "bd4fe0eb",
   "metadata": {
    "scrolled": true
   },
   "outputs": [
    {
     "name": "stdout",
     "output_type": "stream",
     "text": [
      "Ensemble STLSQ with Threshold 0.001\n",
      "(x0)' = 0.9969 x0_1 + -0.0024 x0_11 + 0.1774 x0_111 + 0.0016 x0x0x0_1 + 0.0709 x0x0x0_111 + -0.0019 x0x0x0_1111\n"
     ]
    }
   ],
   "source": [
    "thresh = 1e-3\n",
    "SINDyImplementEnsemble(working_dat, fileStr,thresh)"
   ]
  },
  {
   "cell_type": "code",
   "execution_count": 26,
   "id": "82a42e70",
   "metadata": {},
   "outputs": [
    {
     "name": "stdout",
     "output_type": "stream",
     "text": [
      "Ensemble STLSQ with Threshold 0.0005\n",
      "(x0)' = 0.9963 x0_1 + -0.0013 x0_11 + 0.1737 x0_111 + 0.0011 x0_1111 + 0.0016 x0x0x0_1 + -0.0040 x0x0_111 + 0.0728 x0x0x0_111 + -0.0011 x0x0_1111\n"
     ]
    }
   ],
   "source": [
    "thresh = 5e-4\n",
    "SINDyImplementEnsemble(working_dat, fileStr,thresh)"
   ]
  },
  {
   "cell_type": "markdown",
   "id": "a2d83d73",
   "metadata": {},
   "source": [
    "## Multifilt (radius 10 smooth)"
   ]
  },
  {
   "cell_type": "markdown",
   "id": "d34d49cc",
   "metadata": {},
   "source": [
    "### Dataset 1"
   ]
  },
  {
   "cell_type": "code",
   "execution_count": 58,
   "id": "4b849399",
   "metadata": {},
   "outputs": [],
   "source": [
    "fileStr = \"2021-11-01T2311_smoothed_rad_10\"\n",
    "\n",
    "working_dat = np.load(\"/home/ldoyle/notebooks/channel_drift_5_min_clips/rad_10_smoothed_decimated_normalized_5_min_start_South-C1-LR-95km-P1kHz-GL50m-SP2m-FS200Hz_2021-11-01T231114Z.npy\")\n",
    "scaler_val = np.std(working_dat)\n",
    "working_dat = working_dat/scaler_val\n",
    "working_dat = working_dat.reshape(working_dat.shape[0],working_dat.shape[1],1)\n"
   ]
  },
  {
   "cell_type": "code",
   "execution_count": 59,
   "id": "43401e43",
   "metadata": {},
   "outputs": [
    {
     "name": "stdout",
     "output_type": "stream",
     "text": [
      "Ensemble STLSQ with Threshold 0.01\n",
      "(x0)' = 0.9975 x0_1\n"
     ]
    }
   ],
   "source": [
    "thresh = 1e-2\n",
    "SINDyImplementEnsemble(working_dat, fileStr,thresh)"
   ]
  },
  {
   "cell_type": "code",
   "execution_count": 60,
   "id": "44352390",
   "metadata": {},
   "outputs": [
    {
     "name": "stdout",
     "output_type": "stream",
     "text": [
      "Ensemble STLSQ with Threshold 0.003\n",
      "(x0)' = 0.9976 x0_1\n"
     ]
    }
   ],
   "source": [
    "thresh = 3e-3\n",
    "SINDyImplementEnsemble(working_dat, fileStr,thresh)"
   ]
  },
  {
   "cell_type": "code",
   "execution_count": 61,
   "id": "e82fff93",
   "metadata": {
    "scrolled": true
   },
   "outputs": [
    {
     "name": "stdout",
     "output_type": "stream",
     "text": [
      "Ensemble STLSQ with Threshold 0.001\n",
      "(x0)' = 0.9962 x0_1 + -0.0011 x0_111 + 0.0016 x0x0x0_1\n"
     ]
    }
   ],
   "source": [
    "thresh = 1e-3\n",
    "SINDyImplementEnsemble(working_dat, fileStr,thresh)"
   ]
  },
  {
   "cell_type": "code",
   "execution_count": 62,
   "id": "d6570c06",
   "metadata": {},
   "outputs": [
    {
     "name": "stdout",
     "output_type": "stream",
     "text": [
      "Ensemble STLSQ with Threshold 0.0001\n",
      "(x0)' = 0.9960 x0_1 + -0.0012 x0_111 + 0.0016 x0x0x0_1\n"
     ]
    }
   ],
   "source": [
    "thresh = 1e-4\n",
    "SINDyImplementEnsemble(working_dat, fileStr,thresh)"
   ]
  },
  {
   "cell_type": "code",
   "execution_count": 63,
   "id": "ed96d81a",
   "metadata": {
    "scrolled": true
   },
   "outputs": [
    {
     "name": "stdout",
     "output_type": "stream",
     "text": [
      "Ensemble STLSQ with Threshold 1e-05\n",
      "(x0)' = 0.9959 x0_1 + -0.0011 x0_111 + 0.0017 x0x0x0_1\n"
     ]
    }
   ],
   "source": [
    "thresh = 1e-5\n",
    "SINDyImplementEnsemble(working_dat, fileStr,thresh)"
   ]
  },
  {
   "cell_type": "markdown",
   "id": "2313d211",
   "metadata": {},
   "source": [
    "### Dataset 2"
   ]
  },
  {
   "cell_type": "code",
   "execution_count": 64,
   "id": "ff6aa87b",
   "metadata": {},
   "outputs": [],
   "source": [
    "fileStr = \"2021-11-01T2321_smoothed_rad_10\"\n",
    "\n",
    "working_dat = np.load(\"/home/ldoyle/notebooks/channel_drift_5_min_clips/rad_10_smoothed_decimated_normalized_5_min_start_South-C1-LR-95km-P1kHz-GL50m-SP2m-FS200Hz_2021-11-01T232114Z.npy\")\n",
    "scaler_val = np.std(working_dat)\n",
    "working_dat = working_dat/scaler_val\n",
    "working_dat = working_dat.reshape(working_dat.shape[0],working_dat.shape[1],1)\n"
   ]
  },
  {
   "cell_type": "code",
   "execution_count": 65,
   "id": "06c687a3",
   "metadata": {},
   "outputs": [
    {
     "name": "stdout",
     "output_type": "stream",
     "text": [
      "Ensemble STLSQ with Threshold 0.01\n",
      "(x0)' = 0.9978 x0_1\n"
     ]
    }
   ],
   "source": [
    "thresh = 1e-2\n",
    "SINDyImplementEnsemble(working_dat, fileStr,thresh)"
   ]
  },
  {
   "cell_type": "code",
   "execution_count": 66,
   "id": "69955810",
   "metadata": {},
   "outputs": [
    {
     "name": "stdout",
     "output_type": "stream",
     "text": [
      "Ensemble STLSQ with Threshold 0.003\n",
      "(x0)' = 0.9977 x0_1\n"
     ]
    }
   ],
   "source": [
    "thresh = 3e-3\n",
    "SINDyImplementEnsemble(working_dat, fileStr,thresh)"
   ]
  },
  {
   "cell_type": "code",
   "execution_count": 67,
   "id": "51d0fe86",
   "metadata": {
    "scrolled": true
   },
   "outputs": [
    {
     "name": "stdout",
     "output_type": "stream",
     "text": [
      "Ensemble STLSQ with Threshold 0.001\n",
      "(x0)' = 0.9965 x0_1 + -0.0014 x0_111 + 0.0013 x0x0x0_1\n"
     ]
    }
   ],
   "source": [
    "thresh = 1e-3\n",
    "SINDyImplementEnsemble(working_dat, fileStr,thresh)"
   ]
  },
  {
   "cell_type": "code",
   "execution_count": 68,
   "id": "f023f5e8",
   "metadata": {},
   "outputs": [
    {
     "name": "stdout",
     "output_type": "stream",
     "text": [
      "Ensemble STLSQ with Threshold 0.0001\n",
      "(x0)' = 0.9966 x0_1 + -0.0014 x0_111 + 0.0012 x0x0x0_1\n"
     ]
    }
   ],
   "source": [
    "thresh = 1e-4\n",
    "SINDyImplementEnsemble(working_dat, fileStr,thresh)"
   ]
  },
  {
   "cell_type": "code",
   "execution_count": 69,
   "id": "0e744e72",
   "metadata": {},
   "outputs": [
    {
     "name": "stdout",
     "output_type": "stream",
     "text": [
      "Ensemble STLSQ with Threshold 1e-05\n",
      "(x0)' = 0.9965 x0_1 + -0.0014 x0_111 + 0.0012 x0x0x0_1\n"
     ]
    }
   ],
   "source": [
    "thresh = 1e-5\n",
    "SINDyImplementEnsemble(working_dat, fileStr,thresh)"
   ]
  },
  {
   "cell_type": "markdown",
   "id": "67765ae0",
   "metadata": {},
   "source": [
    "### Dataset 3"
   ]
  },
  {
   "cell_type": "code",
   "execution_count": 70,
   "id": "25977273",
   "metadata": {},
   "outputs": [],
   "source": [
    "fileStr = \"2021-11-02T0511_smoothed_rad_10\"\n",
    "\n",
    "working_dat = np.load(\"/home/ldoyle/notebooks/channel_drift_5_min_clips/rad_10_smoothed_decimated_normalized_5_min_start_South-C1-LR-95km-P1kHz-GL50m-SP2m-FS200Hz_2021-11-02T051114Z.npy\")\n",
    "scaler_val = np.std(working_dat)\n",
    "working_dat = working_dat/scaler_val\n",
    "working_dat = working_dat.reshape(working_dat.shape[0],working_dat.shape[1],1)\n"
   ]
  },
  {
   "cell_type": "code",
   "execution_count": 71,
   "id": "11e42e7f",
   "metadata": {},
   "outputs": [
    {
     "name": "stdout",
     "output_type": "stream",
     "text": [
      "Ensemble STLSQ with Threshold 0.01\n",
      "(x0)' = 0.9979 x0_1\n"
     ]
    }
   ],
   "source": [
    "thresh = 1e-2\n",
    "SINDyImplementEnsemble(working_dat, fileStr,thresh)"
   ]
  },
  {
   "cell_type": "code",
   "execution_count": 72,
   "id": "3ac69d41",
   "metadata": {},
   "outputs": [
    {
     "name": "stdout",
     "output_type": "stream",
     "text": [
      "Ensemble STLSQ with Threshold 0.003\n",
      "(x0)' = 0.9979 x0_1\n"
     ]
    }
   ],
   "source": [
    "thresh = 3e-3\n",
    "SINDyImplementEnsemble(working_dat, fileStr,thresh)"
   ]
  },
  {
   "cell_type": "code",
   "execution_count": 73,
   "id": "b5720fd9",
   "metadata": {
    "scrolled": true
   },
   "outputs": [
    {
     "name": "stdout",
     "output_type": "stream",
     "text": [
      "Ensemble STLSQ with Threshold 0.001\n",
      "(x0)' = 0.9977 x0_1 + -0.0014 x0_111\n"
     ]
    }
   ],
   "source": [
    "thresh = 1e-3\n",
    "SINDyImplementEnsemble(working_dat, fileStr,thresh)"
   ]
  },
  {
   "cell_type": "code",
   "execution_count": 74,
   "id": "ec80157d",
   "metadata": {},
   "outputs": [
    {
     "name": "stdout",
     "output_type": "stream",
     "text": [
      "Ensemble STLSQ with Threshold 0.0001\n",
      "(x0)' = 0.9970 x0_1 + -0.0013 x0_111\n"
     ]
    }
   ],
   "source": [
    "thresh = 1e-4\n",
    "SINDyImplementEnsemble(working_dat, fileStr,thresh)"
   ]
  },
  {
   "cell_type": "code",
   "execution_count": 75,
   "id": "7dc417ff",
   "metadata": {},
   "outputs": [
    {
     "name": "stdout",
     "output_type": "stream",
     "text": [
      "Ensemble STLSQ with Threshold 1e-05\n",
      "(x0)' = 0.9968 x0_1 + -0.0013 x0_111\n"
     ]
    }
   ],
   "source": [
    "thresh = 1e-5\n",
    "SINDyImplementEnsemble(working_dat, fileStr,thresh)"
   ]
  },
  {
   "cell_type": "markdown",
   "id": "28038fe2",
   "metadata": {},
   "source": [
    "### Dataset 4"
   ]
  },
  {
   "cell_type": "code",
   "execution_count": 76,
   "id": "21f7802e",
   "metadata": {},
   "outputs": [],
   "source": [
    "fileStr = \"2021-11-02T2311_smoothed_rad_10\"\n",
    "\n",
    "working_dat = np.load(\"/home/ldoyle/notebooks/channel_drift_5_min_clips/rad_10_smoothed_decimated_normalized_5_min_start_South-C1-LR-95km-P1kHz-GL50m-SP2m-FS200Hz_2021-11-02T231114Z.npy\")\n",
    "scaler_val = np.std(working_dat)\n",
    "working_dat = working_dat/scaler_val\n",
    "working_dat = working_dat.reshape(working_dat.shape[0],working_dat.shape[1],1)\n"
   ]
  },
  {
   "cell_type": "code",
   "execution_count": 77,
   "id": "a788b2cc",
   "metadata": {},
   "outputs": [
    {
     "name": "stdout",
     "output_type": "stream",
     "text": [
      "Ensemble STLSQ with Threshold 0.01\n",
      "(x0)' = 0.9985 x0_1\n"
     ]
    }
   ],
   "source": [
    "thresh = 1e-2\n",
    "SINDyImplementEnsemble(working_dat, fileStr,thresh)"
   ]
  },
  {
   "cell_type": "code",
   "execution_count": 78,
   "id": "178aba61",
   "metadata": {},
   "outputs": [
    {
     "name": "stdout",
     "output_type": "stream",
     "text": [
      "Ensemble STLSQ with Threshold 0.003\n",
      "(x0)' = 0.9985 x0_1\n"
     ]
    }
   ],
   "source": [
    "thresh = 3e-3\n",
    "SINDyImplementEnsemble(working_dat, fileStr,thresh)"
   ]
  },
  {
   "cell_type": "code",
   "execution_count": 79,
   "id": "c79d1352",
   "metadata": {
    "scrolled": true
   },
   "outputs": [
    {
     "name": "stdout",
     "output_type": "stream",
     "text": [
      "Ensemble STLSQ with Threshold 0.001\n",
      "(x0)' = 0.9985 x0_1 + -0.0021 x0_111\n"
     ]
    }
   ],
   "source": [
    "thresh = 1e-3\n",
    "SINDyImplementEnsemble(working_dat, fileStr,thresh)"
   ]
  },
  {
   "cell_type": "code",
   "execution_count": 80,
   "id": "ac55d6a5",
   "metadata": {},
   "outputs": [
    {
     "name": "stdout",
     "output_type": "stream",
     "text": [
      "Ensemble STLSQ with Threshold 0.0001\n",
      "(x0)' = 0.9978 x0_1 + -0.0020 x0_111\n"
     ]
    }
   ],
   "source": [
    "thresh = 1e-4\n",
    "SINDyImplementEnsemble(working_dat, fileStr,thresh)"
   ]
  },
  {
   "cell_type": "code",
   "execution_count": 81,
   "id": "9f0265f7",
   "metadata": {},
   "outputs": [
    {
     "name": "stdout",
     "output_type": "stream",
     "text": [
      "Ensemble STLSQ with Threshold 1e-05\n",
      "(x0)' = 0.9978 x0_1 + -0.0020 x0_111\n"
     ]
    }
   ],
   "source": [
    "thresh = 1e-5\n",
    "SINDyImplementEnsemble(working_dat, fileStr,thresh)"
   ]
  },
  {
   "cell_type": "code",
   "execution_count": null,
   "id": "fc6b7c9b",
   "metadata": {},
   "outputs": [],
   "source": []
  }
 ],
 "metadata": {
  "kernelspec": {
   "display_name": "Python 3",
   "language": "python",
   "name": "python3"
  },
  "language_info": {
   "codemirror_mode": {
    "name": "ipython",
    "version": 3
   },
   "file_extension": ".py",
   "mimetype": "text/x-python",
   "name": "python",
   "nbconvert_exporter": "python",
   "pygments_lexer": "ipython3",
   "version": "3.9.16"
  }
 },
 "nbformat": 4,
 "nbformat_minor": 5
}
