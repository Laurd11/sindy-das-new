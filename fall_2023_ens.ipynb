{
 "cells": [
  {
   "cell_type": "code",
   "execution_count": 1,
   "id": "f68d15c3",
   "metadata": {},
   "outputs": [],
   "source": [
    "import sys\n",
    "sys.path.insert(0, '/home/ldoyle/packages')\n",
    "import h5py\n",
    "import numpy as np\n",
    "from tqdm import tqdm\n",
    "import matplotlib\n",
    "import matplotlib.dates as mdates\n",
    "import matplotlib.pyplot as plt\n",
    "from sklearn.decomposition import PCA\n",
    "import pandas as pd\n",
    "import pysindy as ps\n",
    "from lr_ed import localreg\n",
    "from datetime import datetime\n",
    "from scipy.fft import fft, fftfreq,rfft2\n",
    "\n",
    "import scipy.signal as signal\n",
    "from obspy.signal import filter as obsfilt\n",
    "import glob\n"
   ]
  },
  {
   "cell_type": "code",
   "execution_count": 2,
   "id": "6d6928da",
   "metadata": {},
   "outputs": [],
   "source": [
    "WEAK = False\n",
    "\n",
    "x_len = 5000\n",
    "t_len = 6000\n",
    "\n",
    "xs = np.arange(x_len)\n",
    "dt = 1\n",
    "\n",
    "library_functions = [lambda x: x, lambda x: x * x]\n",
    "library_function_names = [lambda x: x, lambda x: x + x]  \n",
    "\n",
    "if WEAK:\n",
    "    X, T = np.meshgrid(xs, np.arange(t_len))\n",
    "    XT = np.asarray([X, T]).T\n",
    "\n",
    "    pde_lib = ps.WeakPDELibrary(\n",
    "        library_functions=library_functions,\n",
    "        function_names=library_function_names,\n",
    "        derivative_order=4,\n",
    "        spatiotemporal_grid=XT,\n",
    "        is_uniform=True,\n",
    "        K=1000,\n",
    "    )\n",
    "else:\n",
    "    \n",
    "    pde_lib = ps.PDELibrary(\n",
    "        library_functions=library_functions,\n",
    "        function_names=library_function_names,\n",
    "        derivative_order=4,\n",
    "        spatial_grid=xs,\n",
    "        include_bias=True,\n",
    "        is_uniform=True,\n",
    "    )\n",
    "    "
   ]
  },
  {
   "cell_type": "code",
   "execution_count": 3,
   "id": "6996b9e0",
   "metadata": {},
   "outputs": [],
   "source": [
    "def printEnsemble(model, cut_off = 1e-3, median= False):\n",
    "    if median:\n",
    "        coefs = np.median(model.coef_list, axis=0)[0,:]\n",
    "    else:\n",
    "        coefs = np.mean(model.coef_list, axis=0)[0,:]\n",
    "    above_cut_off = np.argwhere(np.abs(coefs)>cut_off).flatten()\n",
    "    features =  model.get_feature_names()\n",
    "    equation_str= \"(x0)' = \"\n",
    "    for count, val in enumerate(above_cut_off):\n",
    "        if count >0:\n",
    "            equation_str+=\" + \"\n",
    "        equation_str+= \"{0:.4f}\".format(coefs[val])\n",
    "        equation_str+= \" \"+features[val]\n",
    "        \n",
    "    print(equation_str)"
   ]
  },
  {
   "cell_type": "code",
   "execution_count": 4,
   "id": "611e33ce",
   "metadata": {},
   "outputs": [],
   "source": [
    "def saveEnsemble(model,fileStr,thresh):\n",
    "    np.save(\"/home/ldoyle/notebooks/ensembleSINDyArrays_50/\"+fileStr+\"_thresh_\"+\"{:.2E}\".format(thresh), model.coef_list)\n",
    "#     print(fileStr+\"_thresh_\"+\"{:.2E}\".format(thresh))"
   ]
  },
  {
   "cell_type": "code",
   "execution_count": 5,
   "id": "72a88349",
   "metadata": {},
   "outputs": [],
   "source": [
    "def SINDyImplementEnsemble(dataset, fileStr,thresh, alph=0.001, n_models=50, time_steps=200, stlsq_max =100,median=True):\n",
    "    optimizer = ps.STLSQ(threshold=thresh, alpha=alph, max_iter=stlsq_max)\n",
    "#     optimizer = ps.EnsembleOptimizer( opt=ps.STLSQ(threshold=thresh, alpha=alph, max_iter=stlsq_max),bagging=True,  n_models = n_models,n_subset =time_steps)  \n",
    "    model = ps.SINDy(feature_library=pde_lib, optimizer=optimizer, \n",
    "                     differentiation_method= ps.differentiation.SmoothedFiniteDifference())\n",
    "    model.fit(dataset, t=dt,ensemble=True, n_models=n_models, n_subset=time_steps)\n",
    "    print(\"Ensemble STLSQ with Threshold \"+str(thresh))\n",
    "    printEnsemble(model,median=median)\n",
    "    saveEnsemble(model,fileStr,thresh)"
   ]
  },
  {
   "cell_type": "markdown",
   "id": "f60a6d9e",
   "metadata": {},
   "source": [
    "## Unfiltered"
   ]
  },
  {
   "cell_type": "markdown",
   "id": "441917af",
   "metadata": {},
   "source": [
    "### Dataset 1"
   ]
  },
  {
   "cell_type": "code",
   "execution_count": 6,
   "id": "bf4688d7",
   "metadata": {},
   "outputs": [],
   "source": [
    "path = \"/data/data2/south-data-ejm/hdd/South-C1-LR-95km-P1kHz-GL50m-SP2m-FS200Hz_2021-11-01T16_09_15-0700/\"\n",
    "\n",
    "fileStr = \"2021-11-01T2311_unfiltered\"\n",
    "\n",
    "init = 11\n",
    "final= 16\n",
    "\n",
    "time_subsample = 10\n",
    "full_dat = np.zeros((5000,(12000//time_subsample)*(final-init)))\n",
    "\n",
    "k = 0\n",
    "for i in np.arange(init,final):\n",
    "    file = \"South-C1-LR-95km-P1kHz-GL50m-SP2m-FS200Hz_2021-11-01T23\"+str(i)+\"14Z.h5\"\n",
    "    f = h5py.File(path+file, 'r')\n",
    "    data = f['Acquisition']['Raw[0]']['RawData'][:, :].astype('int64')\n",
    "#     timestamp = f['Acquisition']['Raw[0]']['RawDataTime'][:] / 1000000\n",
    "    f.close()\n",
    "    \n",
    "    full_dat[:,k*(12000//time_subsample):(k+1)*(12000//time_subsample)] = data[7500:12500,::time_subsample]\n",
    "    k+=1\n",
    "    \n",
    "working_dat = full_dat/np.std(full_dat)\n"
   ]
  },
  {
   "cell_type": "code",
   "execution_count": 7,
   "id": "14da64f2",
   "metadata": {},
   "outputs": [],
   "source": [
    "working_dat = working_dat.reshape(working_dat.shape[0],working_dat.shape[1],1)\n"
   ]
  },
  {
   "cell_type": "code",
   "execution_count": 8,
   "id": "29e5be5a",
   "metadata": {},
   "outputs": [
    {
     "name": "stdout",
     "output_type": "stream",
     "text": [
      "Ensemble STLSQ with Threshold 0.1\n",
      "(x0)' = 0.6367 x0_1 + 0.3535 x0_111\n"
     ]
    }
   ],
   "source": [
    "thresh = 1.e-1\n",
    "SINDyImplementEnsemble(working_dat, fileStr,thresh)"
   ]
  },
  {
   "cell_type": "code",
   "execution_count": 9,
   "id": "2a73781d",
   "metadata": {},
   "outputs": [
    {
     "name": "stdout",
     "output_type": "stream",
     "text": [
      "Ensemble STLSQ with Threshold 0.01\n",
      "(x0)' = 0.6400 x0_1 + 0.3545 x0_111\n"
     ]
    }
   ],
   "source": [
    "thresh = 1.e-2\n",
    "SINDyImplementEnsemble(working_dat, fileStr,thresh)"
   ]
  },
  {
   "cell_type": "code",
   "execution_count": 10,
   "id": "fb39c35d",
   "metadata": {},
   "outputs": [
    {
     "name": "stdout",
     "output_type": "stream",
     "text": [
      "Ensemble STLSQ with Threshold 0.005\n",
      "(x0)' = 0.6459 x0_1 + 0.3556 x0_111 + 0.0148 x0x0_1\n"
     ]
    }
   ],
   "source": [
    "thresh = 5e-3\n",
    "SINDyImplementEnsemble(working_dat, fileStr,thresh)"
   ]
  },
  {
   "cell_type": "code",
   "execution_count": 11,
   "id": "bb6a744c",
   "metadata": {},
   "outputs": [
    {
     "name": "stdout",
     "output_type": "stream",
     "text": [
      "Ensemble STLSQ with Threshold 0.003\n",
      "(x0)' = 0.6332 x0_1 + 0.0055 x0_11 + 0.3481 x0_111 + 0.0019 x0_1111 + 0.0150 x0x0_1 + 0.0123 x0x0x0_1 + -0.0200 x0x0_11 + 0.0112 x0x0x0_111\n"
     ]
    }
   ],
   "source": [
    "thresh = 3e-3\n",
    "SINDyImplementEnsemble(working_dat, fileStr,thresh)"
   ]
  },
  {
   "cell_type": "code",
   "execution_count": 12,
   "id": "25a04b5a",
   "metadata": {},
   "outputs": [
    {
     "name": "stdout",
     "output_type": "stream",
     "text": [
      "Ensemble STLSQ with Threshold 0.001\n",
      "(x0)' = 0.0018 1 + -0.0015 x0 + 0.6589 x0_1 + -0.0019 x0_11 + 0.3610 x0_111 + 0.0012 x0_1111 + 0.0080 x0x0_1 + 0.0014 x0x0x0_1 + 0.0043 x0x0_11 + -0.0044 x0x0x0_11 + -0.0082 x0x0_111 + 0.0021 x0x0x0_111 + -0.0024 x0x0x0_1111\n"
     ]
    }
   ],
   "source": [
    "thresh = 1e-3\n",
    "SINDyImplementEnsemble(working_dat, fileStr,thresh)"
   ]
  },
  {
   "cell_type": "markdown",
   "id": "dfcc7346",
   "metadata": {},
   "source": [
    "### Dataset 2"
   ]
  },
  {
   "cell_type": "code",
   "execution_count": 13,
   "id": "742af94a",
   "metadata": {},
   "outputs": [],
   "source": [
    "time_subsample = 10\n",
    "full_dat = np.zeros((5000,6000))\n",
    "fileStr = \"2021-11-01T2321_unfiltered\"\n",
    "\n",
    "\n",
    "k = 0\n",
    "for i in np.arange(21,26):\n",
    "    file = \"South-C1-LR-95km-P1kHz-GL50m-SP2m-FS200Hz_2021-11-01T23\"+str(i)+\"14Z.h5\"\n",
    "    f = h5py.File(path+file, 'r')\n",
    "    data = f['Acquisition']['Raw[0]']['RawData'][:, :].astype('int64')\n",
    "#     timestamp = f['Acquisition']['Raw[0]']['RawDataTime'][:] / 1000000\n",
    "    f.close()\n",
    "    \n",
    "    full_dat[:,k*(12000//time_subsample):(k+1)*(12000//time_subsample)] = data[7500:12500,::time_subsample]\n",
    "    k+=1\n",
    "    \n"
   ]
  },
  {
   "cell_type": "code",
   "execution_count": 14,
   "id": "89c6014e",
   "metadata": {},
   "outputs": [],
   "source": [
    "working_dat = full_dat/np.std(full_dat)#*10**6\n",
    "working_dat = working_dat.reshape(working_dat.shape[0],working_dat.shape[1],1)\n"
   ]
  },
  {
   "cell_type": "code",
   "execution_count": 15,
   "id": "0b9f21c0",
   "metadata": {},
   "outputs": [
    {
     "name": "stdout",
     "output_type": "stream",
     "text": [
      "Ensemble STLSQ with Threshold 0.1\n",
      "(x0)' = 0.6766 x0_1 + 0.3854 x0_111\n"
     ]
    }
   ],
   "source": [
    "thresh = 1.e-1\n",
    "SINDyImplementEnsemble(working_dat, fileStr,thresh)"
   ]
  },
  {
   "cell_type": "code",
   "execution_count": 16,
   "id": "a4744407",
   "metadata": {},
   "outputs": [
    {
     "name": "stdout",
     "output_type": "stream",
     "text": [
      "Ensemble STLSQ with Threshold 0.01\n",
      "(x0)' = 0.6654 x0_1 + 0.3921 x0_111\n"
     ]
    }
   ],
   "source": [
    "thresh = 1.e-2\n",
    "SINDyImplementEnsemble(working_dat, fileStr,thresh)"
   ]
  },
  {
   "cell_type": "code",
   "execution_count": 17,
   "id": "9c051eab",
   "metadata": {},
   "outputs": [
    {
     "name": "stdout",
     "output_type": "stream",
     "text": [
      "Ensemble STLSQ with Threshold 0.005\n",
      "(x0)' = 0.6732 x0_1 + -0.0127 x0_11 + 0.3880 x0_111 + -0.0027 x0_1111 + 0.0057 x0x0x0_111\n"
     ]
    }
   ],
   "source": [
    "thresh = 5e-3\n",
    "SINDyImplementEnsemble(working_dat, fileStr,thresh)"
   ]
  },
  {
   "cell_type": "code",
   "execution_count": 18,
   "id": "078b7f6c",
   "metadata": {},
   "outputs": [
    {
     "name": "stdout",
     "output_type": "stream",
     "text": [
      "Ensemble STLSQ with Threshold 0.003\n",
      "(x0)' = -0.0072 x0x0 + 0.6705 x0_1 + -0.0113 x0_11 + 0.3812 x0_111 + -0.0015 x0_1111 + 0.0026 x0x0x0_1 + -0.0087 x0x0_11 + 0.0050 x0x0x0_11 + -0.0147 x0x0_111 + 0.0062 x0x0x0_111 + -0.0019 x0x0_1111\n"
     ]
    }
   ],
   "source": [
    "thresh = 3e-3\n",
    "SINDyImplementEnsemble(working_dat, fileStr,thresh)"
   ]
  },
  {
   "cell_type": "code",
   "execution_count": 19,
   "id": "84f87ccc",
   "metadata": {},
   "outputs": [
    {
     "name": "stdout",
     "output_type": "stream",
     "text": [
      "Ensemble STLSQ with Threshold 0.001\n",
      "(x0)' = 0.0014 1 + 0.0011 x0 + -0.0053 x0x0 + 0.6699 x0_1 + 0.0021 x0_11 + 0.3795 x0_111 + -0.0065 x0x0_1 + 0.0032 x0x0x0_1 + 0.0042 x0x0x0_11 + -0.0096 x0x0_111 + 0.0014 x0x0x0_111 + 0.0017 x0x0_1111 + 0.0028 x0x0x0_1111\n"
     ]
    }
   ],
   "source": [
    "thresh = 1e-3\n",
    "SINDyImplementEnsemble(working_dat, fileStr,thresh)"
   ]
  },
  {
   "cell_type": "markdown",
   "id": "8d0d6037",
   "metadata": {},
   "source": [
    "## Drift Removal Load"
   ]
  },
  {
   "cell_type": "markdown",
   "id": "b1c178ed",
   "metadata": {},
   "source": [
    "### Dataset 1"
   ]
  },
  {
   "cell_type": "code",
   "execution_count": 6,
   "id": "cbf0347e",
   "metadata": {},
   "outputs": [],
   "source": [
    "fileStr = \"2021-11-01T2311_normal\"\n",
    "\n",
    "working_dat = np.load(\"/home/ldoyle/notebooks/channel_drift_5_min_clips/normalized_5_min_start_South-C1-LR-95km-P1kHz-GL50m-SP2m-FS200Hz_2021-11-01T231114Z.npy\")[:,::10]\n",
    "scaler_val = np.std(working_dat)\n",
    "working_dat = working_dat/scaler_val\n",
    "working_dat = working_dat.reshape(working_dat.shape[0],working_dat.shape[1],1)\n"
   ]
  },
  {
   "cell_type": "code",
   "execution_count": 7,
   "id": "a8e0dbae",
   "metadata": {},
   "outputs": [
    {
     "name": "stdout",
     "output_type": "stream",
     "text": [
      "Ensemble STLSQ with Threshold 0.1\n",
      "(x0)' = 0.7000 x0_1 + 0.3278 x0_111\n"
     ]
    }
   ],
   "source": [
    "thresh = 1e-1\n",
    "SINDyImplementEnsemble(working_dat, fileStr,thresh)"
   ]
  },
  {
   "cell_type": "code",
   "execution_count": 8,
   "id": "8961e0ce",
   "metadata": {},
   "outputs": [
    {
     "name": "stdout",
     "output_type": "stream",
     "text": [
      "Ensemble STLSQ with Threshold 0.01\n",
      "(x0)' = 0.6960 x0_1 + 0.3407 x0_111 + -0.0195 x0x0x0_1\n"
     ]
    }
   ],
   "source": [
    "thresh = 1e-2\n",
    "SINDyImplementEnsemble(working_dat, fileStr,thresh)"
   ]
  },
  {
   "cell_type": "code",
   "execution_count": 11,
   "id": "d9b805d7",
   "metadata": {},
   "outputs": [
    {
     "name": "stdout",
     "output_type": "stream",
     "text": [
      "Ensemble STLSQ with Threshold 0.005\n",
      "(x0)' = 0.7027 x0_1 + 0.0143 x0_11 + 0.3393 x0_111 + -0.0097 x0x0x0_1 + -0.0078 x0x0x0_111\n"
     ]
    }
   ],
   "source": [
    "thresh = 5e-3\n",
    "SINDyImplementEnsemble(working_dat, fileStr,thresh)"
   ]
  },
  {
   "cell_type": "code",
   "execution_count": 9,
   "id": "5e60b63a",
   "metadata": {
    "scrolled": true
   },
   "outputs": [
    {
     "name": "stdout",
     "output_type": "stream",
     "text": [
      "Ensemble STLSQ with Threshold 0.003\n",
      "(x0)' = 0.6934 x0_1 + 0.0018 x0_11 + 0.3269 x0_111 + 0.0165 x0x0_1 + -0.0118 x0x0x0_1 + 0.0045 x0x0_111 + -0.0074 x0x0x0_111\n"
     ]
    }
   ],
   "source": [
    "thresh = 3e-3\n",
    "SINDyImplementEnsemble(working_dat, fileStr,thresh)"
   ]
  },
  {
   "cell_type": "code",
   "execution_count": 10,
   "id": "5731cbe2",
   "metadata": {},
   "outputs": [
    {
     "name": "stdout",
     "output_type": "stream",
     "text": [
      "Ensemble STLSQ with Threshold 0.001\n",
      "(x0)' = 0.7187 x0_1 + 0.0058 x0_11 + 0.3341 x0_111 + 0.0018 x0_1111 + 0.0042 x0x0_1 + -0.0228 x0x0x0_1 + -0.0020 x0x0_11 + 0.0107 x0x0x0_11 + 0.0035 x0x0_111 + -0.0083 x0x0x0_111 + -0.0020 x0x0_1111 + 0.0028 x0x0x0_1111\n"
     ]
    }
   ],
   "source": [
    "thresh = 1e-3\n",
    "SINDyImplementEnsemble(working_dat, fileStr,thresh)"
   ]
  },
  {
   "cell_type": "markdown",
   "id": "331f62c6",
   "metadata": {},
   "source": [
    "### Dataset 2"
   ]
  },
  {
   "cell_type": "code",
   "execution_count": 12,
   "id": "12a8e7b0",
   "metadata": {},
   "outputs": [],
   "source": [
    "fileStr = \"2021-11-01T2321_normal\"\n",
    "\n",
    "working_dat = np.load(\"/home/ldoyle/notebooks/channel_drift_5_min_clips/normalized_5_min_start_South-C1-LR-95km-P1kHz-GL50m-SP2m-FS200Hz_2021-11-01T232114Z.npy\")[:,::10]\n",
    "scaler_val = np.std(working_dat)\n",
    "working_dat = working_dat/scaler_val\n",
    "working_dat = working_dat.reshape(working_dat.shape[0],working_dat.shape[1],1)\n"
   ]
  },
  {
   "cell_type": "code",
   "execution_count": 13,
   "id": "721dc241",
   "metadata": {},
   "outputs": [
    {
     "name": "stdout",
     "output_type": "stream",
     "text": [
      "Ensemble STLSQ with Threshold 0.1\n",
      "(x0)' = 0.6663 x0_1 + 0.3045 x0_111\n"
     ]
    }
   ],
   "source": [
    "thresh = 1e-1\n",
    "SINDyImplementEnsemble(working_dat, fileStr,thresh)"
   ]
  },
  {
   "cell_type": "code",
   "execution_count": 14,
   "id": "2c7f6238",
   "metadata": {},
   "outputs": [
    {
     "name": "stdout",
     "output_type": "stream",
     "text": [
      "Ensemble STLSQ with Threshold 0.01\n",
      "(x0)' = 0.6852 x0_1 + 0.3322 x0_111\n"
     ]
    }
   ],
   "source": [
    "thresh = 1e-2\n",
    "SINDyImplementEnsemble(working_dat, fileStr,thresh)"
   ]
  },
  {
   "cell_type": "code",
   "execution_count": 15,
   "id": "d012c54d",
   "metadata": {},
   "outputs": [
    {
     "name": "stdout",
     "output_type": "stream",
     "text": [
      "Ensemble STLSQ with Threshold 0.005\n",
      "(x0)' = 0.6836 x0_1 + 0.3269 x0_111\n"
     ]
    }
   ],
   "source": [
    "thresh = 5e-3\n",
    "SINDyImplementEnsemble(working_dat, fileStr,thresh)"
   ]
  },
  {
   "cell_type": "code",
   "execution_count": 16,
   "id": "eb159659",
   "metadata": {},
   "outputs": [
    {
     "name": "stdout",
     "output_type": "stream",
     "text": [
      "Ensemble STLSQ with Threshold 0.003\n",
      "(x0)' = 0.6725 x0_1 + 0.0098 x0_11 + 0.3158 x0_111 + 0.0022 x0_1111 + 0.0121 x0x0x0_1 + 0.0081 x0x0_111 + 0.0098 x0x0x0_111\n"
     ]
    }
   ],
   "source": [
    "thresh = 3e-3\n",
    "SINDyImplementEnsemble(working_dat, fileStr,thresh)"
   ]
  },
  {
   "cell_type": "code",
   "execution_count": 17,
   "id": "e0cb4532",
   "metadata": {},
   "outputs": [
    {
     "name": "stdout",
     "output_type": "stream",
     "text": [
      "Ensemble STLSQ with Threshold 0.001\n",
      "(x0)' = 0.6696 x0_1 + -0.0069 x0_11 + 0.3162 x0_111 + -0.0029 x0_1111 + 0.0092 x0x0_1 + -0.0031 x0x0x0_11\n"
     ]
    }
   ],
   "source": [
    "thresh = 1e-3\n",
    "SINDyImplementEnsemble(working_dat, fileStr,thresh)"
   ]
  },
  {
   "cell_type": "markdown",
   "id": "ef3fbbe0",
   "metadata": {},
   "source": [
    "### Dataset 3"
   ]
  },
  {
   "cell_type": "code",
   "execution_count": 18,
   "id": "6bfb3c54",
   "metadata": {},
   "outputs": [],
   "source": [
    "fileStr = \"2021-11-02T0511_normal\"\n",
    "\n",
    "working_dat = np.load(\"/home/ldoyle/notebooks/channel_drift_5_min_clips/normalized_5_min_start_South-C1-LR-95km-P1kHz-GL50m-SP2m-FS200Hz_2021-11-02T051114Z.npy\")[:,::10]\n",
    "scaler_val = np.std(working_dat)\n",
    "working_dat = working_dat/scaler_val\n",
    "working_dat = working_dat.reshape(working_dat.shape[0],working_dat.shape[1],1)\n"
   ]
  },
  {
   "cell_type": "code",
   "execution_count": 19,
   "id": "7dec3790",
   "metadata": {
    "scrolled": true
   },
   "outputs": [
    {
     "name": "stdout",
     "output_type": "stream",
     "text": [
      "Ensemble STLSQ with Threshold 0.1\n",
      "(x0)' = 0.6797 x0_1 + 0.3213 x0_111\n"
     ]
    }
   ],
   "source": [
    "thresh = 1e-1\n",
    "SINDyImplementEnsemble(working_dat, fileStr,thresh)"
   ]
  },
  {
   "cell_type": "code",
   "execution_count": 20,
   "id": "2f91a741",
   "metadata": {},
   "outputs": [
    {
     "name": "stdout",
     "output_type": "stream",
     "text": [
      "Ensemble STLSQ with Threshold 0.01\n",
      "(x0)' = 0.6773 x0_1 + 0.3271 x0_111\n"
     ]
    }
   ],
   "source": [
    "thresh = 1e-2\n",
    "SINDyImplementEnsemble(working_dat, fileStr,thresh)"
   ]
  },
  {
   "cell_type": "code",
   "execution_count": 21,
   "id": "6a3c81ef",
   "metadata": {},
   "outputs": [
    {
     "name": "stdout",
     "output_type": "stream",
     "text": [
      "Ensemble STLSQ with Threshold 0.005\n",
      "(x0)' = 0.6950 x0_1 + 0.3280 x0_111\n"
     ]
    }
   ],
   "source": [
    "thresh = 5e-3\n",
    "SINDyImplementEnsemble(working_dat, fileStr,thresh)"
   ]
  },
  {
   "cell_type": "code",
   "execution_count": 22,
   "id": "6e98d25b",
   "metadata": {
    "scrolled": true
   },
   "outputs": [
    {
     "name": "stdout",
     "output_type": "stream",
     "text": [
      "Ensemble STLSQ with Threshold 0.003\n",
      "(x0)' = 0.6946 x0_1 + 0.3322 x0_111 + 0.0019 x0x0_1 + 0.0117 x0x0_11 + 0.0015 x0x0x0_11 + -0.0050 x0x0_111 + 0.0019 x0x0_1111\n"
     ]
    }
   ],
   "source": [
    "thresh = 3e-3\n",
    "SINDyImplementEnsemble(working_dat, fileStr,thresh)"
   ]
  },
  {
   "cell_type": "code",
   "execution_count": 23,
   "id": "81994fd2",
   "metadata": {},
   "outputs": [
    {
     "name": "stdout",
     "output_type": "stream",
     "text": [
      "Ensemble STLSQ with Threshold 0.001\n",
      "(x0)' = 0.6835 x0_1 + 0.0121 x0_11 + 0.3295 x0_111 + 0.0035 x0_1111 + 0.0091 x0x0_1 + -0.0017 x0x0x0_1 + -0.0079 x0x0_11 + -0.0049 x0x0x0_11 + 0.0054 x0x0_111 + -0.0030 x0x0x0_111\n"
     ]
    }
   ],
   "source": [
    "thresh = 1e-3\n",
    "SINDyImplementEnsemble(working_dat, fileStr,thresh)"
   ]
  },
  {
   "cell_type": "markdown",
   "id": "de977dca",
   "metadata": {},
   "source": [
    "### Dataset 4"
   ]
  },
  {
   "cell_type": "code",
   "execution_count": 24,
   "id": "ad81d789",
   "metadata": {},
   "outputs": [],
   "source": [
    "fileStr = \"2021-11-02T2311_normal\"\n",
    "\n",
    "working_dat = np.load(\"/home/ldoyle/notebooks/channel_drift_5_min_clips/normalized_5_min_start_South-C1-LR-95km-P1kHz-GL50m-SP2m-FS200Hz_2021-11-02T231114Z.npy\")[:,::10]\n",
    "scaler_val = np.std(working_dat)\n",
    "working_dat = working_dat/scaler_val\n",
    "working_dat = working_dat.reshape(working_dat.shape[0],working_dat.shape[1],1)\n"
   ]
  },
  {
   "cell_type": "code",
   "execution_count": 25,
   "id": "a7cbd268",
   "metadata": {},
   "outputs": [
    {
     "name": "stdout",
     "output_type": "stream",
     "text": [
      "Ensemble STLSQ with Threshold 0.1\n",
      "(x0)' = 0.6159 x0_1 + 0.2858 x0_111\n"
     ]
    }
   ],
   "source": [
    "thresh = 1e-1\n",
    "SINDyImplementEnsemble(working_dat, fileStr,thresh)"
   ]
  },
  {
   "cell_type": "code",
   "execution_count": 26,
   "id": "b3c05a31",
   "metadata": {},
   "outputs": [
    {
     "name": "stdout",
     "output_type": "stream",
     "text": [
      "Ensemble STLSQ with Threshold 0.01\n",
      "(x0)' = 0.6312 x0_1 + 0.3030 x0_111\n"
     ]
    }
   ],
   "source": [
    "thresh = 1e-2\n",
    "SINDyImplementEnsemble(working_dat, fileStr,thresh)"
   ]
  },
  {
   "cell_type": "code",
   "execution_count": 27,
   "id": "d52e883f",
   "metadata": {},
   "outputs": [
    {
     "name": "stdout",
     "output_type": "stream",
     "text": [
      "Ensemble STLSQ with Threshold 0.005\n",
      "(x0)' = 0.5899 x0_1 + 0.0078 x0_11 + 0.2803 x0_111 + -0.0172 x0x0_11\n"
     ]
    }
   ],
   "source": [
    "thresh = 5e-3\n",
    "SINDyImplementEnsemble(working_dat, fileStr,thresh)"
   ]
  },
  {
   "cell_type": "code",
   "execution_count": 28,
   "id": "456e216f",
   "metadata": {
    "scrolled": true
   },
   "outputs": [
    {
     "name": "stdout",
     "output_type": "stream",
     "text": [
      "Ensemble STLSQ with Threshold 0.003\n",
      "(x0)' = 0.6310 x0_1 + -0.0141 x0_11 + 0.2936 x0_111 + 0.0152 x0x0_1 + 0.0160 x0x0_11 + 0.0058 x0x0_111 + 0.0047 x0x0_1111\n"
     ]
    }
   ],
   "source": [
    "thresh = 3e-3\n",
    "SINDyImplementEnsemble(working_dat, fileStr,thresh)"
   ]
  },
  {
   "cell_type": "code",
   "execution_count": 29,
   "id": "231da378",
   "metadata": {},
   "outputs": [
    {
     "name": "stdout",
     "output_type": "stream",
     "text": [
      "Ensemble STLSQ with Threshold 0.001\n",
      "(x0)' = 0.6383 x0_1 + 0.0098 x0_11 + 0.2985 x0_111 + 0.0021 x0_1111 + 0.0162 x0x0_1 + -0.0118 x0x0x0_1 + -0.0023 x0x0_11 + 0.0032 x0x0x0_11 + 0.0152 x0x0_111 + -0.0056 x0x0x0_111 + -0.0046 x0x0_1111\n"
     ]
    }
   ],
   "source": [
    "thresh = 1e-3\n",
    "SINDyImplementEnsemble(working_dat, fileStr,thresh)"
   ]
  },
  {
   "cell_type": "markdown",
   "id": "9048546b",
   "metadata": {},
   "source": [
    "## Multifilt"
   ]
  },
  {
   "cell_type": "markdown",
   "id": "3d360055",
   "metadata": {},
   "source": [
    "### Dataset 1"
   ]
  },
  {
   "cell_type": "code",
   "execution_count": 6,
   "id": "f0dc58eb",
   "metadata": {},
   "outputs": [],
   "source": [
    "fileStr = \"2021-11-01T2311_smoothed_rad_4\"\n",
    "\n",
    "working_dat = np.load(\"/home/ldoyle/notebooks/channel_drift_5_min_clips/rad_4_smoothed_decimated_normalized_5_min_start_South-C1-LR-95km-P1kHz-GL50m-SP2m-FS200Hz_2021-11-01T231114Z.npy\")\n",
    "scaler_val = np.std(working_dat)\n",
    "working_dat = working_dat/scaler_val\n",
    "working_dat = working_dat.reshape(working_dat.shape[0],working_dat.shape[1],1)\n"
   ]
  },
  {
   "cell_type": "code",
   "execution_count": 7,
   "id": "a99569cb",
   "metadata": {
    "scrolled": true
   },
   "outputs": [
    {
     "name": "stdout",
     "output_type": "stream",
     "text": [
      "Ensemble STLSQ with Threshold 0.1\n",
      "(x0)' = 0.9937 x0_1\n"
     ]
    }
   ],
   "source": [
    "thresh = 1e-1\n",
    "SINDyImplementEnsemble(working_dat, fileStr,thresh)"
   ]
  },
  {
   "cell_type": "code",
   "execution_count": 8,
   "id": "fa209c0e",
   "metadata": {},
   "outputs": [
    {
     "name": "stdout",
     "output_type": "stream",
     "text": [
      "Ensemble STLSQ with Threshold 0.05\n",
      "(x0)' = 0.9938 x0_1\n"
     ]
    }
   ],
   "source": [
    "thresh = 5e-2\n",
    "SINDyImplementEnsemble(working_dat, fileStr,thresh)"
   ]
  },
  {
   "cell_type": "code",
   "execution_count": 9,
   "id": "eecbd2c9",
   "metadata": {},
   "outputs": [
    {
     "name": "stdout",
     "output_type": "stream",
     "text": [
      "Ensemble STLSQ with Threshold 0.01\n",
      "(x0)' = 0.9944 x0_1 + 0.0475 x0_111 + 0.0450 x0x0x0_111\n"
     ]
    }
   ],
   "source": [
    "thresh = 1e-2\n",
    "SINDyImplementEnsemble(working_dat, fileStr,thresh)"
   ]
  },
  {
   "cell_type": "code",
   "execution_count": 10,
   "id": "4407b1f2",
   "metadata": {
    "scrolled": true
   },
   "outputs": [
    {
     "name": "stdout",
     "output_type": "stream",
     "text": [
      "Ensemble STLSQ with Threshold 0.003\n",
      "(x0)' = 0.9921 x0_1 + 0.0469 x0_111 + 0.0032 x0x0x0_1 + 0.0454 x0x0x0_111\n"
     ]
    }
   ],
   "source": [
    "thresh = 3e-3\n",
    "SINDyImplementEnsemble(working_dat, fileStr,thresh)"
   ]
  },
  {
   "cell_type": "code",
   "execution_count": 11,
   "id": "0a272cd3",
   "metadata": {
    "scrolled": true
   },
   "outputs": [
    {
     "name": "stdout",
     "output_type": "stream",
     "text": [
      "Ensemble STLSQ with Threshold 0.001\n",
      "(x0)' = 0.9912 x0_1 + 0.0466 x0_111 + 0.0033 x0x0x0_1 + 0.0489 x0x0x0_111\n"
     ]
    }
   ],
   "source": [
    "thresh = 1e-3\n",
    "SINDyImplementEnsemble(working_dat, fileStr,thresh)"
   ]
  },
  {
   "cell_type": "markdown",
   "id": "54b376b3",
   "metadata": {},
   "source": [
    "### Dataset 2"
   ]
  },
  {
   "cell_type": "code",
   "execution_count": 12,
   "id": "6f738683",
   "metadata": {},
   "outputs": [],
   "source": [
    "fileStr = \"2021-11-01T2321_smoothed_rad_4\"\n",
    "\n",
    "working_dat = np.load(\"/home/ldoyle/notebooks/channel_drift_5_min_clips/rad_4_smoothed_decimated_normalized_5_min_start_South-C1-LR-95km-P1kHz-GL50m-SP2m-FS200Hz_2021-11-01T232114Z.npy\")\n",
    "scaler_val = np.std(working_dat)\n",
    "working_dat = working_dat/scaler_val\n",
    "working_dat = working_dat.reshape(working_dat.shape[0],working_dat.shape[1],1)\n"
   ]
  },
  {
   "cell_type": "code",
   "execution_count": 13,
   "id": "21b072a2",
   "metadata": {
    "scrolled": true
   },
   "outputs": [
    {
     "name": "stdout",
     "output_type": "stream",
     "text": [
      "Ensemble STLSQ with Threshold 0.1\n",
      "(x0)' = 0.9939 x0_1\n"
     ]
    }
   ],
   "source": [
    "thresh = 1e-1\n",
    "SINDyImplementEnsemble(working_dat, fileStr,thresh)"
   ]
  },
  {
   "cell_type": "code",
   "execution_count": 14,
   "id": "50be167c",
   "metadata": {},
   "outputs": [
    {
     "name": "stdout",
     "output_type": "stream",
     "text": [
      "Ensemble STLSQ with Threshold 0.05\n",
      "(x0)' = 0.9943 x0_1 + 0.0599 x0_111\n"
     ]
    }
   ],
   "source": [
    "thresh = 5e-2\n",
    "SINDyImplementEnsemble(working_dat, fileStr,thresh)"
   ]
  },
  {
   "cell_type": "code",
   "execution_count": 15,
   "id": "7bc1b289",
   "metadata": {},
   "outputs": [
    {
     "name": "stdout",
     "output_type": "stream",
     "text": [
      "Ensemble STLSQ with Threshold 0.01\n",
      "(x0)' = 0.9947 x0_1 + 0.0550 x0_111 + 0.0472 x0x0x0_111\n"
     ]
    }
   ],
   "source": [
    "thresh = 1e-2\n",
    "SINDyImplementEnsemble(working_dat, fileStr,thresh)"
   ]
  },
  {
   "cell_type": "code",
   "execution_count": 16,
   "id": "c7742401",
   "metadata": {
    "scrolled": true
   },
   "outputs": [
    {
     "name": "stdout",
     "output_type": "stream",
     "text": [
      "Ensemble STLSQ with Threshold 0.003\n",
      "(x0)' = 0.9943 x0_1 + 0.0544 x0_111 + 0.0478 x0x0x0_111\n"
     ]
    }
   ],
   "source": [
    "thresh = 3e-3\n",
    "SINDyImplementEnsemble(working_dat, fileStr,thresh)"
   ]
  },
  {
   "cell_type": "code",
   "execution_count": 17,
   "id": "f8955106",
   "metadata": {
    "scrolled": true
   },
   "outputs": [
    {
     "name": "stdout",
     "output_type": "stream",
     "text": [
      "Ensemble STLSQ with Threshold 0.001\n",
      "(x0)' = 0.9919 x0_1 + 0.0542 x0_111 + 0.0027 x0x0x0_1 + 0.0525 x0x0x0_111\n"
     ]
    }
   ],
   "source": [
    "thresh = 1e-3\n",
    "SINDyImplementEnsemble(working_dat, fileStr,thresh)"
   ]
  },
  {
   "cell_type": "markdown",
   "id": "4fcb7abd",
   "metadata": {},
   "source": [
    "### Dataset 3"
   ]
  },
  {
   "cell_type": "code",
   "execution_count": 18,
   "id": "5b5a73fa",
   "metadata": {},
   "outputs": [],
   "source": [
    "fileStr = \"2021-11-02T0511_smoothed_rad_4\"\n",
    "\n",
    "working_dat = np.load(\"/home/ldoyle/notebooks/channel_drift_5_min_clips/rad_4_smoothed_decimated_normalized_5_min_start_South-C1-LR-95km-P1kHz-GL50m-SP2m-FS200Hz_2021-11-02T051114Z.npy\")\n",
    "scaler_val = np.std(working_dat)\n",
    "working_dat = working_dat/scaler_val\n",
    "working_dat = working_dat.reshape(working_dat.shape[0],working_dat.shape[1],1)\n"
   ]
  },
  {
   "cell_type": "code",
   "execution_count": 19,
   "id": "93406e3b",
   "metadata": {
    "scrolled": true
   },
   "outputs": [
    {
     "name": "stdout",
     "output_type": "stream",
     "text": [
      "Ensemble STLSQ with Threshold 0.1\n",
      "(x0)' = 0.9942 x0_1\n"
     ]
    }
   ],
   "source": [
    "thresh = 1e-1\n",
    "SINDyImplementEnsemble(working_dat, fileStr,thresh)"
   ]
  },
  {
   "cell_type": "code",
   "execution_count": 20,
   "id": "ff8b94cb",
   "metadata": {},
   "outputs": [
    {
     "name": "stdout",
     "output_type": "stream",
     "text": [
      "Ensemble STLSQ with Threshold 0.05\n",
      "(x0)' = 0.9944 x0_1 + 0.0645 x0_111\n"
     ]
    }
   ],
   "source": [
    "thresh = 5e-2\n",
    "SINDyImplementEnsemble(working_dat, fileStr,thresh)"
   ]
  },
  {
   "cell_type": "code",
   "execution_count": 21,
   "id": "bedc5b1e",
   "metadata": {},
   "outputs": [
    {
     "name": "stdout",
     "output_type": "stream",
     "text": [
      "Ensemble STLSQ with Threshold 0.01\n",
      "(x0)' = 0.9949 x0_1 + 0.0578 x0_111 + 0.0445 x0x0x0_111\n"
     ]
    }
   ],
   "source": [
    "thresh = 1e-2\n",
    "SINDyImplementEnsemble(working_dat, fileStr,thresh)"
   ]
  },
  {
   "cell_type": "code",
   "execution_count": 22,
   "id": "33dff4b1",
   "metadata": {
    "scrolled": true
   },
   "outputs": [
    {
     "name": "stdout",
     "output_type": "stream",
     "text": [
      "Ensemble STLSQ with Threshold 0.003\n",
      "(x0)' = 0.9947 x0_1 + 0.0579 x0_111 + 0.0458 x0x0x0_111\n"
     ]
    }
   ],
   "source": [
    "thresh = 3e-3\n",
    "SINDyImplementEnsemble(working_dat, fileStr,thresh)"
   ]
  },
  {
   "cell_type": "code",
   "execution_count": 23,
   "id": "49019b3a",
   "metadata": {
    "scrolled": true
   },
   "outputs": [
    {
     "name": "stdout",
     "output_type": "stream",
     "text": [
      "Ensemble STLSQ with Threshold 0.001\n",
      "(x0)' = 0.9924 x0_1 + 0.0563 x0_111 + 0.0023 x0x0x0_1 + 0.0502 x0x0x0_111\n"
     ]
    }
   ],
   "source": [
    "thresh = 1e-3\n",
    "SINDyImplementEnsemble(working_dat, fileStr,thresh)"
   ]
  },
  {
   "cell_type": "markdown",
   "id": "5fe692e4",
   "metadata": {},
   "source": [
    "### Dataset 4"
   ]
  },
  {
   "cell_type": "code",
   "execution_count": 24,
   "id": "cc7bac00",
   "metadata": {},
   "outputs": [],
   "source": [
    "fileStr = \"2021-11-02T2311_smoothed_rad_4\"\n",
    "\n",
    "working_dat = np.load(\"/home/ldoyle/notebooks/channel_drift_5_min_clips/rad_4_smoothed_decimated_normalized_5_min_start_South-C1-LR-95km-P1kHz-GL50m-SP2m-FS200Hz_2021-11-02T231114Z.npy\")\n",
    "scaler_val = np.std(working_dat)\n",
    "working_dat = working_dat/scaler_val\n",
    "working_dat = working_dat.reshape(working_dat.shape[0],working_dat.shape[1],1)\n"
   ]
  },
  {
   "cell_type": "code",
   "execution_count": 25,
   "id": "e88cba94",
   "metadata": {
    "scrolled": true
   },
   "outputs": [
    {
     "name": "stdout",
     "output_type": "stream",
     "text": [
      "Ensemble STLSQ with Threshold 0.1\n",
      "(x0)' = 0.9957 x0_1 + 0.1386 x0_111\n"
     ]
    }
   ],
   "source": [
    "thresh = 1e-1\n",
    "SINDyImplementEnsemble(working_dat, fileStr,thresh)"
   ]
  },
  {
   "cell_type": "code",
   "execution_count": 26,
   "id": "d611109d",
   "metadata": {},
   "outputs": [
    {
     "name": "stdout",
     "output_type": "stream",
     "text": [
      "Ensemble STLSQ with Threshold 0.05\n",
      "(x0)' = 0.9961 x0_1 + 0.1142 x0_111 + 0.0625 x0x0x0_111\n"
     ]
    }
   ],
   "source": [
    "thresh = 5e-2\n",
    "SINDyImplementEnsemble(working_dat, fileStr,thresh)"
   ]
  },
  {
   "cell_type": "code",
   "execution_count": 27,
   "id": "8348c4a5",
   "metadata": {},
   "outputs": [
    {
     "name": "stdout",
     "output_type": "stream",
     "text": [
      "Ensemble STLSQ with Threshold 0.01\n",
      "(x0)' = 0.9963 x0_1 + 0.1119 x0_111 + 0.0615 x0x0x0_111\n"
     ]
    }
   ],
   "source": [
    "thresh = 1e-2\n",
    "SINDyImplementEnsemble(working_dat, fileStr,thresh)"
   ]
  },
  {
   "cell_type": "code",
   "execution_count": 28,
   "id": "e9d9fbe6",
   "metadata": {
    "scrolled": true
   },
   "outputs": [
    {
     "name": "stdout",
     "output_type": "stream",
     "text": [
      "Ensemble STLSQ with Threshold 0.003\n",
      "(x0)' = 0.9960 x0_1 + 0.1103 x0_111 + 0.0636 x0x0x0_111\n"
     ]
    }
   ],
   "source": [
    "thresh = 3e-3\n",
    "SINDyImplementEnsemble(working_dat, fileStr,thresh)"
   ]
  },
  {
   "cell_type": "code",
   "execution_count": 29,
   "id": "bd4fe0eb",
   "metadata": {
    "scrolled": true
   },
   "outputs": [
    {
     "name": "stdout",
     "output_type": "stream",
     "text": [
      "Ensemble STLSQ with Threshold 0.001\n",
      "(x0)' = 0.9939 x0_1 + 0.1089 x0_111 + 0.0021 x0x0x0_1 + 0.0714 x0x0x0_111\n"
     ]
    }
   ],
   "source": [
    "thresh = 1e-3\n",
    "SINDyImplementEnsemble(working_dat, fileStr,thresh)"
   ]
  },
  {
   "cell_type": "markdown",
   "id": "a2d83d73",
   "metadata": {},
   "source": [
    "## Multifilt (radius 10 smooth)"
   ]
  },
  {
   "cell_type": "markdown",
   "id": "d34d49cc",
   "metadata": {},
   "source": [
    "### Dataset 1"
   ]
  },
  {
   "cell_type": "code",
   "execution_count": 39,
   "id": "4b849399",
   "metadata": {},
   "outputs": [],
   "source": [
    "fileStr = \"2021-11-01T2311_smoothed_rad_10\"\n",
    "\n",
    "working_dat = np.load(\"/home/ldoyle/notebooks/channel_drift_5_min_clips/rad_10_smoothed_decimated_normalized_5_min_start_South-C1-LR-95km-P1kHz-GL50m-SP2m-FS200Hz_2021-11-01T231114Z.npy\")\n",
    "scaler_val = np.std(working_dat)\n",
    "working_dat = working_dat/scaler_val\n",
    "working_dat = working_dat.reshape(working_dat.shape[0],working_dat.shape[1],1)\n"
   ]
  },
  {
   "cell_type": "code",
   "execution_count": 40,
   "id": "43401e43",
   "metadata": {},
   "outputs": [
    {
     "name": "stdout",
     "output_type": "stream",
     "text": [
      "Ensemble STLSQ with Threshold 0.01\n",
      "(x0)' = 0.9951 x0_1\n"
     ]
    }
   ],
   "source": [
    "thresh = 1e-2\n",
    "SINDyImplementEnsemble(working_dat, fileStr,thresh)"
   ]
  },
  {
   "cell_type": "code",
   "execution_count": null,
   "id": "44352390",
   "metadata": {},
   "outputs": [],
   "source": [
    "thresh = 3e-3\n",
    "SINDyImplementEnsemble(working_dat, fileStr,thresh)"
   ]
  },
  {
   "cell_type": "code",
   "execution_count": 41,
   "id": "e82fff93",
   "metadata": {
    "scrolled": true
   },
   "outputs": [
    {
     "name": "stdout",
     "output_type": "stream",
     "text": [
      "Ensemble STLSQ with Threshold 0.001\n",
      "(x0)' = 0.9922 x0_1 + -0.0012 x0_111 + 0.0033 x0x0x0_1\n"
     ]
    }
   ],
   "source": [
    "thresh = 1e-3\n",
    "SINDyImplementEnsemble(working_dat, fileStr,thresh)"
   ]
  },
  {
   "cell_type": "code",
   "execution_count": 42,
   "id": "d6570c06",
   "metadata": {},
   "outputs": [
    {
     "name": "stdout",
     "output_type": "stream",
     "text": [
      "Ensemble STLSQ with Threshold 0.0001\n",
      "(x0)' = 0.9920 x0_1 + -0.0012 x0_111 + 0.0034 x0x0x0_1\n"
     ]
    }
   ],
   "source": [
    "thresh = 1e-4\n",
    "SINDyImplementEnsemble(working_dat, fileStr,thresh)"
   ]
  },
  {
   "cell_type": "code",
   "execution_count": 43,
   "id": "ed96d81a",
   "metadata": {
    "scrolled": true
   },
   "outputs": [
    {
     "name": "stdout",
     "output_type": "stream",
     "text": [
      "Ensemble STLSQ with Threshold 1e-05\n",
      "(x0)' = 0.9917 x0_1 + -0.0012 x0_111 + 0.0036 x0x0x0_1\n"
     ]
    }
   ],
   "source": [
    "thresh = 1e-5\n",
    "SINDyImplementEnsemble(working_dat, fileStr,thresh)"
   ]
  },
  {
   "cell_type": "markdown",
   "id": "2313d211",
   "metadata": {},
   "source": [
    "### Dataset 2"
   ]
  },
  {
   "cell_type": "code",
   "execution_count": 44,
   "id": "ff6aa87b",
   "metadata": {},
   "outputs": [],
   "source": [
    "fileStr = \"2021-11-01T2321_smoothed_rad_10\"\n",
    "\n",
    "working_dat = np.load(\"/home/ldoyle/notebooks/channel_drift_5_min_clips/rad_10_smoothed_decimated_normalized_5_min_start_South-C1-LR-95km-P1kHz-GL50m-SP2m-FS200Hz_2021-11-01T232114Z.npy\")\n",
    "scaler_val = np.std(working_dat)\n",
    "working_dat = working_dat/scaler_val\n",
    "working_dat = working_dat.reshape(working_dat.shape[0],working_dat.shape[1],1)\n"
   ]
  },
  {
   "cell_type": "code",
   "execution_count": 45,
   "id": "06c687a3",
   "metadata": {},
   "outputs": [
    {
     "name": "stdout",
     "output_type": "stream",
     "text": [
      "Ensemble STLSQ with Threshold 0.01\n",
      "(x0)' = 0.9955 x0_1\n"
     ]
    }
   ],
   "source": [
    "thresh = 1e-2\n",
    "SINDyImplementEnsemble(working_dat, fileStr,thresh)"
   ]
  },
  {
   "cell_type": "code",
   "execution_count": null,
   "id": "69955810",
   "metadata": {},
   "outputs": [],
   "source": [
    "thresh = 3e-3\n",
    "SINDyImplementEnsemble(working_dat, fileStr,thresh)"
   ]
  },
  {
   "cell_type": "code",
   "execution_count": 46,
   "id": "51d0fe86",
   "metadata": {
    "scrolled": true
   },
   "outputs": [
    {
     "name": "stdout",
     "output_type": "stream",
     "text": [
      "Ensemble STLSQ with Threshold 0.001\n",
      "(x0)' = 0.9930 x0_1 + -0.0014 x0_111 + 0.0025 x0x0x0_1\n"
     ]
    }
   ],
   "source": [
    "thresh = 1e-3\n",
    "SINDyImplementEnsemble(working_dat, fileStr,thresh)"
   ]
  },
  {
   "cell_type": "code",
   "execution_count": 47,
   "id": "f023f5e8",
   "metadata": {},
   "outputs": [
    {
     "name": "stdout",
     "output_type": "stream",
     "text": [
      "Ensemble STLSQ with Threshold 0.0001\n",
      "(x0)' = 0.9929 x0_1 + -0.0014 x0_111 + 0.0026 x0x0x0_1\n"
     ]
    }
   ],
   "source": [
    "thresh = 1e-4\n",
    "SINDyImplementEnsemble(working_dat, fileStr,thresh)"
   ]
  },
  {
   "cell_type": "code",
   "execution_count": 48,
   "id": "0e744e72",
   "metadata": {},
   "outputs": [
    {
     "name": "stdout",
     "output_type": "stream",
     "text": [
      "Ensemble STLSQ with Threshold 1e-05\n",
      "(x0)' = 0.9928 x0_1 + -0.0014 x0_111 + 0.0027 x0x0x0_1\n"
     ]
    }
   ],
   "source": [
    "thresh = 1e-5\n",
    "SINDyImplementEnsemble(working_dat, fileStr,thresh)"
   ]
  },
  {
   "cell_type": "markdown",
   "id": "67765ae0",
   "metadata": {},
   "source": [
    "### Dataset 3"
   ]
  },
  {
   "cell_type": "code",
   "execution_count": 49,
   "id": "25977273",
   "metadata": {},
   "outputs": [],
   "source": [
    "fileStr = \"2021-11-02T0511_smoothed_rad_10\"\n",
    "\n",
    "working_dat = np.load(\"/home/ldoyle/notebooks/channel_drift_5_min_clips/rad_10_smoothed_decimated_normalized_5_min_start_South-C1-LR-95km-P1kHz-GL50m-SP2m-FS200Hz_2021-11-02T051114Z.npy\")\n",
    "scaler_val = np.std(working_dat)\n",
    "working_dat = working_dat/scaler_val\n",
    "working_dat = working_dat.reshape(working_dat.shape[0],working_dat.shape[1],1)\n"
   ]
  },
  {
   "cell_type": "code",
   "execution_count": 50,
   "id": "11e42e7f",
   "metadata": {},
   "outputs": [
    {
     "name": "stdout",
     "output_type": "stream",
     "text": [
      "Ensemble STLSQ with Threshold 0.01\n",
      "(x0)' = 0.9957 x0_1\n"
     ]
    }
   ],
   "source": [
    "thresh = 1e-2\n",
    "SINDyImplementEnsemble(working_dat, fileStr,thresh)"
   ]
  },
  {
   "cell_type": "code",
   "execution_count": null,
   "id": "3ac69d41",
   "metadata": {},
   "outputs": [],
   "source": [
    "thresh = 3e-3\n",
    "SINDyImplementEnsemble(working_dat, fileStr,thresh)"
   ]
  },
  {
   "cell_type": "code",
   "execution_count": 51,
   "id": "b5720fd9",
   "metadata": {
    "scrolled": true
   },
   "outputs": [
    {
     "name": "stdout",
     "output_type": "stream",
     "text": [
      "Ensemble STLSQ with Threshold 0.001\n",
      "(x0)' = 0.9937 x0_1 + -0.0014 x0_111 + 0.0020 x0x0x0_1\n"
     ]
    }
   ],
   "source": [
    "thresh = 1e-3\n",
    "SINDyImplementEnsemble(working_dat, fileStr,thresh)"
   ]
  },
  {
   "cell_type": "code",
   "execution_count": 52,
   "id": "ec80157d",
   "metadata": {},
   "outputs": [
    {
     "name": "stdout",
     "output_type": "stream",
     "text": [
      "Ensemble STLSQ with Threshold 0.0001\n",
      "(x0)' = 0.9936 x0_1 + -0.0014 x0_111 + 0.0021 x0x0x0_1\n"
     ]
    }
   ],
   "source": [
    "thresh = 1e-4\n",
    "SINDyImplementEnsemble(working_dat, fileStr,thresh)"
   ]
  },
  {
   "cell_type": "code",
   "execution_count": 53,
   "id": "7dc417ff",
   "metadata": {},
   "outputs": [
    {
     "name": "stdout",
     "output_type": "stream",
     "text": [
      "Ensemble STLSQ with Threshold 1e-05\n",
      "(x0)' = 0.9934 x0_1 + -0.0014 x0_111 + 0.0022 x0x0x0_1\n"
     ]
    }
   ],
   "source": [
    "thresh = 1e-5\n",
    "SINDyImplementEnsemble(working_dat, fileStr,thresh)"
   ]
  },
  {
   "cell_type": "markdown",
   "id": "28038fe2",
   "metadata": {},
   "source": [
    "### Dataset 4"
   ]
  },
  {
   "cell_type": "code",
   "execution_count": 54,
   "id": "21f7802e",
   "metadata": {},
   "outputs": [],
   "source": [
    "fileStr = \"2021-11-02T2311_smoothed_rad_10\"\n",
    "\n",
    "working_dat = np.load(\"/home/ldoyle/notebooks/channel_drift_5_min_clips/rad_10_smoothed_decimated_normalized_5_min_start_South-C1-LR-95km-P1kHz-GL50m-SP2m-FS200Hz_2021-11-02T231114Z.npy\")\n",
    "scaler_val = np.std(working_dat)\n",
    "working_dat = working_dat/scaler_val\n",
    "working_dat = working_dat.reshape(working_dat.shape[0],working_dat.shape[1],1)\n"
   ]
  },
  {
   "cell_type": "code",
   "execution_count": 55,
   "id": "a788b2cc",
   "metadata": {},
   "outputs": [
    {
     "name": "stdout",
     "output_type": "stream",
     "text": [
      "Ensemble STLSQ with Threshold 0.01\n",
      "(x0)' = 0.9970 x0_1\n"
     ]
    }
   ],
   "source": [
    "thresh = 1e-2\n",
    "SINDyImplementEnsemble(working_dat, fileStr,thresh)"
   ]
  },
  {
   "cell_type": "code",
   "execution_count": null,
   "id": "178aba61",
   "metadata": {},
   "outputs": [],
   "source": [
    "thresh = 3e-3\n",
    "SINDyImplementEnsemble(working_dat, fileStr,thresh)"
   ]
  },
  {
   "cell_type": "code",
   "execution_count": 56,
   "id": "c79d1352",
   "metadata": {
    "scrolled": true
   },
   "outputs": [
    {
     "name": "stdout",
     "output_type": "stream",
     "text": [
      "Ensemble STLSQ with Threshold 0.001\n",
      "(x0)' = 0.9953 x0_1 + -0.0021 x0_111 + 0.0015 x0x0x0_1\n"
     ]
    }
   ],
   "source": [
    "thresh = 1e-3\n",
    "SINDyImplementEnsemble(working_dat, fileStr,thresh)"
   ]
  },
  {
   "cell_type": "code",
   "execution_count": 57,
   "id": "ac55d6a5",
   "metadata": {},
   "outputs": [
    {
     "name": "stdout",
     "output_type": "stream",
     "text": [
      "Ensemble STLSQ with Threshold 0.0001\n",
      "(x0)' = 0.9953 x0_1 + -0.0021 x0_111 + 0.0016 x0x0x0_1\n"
     ]
    }
   ],
   "source": [
    "thresh = 1e-4\n",
    "SINDyImplementEnsemble(working_dat, fileStr,thresh)"
   ]
  },
  {
   "cell_type": "code",
   "execution_count": 58,
   "id": "9f0265f7",
   "metadata": {},
   "outputs": [
    {
     "name": "stdout",
     "output_type": "stream",
     "text": [
      "Ensemble STLSQ with Threshold 1e-05\n",
      "(x0)' = 0.9952 x0_1 + -0.0021 x0_111 + 0.0017 x0x0x0_1\n"
     ]
    }
   ],
   "source": [
    "thresh = 1e-5\n",
    "SINDyImplementEnsemble(working_dat, fileStr,thresh)"
   ]
  },
  {
   "cell_type": "code",
   "execution_count": null,
   "id": "fc6b7c9b",
   "metadata": {},
   "outputs": [],
   "source": []
  }
 ],
 "metadata": {
  "kernelspec": {
   "display_name": "Python 3",
   "language": "python",
   "name": "python3"
  },
  "language_info": {
   "codemirror_mode": {
    "name": "ipython",
    "version": 3
   },
   "file_extension": ".py",
   "mimetype": "text/x-python",
   "name": "python",
   "nbconvert_exporter": "python",
   "pygments_lexer": "ipython3",
   "version": "3.9.16"
  }
 },
 "nbformat": 4,
 "nbformat_minor": 5
}
