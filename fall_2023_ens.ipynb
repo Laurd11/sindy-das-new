{
 "cells": [
  {
   "cell_type": "code",
   "execution_count": 1,
   "id": "f68d15c3",
   "metadata": {},
   "outputs": [],
   "source": [
    "import sys\n",
    "sys.path.insert(0, '/home/ldoyle/packages')\n",
    "import h5py\n",
    "import numpy as np\n",
    "from tqdm import tqdm\n",
    "import matplotlib\n",
    "import matplotlib.dates as mdates\n",
    "import matplotlib.pyplot as plt\n",
    "from sklearn.decomposition import PCA\n",
    "import pandas as pd\n",
    "import pysindy as ps\n",
    "from lr_ed import localreg\n",
    "from datetime import datetime\n",
    "from scipy.fft import fft, fftfreq,rfft2\n",
    "\n",
    "import scipy.signal as signal\n",
    "from obspy.signal import filter as obsfilt\n",
    "import glob\n"
   ]
  },
  {
   "cell_type": "code",
   "execution_count": 2,
   "id": "6d6928da",
   "metadata": {},
   "outputs": [],
   "source": [
    "WEAK = False\n",
    "\n",
    "x_len = 5000\n",
    "t_len = 6000\n",
    "\n",
    "xs = np.arange(x_len)\n",
    "dt = 1\n",
    "\n",
    "library_functions = [lambda x: x, lambda x: x * x]\n",
    "library_function_names = [lambda x: x, lambda x: x + x]  \n",
    "\n",
    "if WEAK:\n",
    "    X, T = np.meshgrid(xs, np.arange(t_len))\n",
    "    XT = np.asarray([X, T]).T\n",
    "\n",
    "    pde_lib = ps.WeakPDELibrary(\n",
    "        library_functions=library_functions,\n",
    "        function_names=library_function_names,\n",
    "        derivative_order=4,\n",
    "        spatiotemporal_grid=XT,\n",
    "        is_uniform=True,\n",
    "        K=1000,\n",
    "    )\n",
    "else:\n",
    "    \n",
    "    pde_lib = ps.PDELibrary(\n",
    "        library_functions=library_functions,\n",
    "        function_names=library_function_names,\n",
    "        derivative_order=4,\n",
    "        spatial_grid=xs,\n",
    "        include_bias=True,\n",
    "        is_uniform=True,\n",
    "    )\n",
    "    "
   ]
  },
  {
   "cell_type": "code",
   "execution_count": 3,
   "id": "6996b9e0",
   "metadata": {},
   "outputs": [],
   "source": [
    "def printEnsemble(model, cut_off = 1e-3, median= False):\n",
    "    if median:\n",
    "        coefs = np.median(model.coef_list, axis=0)[0,:]\n",
    "    else:\n",
    "        coefs = np.mean(model.coef_list, axis=0)[0,:]\n",
    "    above_cut_off = np.argwhere(np.abs(coefs)>cut_off).flatten()\n",
    "    features =  model.get_feature_names()\n",
    "    equation_str= \"(x0)' = \"\n",
    "    for count, val in enumerate(above_cut_off):\n",
    "        if count >0:\n",
    "            equation_str+=\" + \"\n",
    "        equation_str+= \"{0:.4f}\".format(coefs[val])\n",
    "        equation_str+= \" \"+features[val]\n",
    "        \n",
    "    print(equation_str)"
   ]
  },
  {
   "cell_type": "code",
   "execution_count": 4,
   "id": "611e33ce",
   "metadata": {},
   "outputs": [],
   "source": [
    "def saveEnsemble(model,fileStr,thresh):\n",
    "    np.save(\"/home/ldoyle/notebooks/ensembleSINDyArrays_30_run2/\"+fileStr+\"_thresh_\"+\"{:.2E}\".format(thresh), model.coef_list)\n",
    "#     print(fileStr+\"_thresh_\"+\"{:.2E}\".format(thresh))"
   ]
  },
  {
   "cell_type": "code",
   "execution_count": 5,
   "id": "72a88349",
   "metadata": {},
   "outputs": [],
   "source": [
    "def SINDyImplementEnsemble(dataset, fileStr,thresh, alph=0.001, n_models=30, time_steps=400, stlsq_max =100,median=True):\n",
    "    optimizer = ps.STLSQ(threshold=thresh, alpha=alph, max_iter=stlsq_max)\n",
    "#     optimizer = ps.EnsembleOptimizer( opt=ps.STLSQ(threshold=thresh, alpha=alph, max_iter=stlsq_max),bagging=True,  n_models = n_models,n_subset =time_steps)  \n",
    "    model = ps.SINDy(feature_library=pde_lib, optimizer=optimizer, \n",
    "                     differentiation_method= ps.differentiation.SmoothedFiniteDifference())\n",
    "    model.fit(dataset, t=dt,ensemble=True, n_models=n_models, n_subset=time_steps)\n",
    "    print(\"Ensemble STLSQ with Threshold \"+str(thresh))\n",
    "    printEnsemble(model,median=median)\n",
    "    saveEnsemble(model,fileStr,thresh)"
   ]
  },
  {
   "cell_type": "markdown",
   "id": "f60a6d9e",
   "metadata": {},
   "source": [
    "## Unfiltered"
   ]
  },
  {
   "cell_type": "markdown",
   "id": "441917af",
   "metadata": {},
   "source": [
    "### Dataset 1"
   ]
  },
  {
   "cell_type": "code",
   "execution_count": 6,
   "id": "bf4688d7",
   "metadata": {},
   "outputs": [],
   "source": [
    "path = \"/data/data2/south-data-ejm/hdd/South-C1-LR-95km-P1kHz-GL50m-SP2m-FS200Hz_2021-11-01T16_09_15-0700/\"\n",
    "\n",
    "fileStr = \"2021-11-01T2311_unfiltered\"\n",
    "\n",
    "init = 11\n",
    "final= 16\n",
    "\n",
    "time_subsample = 10\n",
    "full_dat = np.zeros((5000,(12000//time_subsample)*(final-init)))\n",
    "\n",
    "k = 0\n",
    "for i in np.arange(init,final):\n",
    "    file = \"South-C1-LR-95km-P1kHz-GL50m-SP2m-FS200Hz_2021-11-01T23\"+str(i)+\"14Z.h5\"\n",
    "    f = h5py.File(path+file, 'r')\n",
    "    data = f['Acquisition']['Raw[0]']['RawData'][:, :].astype('int64')\n",
    "#     timestamp = f['Acquisition']['Raw[0]']['RawDataTime'][:] / 1000000\n",
    "    f.close()\n",
    "    \n",
    "    full_dat[:,k*(12000//time_subsample):(k+1)*(12000//time_subsample)] = data[7500:12500,::time_subsample]\n",
    "    k+=1\n",
    "    \n",
    "working_dat = full_dat/np.std(full_dat)\n"
   ]
  },
  {
   "cell_type": "code",
   "execution_count": 7,
   "id": "14da64f2",
   "metadata": {},
   "outputs": [],
   "source": [
    "working_dat = working_dat.reshape(working_dat.shape[0],working_dat.shape[1],1)\n"
   ]
  },
  {
   "cell_type": "code",
   "execution_count": 9,
   "id": "29e5be5a",
   "metadata": {},
   "outputs": [
    {
     "name": "stdout",
     "output_type": "stream",
     "text": [
      "Ensemble STLSQ with Threshold 0.1\n",
      "(x0)' = 0.6390 x0_1 + 0.3524 x0_111\n"
     ]
    }
   ],
   "source": [
    "thresh = 1.e-1\n",
    "SINDyImplementEnsemble(working_dat, fileStr,thresh)"
   ]
  },
  {
   "cell_type": "code",
   "execution_count": 10,
   "id": "2a73781d",
   "metadata": {},
   "outputs": [
    {
     "name": "stdout",
     "output_type": "stream",
     "text": [
      "Ensemble STLSQ with Threshold 0.01\n",
      "(x0)' = 0.6270 x0_1 + 0.3432 x0_111 + 0.0055 x0x0x0_1 + 0.0054 x0x0x0_111\n"
     ]
    }
   ],
   "source": [
    "thresh = 1.e-2\n",
    "SINDyImplementEnsemble(working_dat, fileStr,thresh)"
   ]
  },
  {
   "cell_type": "code",
   "execution_count": 11,
   "id": "fb39c35d",
   "metadata": {},
   "outputs": [
    {
     "name": "stdout",
     "output_type": "stream",
     "text": [
      "Ensemble STLSQ with Threshold 0.005\n",
      "(x0)' = 0.6393 x0_1 + 0.3527 x0_111 + 0.0141 x0x0_1 + -0.0075 x0x0_11\n"
     ]
    }
   ],
   "source": [
    "thresh = 5e-3\n",
    "SINDyImplementEnsemble(working_dat, fileStr,thresh)"
   ]
  },
  {
   "cell_type": "code",
   "execution_count": 12,
   "id": "bb6a744c",
   "metadata": {},
   "outputs": [
    {
     "name": "stdout",
     "output_type": "stream",
     "text": [
      "Ensemble STLSQ with Threshold 0.003\n",
      "(x0)' = 0.6421 x0_1 + 0.3536 x0_111 + 0.0109 x0x0_1 + 0.0094 x0x0x0_1 + -0.0104 x0x0_11 + 0.0091 x0x0x0_111 + -0.0056 x0x0_1111\n"
     ]
    }
   ],
   "source": [
    "thresh = 3e-3\n",
    "SINDyImplementEnsemble(working_dat, fileStr,thresh)"
   ]
  },
  {
   "cell_type": "code",
   "execution_count": 13,
   "id": "25a04b5a",
   "metadata": {},
   "outputs": [
    {
     "name": "stdout",
     "output_type": "stream",
     "text": [
      "Ensemble STLSQ with Threshold 0.001\n",
      "(x0)' = -0.0017 1 + -0.0014 x0 + 0.6404 x0_1 + 0.0050 x0_11 + 0.3477 x0_111 + 0.0036 x0_1111 + 0.0101 x0x0_1 + 0.0098 x0x0x0_1 + 0.0010 x0x0_11 + -0.0013 x0x0x0_11 + 0.0046 x0x0_111 + 0.0070 x0x0x0_111\n"
     ]
    }
   ],
   "source": [
    "thresh = 1e-3\n",
    "SINDyImplementEnsemble(working_dat, fileStr,thresh)"
   ]
  },
  {
   "cell_type": "markdown",
   "id": "dfcc7346",
   "metadata": {},
   "source": [
    "### Dataset 2"
   ]
  },
  {
   "cell_type": "code",
   "execution_count": 14,
   "id": "742af94a",
   "metadata": {},
   "outputs": [],
   "source": [
    "time_subsample = 10\n",
    "full_dat = np.zeros((5000,6000))\n",
    "fileStr = \"2021-11-01T2321_unfiltered\"\n",
    "\n",
    "\n",
    "k = 0\n",
    "for i in np.arange(21,26):\n",
    "    file = \"South-C1-LR-95km-P1kHz-GL50m-SP2m-FS200Hz_2021-11-01T23\"+str(i)+\"14Z.h5\"\n",
    "    f = h5py.File(path+file, 'r')\n",
    "    data = f['Acquisition']['Raw[0]']['RawData'][:, :].astype('int64')\n",
    "#     timestamp = f['Acquisition']['Raw[0]']['RawDataTime'][:] / 1000000\n",
    "    f.close()\n",
    "    \n",
    "    full_dat[:,k*(12000//time_subsample):(k+1)*(12000//time_subsample)] = data[7500:12500,::time_subsample]\n",
    "    k+=1\n",
    "    \n"
   ]
  },
  {
   "cell_type": "code",
   "execution_count": 15,
   "id": "89c6014e",
   "metadata": {},
   "outputs": [],
   "source": [
    "working_dat = full_dat/np.std(full_dat)#*10**6\n",
    "working_dat = working_dat.reshape(working_dat.shape[0],working_dat.shape[1],1)\n"
   ]
  },
  {
   "cell_type": "code",
   "execution_count": 16,
   "id": "0b9f21c0",
   "metadata": {},
   "outputs": [
    {
     "name": "stdout",
     "output_type": "stream",
     "text": [
      "Ensemble STLSQ with Threshold 0.1\n",
      "(x0)' = 0.6725 x0_1 + 0.3814 x0_111\n"
     ]
    }
   ],
   "source": [
    "thresh = 1.e-1\n",
    "SINDyImplementEnsemble(working_dat, fileStr,thresh)"
   ]
  },
  {
   "cell_type": "code",
   "execution_count": 17,
   "id": "a4744407",
   "metadata": {},
   "outputs": [
    {
     "name": "stdout",
     "output_type": "stream",
     "text": [
      "Ensemble STLSQ with Threshold 0.01\n",
      "(x0)' = 0.6620 x0_1 + 0.3770 x0_111 + -0.0130 x0x0_1 + -0.0148 x0x0_111\n"
     ]
    }
   ],
   "source": [
    "thresh = 1.e-2\n",
    "SINDyImplementEnsemble(working_dat, fileStr,thresh)"
   ]
  },
  {
   "cell_type": "code",
   "execution_count": 18,
   "id": "9c051eab",
   "metadata": {},
   "outputs": [
    {
     "name": "stdout",
     "output_type": "stream",
     "text": [
      "Ensemble STLSQ with Threshold 0.005\n",
      "(x0)' = 0.6555 x0_1 + -0.0077 x0_11 + 0.3747 x0_111 + 0.0082 x0x0x0_1 + -0.0155 x0x0_11 + -0.0147 x0x0_111 + 0.0103 x0x0x0_111 + -0.0026 x0x0_1111\n"
     ]
    }
   ],
   "source": [
    "thresh = 5e-3\n",
    "SINDyImplementEnsemble(working_dat, fileStr,thresh)"
   ]
  },
  {
   "cell_type": "code",
   "execution_count": 19,
   "id": "078b7f6c",
   "metadata": {},
   "outputs": [
    {
     "name": "stdout",
     "output_type": "stream",
     "text": [
      "Ensemble STLSQ with Threshold 0.003\n",
      "(x0)' = 0.6761 x0_1 + -0.0163 x0_11 + 0.3881 x0_111 + -0.0049 x0_1111 + 0.0029 x0x0x0_1 + 0.0038 x0x0_11 + -0.0070 x0x0_111\n"
     ]
    }
   ],
   "source": [
    "thresh = 3e-3\n",
    "SINDyImplementEnsemble(working_dat, fileStr,thresh)"
   ]
  },
  {
   "cell_type": "code",
   "execution_count": 20,
   "id": "84f87ccc",
   "metadata": {},
   "outputs": [
    {
     "name": "stdout",
     "output_type": "stream",
     "text": [
      "Ensemble STLSQ with Threshold 0.001\n",
      "(x0)' = 0.0025 1 + -0.0011 x0x0 + 0.6690 x0_1 + -0.0084 x0_11 + 0.3837 x0_111 + -0.0025 x0x0_1 + 0.0086 x0x0x0_1 + 0.0049 x0x0x0_11 + -0.0108 x0x0_111 + 0.0096 x0x0x0_111 + 0.0030 x0x0x0_1111\n"
     ]
    }
   ],
   "source": [
    "thresh = 1e-3\n",
    "SINDyImplementEnsemble(working_dat, fileStr,thresh)"
   ]
  },
  {
   "cell_type": "markdown",
   "id": "8d0d6037",
   "metadata": {},
   "source": [
    "## Drift Removal Load"
   ]
  },
  {
   "cell_type": "markdown",
   "id": "b1c178ed",
   "metadata": {},
   "source": [
    "### Dataset 1"
   ]
  },
  {
   "cell_type": "code",
   "execution_count": 21,
   "id": "cbf0347e",
   "metadata": {},
   "outputs": [],
   "source": [
    "fileStr = \"2021-11-01T2311_normal\"\n",
    "\n",
    "working_dat = np.load(\"/home/ldoyle/notebooks/channel_drift_5_min_clips/normalized_5_min_start_South-C1-LR-95km-P1kHz-GL50m-SP2m-FS200Hz_2021-11-01T231114Z.npy\")[:,::10]\n",
    "scaler_val = np.std(working_dat)\n",
    "working_dat = working_dat/scaler_val\n",
    "working_dat = working_dat.reshape(working_dat.shape[0],working_dat.shape[1],1)\n"
   ]
  },
  {
   "cell_type": "code",
   "execution_count": 22,
   "id": "a8e0dbae",
   "metadata": {},
   "outputs": [
    {
     "name": "stdout",
     "output_type": "stream",
     "text": [
      "Ensemble STLSQ with Threshold 0.1\n",
      "(x0)' = 0.6843 x0_1 + 0.3126 x0_111\n"
     ]
    }
   ],
   "source": [
    "thresh = 1e-1\n",
    "SINDyImplementEnsemble(working_dat, fileStr,thresh)"
   ]
  },
  {
   "cell_type": "code",
   "execution_count": 23,
   "id": "40abbffc",
   "metadata": {},
   "outputs": [
    {
     "name": "stdout",
     "output_type": "stream",
     "text": [
      "Ensemble STLSQ with Threshold 0.05\n",
      "(x0)' = 0.6883 x0_1 + 0.3240 x0_111\n"
     ]
    }
   ],
   "source": [
    "thresh = 5e-2\n",
    "SINDyImplementEnsemble(working_dat, fileStr,thresh)"
   ]
  },
  {
   "cell_type": "code",
   "execution_count": 24,
   "id": "8961e0ce",
   "metadata": {},
   "outputs": [
    {
     "name": "stdout",
     "output_type": "stream",
     "text": [
      "Ensemble STLSQ with Threshold 0.01\n",
      "(x0)' = 0.6961 x0_1 + 0.3310 x0_111\n"
     ]
    }
   ],
   "source": [
    "thresh = 1e-2\n",
    "SINDyImplementEnsemble(working_dat, fileStr,thresh)"
   ]
  },
  {
   "cell_type": "code",
   "execution_count": 25,
   "id": "d9b805d7",
   "metadata": {},
   "outputs": [
    {
     "name": "stdout",
     "output_type": "stream",
     "text": [
      "Ensemble STLSQ with Threshold 0.005\n",
      "(x0)' = 0.6983 x0_1 + 0.3322 x0_111 + -0.0076 x0x0x0_1 + 0.0069 x0x0_111\n"
     ]
    }
   ],
   "source": [
    "thresh = 5e-3\n",
    "SINDyImplementEnsemble(working_dat, fileStr,thresh)"
   ]
  },
  {
   "cell_type": "code",
   "execution_count": 26,
   "id": "5731cbe2",
   "metadata": {},
   "outputs": [
    {
     "name": "stdout",
     "output_type": "stream",
     "text": [
      "Ensemble STLSQ with Threshold 0.001\n",
      "(x0)' = 0.6980 x0_1 + -0.0061 x0_11 + 0.3263 x0_111 + -0.0031 x0_1111 + 0.0042 x0x0_1 + -0.0088 x0x0x0_1 + 0.0072 x0x0_11 + 0.0043 x0x0x0_11 + 0.0013 x0x0_111 + -0.0073 x0x0x0_111 + 0.0019 x0x0x0_1111\n"
     ]
    }
   ],
   "source": [
    "thresh = 1e-3\n",
    "SINDyImplementEnsemble(working_dat, fileStr,thresh)"
   ]
  },
  {
   "cell_type": "markdown",
   "id": "331f62c6",
   "metadata": {},
   "source": [
    "### Dataset 2"
   ]
  },
  {
   "cell_type": "code",
   "execution_count": 27,
   "id": "12a8e7b0",
   "metadata": {},
   "outputs": [],
   "source": [
    "fileStr = \"2021-11-01T2321_normal\"\n",
    "\n",
    "working_dat = np.load(\"/home/ldoyle/notebooks/channel_drift_5_min_clips/normalized_5_min_start_South-C1-LR-95km-P1kHz-GL50m-SP2m-FS200Hz_2021-11-01T232114Z.npy\")[:,::10]\n",
    "scaler_val = np.std(working_dat)\n",
    "working_dat = working_dat/scaler_val\n",
    "working_dat = working_dat.reshape(working_dat.shape[0],working_dat.shape[1],1)\n"
   ]
  },
  {
   "cell_type": "code",
   "execution_count": 28,
   "id": "e408ed3b",
   "metadata": {},
   "outputs": [
    {
     "name": "stdout",
     "output_type": "stream",
     "text": [
      "Ensemble STLSQ with Threshold 0.1\n",
      "(x0)' = 0.6755 x0_1 + 0.3146 x0_111\n"
     ]
    }
   ],
   "source": [
    "thresh = 1e-1\n",
    "SINDyImplementEnsemble(working_dat, fileStr,thresh)"
   ]
  },
  {
   "cell_type": "code",
   "execution_count": 29,
   "id": "320daec9",
   "metadata": {},
   "outputs": [
    {
     "name": "stdout",
     "output_type": "stream",
     "text": [
      "Ensemble STLSQ with Threshold 0.05\n",
      "(x0)' = 0.6663 x0_1 + 0.3112 x0_111\n"
     ]
    }
   ],
   "source": [
    "thresh = 5e-2\n",
    "SINDyImplementEnsemble(working_dat, fileStr,thresh)"
   ]
  },
  {
   "cell_type": "code",
   "execution_count": 30,
   "id": "1717834c",
   "metadata": {},
   "outputs": [
    {
     "name": "stdout",
     "output_type": "stream",
     "text": [
      "Ensemble STLSQ with Threshold 0.01\n",
      "(x0)' = 0.6801 x0_1 + 0.3134 x0_111\n"
     ]
    }
   ],
   "source": [
    "thresh = 1e-2\n",
    "SINDyImplementEnsemble(working_dat, fileStr,thresh)"
   ]
  },
  {
   "cell_type": "code",
   "execution_count": 31,
   "id": "37eb3f6c",
   "metadata": {},
   "outputs": [
    {
     "name": "stdout",
     "output_type": "stream",
     "text": [
      "Ensemble STLSQ with Threshold 0.005\n",
      "(x0)' = 0.6843 x0_1 + 0.3217 x0_111 + 0.0032 x0x0_1\n"
     ]
    }
   ],
   "source": [
    "thresh = 5e-3\n",
    "SINDyImplementEnsemble(working_dat, fileStr,thresh)"
   ]
  },
  {
   "cell_type": "code",
   "execution_count": 32,
   "id": "c63d705b",
   "metadata": {},
   "outputs": [
    {
     "name": "stdout",
     "output_type": "stream",
     "text": [
      "Ensemble STLSQ with Threshold 0.001\n",
      "(x0)' = 0.6802 x0_1 + 0.0060 x0_11 + 0.3139 x0_111 + 0.0038 x0_1111 + 0.0039 x0x0_1 + -0.0071 x0x0x0_1 + -0.0023 x0x0_11 + -0.0014 x0x0_111 + -0.0038 x0x0x0_111\n"
     ]
    }
   ],
   "source": [
    "thresh = 1e-3\n",
    "SINDyImplementEnsemble(working_dat, fileStr,thresh)"
   ]
  },
  {
   "cell_type": "markdown",
   "id": "ef3fbbe0",
   "metadata": {},
   "source": [
    "### Dataset 3"
   ]
  },
  {
   "cell_type": "code",
   "execution_count": 33,
   "id": "6bfb3c54",
   "metadata": {},
   "outputs": [],
   "source": [
    "fileStr = \"2021-11-02T0511_normal\"\n",
    "\n",
    "working_dat = np.load(\"/home/ldoyle/notebooks/channel_drift_5_min_clips/normalized_5_min_start_South-C1-LR-95km-P1kHz-GL50m-SP2m-FS200Hz_2021-11-02T051114Z.npy\")[:,::10]\n",
    "scaler_val = np.std(working_dat)\n",
    "working_dat = working_dat/scaler_val\n",
    "working_dat = working_dat.reshape(working_dat.shape[0],working_dat.shape[1],1)\n"
   ]
  },
  {
   "cell_type": "code",
   "execution_count": 34,
   "id": "7dec3790",
   "metadata": {
    "scrolled": true
   },
   "outputs": [
    {
     "name": "stdout",
     "output_type": "stream",
     "text": [
      "Ensemble STLSQ with Threshold 0.1\n",
      "(x0)' = 0.6875 x0_1 + 0.3255 x0_111\n"
     ]
    }
   ],
   "source": [
    "thresh = 1e-1\n",
    "SINDyImplementEnsemble(working_dat, fileStr,thresh)"
   ]
  },
  {
   "cell_type": "code",
   "execution_count": 35,
   "id": "e8c98caf",
   "metadata": {},
   "outputs": [
    {
     "name": "stdout",
     "output_type": "stream",
     "text": [
      "Ensemble STLSQ with Threshold 0.05\n",
      "(x0)' = 0.6875 x0_1 + 0.3222 x0_111\n"
     ]
    }
   ],
   "source": [
    "thresh = 5e-2\n",
    "SINDyImplementEnsemble(working_dat, fileStr,thresh)"
   ]
  },
  {
   "cell_type": "code",
   "execution_count": 36,
   "id": "2f91a741",
   "metadata": {},
   "outputs": [
    {
     "name": "stdout",
     "output_type": "stream",
     "text": [
      "Ensemble STLSQ with Threshold 0.01\n",
      "(x0)' = 0.6905 x0_1 + 0.3338 x0_111\n"
     ]
    }
   ],
   "source": [
    "thresh = 1e-2\n",
    "SINDyImplementEnsemble(working_dat, fileStr,thresh)"
   ]
  },
  {
   "cell_type": "code",
   "execution_count": 37,
   "id": "6a3c81ef",
   "metadata": {},
   "outputs": [
    {
     "name": "stdout",
     "output_type": "stream",
     "text": [
      "Ensemble STLSQ with Threshold 0.005\n",
      "(x0)' = 0.6929 x0_1 + 0.3222 x0_111 + 0.0084 x0x0_1 + -0.0074 x0x0x0_1\n"
     ]
    }
   ],
   "source": [
    "thresh = 5e-3\n",
    "SINDyImplementEnsemble(working_dat, fileStr,thresh)"
   ]
  },
  {
   "cell_type": "code",
   "execution_count": 38,
   "id": "81994fd2",
   "metadata": {},
   "outputs": [
    {
     "name": "stdout",
     "output_type": "stream",
     "text": [
      "Ensemble STLSQ with Threshold 0.001\n",
      "(x0)' = 0.7059 x0_1 + -0.0128 x0_11 + 0.3263 x0_111 + -0.0046 x0_1111 + 0.0119 x0x0_1 + -0.0025 x0x0x0_1 + 0.0101 x0x0_11 + 0.0088 x0x0_111 + 0.0029 x0x0_1111\n"
     ]
    }
   ],
   "source": [
    "thresh = 1e-3\n",
    "SINDyImplementEnsemble(working_dat, fileStr,thresh)"
   ]
  },
  {
   "cell_type": "markdown",
   "id": "de977dca",
   "metadata": {},
   "source": [
    "### Dataset 4"
   ]
  },
  {
   "cell_type": "code",
   "execution_count": 39,
   "id": "ad81d789",
   "metadata": {},
   "outputs": [],
   "source": [
    "fileStr = \"2021-11-02T2311_normal\"\n",
    "\n",
    "working_dat = np.load(\"/home/ldoyle/notebooks/channel_drift_5_min_clips/normalized_5_min_start_South-C1-LR-95km-P1kHz-GL50m-SP2m-FS200Hz_2021-11-02T231114Z.npy\")[:,::10]\n",
    "scaler_val = np.std(working_dat)\n",
    "working_dat = working_dat/scaler_val\n",
    "working_dat = working_dat.reshape(working_dat.shape[0],working_dat.shape[1],1)\n"
   ]
  },
  {
   "cell_type": "code",
   "execution_count": 40,
   "id": "a7cbd268",
   "metadata": {},
   "outputs": [
    {
     "name": "stdout",
     "output_type": "stream",
     "text": [
      "Ensemble STLSQ with Threshold 0.1\n",
      "(x0)' = 0.6110 x0_1 + 0.2948 x0_111\n"
     ]
    }
   ],
   "source": [
    "thresh = 1e-1\n",
    "SINDyImplementEnsemble(working_dat, fileStr,thresh)"
   ]
  },
  {
   "cell_type": "code",
   "execution_count": 41,
   "id": "b3c05a31",
   "metadata": {},
   "outputs": [
    {
     "name": "stdout",
     "output_type": "stream",
     "text": [
      "Ensemble STLSQ with Threshold 0.01\n",
      "(x0)' = 0.6151 x0_1 + 0.2899 x0_111\n"
     ]
    }
   ],
   "source": [
    "thresh = 1e-2\n",
    "SINDyImplementEnsemble(working_dat, fileStr,thresh)"
   ]
  },
  {
   "cell_type": "code",
   "execution_count": 42,
   "id": "d52e883f",
   "metadata": {},
   "outputs": [
    {
     "name": "stdout",
     "output_type": "stream",
     "text": [
      "Ensemble STLSQ with Threshold 0.005\n",
      "(x0)' = 0.6120 x0_1 + 0.2863 x0_111\n"
     ]
    }
   ],
   "source": [
    "thresh = 5e-3\n",
    "SINDyImplementEnsemble(working_dat, fileStr,thresh)"
   ]
  },
  {
   "cell_type": "code",
   "execution_count": 43,
   "id": "456e216f",
   "metadata": {
    "scrolled": true
   },
   "outputs": [
    {
     "name": "stdout",
     "output_type": "stream",
     "text": [
      "Ensemble STLSQ with Threshold 0.003\n",
      "(x0)' = 0.6325 x0_1 + 0.0025 x0_11 + 0.2945 x0_111 + -0.0069 x0x0_1 + -0.0097 x0x0x0_1 + 0.0060 x0x0_11 + 0.0033 x0x0x0_11 + 0.0018 x0x0_1111\n"
     ]
    }
   ],
   "source": [
    "thresh = 3e-3\n",
    "SINDyImplementEnsemble(working_dat, fileStr,thresh)"
   ]
  },
  {
   "cell_type": "code",
   "execution_count": 44,
   "id": "231da378",
   "metadata": {},
   "outputs": [
    {
     "name": "stdout",
     "output_type": "stream",
     "text": [
      "Ensemble STLSQ with Threshold 0.001\n",
      "(x0)' = -0.0016 1 + 0.6144 x0_1 + 0.0129 x0_11 + 0.2882 x0_111 + 0.0028 x0_1111 + -0.0027 x0x0_1 + -0.0075 x0x0_11 + -0.0037 x0x0_111 + -0.0013 x0x0x0_111\n"
     ]
    }
   ],
   "source": [
    "thresh = 1e-3\n",
    "SINDyImplementEnsemble(working_dat, fileStr,thresh)"
   ]
  },
  {
   "cell_type": "markdown",
   "id": "9048546b",
   "metadata": {},
   "source": [
    "## Multifilt"
   ]
  },
  {
   "cell_type": "markdown",
   "id": "3d360055",
   "metadata": {},
   "source": [
    "### Dataset 1"
   ]
  },
  {
   "cell_type": "code",
   "execution_count": 14,
   "id": "f0dc58eb",
   "metadata": {},
   "outputs": [],
   "source": [
    "fileStr = \"2021-11-01T2311_smoothed_rad_4\"\n",
    "\n",
    "working_dat = np.load(\"/home/ldoyle/notebooks/channel_drift_5_min_clips/rad_4_smoothed_decimated_normalized_5_min_start_South-C1-LR-95km-P1kHz-GL50m-SP2m-FS200Hz_2021-11-01T231114Z.npy\")\n",
    "scaler_val = np.std(working_dat)\n",
    "working_dat = working_dat/scaler_val\n",
    "working_dat = working_dat.reshape(working_dat.shape[0],working_dat.shape[1],1)\n"
   ]
  },
  {
   "cell_type": "code",
   "execution_count": 7,
   "id": "a99569cb",
   "metadata": {
    "scrolled": true
   },
   "outputs": [
    {
     "name": "stdout",
     "output_type": "stream",
     "text": [
      "Ensemble STLSQ with Threshold 0.1\n",
      "(x0)' = 0.9960 x0_1\n"
     ]
    }
   ],
   "source": [
    "thresh = 1e-1\n",
    "SINDyImplementEnsemble(working_dat, fileStr,thresh)"
   ]
  },
  {
   "cell_type": "code",
   "execution_count": 8,
   "id": "fa209c0e",
   "metadata": {},
   "outputs": [
    {
     "name": "stdout",
     "output_type": "stream",
     "text": [
      "Ensemble STLSQ with Threshold 0.05\n",
      "(x0)' = 0.9969 x0_1 + 0.0848 x0_111 + 0.0621 x0x0x0_111\n"
     ]
    }
   ],
   "source": [
    "thresh = 5e-2\n",
    "SINDyImplementEnsemble(working_dat, fileStr,thresh)"
   ]
  },
  {
   "cell_type": "code",
   "execution_count": 9,
   "id": "eecbd2c9",
   "metadata": {},
   "outputs": [
    {
     "name": "stdout",
     "output_type": "stream",
     "text": [
      "Ensemble STLSQ with Threshold 0.01\n",
      "(x0)' = 0.9968 x0_1 + 0.0841 x0_111 + 0.0627 x0x0x0_111\n"
     ]
    }
   ],
   "source": [
    "thresh = 1e-2\n",
    "SINDyImplementEnsemble(working_dat, fileStr,thresh)"
   ]
  },
  {
   "cell_type": "code",
   "execution_count": 15,
   "id": "4407b1f2",
   "metadata": {
    "scrolled": true
   },
   "outputs": [
    {
     "name": "stdout",
     "output_type": "stream",
     "text": [
      "Ensemble STLSQ with Threshold 0.003\n",
      "(x0)' = 0.9969 x0_1 + 0.0858 x0_111 + 0.0627 x0x0x0_111\n"
     ]
    }
   ],
   "source": [
    "thresh = 3e-3\n",
    "SINDyImplementEnsemble(working_dat, fileStr,thresh)"
   ]
  },
  {
   "cell_type": "code",
   "execution_count": 16,
   "id": "0a272cd3",
   "metadata": {
    "scrolled": true
   },
   "outputs": [
    {
     "name": "stdout",
     "output_type": "stream",
     "text": [
      "Ensemble STLSQ with Threshold 0.001\n",
      "(x0)' = 0.9954 x0_1 + 0.0832 x0_111 + 0.0017 x0x0x0_1 + 0.0685 x0x0x0_111\n"
     ]
    }
   ],
   "source": [
    "thresh = 1e-3\n",
    "SINDyImplementEnsemble(working_dat, fileStr,thresh)"
   ]
  },
  {
   "cell_type": "code",
   "execution_count": 17,
   "id": "ace5bbee",
   "metadata": {},
   "outputs": [
    {
     "name": "stdout",
     "output_type": "stream",
     "text": [
      "Ensemble STLSQ with Threshold 0.0005\n",
      "(x0)' = 0.9952 x0_1 + 0.0020 x0_11 + 0.0865 x0_111 + 0.0019 x0x0x0_1 + -0.0012 x0x0_111 + 0.0675 x0x0x0_111\n"
     ]
    }
   ],
   "source": [
    "thresh = 5e-4\n",
    "SINDyImplementEnsemble(working_dat, fileStr,thresh)"
   ]
  },
  {
   "cell_type": "markdown",
   "id": "54b376b3",
   "metadata": {},
   "source": [
    "### Dataset 2"
   ]
  },
  {
   "cell_type": "code",
   "execution_count": 18,
   "id": "6f738683",
   "metadata": {},
   "outputs": [],
   "source": [
    "fileStr = \"2021-11-01T2321_smoothed_rad_4\"\n",
    "\n",
    "working_dat = np.load(\"/home/ldoyle/notebooks/channel_drift_5_min_clips/rad_4_smoothed_decimated_normalized_5_min_start_South-C1-LR-95km-P1kHz-GL50m-SP2m-FS200Hz_2021-11-01T232114Z.npy\")\n",
    "scaler_val = np.std(working_dat)\n",
    "working_dat = working_dat/scaler_val\n",
    "working_dat = working_dat.reshape(working_dat.shape[0],working_dat.shape[1],1)\n"
   ]
  },
  {
   "cell_type": "code",
   "execution_count": 19,
   "id": "21b072a2",
   "metadata": {
    "scrolled": true
   },
   "outputs": [
    {
     "name": "stdout",
     "output_type": "stream",
     "text": [
      "Ensemble STLSQ with Threshold 0.1\n",
      "(x0)' = 0.9963 x0_1\n"
     ]
    }
   ],
   "source": [
    "thresh = 1e-1\n",
    "SINDyImplementEnsemble(working_dat, fileStr,thresh)"
   ]
  },
  {
   "cell_type": "code",
   "execution_count": 20,
   "id": "50be167c",
   "metadata": {},
   "outputs": [
    {
     "name": "stdout",
     "output_type": "stream",
     "text": [
      "Ensemble STLSQ with Threshold 0.05\n",
      "(x0)' = 0.9971 x0_1 + 0.1000 x0_111 + 0.0611 x0x0x0_111\n"
     ]
    }
   ],
   "source": [
    "thresh = 5e-2\n",
    "SINDyImplementEnsemble(working_dat, fileStr,thresh)"
   ]
  },
  {
   "cell_type": "code",
   "execution_count": 21,
   "id": "7bc1b289",
   "metadata": {},
   "outputs": [
    {
     "name": "stdout",
     "output_type": "stream",
     "text": [
      "Ensemble STLSQ with Threshold 0.01\n",
      "(x0)' = 0.9973 x0_1 + 0.0968 x0_111 + 0.0670 x0x0x0_111\n"
     ]
    }
   ],
   "source": [
    "thresh = 1e-2\n",
    "SINDyImplementEnsemble(working_dat, fileStr,thresh)"
   ]
  },
  {
   "cell_type": "code",
   "execution_count": 22,
   "id": "c7742401",
   "metadata": {
    "scrolled": true
   },
   "outputs": [
    {
     "name": "stdout",
     "output_type": "stream",
     "text": [
      "Ensemble STLSQ with Threshold 0.003\n",
      "(x0)' = 0.9971 x0_1 + 0.0945 x0_111 + 0.0641 x0x0x0_111\n"
     ]
    }
   ],
   "source": [
    "thresh = 3e-3\n",
    "SINDyImplementEnsemble(working_dat, fileStr,thresh)"
   ]
  },
  {
   "cell_type": "code",
   "execution_count": 23,
   "id": "f8955106",
   "metadata": {
    "scrolled": true
   },
   "outputs": [
    {
     "name": "stdout",
     "output_type": "stream",
     "text": [
      "Ensemble STLSQ with Threshold 0.001\n",
      "(x0)' = 0.9955 x0_1 + 0.0965 x0_111 + 0.0016 x0x0x0_1 + 0.0703 x0x0x0_111\n"
     ]
    }
   ],
   "source": [
    "thresh = 1e-3\n",
    "SINDyImplementEnsemble(working_dat, fileStr,thresh)"
   ]
  },
  {
   "cell_type": "code",
   "execution_count": 24,
   "id": "cdcce3e4",
   "metadata": {},
   "outputs": [
    {
     "name": "stdout",
     "output_type": "stream",
     "text": [
      "Ensemble STLSQ with Threshold 0.0005\n",
      "(x0)' = 0.9959 x0_1 + 0.0985 x0_111 + 0.0014 x0x0x0_1 + 0.0020 x0x0_111 + 0.0689 x0x0x0_111\n"
     ]
    }
   ],
   "source": [
    "thresh = 5e-4\n",
    "SINDyImplementEnsemble(working_dat, fileStr,thresh)"
   ]
  },
  {
   "cell_type": "markdown",
   "id": "4fcb7abd",
   "metadata": {},
   "source": [
    "### Dataset 3"
   ]
  },
  {
   "cell_type": "code",
   "execution_count": 37,
   "id": "5b5a73fa",
   "metadata": {},
   "outputs": [],
   "source": [
    "fileStr = \"2021-11-02T0511_smoothed_rad_4\"\n",
    "\n",
    "working_dat = np.load(\"/home/ldoyle/notebooks/channel_drift_5_min_clips/rad_4_smoothed_decimated_normalized_5_min_start_South-C1-LR-95km-P1kHz-GL50m-SP2m-FS200Hz_2021-11-02T051114Z.npy\")\n",
    "scaler_val = np.std(working_dat)\n",
    "working_dat = working_dat/scaler_val\n",
    "working_dat = working_dat.reshape(working_dat.shape[0],working_dat.shape[1],1)\n"
   ]
  },
  {
   "cell_type": "code",
   "execution_count": 26,
   "id": "93406e3b",
   "metadata": {
    "scrolled": true
   },
   "outputs": [
    {
     "name": "stdout",
     "output_type": "stream",
     "text": [
      "Ensemble STLSQ with Threshold 0.1\n",
      "(x0)' = 0.9967 x0_1\n"
     ]
    }
   ],
   "source": [
    "thresh = 1e-1\n",
    "SINDyImplementEnsemble(working_dat, fileStr,thresh)"
   ]
  },
  {
   "cell_type": "code",
   "execution_count": 27,
   "id": "ff8b94cb",
   "metadata": {},
   "outputs": [
    {
     "name": "stdout",
     "output_type": "stream",
     "text": [
      "Ensemble STLSQ with Threshold 0.05\n",
      "(x0)' = 0.9971 x0_1 + 0.1031 x0_111 + 0.0561 x0x0x0_111\n"
     ]
    }
   ],
   "source": [
    "thresh = 5e-2\n",
    "SINDyImplementEnsemble(working_dat, fileStr,thresh)"
   ]
  },
  {
   "cell_type": "code",
   "execution_count": 28,
   "id": "bedc5b1e",
   "metadata": {},
   "outputs": [
    {
     "name": "stdout",
     "output_type": "stream",
     "text": [
      "Ensemble STLSQ with Threshold 0.01\n",
      "(x0)' = 0.9973 x0_1 + 0.1023 x0_111 + 0.0550 x0x0x0_111\n"
     ]
    }
   ],
   "source": [
    "thresh = 1e-2\n",
    "SINDyImplementEnsemble(working_dat, fileStr,thresh)"
   ]
  },
  {
   "cell_type": "code",
   "execution_count": 29,
   "id": "33dff4b1",
   "metadata": {
    "scrolled": true
   },
   "outputs": [
    {
     "name": "stdout",
     "output_type": "stream",
     "text": [
      "Ensemble STLSQ with Threshold 0.003\n",
      "(x0)' = 0.9974 x0_1 + 0.1045 x0_111 + 0.0562 x0x0x0_111\n"
     ]
    }
   ],
   "source": [
    "thresh = 3e-3\n",
    "SINDyImplementEnsemble(working_dat, fileStr,thresh)"
   ]
  },
  {
   "cell_type": "code",
   "execution_count": 30,
   "id": "49019b3a",
   "metadata": {
    "scrolled": true
   },
   "outputs": [
    {
     "name": "stdout",
     "output_type": "stream",
     "text": [
      "Ensemble STLSQ with Threshold 0.001\n",
      "(x0)' = 0.9964 x0_1 + 0.1052 x0_111 + 0.0012 x0x0x0_1 + 0.0650 x0x0x0_111\n"
     ]
    }
   ],
   "source": [
    "thresh = 1e-3\n",
    "SINDyImplementEnsemble(working_dat, fileStr,thresh)"
   ]
  },
  {
   "cell_type": "code",
   "execution_count": 38,
   "id": "a506ee1d",
   "metadata": {},
   "outputs": [
    {
     "name": "stdout",
     "output_type": "stream",
     "text": [
      "Ensemble STLSQ with Threshold 0.0005\n",
      "(x0)' = 0.9957 x0_1 + 0.1034 x0_111 + 0.0013 x0x0x0_1 + 0.0657 x0x0x0_111\n"
     ]
    }
   ],
   "source": [
    "thresh = 5e-4\n",
    "SINDyImplementEnsemble(working_dat, fileStr,thresh)"
   ]
  },
  {
   "cell_type": "markdown",
   "id": "5fe692e4",
   "metadata": {},
   "source": [
    "### Dataset 4"
   ]
  },
  {
   "cell_type": "code",
   "execution_count": 6,
   "id": "cc7bac00",
   "metadata": {},
   "outputs": [],
   "source": [
    "fileStr = \"2021-11-02T2311_smoothed_rad_4\"\n",
    "\n",
    "working_dat = np.load(\"/home/ldoyle/notebooks/channel_drift_5_min_clips/rad_4_smoothed_decimated_normalized_5_min_start_South-C1-LR-95km-P1kHz-GL50m-SP2m-FS200Hz_2021-11-02T231114Z.npy\")\n",
    "scaler_val = np.std(working_dat)\n",
    "working_dat = working_dat/scaler_val\n",
    "working_dat = working_dat.reshape(working_dat.shape[0],working_dat.shape[1],1)\n"
   ]
  },
  {
   "cell_type": "code",
   "execution_count": 7,
   "id": "e88cba94",
   "metadata": {
    "scrolled": true
   },
   "outputs": [
    {
     "name": "stdout",
     "output_type": "stream",
     "text": [
      "Ensemble STLSQ with Threshold 0.1\n",
      "(x0)' = 0.9979 x0_1 + 0.2165 x0_111\n"
     ]
    }
   ],
   "source": [
    "thresh = 1e-1\n",
    "SINDyImplementEnsemble(working_dat, fileStr,thresh)"
   ]
  },
  {
   "cell_type": "code",
   "execution_count": 8,
   "id": "d611109d",
   "metadata": {},
   "outputs": [
    {
     "name": "stdout",
     "output_type": "stream",
     "text": [
      "Ensemble STLSQ with Threshold 0.05\n",
      "(x0)' = 0.9983 x0_1 + 0.1853 x0_111 + 0.0612 x0x0x0_111\n"
     ]
    }
   ],
   "source": [
    "thresh = 5e-2\n",
    "SINDyImplementEnsemble(working_dat, fileStr,thresh)"
   ]
  },
  {
   "cell_type": "code",
   "execution_count": 9,
   "id": "8348c4a5",
   "metadata": {},
   "outputs": [
    {
     "name": "stdout",
     "output_type": "stream",
     "text": [
      "Ensemble STLSQ with Threshold 0.01\n",
      "(x0)' = 0.9980 x0_1 + 0.1815 x0_111 + 0.0624 x0x0x0_111\n"
     ]
    }
   ],
   "source": [
    "thresh = 1e-2\n",
    "SINDyImplementEnsemble(working_dat, fileStr,thresh)"
   ]
  },
  {
   "cell_type": "code",
   "execution_count": null,
   "id": "e9d9fbe6",
   "metadata": {
    "scrolled": true
   },
   "outputs": [],
   "source": [
    "thresh = 3e-3\n",
    "SINDyImplementEnsemble(working_dat, fileStr,thresh)"
   ]
  },
  {
   "cell_type": "code",
   "execution_count": null,
   "id": "bd4fe0eb",
   "metadata": {
    "scrolled": true
   },
   "outputs": [],
   "source": [
    "thresh = 1e-3\n",
    "SINDyImplementEnsemble(working_dat, fileStr,thresh)"
   ]
  },
  {
   "cell_type": "code",
   "execution_count": null,
   "id": "82a42e70",
   "metadata": {},
   "outputs": [],
   "source": [
    "thresh = 5e-4\n",
    "SINDyImplementEnsemble(working_dat, fileStr,thresh)"
   ]
  },
  {
   "cell_type": "markdown",
   "id": "a2d83d73",
   "metadata": {},
   "source": [
    "## Multifilt (radius 10 smooth)"
   ]
  },
  {
   "cell_type": "markdown",
   "id": "d34d49cc",
   "metadata": {},
   "source": [
    "### Dataset 1"
   ]
  },
  {
   "cell_type": "code",
   "execution_count": 6,
   "id": "4b849399",
   "metadata": {},
   "outputs": [],
   "source": [
    "fileStr = \"2021-11-01T2311_smoothed_rad_10\"\n",
    "\n",
    "working_dat = np.load(\"/home/ldoyle/notebooks/channel_drift_5_min_clips/rad_10_smoothed_decimated_normalized_5_min_start_South-C1-LR-95km-P1kHz-GL50m-SP2m-FS200Hz_2021-11-01T231114Z.npy\")\n",
    "scaler_val = np.std(working_dat)\n",
    "working_dat = working_dat/scaler_val\n",
    "working_dat = working_dat.reshape(working_dat.shape[0],working_dat.shape[1],1)\n"
   ]
  },
  {
   "cell_type": "code",
   "execution_count": 7,
   "id": "43401e43",
   "metadata": {},
   "outputs": [
    {
     "name": "stdout",
     "output_type": "stream",
     "text": [
      "Ensemble STLSQ with Threshold 0.01\n",
      "(x0)' = 0.9975 x0_1\n"
     ]
    }
   ],
   "source": [
    "thresh = 1e-2\n",
    "SINDyImplementEnsemble(working_dat, fileStr,thresh)"
   ]
  },
  {
   "cell_type": "code",
   "execution_count": 8,
   "id": "44352390",
   "metadata": {},
   "outputs": [
    {
     "name": "stdout",
     "output_type": "stream",
     "text": [
      "Ensemble STLSQ with Threshold 0.003\n",
      "(x0)' = 0.9976 x0_1\n"
     ]
    }
   ],
   "source": [
    "thresh = 3e-3\n",
    "SINDyImplementEnsemble(working_dat, fileStr,thresh)"
   ]
  },
  {
   "cell_type": "code",
   "execution_count": 9,
   "id": "e82fff93",
   "metadata": {
    "scrolled": true
   },
   "outputs": [
    {
     "name": "stdout",
     "output_type": "stream",
     "text": [
      "Ensemble STLSQ with Threshold 0.001\n",
      "(x0)' = 0.9962 x0_1 + -0.0011 x0_111 + 0.0016 x0x0x0_1\n"
     ]
    }
   ],
   "source": [
    "thresh = 1e-3\n",
    "SINDyImplementEnsemble(working_dat, fileStr,thresh)"
   ]
  },
  {
   "cell_type": "code",
   "execution_count": 10,
   "id": "d6570c06",
   "metadata": {},
   "outputs": [
    {
     "name": "stdout",
     "output_type": "stream",
     "text": [
      "Ensemble STLSQ with Threshold 0.0001\n",
      "(x0)' = 0.9961 x0_1 + -0.0011 x0_111 + 0.0016 x0x0x0_1\n"
     ]
    }
   ],
   "source": [
    "thresh = 1e-4\n",
    "SINDyImplementEnsemble(working_dat, fileStr,thresh)"
   ]
  },
  {
   "cell_type": "code",
   "execution_count": 11,
   "id": "ed96d81a",
   "metadata": {
    "scrolled": true
   },
   "outputs": [
    {
     "name": "stdout",
     "output_type": "stream",
     "text": [
      "Ensemble STLSQ with Threshold 1e-05\n",
      "(x0)' = 0.9960 x0_1 + -0.0011 x0_111 + 0.0017 x0x0x0_1\n"
     ]
    }
   ],
   "source": [
    "thresh = 1e-5\n",
    "SINDyImplementEnsemble(working_dat, fileStr,thresh)"
   ]
  },
  {
   "cell_type": "markdown",
   "id": "2313d211",
   "metadata": {},
   "source": [
    "### Dataset 2"
   ]
  },
  {
   "cell_type": "code",
   "execution_count": 12,
   "id": "ff6aa87b",
   "metadata": {},
   "outputs": [],
   "source": [
    "fileStr = \"2021-11-01T2321_smoothed_rad_10\"\n",
    "\n",
    "working_dat = np.load(\"/home/ldoyle/notebooks/channel_drift_5_min_clips/rad_10_smoothed_decimated_normalized_5_min_start_South-C1-LR-95km-P1kHz-GL50m-SP2m-FS200Hz_2021-11-01T232114Z.npy\")\n",
    "scaler_val = np.std(working_dat)\n",
    "working_dat = working_dat/scaler_val\n",
    "working_dat = working_dat.reshape(working_dat.shape[0],working_dat.shape[1],1)\n"
   ]
  },
  {
   "cell_type": "code",
   "execution_count": 13,
   "id": "06c687a3",
   "metadata": {},
   "outputs": [
    {
     "name": "stdout",
     "output_type": "stream",
     "text": [
      "Ensemble STLSQ with Threshold 0.01\n",
      "(x0)' = 0.9977 x0_1\n"
     ]
    }
   ],
   "source": [
    "thresh = 1e-2\n",
    "SINDyImplementEnsemble(working_dat, fileStr,thresh)"
   ]
  },
  {
   "cell_type": "code",
   "execution_count": 14,
   "id": "69955810",
   "metadata": {},
   "outputs": [
    {
     "name": "stdout",
     "output_type": "stream",
     "text": [
      "Ensemble STLSQ with Threshold 0.003\n",
      "(x0)' = 0.9978 x0_1\n"
     ]
    }
   ],
   "source": [
    "thresh = 3e-3\n",
    "SINDyImplementEnsemble(working_dat, fileStr,thresh)"
   ]
  },
  {
   "cell_type": "code",
   "execution_count": 15,
   "id": "51d0fe86",
   "metadata": {
    "scrolled": true
   },
   "outputs": [
    {
     "name": "stdout",
     "output_type": "stream",
     "text": [
      "Ensemble STLSQ with Threshold 0.001\n",
      "(x0)' = 0.9965 x0_1 + -0.0014 x0_111 + 0.0012 x0x0x0_1\n"
     ]
    }
   ],
   "source": [
    "thresh = 1e-3\n",
    "SINDyImplementEnsemble(working_dat, fileStr,thresh)"
   ]
  },
  {
   "cell_type": "code",
   "execution_count": 16,
   "id": "f023f5e8",
   "metadata": {},
   "outputs": [
    {
     "name": "stdout",
     "output_type": "stream",
     "text": [
      "Ensemble STLSQ with Threshold 0.0001\n",
      "(x0)' = 0.9965 x0_1 + -0.0014 x0_111 + 0.0012 x0x0x0_1\n"
     ]
    }
   ],
   "source": [
    "thresh = 1e-4\n",
    "SINDyImplementEnsemble(working_dat, fileStr,thresh)"
   ]
  },
  {
   "cell_type": "code",
   "execution_count": 17,
   "id": "0e744e72",
   "metadata": {},
   "outputs": [
    {
     "name": "stdout",
     "output_type": "stream",
     "text": [
      "Ensemble STLSQ with Threshold 1e-05\n",
      "(x0)' = 0.9965 x0_1 + -0.0013 x0_111 + 0.0012 x0x0x0_1\n"
     ]
    }
   ],
   "source": [
    "thresh = 1e-5\n",
    "SINDyImplementEnsemble(working_dat, fileStr,thresh)"
   ]
  },
  {
   "cell_type": "markdown",
   "id": "67765ae0",
   "metadata": {},
   "source": [
    "### Dataset 3"
   ]
  },
  {
   "cell_type": "code",
   "execution_count": 18,
   "id": "25977273",
   "metadata": {},
   "outputs": [],
   "source": [
    "fileStr = \"2021-11-02T0511_smoothed_rad_10\"\n",
    "\n",
    "working_dat = np.load(\"/home/ldoyle/notebooks/channel_drift_5_min_clips/rad_10_smoothed_decimated_normalized_5_min_start_South-C1-LR-95km-P1kHz-GL50m-SP2m-FS200Hz_2021-11-02T051114Z.npy\")\n",
    "scaler_val = np.std(working_dat)\n",
    "working_dat = working_dat/scaler_val\n",
    "working_dat = working_dat.reshape(working_dat.shape[0],working_dat.shape[1],1)\n"
   ]
  },
  {
   "cell_type": "code",
   "execution_count": 19,
   "id": "11e42e7f",
   "metadata": {},
   "outputs": [
    {
     "name": "stdout",
     "output_type": "stream",
     "text": [
      "Ensemble STLSQ with Threshold 0.01\n",
      "(x0)' = 0.9979 x0_1\n"
     ]
    }
   ],
   "source": [
    "thresh = 1e-2\n",
    "SINDyImplementEnsemble(working_dat, fileStr,thresh)"
   ]
  },
  {
   "cell_type": "code",
   "execution_count": 20,
   "id": "3ac69d41",
   "metadata": {},
   "outputs": [
    {
     "name": "stdout",
     "output_type": "stream",
     "text": [
      "Ensemble STLSQ with Threshold 0.003\n",
      "(x0)' = 0.9979 x0_1\n"
     ]
    }
   ],
   "source": [
    "thresh = 3e-3\n",
    "SINDyImplementEnsemble(working_dat, fileStr,thresh)"
   ]
  },
  {
   "cell_type": "code",
   "execution_count": 21,
   "id": "b5720fd9",
   "metadata": {
    "scrolled": true
   },
   "outputs": [
    {
     "name": "stdout",
     "output_type": "stream",
     "text": [
      "Ensemble STLSQ with Threshold 0.001\n",
      "(x0)' = 0.9978 x0_1 + -0.0014 x0_111\n"
     ]
    }
   ],
   "source": [
    "thresh = 1e-3\n",
    "SINDyImplementEnsemble(working_dat, fileStr,thresh)"
   ]
  },
  {
   "cell_type": "code",
   "execution_count": 22,
   "id": "ec80157d",
   "metadata": {},
   "outputs": [
    {
     "name": "stdout",
     "output_type": "stream",
     "text": [
      "Ensemble STLSQ with Threshold 0.0001\n",
      "(x0)' = 0.9968 x0_1 + -0.0014 x0_111\n"
     ]
    }
   ],
   "source": [
    "thresh = 1e-4\n",
    "SINDyImplementEnsemble(working_dat, fileStr,thresh)"
   ]
  },
  {
   "cell_type": "code",
   "execution_count": 23,
   "id": "7dc417ff",
   "metadata": {},
   "outputs": [
    {
     "name": "stdout",
     "output_type": "stream",
     "text": [
      "Ensemble STLSQ with Threshold 1e-05\n",
      "(x0)' = 0.9968 x0_1 + -0.0014 x0_111 + 0.0011 x0x0x0_1\n"
     ]
    }
   ],
   "source": [
    "thresh = 1e-5\n",
    "SINDyImplementEnsemble(working_dat, fileStr,thresh)"
   ]
  },
  {
   "cell_type": "markdown",
   "id": "28038fe2",
   "metadata": {},
   "source": [
    "### Dataset 4"
   ]
  },
  {
   "cell_type": "code",
   "execution_count": 24,
   "id": "21f7802e",
   "metadata": {},
   "outputs": [],
   "source": [
    "fileStr = \"2021-11-02T2311_smoothed_rad_10\"\n",
    "\n",
    "working_dat = np.load(\"/home/ldoyle/notebooks/channel_drift_5_min_clips/rad_10_smoothed_decimated_normalized_5_min_start_South-C1-LR-95km-P1kHz-GL50m-SP2m-FS200Hz_2021-11-02T231114Z.npy\")\n",
    "scaler_val = np.std(working_dat)\n",
    "working_dat = working_dat/scaler_val\n",
    "working_dat = working_dat.reshape(working_dat.shape[0],working_dat.shape[1],1)\n"
   ]
  },
  {
   "cell_type": "code",
   "execution_count": 25,
   "id": "a788b2cc",
   "metadata": {},
   "outputs": [
    {
     "name": "stdout",
     "output_type": "stream",
     "text": [
      "Ensemble STLSQ with Threshold 0.01\n",
      "(x0)' = 0.9985 x0_1\n"
     ]
    }
   ],
   "source": [
    "thresh = 1e-2\n",
    "SINDyImplementEnsemble(working_dat, fileStr,thresh)"
   ]
  },
  {
   "cell_type": "code",
   "execution_count": 26,
   "id": "178aba61",
   "metadata": {},
   "outputs": [
    {
     "name": "stdout",
     "output_type": "stream",
     "text": [
      "Ensemble STLSQ with Threshold 0.003\n",
      "(x0)' = 0.9985 x0_1\n"
     ]
    }
   ],
   "source": [
    "thresh = 3e-3\n",
    "SINDyImplementEnsemble(working_dat, fileStr,thresh)"
   ]
  },
  {
   "cell_type": "code",
   "execution_count": 27,
   "id": "c79d1352",
   "metadata": {
    "scrolled": true
   },
   "outputs": [
    {
     "name": "stdout",
     "output_type": "stream",
     "text": [
      "Ensemble STLSQ with Threshold 0.001\n",
      "(x0)' = 0.9984 x0_1 + -0.0021 x0_111\n"
     ]
    }
   ],
   "source": [
    "thresh = 1e-3\n",
    "SINDyImplementEnsemble(working_dat, fileStr,thresh)"
   ]
  },
  {
   "cell_type": "code",
   "execution_count": 28,
   "id": "ac55d6a5",
   "metadata": {},
   "outputs": [
    {
     "name": "stdout",
     "output_type": "stream",
     "text": [
      "Ensemble STLSQ with Threshold 0.0001\n",
      "(x0)' = 0.9977 x0_1 + -0.0020 x0_111\n"
     ]
    }
   ],
   "source": [
    "thresh = 1e-4\n",
    "SINDyImplementEnsemble(working_dat, fileStr,thresh)"
   ]
  },
  {
   "cell_type": "code",
   "execution_count": 29,
   "id": "9f0265f7",
   "metadata": {},
   "outputs": [
    {
     "name": "stdout",
     "output_type": "stream",
     "text": [
      "Ensemble STLSQ with Threshold 1e-05\n",
      "(x0)' = 0.9977 x0_1 + -0.0020 x0_111\n"
     ]
    }
   ],
   "source": [
    "thresh = 1e-5\n",
    "SINDyImplementEnsemble(working_dat, fileStr,thresh)"
   ]
  },
  {
   "cell_type": "code",
   "execution_count": null,
   "id": "fc6b7c9b",
   "metadata": {},
   "outputs": [],
   "source": []
  }
 ],
 "metadata": {
  "kernelspec": {
   "display_name": "Python 3",
   "language": "python",
   "name": "python3"
  },
  "language_info": {
   "codemirror_mode": {
    "name": "ipython",
    "version": 3
   },
   "file_extension": ".py",
   "mimetype": "text/x-python",
   "name": "python",
   "nbconvert_exporter": "python",
   "pygments_lexer": "ipython3",
   "version": "3.9.16"
  }
 },
 "nbformat": 4,
 "nbformat_minor": 5
}
