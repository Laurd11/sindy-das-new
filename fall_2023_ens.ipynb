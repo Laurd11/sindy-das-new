{
 "cells": [
  {
   "cell_type": "code",
   "execution_count": 1,
   "id": "f68d15c3",
   "metadata": {},
   "outputs": [],
   "source": [
    "import sys\n",
    "sys.path.insert(0, '/home/ldoyle/packages')\n",
    "import h5py\n",
    "import numpy as np\n",
    "from tqdm import tqdm\n",
    "import matplotlib\n",
    "import matplotlib.dates as mdates\n",
    "import matplotlib.pyplot as plt\n",
    "from sklearn.decomposition import PCA\n",
    "import pandas as pd\n",
    "import pysindy as ps\n",
    "from lr_ed import localreg\n",
    "from datetime import datetime\n",
    "from scipy.fft import fft, fftfreq,rfft2\n",
    "\n",
    "import scipy.signal as signal\n",
    "from obspy.signal import filter as obsfilt\n",
    "import glob\n"
   ]
  },
  {
   "cell_type": "code",
   "execution_count": 2,
   "id": "98f5eb5e",
   "metadata": {},
   "outputs": [
    {
     "data": {
      "text/plain": [
       "'1.3.0'"
      ]
     },
     "execution_count": 2,
     "metadata": {},
     "output_type": "execute_result"
    }
   ],
   "source": [
    "ps.__version__"
   ]
  },
  {
   "cell_type": "code",
   "execution_count": 3,
   "id": "6d6928da",
   "metadata": {},
   "outputs": [],
   "source": [
    "WEAK = False\n",
    "\n",
    "x_len = 5000\n",
    "t_len = 6000\n",
    "\n",
    "xs = np.arange(x_len)\n",
    "dt = 1\n",
    "\n",
    "library_functions = [lambda x: x, lambda x: x * x]\n",
    "library_function_names = [lambda x: x, lambda x: x + x]  \n",
    "\n",
    "if WEAK:\n",
    "    X, T = np.meshgrid(xs, np.arange(t_len))\n",
    "    XT = np.asarray([X, T]).T\n",
    "\n",
    "    pde_lib = ps.WeakPDELibrary(\n",
    "        library_functions=library_functions,\n",
    "        function_names=library_function_names,\n",
    "        derivative_order=4,\n",
    "        spatiotemporal_grid=XT,\n",
    "        is_uniform=True,\n",
    "        K=1000,\n",
    "    )\n",
    "else:\n",
    "    \n",
    "    pde_lib = ps.PDELibrary(\n",
    "        library_functions=library_functions,\n",
    "        function_names=library_function_names,\n",
    "        derivative_order=4,\n",
    "        spatial_grid=xs,\n",
    "        include_bias=True,\n",
    "        is_uniform=True,\n",
    "    )\n",
    "    "
   ]
  },
  {
   "cell_type": "code",
   "execution_count": 4,
   "id": "6996b9e0",
   "metadata": {},
   "outputs": [],
   "source": [
    "def printEnsemble(model, cut_off = 1e-3, median= False):\n",
    "    if median:\n",
    "        coefs = np.median(model.coef_list, axis=0)[0,:]\n",
    "    else:\n",
    "        coefs = np.mean(model.coef_list, axis=0)[0,:]\n",
    "    above_cut_off = np.argwhere(np.abs(coefs)>cut_off).flatten()\n",
    "    features =  model.get_feature_names()\n",
    "    equation_str= \"(x0)' = \"\n",
    "    for count, val in enumerate(above_cut_off):\n",
    "        if count >0:\n",
    "            equation_str+=\" + \"\n",
    "        equation_str+= \"{0:.4f}\".format(coefs[val])\n",
    "        equation_str+= \" \"+features[val]\n",
    "        \n",
    "    print(equation_str)"
   ]
  },
  {
   "cell_type": "code",
   "execution_count": 5,
   "id": "611e33ce",
   "metadata": {},
   "outputs": [],
   "source": [
    "def saveEnsemble(model,fileStr,thresh):\n",
    "    np.save(\"/home/ldoyle/notebooks/ensembleSINDyArrays_30_run4/\"+fileStr+\"_thresh_\"+\"{:.2E}\".format(thresh), model.coef_list)\n",
    "#     print(fileStr+\"_thresh_\"+\"{:.2E}\".format(thresh))"
   ]
  },
  {
   "cell_type": "code",
   "execution_count": 5,
   "id": "72a88349",
   "metadata": {},
   "outputs": [],
   "source": [
    "def SINDyImplementEnsemble(dataset, fileStr,thresh, alph=0.001, n_models=30, time_steps=400, stlsq_max =100,median=True):\n",
    "    optimizer = ps.STLSQ(threshold=thresh, alpha=alph, max_iter=stlsq_max)\n",
    "#     optimizer = ps.EnsembleOptimizer( opt=ps.STLSQ(threshold=thresh, alpha=alph, max_iter=stlsq_max),bagging=True,  n_models = n_models,n_subset =time_steps)  \n",
    "    model = ps.SINDy(feature_library=pde_lib, optimizer=optimizer, \n",
    "                     differentiation_method= ps.differentiation.SmoothedFiniteDifference())\n",
    "    model.fit(dataset, t=dt,ensemble=True, n_models=n_models, n_subset=time_steps)\n",
    "    print(\"Ensemble STLSQ with Threshold \"+str(thresh))\n",
    "    printEnsemble(model,median=median)\n",
    "#     saveEnsemble(model,fileStr,thresh)"
   ]
  },
  {
   "cell_type": "markdown",
   "id": "f60a6d9e",
   "metadata": {},
   "source": [
    "## Unfiltered"
   ]
  },
  {
   "cell_type": "markdown",
   "id": "441917af",
   "metadata": {},
   "source": [
    "### Dataset 1"
   ]
  },
  {
   "cell_type": "code",
   "execution_count": 6,
   "id": "bf4688d7",
   "metadata": {},
   "outputs": [],
   "source": [
    "path = \"/data/data2/south-data-ejm/hdd/South-C1-LR-95km-P1kHz-GL50m-SP2m-FS200Hz_2021-11-01T16_09_15-0700/\"\n",
    "\n",
    "fileStr = \"2021-11-01T2311_unfiltered\"\n",
    "\n",
    "init = 11\n",
    "final= 16\n",
    "\n",
    "time_subsample = 10\n",
    "full_dat = np.zeros((5000,(12000//time_subsample)*(final-init)))\n",
    "\n",
    "k = 0\n",
    "for i in np.arange(init,final):\n",
    "    file = \"South-C1-LR-95km-P1kHz-GL50m-SP2m-FS200Hz_2021-11-01T23\"+str(i)+\"14Z.h5\"\n",
    "    f = h5py.File(path+file, 'r')\n",
    "    data = f['Acquisition']['Raw[0]']['RawData'][:, :].astype('int64')\n",
    "#     timestamp = f['Acquisition']['Raw[0]']['RawDataTime'][:] / 1000000\n",
    "    f.close()\n",
    "    \n",
    "    full_dat[:,k*(12000//time_subsample):(k+1)*(12000//time_subsample)] = data[7500:12500,::time_subsample]\n",
    "    k+=1\n",
    "    \n",
    "working_dat = full_dat/np.std(full_dat)\n"
   ]
  },
  {
   "cell_type": "code",
   "execution_count": 7,
   "id": "14da64f2",
   "metadata": {},
   "outputs": [],
   "source": [
    "working_dat = working_dat.reshape(working_dat.shape[0],working_dat.shape[1],1)\n"
   ]
  },
  {
   "cell_type": "code",
   "execution_count": 8,
   "id": "2a73781d",
   "metadata": {},
   "outputs": [
    {
     "name": "stdout",
     "output_type": "stream",
     "text": [
      "Ensemble STLSQ with Threshold 0.1\n",
      "(x0)' = 0.6464 x0_1 + 0.3595 x0_111\n"
     ]
    }
   ],
   "source": [
    "thresh = 1.e-1\n",
    "SINDyImplementEnsemble(working_dat, fileStr,thresh)"
   ]
  },
  {
   "cell_type": "code",
   "execution_count": 9,
   "id": "fb39c35d",
   "metadata": {},
   "outputs": [
    {
     "name": "stdout",
     "output_type": "stream",
     "text": [
      "Ensemble STLSQ with Threshold 0.01\n",
      "(x0)' = 0.6285 x0_1 + 0.3505 x0_111 + 0.0134 x0x0x0_1\n"
     ]
    }
   ],
   "source": [
    "thresh = 1e-2\n",
    "SINDyImplementEnsemble(working_dat, fileStr,thresh)"
   ]
  },
  {
   "cell_type": "code",
   "execution_count": 10,
   "id": "bb6a744c",
   "metadata": {},
   "outputs": [
    {
     "name": "stdout",
     "output_type": "stream",
     "text": [
      "Ensemble STLSQ with Threshold 0.001\n",
      "(x0)' = 0.6340 x0_1 + 0.0148 x0_11 + 0.3466 x0_111 + 0.0033 x0_1111 + -0.0050 x0x0_1 + 0.0110 x0x0x0_1 + -0.0086 x0x0_11 + -0.0055 x0x0x0_11 + -0.0057 x0x0_111 + 0.0048 x0x0x0_111 + -0.0016 x0x0x0_1111\n"
     ]
    }
   ],
   "source": [
    "thresh = 1e-3\n",
    "SINDyImplementEnsemble(working_dat, fileStr,thresh)"
   ]
  },
  {
   "cell_type": "code",
   "execution_count": 11,
   "id": "25a04b5a",
   "metadata": {},
   "outputs": [
    {
     "name": "stdout",
     "output_type": "stream",
     "text": [
      "Ensemble STLSQ with Threshold 0.003\n",
      "(x0)' = 0.6380 x0_1 + 0.0053 x0_11 + 0.3511 x0_111 + 0.0049 x0_1111 + -0.0064 x0x0_1 + 0.0099 x0x0x0_1 + -0.0050 x0x0x0_11 + -0.0103 x0x0_111 + 0.0054 x0x0x0_111\n"
     ]
    }
   ],
   "source": [
    "thresh = 3e-3\n",
    "SINDyImplementEnsemble(working_dat, fileStr,thresh)"
   ]
  },
  {
   "cell_type": "code",
   "execution_count": 12,
   "id": "021867ef",
   "metadata": {},
   "outputs": [
    {
     "name": "stdout",
     "output_type": "stream",
     "text": [
      "Ensemble STLSQ with Threshold 0.005\n",
      "(x0)' = 0.6258 x0_1 + 0.3429 x0_111 + 0.0054 x0x0_1 + 0.0147 x0x0x0_1 + -0.0068 x0x0_11 + 0.0077 x0x0x0_111\n"
     ]
    }
   ],
   "source": [
    "thresh = 5e-3\n",
    "SINDyImplementEnsemble(working_dat, fileStr,thresh)"
   ]
  },
  {
   "cell_type": "markdown",
   "id": "dfcc7346",
   "metadata": {},
   "source": [
    "### Dataset 2"
   ]
  },
  {
   "cell_type": "code",
   "execution_count": 13,
   "id": "742af94a",
   "metadata": {},
   "outputs": [],
   "source": [
    "time_subsample = 10\n",
    "full_dat = np.zeros((5000,6000))\n",
    "fileStr = \"2021-11-01T2321_unfiltered\"\n",
    "\n",
    "\n",
    "k = 0\n",
    "for i in np.arange(21,26):\n",
    "    file = \"South-C1-LR-95km-P1kHz-GL50m-SP2m-FS200Hz_2021-11-01T23\"+str(i)+\"14Z.h5\"\n",
    "    f = h5py.File(path+file, 'r')\n",
    "    data = f['Acquisition']['Raw[0]']['RawData'][:, :].astype('int64')\n",
    "#     timestamp = f['Acquisition']['Raw[0]']['RawDataTime'][:] / 1000000\n",
    "    f.close()\n",
    "    \n",
    "    full_dat[:,k*(12000//time_subsample):(k+1)*(12000//time_subsample)] = data[7500:12500,::time_subsample]\n",
    "    k+=1\n",
    "    \n"
   ]
  },
  {
   "cell_type": "code",
   "execution_count": 14,
   "id": "89c6014e",
   "metadata": {},
   "outputs": [],
   "source": [
    "working_dat = full_dat/np.std(full_dat)#*10**6\n",
    "working_dat = working_dat.reshape(working_dat.shape[0],working_dat.shape[1],1)\n"
   ]
  },
  {
   "cell_type": "code",
   "execution_count": 15,
   "id": "f0281d6a",
   "metadata": {},
   "outputs": [
    {
     "name": "stdout",
     "output_type": "stream",
     "text": [
      "Ensemble STLSQ with Threshold 0.1\n",
      "(x0)' = 0.6682 x0_1 + 0.3816 x0_111\n"
     ]
    }
   ],
   "source": [
    "thresh = 1.e-1\n",
    "SINDyImplementEnsemble(working_dat, fileStr,thresh)"
   ]
  },
  {
   "cell_type": "code",
   "execution_count": 16,
   "id": "aca1e867",
   "metadata": {},
   "outputs": [
    {
     "name": "stdout",
     "output_type": "stream",
     "text": [
      "Ensemble STLSQ with Threshold 0.01\n",
      "(x0)' = 0.6782 x0_1 + 0.3846 x0_111\n"
     ]
    }
   ],
   "source": [
    "thresh = 1e-2\n",
    "SINDyImplementEnsemble(working_dat, fileStr,thresh)"
   ]
  },
  {
   "cell_type": "code",
   "execution_count": 17,
   "id": "966ae6d2",
   "metadata": {},
   "outputs": [
    {
     "name": "stdout",
     "output_type": "stream",
     "text": [
      "Ensemble STLSQ with Threshold 0.001\n",
      "(x0)' = 0.0024 x0 + 0.0018 x0x0 + 0.6693 x0_1 + 0.3838 x0_111 + 0.0039 x0x0_1 + 0.0063 x0x0x0_1 + 0.0064 x0x0_11 + -0.0123 x0x0_111 + 0.0032 x0x0x0_111 + 0.0026 x0x0_1111 + -0.0015 x0x0x0_1111\n"
     ]
    }
   ],
   "source": [
    "thresh = 1e-3\n",
    "SINDyImplementEnsemble(working_dat, fileStr,thresh)"
   ]
  },
  {
   "cell_type": "code",
   "execution_count": 18,
   "id": "c97e455e",
   "metadata": {},
   "outputs": [
    {
     "name": "stdout",
     "output_type": "stream",
     "text": [
      "Ensemble STLSQ with Threshold 0.003\n",
      "(x0)' = 0.6624 x0_1 + -0.0048 x0_11 + 0.3829 x0_111 + -0.0066 x0x0_1 + -0.0055 x0x0_11 + -0.0170 x0x0_111\n"
     ]
    }
   ],
   "source": [
    "thresh = 3e-3\n",
    "SINDyImplementEnsemble(working_dat, fileStr,thresh)"
   ]
  },
  {
   "cell_type": "code",
   "execution_count": 19,
   "id": "4cde3ffd",
   "metadata": {},
   "outputs": [
    {
     "name": "stdout",
     "output_type": "stream",
     "text": [
      "Ensemble STLSQ with Threshold 0.005\n",
      "(x0)' = 0.6674 x0_1 + 0.3748 x0_111 + 0.0067 x0x0x0_111\n"
     ]
    }
   ],
   "source": [
    "thresh = 5e-3\n",
    "SINDyImplementEnsemble(working_dat, fileStr,thresh)"
   ]
  },
  {
   "cell_type": "markdown",
   "id": "8d0d6037",
   "metadata": {},
   "source": [
    "## Drift Removal Load"
   ]
  },
  {
   "cell_type": "markdown",
   "id": "b1c178ed",
   "metadata": {},
   "source": [
    "### Dataset 1"
   ]
  },
  {
   "cell_type": "code",
   "execution_count": 6,
   "id": "cbf0347e",
   "metadata": {},
   "outputs": [],
   "source": [
    "fileStr = \"2021-11-01T2311_normal\"\n",
    "\n",
    "working_dat = np.load(\"/home/ldoyle/notebooks/channel_drift_5_min_clips/normalized_5_min_start_South-C1-LR-95km-P1kHz-GL50m-SP2m-FS200Hz_2021-11-01T231114Z.npy\")[:,::10]\n",
    "scaler_val = np.std(working_dat)\n",
    "working_dat = working_dat/scaler_val\n",
    "working_dat = working_dat.reshape(working_dat.shape[0],working_dat.shape[1],1)\n"
   ]
  },
  {
   "cell_type": "code",
   "execution_count": 7,
   "id": "468761ca",
   "metadata": {},
   "outputs": [
    {
     "data": {
      "text/plain": [
       "(5000, 6000, 1)"
      ]
     },
     "execution_count": 7,
     "metadata": {},
     "output_type": "execute_result"
    }
   ],
   "source": [
    "working_dat.shape"
   ]
  },
  {
   "cell_type": "code",
   "execution_count": 13,
   "id": "cb9aa479",
   "metadata": {},
   "outputs": [
    {
     "name": "stderr",
     "output_type": "stream",
     "text": [
      "/home/ldoyle/packages/pysindy/optimizers/stlsq.py:191: UserWarning: Sparsity parameter is too big (0.34) and eliminated all coefficients\n",
      "  warnings.warn(\n",
      "/home/ldoyle/packages/pysindy/optimizers/stlsq.py:191: UserWarning: Sparsity parameter is too big (0.34) and eliminated all coefficients\n",
      "  warnings.warn(\n",
      "/home/ldoyle/packages/pysindy/optimizers/stlsq.py:191: UserWarning: Sparsity parameter is too big (0.34) and eliminated all coefficients\n",
      "  warnings.warn(\n",
      "/home/ldoyle/packages/pysindy/optimizers/stlsq.py:191: UserWarning: Sparsity parameter is too big (0.34) and eliminated all coefficients\n",
      "  warnings.warn(\n",
      "/home/ldoyle/packages/pysindy/optimizers/stlsq.py:191: UserWarning: Sparsity parameter is too big (0.34) and eliminated all coefficients\n",
      "  warnings.warn(\n",
      "/home/ldoyle/packages/pysindy/optimizers/stlsq.py:191: UserWarning: Sparsity parameter is too big (0.34) and eliminated all coefficients\n",
      "  warnings.warn(\n",
      "/home/ldoyle/packages/pysindy/optimizers/stlsq.py:191: UserWarning: Sparsity parameter is too big (0.34) and eliminated all coefficients\n",
      "  warnings.warn(\n",
      "/home/ldoyle/packages/pysindy/optimizers/stlsq.py:191: UserWarning: Sparsity parameter is too big (0.34) and eliminated all coefficients\n",
      "  warnings.warn(\n",
      "/home/ldoyle/packages/pysindy/optimizers/stlsq.py:191: UserWarning: Sparsity parameter is too big (0.34) and eliminated all coefficients\n",
      "  warnings.warn(\n",
      "/home/ldoyle/packages/pysindy/optimizers/stlsq.py:191: UserWarning: Sparsity parameter is too big (0.34) and eliminated all coefficients\n",
      "  warnings.warn(\n",
      "/home/ldoyle/packages/pysindy/optimizers/stlsq.py:191: UserWarning: Sparsity parameter is too big (0.34) and eliminated all coefficients\n",
      "  warnings.warn(\n",
      "/home/ldoyle/packages/pysindy/optimizers/stlsq.py:191: UserWarning: Sparsity parameter is too big (0.34) and eliminated all coefficients\n",
      "  warnings.warn(\n",
      "/home/ldoyle/packages/pysindy/optimizers/stlsq.py:191: UserWarning: Sparsity parameter is too big (0.34) and eliminated all coefficients\n",
      "  warnings.warn(\n",
      "/home/ldoyle/packages/pysindy/optimizers/stlsq.py:191: UserWarning: Sparsity parameter is too big (0.34) and eliminated all coefficients\n",
      "  warnings.warn(\n",
      "/home/ldoyle/packages/pysindy/optimizers/stlsq.py:191: UserWarning: Sparsity parameter is too big (0.34) and eliminated all coefficients\n",
      "  warnings.warn(\n",
      "/home/ldoyle/packages/pysindy/optimizers/stlsq.py:191: UserWarning: Sparsity parameter is too big (0.34) and eliminated all coefficients\n",
      "  warnings.warn(\n"
     ]
    },
    {
     "name": "stdout",
     "output_type": "stream",
     "text": [
      "Ensemble STLSQ with Threshold 0.34\n",
      "(x0)' = \n"
     ]
    },
    {
     "name": "stderr",
     "output_type": "stream",
     "text": [
      "/home/ldoyle/packages/pysindy/optimizers/stlsq.py:191: UserWarning: Sparsity parameter is too big (0.34) and eliminated all coefficients\n",
      "  warnings.warn(\n"
     ]
    }
   ],
   "source": [
    "thresh = 3.4e-1\n",
    "SINDyImplementEnsemble(working_dat, fileStr,thresh)"
   ]
  },
  {
   "cell_type": "code",
   "execution_count": 21,
   "id": "a8e0dbae",
   "metadata": {},
   "outputs": [
    {
     "name": "stdout",
     "output_type": "stream",
     "text": [
      "Ensemble STLSQ with Threshold 0.1\n",
      "(x0)' = 0.6865 x0_1 + 0.3235 x0_111\n"
     ]
    }
   ],
   "source": [
    "thresh = 1e-1\n",
    "SINDyImplementEnsemble(working_dat, fileStr,thresh)"
   ]
  },
  {
   "cell_type": "code",
   "execution_count": 22,
   "id": "8961e0ce",
   "metadata": {},
   "outputs": [
    {
     "name": "stdout",
     "output_type": "stream",
     "text": [
      "Ensemble STLSQ with Threshold 0.01\n",
      "(x0)' = 0.7044 x0_1 + 0.3334 x0_111\n"
     ]
    }
   ],
   "source": [
    "thresh = 1e-2\n",
    "SINDyImplementEnsemble(working_dat, fileStr,thresh)"
   ]
  },
  {
   "cell_type": "code",
   "execution_count": 23,
   "id": "d9b805d7",
   "metadata": {},
   "outputs": [
    {
     "name": "stdout",
     "output_type": "stream",
     "text": [
      "Ensemble STLSQ with Threshold 0.005\n",
      "(x0)' = 0.7024 x0_1 + 0.3347 x0_111 + -0.0150 x0x0x0_1 + -0.0065 x0x0x0_111\n"
     ]
    }
   ],
   "source": [
    "thresh = 5e-3\n",
    "SINDyImplementEnsemble(working_dat, fileStr,thresh)"
   ]
  },
  {
   "cell_type": "code",
   "execution_count": 7,
   "id": "14b1190c",
   "metadata": {},
   "outputs": [
    {
     "name": "stdout",
     "output_type": "stream",
     "text": [
      "Ensemble STLSQ with Threshold 0.003\n",
      "(x0)' = 0.7021 x0_1 + 0.0029 x0_11 + 0.3283 x0_111 + -0.0092 x0x0_1 + -0.0103 x0x0x0_1 + 0.0048 x0x0_11 + -0.0073 x0x0x0_11 + 0.0019 x0x0_111 + -0.0061 x0x0x0_111\n"
     ]
    }
   ],
   "source": [
    "thresh = 3e-3\n",
    "SINDyImplementEnsemble(working_dat, fileStr,thresh)"
   ]
  },
  {
   "cell_type": "code",
   "execution_count": 25,
   "id": "5731cbe2",
   "metadata": {},
   "outputs": [
    {
     "name": "stdout",
     "output_type": "stream",
     "text": [
      "Ensemble STLSQ with Threshold 0.001\n",
      "(x0)' = 0.7218 x0_1 + -0.0073 x0_11 + 0.3467 x0_111 + -0.0030 x0_1111 + 0.0012 x0x0_1 + -0.0205 x0x0x0_1 + -0.0075 x0x0_11 + -0.0128 x0x0x0_111 + -0.0024 x0x0_1111\n"
     ]
    }
   ],
   "source": [
    "thresh = 1e-3\n",
    "SINDyImplementEnsemble(working_dat, fileStr,thresh)"
   ]
  },
  {
   "cell_type": "markdown",
   "id": "331f62c6",
   "metadata": {},
   "source": [
    "### Dataset 2"
   ]
  },
  {
   "cell_type": "code",
   "execution_count": 8,
   "id": "12a8e7b0",
   "metadata": {},
   "outputs": [],
   "source": [
    "fileStr = \"2021-11-01T2321_normal\"\n",
    "\n",
    "working_dat = np.load(\"/home/ldoyle/notebooks/channel_drift_5_min_clips/normalized_5_min_start_South-C1-LR-95km-P1kHz-GL50m-SP2m-FS200Hz_2021-11-01T232114Z.npy\")[:,::10]\n",
    "scaler_val = np.std(working_dat)\n",
    "working_dat = working_dat/scaler_val\n",
    "working_dat = working_dat.reshape(working_dat.shape[0],working_dat.shape[1],1)\n"
   ]
  },
  {
   "cell_type": "code",
   "execution_count": 27,
   "id": "e408ed3b",
   "metadata": {},
   "outputs": [
    {
     "name": "stdout",
     "output_type": "stream",
     "text": [
      "Ensemble STLSQ with Threshold 0.1\n",
      "(x0)' = 0.6570 x0_1 + 0.3089 x0_111\n"
     ]
    }
   ],
   "source": [
    "thresh = 1e-1\n",
    "SINDyImplementEnsemble(working_dat, fileStr,thresh)"
   ]
  },
  {
   "cell_type": "code",
   "execution_count": 28,
   "id": "1717834c",
   "metadata": {},
   "outputs": [
    {
     "name": "stdout",
     "output_type": "stream",
     "text": [
      "Ensemble STLSQ with Threshold 0.01\n",
      "(x0)' = 0.6825 x0_1 + 0.3204 x0_111\n"
     ]
    }
   ],
   "source": [
    "thresh = 1e-2\n",
    "SINDyImplementEnsemble(working_dat, fileStr,thresh)"
   ]
  },
  {
   "cell_type": "code",
   "execution_count": 29,
   "id": "37eb3f6c",
   "metadata": {},
   "outputs": [
    {
     "name": "stdout",
     "output_type": "stream",
     "text": [
      "Ensemble STLSQ with Threshold 0.005\n",
      "(x0)' = 0.6703 x0_1 + 0.3235 x0_111 + -0.0109 x0x0_1\n"
     ]
    }
   ],
   "source": [
    "thresh = 5e-3\n",
    "SINDyImplementEnsemble(working_dat, fileStr,thresh)"
   ]
  },
  {
   "cell_type": "code",
   "execution_count": 9,
   "id": "4691869f",
   "metadata": {},
   "outputs": [
    {
     "name": "stdout",
     "output_type": "stream",
     "text": [
      "Ensemble STLSQ with Threshold 0.003\n",
      "(x0)' = 0.6844 x0_1 + 0.3123 x0_111 + -0.0020 x0_1111 + -0.0072 x0x0x0_1 + -0.0072 x0x0_11\n"
     ]
    }
   ],
   "source": [
    "thresh = 3e-3\n",
    "SINDyImplementEnsemble(working_dat, fileStr,thresh)"
   ]
  },
  {
   "cell_type": "code",
   "execution_count": 31,
   "id": "c63d705b",
   "metadata": {},
   "outputs": [
    {
     "name": "stdout",
     "output_type": "stream",
     "text": [
      "Ensemble STLSQ with Threshold 0.001\n",
      "(x0)' = 0.6703 x0_1 + -0.0082 x0_11 + 0.3131 x0_111 + 0.0020 x0x0_1 + 0.0105 x0x0x0_1 + -0.0137 x0x0_11 + -0.0042 x0x0x0_11 + -0.0056 x0x0_111 + 0.0087 x0x0x0_111 + -0.0039 x0x0_1111\n"
     ]
    }
   ],
   "source": [
    "thresh = 1e-3\n",
    "SINDyImplementEnsemble(working_dat, fileStr,thresh)"
   ]
  },
  {
   "cell_type": "markdown",
   "id": "ef3fbbe0",
   "metadata": {},
   "source": [
    "### Dataset 3"
   ]
  },
  {
   "cell_type": "code",
   "execution_count": 10,
   "id": "6bfb3c54",
   "metadata": {},
   "outputs": [],
   "source": [
    "fileStr = \"2021-11-02T0511_normal\"\n",
    "\n",
    "working_dat = np.load(\"/home/ldoyle/notebooks/channel_drift_5_min_clips/normalized_5_min_start_South-C1-LR-95km-P1kHz-GL50m-SP2m-FS200Hz_2021-11-02T051114Z.npy\")[:,::10]\n",
    "scaler_val = np.std(working_dat)\n",
    "working_dat = working_dat/scaler_val\n",
    "working_dat = working_dat.reshape(working_dat.shape[0],working_dat.shape[1],1)\n"
   ]
  },
  {
   "cell_type": "code",
   "execution_count": 33,
   "id": "7dec3790",
   "metadata": {
    "scrolled": true
   },
   "outputs": [
    {
     "name": "stdout",
     "output_type": "stream",
     "text": [
      "Ensemble STLSQ with Threshold 0.1\n",
      "(x0)' = 0.6833 x0_1 + 0.3208 x0_111\n"
     ]
    }
   ],
   "source": [
    "thresh = 1e-1\n",
    "SINDyImplementEnsemble(working_dat, fileStr,thresh)"
   ]
  },
  {
   "cell_type": "code",
   "execution_count": 34,
   "id": "2f91a741",
   "metadata": {},
   "outputs": [
    {
     "name": "stdout",
     "output_type": "stream",
     "text": [
      "Ensemble STLSQ with Threshold 0.01\n",
      "(x0)' = 0.6788 x0_1 + 0.3229 x0_111\n"
     ]
    }
   ],
   "source": [
    "thresh = 1e-2\n",
    "SINDyImplementEnsemble(working_dat, fileStr,thresh)"
   ]
  },
  {
   "cell_type": "code",
   "execution_count": 35,
   "id": "6a3c81ef",
   "metadata": {},
   "outputs": [
    {
     "name": "stdout",
     "output_type": "stream",
     "text": [
      "Ensemble STLSQ with Threshold 0.005\n",
      "(x0)' = 0.6946 x0_1 + 0.3302 x0_111 + -0.0155 x0x0x0_1\n"
     ]
    }
   ],
   "source": [
    "thresh = 5e-3\n",
    "SINDyImplementEnsemble(working_dat, fileStr,thresh)"
   ]
  },
  {
   "cell_type": "code",
   "execution_count": 11,
   "id": "1096baf0",
   "metadata": {},
   "outputs": [
    {
     "name": "stdout",
     "output_type": "stream",
     "text": [
      "Ensemble STLSQ with Threshold 0.003\n",
      "(x0)' = 0.7055 x0_1 + 0.0108 x0_11 + 0.3352 x0_111 + 0.0107 x0x0_1 + -0.0167 x0x0x0_1 + 0.0087 x0x0_111 + -0.0050 x0x0x0_111\n"
     ]
    }
   ],
   "source": [
    "thresh = 3e-3\n",
    "SINDyImplementEnsemble(working_dat, fileStr,thresh)"
   ]
  },
  {
   "cell_type": "code",
   "execution_count": 37,
   "id": "81994fd2",
   "metadata": {},
   "outputs": [
    {
     "name": "stdout",
     "output_type": "stream",
     "text": [
      "Ensemble STLSQ with Threshold 0.001\n",
      "(x0)' = 0.6881 x0_1 + -0.0075 x0_11 + 0.3260 x0_111 + 0.0018 x0x0_1 + -0.0077 x0x0x0_1 + -0.0087 x0x0_11 + 0.0101 x0x0x0_11 + -0.0025 x0x0x0_111 + -0.0040 x0x0_1111 + 0.0021 x0x0x0_1111\n"
     ]
    }
   ],
   "source": [
    "thresh = 1e-3\n",
    "SINDyImplementEnsemble(working_dat, fileStr,thresh)"
   ]
  },
  {
   "cell_type": "markdown",
   "id": "de977dca",
   "metadata": {},
   "source": [
    "### Dataset 4"
   ]
  },
  {
   "cell_type": "code",
   "execution_count": 46,
   "id": "ad81d789",
   "metadata": {},
   "outputs": [],
   "source": [
    "fileStr = \"2021-11-02T2311_normal\"\n",
    "\n",
    "working_dat = np.load(\"/home/ldoyle/notebooks/channel_drift_5_min_clips/normalized_5_min_start_South-C1-LR-95km-P1kHz-GL50m-SP2m-FS200Hz_2021-11-02T231114Z.npy\")[:,::10]\n",
    "scaler_val = np.std(working_dat)\n",
    "working_dat = working_dat/scaler_val\n",
    "working_dat = working_dat.reshape(working_dat.shape[0],working_dat.shape[1],1)\n"
   ]
  },
  {
   "cell_type": "code",
   "execution_count": 39,
   "id": "a7cbd268",
   "metadata": {},
   "outputs": [
    {
     "name": "stdout",
     "output_type": "stream",
     "text": [
      "Ensemble STLSQ with Threshold 0.1\n",
      "(x0)' = 0.6135 x0_1 + 0.2843 x0_111\n"
     ]
    }
   ],
   "source": [
    "thresh = 1e-1\n",
    "SINDyImplementEnsemble(working_dat, fileStr,thresh)"
   ]
  },
  {
   "cell_type": "code",
   "execution_count": 40,
   "id": "b3c05a31",
   "metadata": {},
   "outputs": [
    {
     "name": "stdout",
     "output_type": "stream",
     "text": [
      "Ensemble STLSQ with Threshold 0.01\n",
      "(x0)' = 0.6263 x0_1 + 0.2939 x0_111\n"
     ]
    }
   ],
   "source": [
    "thresh = 1e-2\n",
    "SINDyImplementEnsemble(working_dat, fileStr,thresh)"
   ]
  },
  {
   "cell_type": "code",
   "execution_count": 41,
   "id": "d52e883f",
   "metadata": {},
   "outputs": [
    {
     "name": "stdout",
     "output_type": "stream",
     "text": [
      "Ensemble STLSQ with Threshold 0.005\n",
      "(x0)' = 0.6301 x0_1 + 0.2984 x0_111 + -0.0071 x0x0x0_1 + -0.0031 x0x0x0_111\n"
     ]
    }
   ],
   "source": [
    "thresh = 5e-3\n",
    "SINDyImplementEnsemble(working_dat, fileStr,thresh)"
   ]
  },
  {
   "cell_type": "code",
   "execution_count": 13,
   "id": "456e216f",
   "metadata": {
    "scrolled": true
   },
   "outputs": [
    {
     "name": "stdout",
     "output_type": "stream",
     "text": [
      "Ensemble STLSQ with Threshold 0.003\n",
      "(x0)' = 0.6280 x0_1 + -0.0083 x0_11 + 0.3049 x0_111 + -0.0019 x0x0_1 + -0.0049 x0x0_111\n"
     ]
    }
   ],
   "source": [
    "thresh = 3e-3\n",
    "SINDyImplementEnsemble(working_dat, fileStr,thresh)"
   ]
  },
  {
   "cell_type": "code",
   "execution_count": 43,
   "id": "231da378",
   "metadata": {},
   "outputs": [
    {
     "name": "stdout",
     "output_type": "stream",
     "text": [
      "Ensemble STLSQ with Threshold 0.001\n",
      "(x0)' = 0.6362 x0_1 + -0.0013 x0_11 + 0.2929 x0_111 + 0.0049 x0x0_1 + -0.0058 x0x0x0_1 + 0.0029 x0x0_11 + -0.0034 x0x0x0_11 + 0.0062 x0x0_111 + -0.0043 x0x0x0_111 + 0.0020 x0x0_1111\n"
     ]
    }
   ],
   "source": [
    "thresh = 1e-3\n",
    "SINDyImplementEnsemble(working_dat, fileStr,thresh)"
   ]
  },
  {
   "cell_type": "markdown",
   "id": "9048546b",
   "metadata": {},
   "source": [
    "## Multifilt"
   ]
  },
  {
   "cell_type": "markdown",
   "id": "3d360055",
   "metadata": {},
   "source": [
    "### Dataset 1"
   ]
  },
  {
   "cell_type": "code",
   "execution_count": 7,
   "id": "f0dc58eb",
   "metadata": {},
   "outputs": [],
   "source": [
    "fileStr = \"2021-11-01T2311_smoothed_rad_4\"\n",
    "\n",
    "working_dat = np.load(\"/home/ldoyle/notebooks/channel_drift_5_min_clips/rad_4_smoothed_decimated_normalized_5_min_start_South-C1-LR-95km-P1kHz-GL50m-SP2m-FS200Hz_2021-11-01T231114Z.npy\")\n",
    "scaler_val = np.std(working_dat)\n",
    "working_dat = working_dat/scaler_val\n",
    "working_dat = working_dat.reshape(working_dat.shape[0],working_dat.shape[1],1)\n"
   ]
  },
  {
   "cell_type": "code",
   "execution_count": 45,
   "id": "a99569cb",
   "metadata": {
    "scrolled": true
   },
   "outputs": [
    {
     "name": "stdout",
     "output_type": "stream",
     "text": [
      "Ensemble STLSQ with Threshold 0.1\n",
      "(x0)' = 0.9962 x0_1\n"
     ]
    }
   ],
   "source": [
    "thresh = 1e-1\n",
    "SINDyImplementEnsemble(working_dat, fileStr,thresh)"
   ]
  },
  {
   "cell_type": "code",
   "execution_count": 8,
   "id": "7518b249",
   "metadata": {},
   "outputs": [
    {
     "name": "stdout",
     "output_type": "stream",
     "text": [
      "Ensemble STLSQ with Threshold 0.08\n",
      "(x0)' = 0.9964 x0_1 + 0.1028 x0_111\n"
     ]
    }
   ],
   "source": [
    "thresh = 8e-2\n",
    "SINDyImplementEnsemble(working_dat, fileStr,thresh)"
   ]
  },
  {
   "cell_type": "code",
   "execution_count": 46,
   "id": "fa209c0e",
   "metadata": {},
   "outputs": [
    {
     "name": "stdout",
     "output_type": "stream",
     "text": [
      "Ensemble STLSQ with Threshold 0.05\n",
      "(x0)' = 0.9970 x0_1 + 0.0873 x0_111 + 0.0639 x0x0x0_111\n"
     ]
    }
   ],
   "source": [
    "thresh = 5e-2\n",
    "SINDyImplementEnsemble(working_dat, fileStr,thresh)"
   ]
  },
  {
   "cell_type": "code",
   "execution_count": 20,
   "id": "eecbd2c9",
   "metadata": {},
   "outputs": [
    {
     "name": "stdout",
     "output_type": "stream",
     "text": [
      "Ensemble STLSQ with Threshold 0.01\n",
      "(x0)' = 0.9968 x0_1 + 0.0838 x0_111 + 0.0614 x0x0x0_111\n"
     ]
    }
   ],
   "source": [
    "thresh = 1e-2\n",
    "SINDyImplementEnsemble(working_dat, fileStr,thresh)"
   ]
  },
  {
   "cell_type": "code",
   "execution_count": 48,
   "id": "4407b1f2",
   "metadata": {
    "scrolled": true
   },
   "outputs": [
    {
     "name": "stdout",
     "output_type": "stream",
     "text": [
      "Ensemble STLSQ with Threshold 0.003\n",
      "(x0)' = 0.9968 x0_1 + 0.0830 x0_111 + 0.0636 x0x0x0_111\n"
     ]
    }
   ],
   "source": [
    "thresh = 3e-3\n",
    "SINDyImplementEnsemble(working_dat, fileStr,thresh)"
   ]
  },
  {
   "cell_type": "code",
   "execution_count": 49,
   "id": "0a272cd3",
   "metadata": {
    "scrolled": true
   },
   "outputs": [
    {
     "name": "stdout",
     "output_type": "stream",
     "text": [
      "Ensemble STLSQ with Threshold 0.001\n",
      "(x0)' = 0.9952 x0_1 + 0.0863 x0_111 + 0.0018 x0x0x0_1 + -0.0022 x0x0_111 + 0.0687 x0x0x0_111\n"
     ]
    }
   ],
   "source": [
    "thresh = 1e-3\n",
    "SINDyImplementEnsemble(working_dat, fileStr,thresh)"
   ]
  },
  {
   "cell_type": "code",
   "execution_count": 50,
   "id": "2ef33b3a",
   "metadata": {},
   "outputs": [
    {
     "name": "stdout",
     "output_type": "stream",
     "text": [
      "Ensemble STLSQ with Threshold 0.0005\n",
      "(x0)' = 0.9950 x0_1 + -0.0027 x0_11 + 0.0838 x0_111 + 0.0019 x0x0x0_1 + -0.0029 x0x0_111 + 0.0692 x0x0x0_111\n"
     ]
    }
   ],
   "source": [
    "thresh = 5e-4\n",
    "SINDyImplementEnsemble(working_dat, fileStr,thresh)"
   ]
  },
  {
   "cell_type": "markdown",
   "id": "54b376b3",
   "metadata": {},
   "source": [
    "### Dataset 2"
   ]
  },
  {
   "cell_type": "code",
   "execution_count": 9,
   "id": "6f738683",
   "metadata": {},
   "outputs": [],
   "source": [
    "fileStr = \"2021-11-01T2321_smoothed_rad_4\"\n",
    "\n",
    "working_dat = np.load(\"/home/ldoyle/notebooks/channel_drift_5_min_clips/rad_4_smoothed_decimated_normalized_5_min_start_South-C1-LR-95km-P1kHz-GL50m-SP2m-FS200Hz_2021-11-01T232114Z.npy\")\n",
    "scaler_val = np.std(working_dat)\n",
    "working_dat = working_dat/scaler_val\n",
    "working_dat = working_dat.reshape(working_dat.shape[0],working_dat.shape[1],1)\n"
   ]
  },
  {
   "cell_type": "code",
   "execution_count": 8,
   "id": "39856838",
   "metadata": {
    "scrolled": true
   },
   "outputs": [
    {
     "name": "stdout",
     "output_type": "stream",
     "text": [
      "Ensemble STLSQ with Threshold 0.1\n",
      "(x0)' = 0.9963 x0_1\n"
     ]
    }
   ],
   "source": [
    "thresh = 1e-1\n",
    "SINDyImplementEnsemble(working_dat, fileStr,thresh)"
   ]
  },
  {
   "cell_type": "code",
   "execution_count": 10,
   "id": "3290eec7",
   "metadata": {},
   "outputs": [
    {
     "name": "stdout",
     "output_type": "stream",
     "text": [
      "Ensemble STLSQ with Threshold 0.08\n",
      "(x0)' = 0.9967 x0_1 + 0.1205 x0_111\n"
     ]
    }
   ],
   "source": [
    "thresh = 8e-2\n",
    "SINDyImplementEnsemble(working_dat, fileStr,thresh)"
   ]
  },
  {
   "cell_type": "code",
   "execution_count": 28,
   "id": "e5678bee",
   "metadata": {},
   "outputs": [
    {
     "name": "stdout",
     "output_type": "stream",
     "text": [
      "Ensemble STLSQ with Threshold 0.05\n",
      "(x0)' = 0.9972 x0_1 + 0.0992 x0_111 + 0.0609 x0x0x0_111\n"
     ]
    }
   ],
   "source": [
    "thresh = 5e-2\n",
    "SINDyImplementEnsemble(working_dat, fileStr,thresh)"
   ]
  },
  {
   "cell_type": "code",
   "execution_count": 22,
   "id": "1d106c2a",
   "metadata": {},
   "outputs": [
    {
     "name": "stdout",
     "output_type": "stream",
     "text": [
      "Ensemble STLSQ with Threshold 0.01\n",
      "(x0)' = 0.9970 x0_1 + 0.0944 x0_111 + 0.0605 x0x0x0_111\n"
     ]
    }
   ],
   "source": [
    "thresh = 1e-2\n",
    "SINDyImplementEnsemble(working_dat, fileStr,thresh)"
   ]
  },
  {
   "cell_type": "code",
   "execution_count": 14,
   "id": "9111d1e8",
   "metadata": {
    "scrolled": true
   },
   "outputs": [
    {
     "name": "stdout",
     "output_type": "stream",
     "text": [
      "Ensemble STLSQ with Threshold 0.003\n",
      "(x0)' = 0.9972 x0_1 + 0.0971 x0_111 + 0.0625 x0x0x0_111\n"
     ]
    }
   ],
   "source": [
    "thresh = 3e-3\n",
    "SINDyImplementEnsemble(working_dat, fileStr,thresh)"
   ]
  },
  {
   "cell_type": "code",
   "execution_count": 8,
   "id": "75b5f191",
   "metadata": {
    "scrolled": true
   },
   "outputs": [
    {
     "name": "stdout",
     "output_type": "stream",
     "text": [
      "Ensemble STLSQ with Threshold 0.001\n",
      "(x0)' = 0.9957 x0_1 + 0.0955 x0_111 + 0.0015 x0x0x0_1 + 0.0703 x0x0x0_111\n"
     ]
    }
   ],
   "source": [
    "thresh = 1e-3\n",
    "SINDyImplementEnsemble(working_dat, fileStr,thresh)"
   ]
  },
  {
   "cell_type": "code",
   "execution_count": 9,
   "id": "0ed5b4d2",
   "metadata": {},
   "outputs": [
    {
     "name": "stdout",
     "output_type": "stream",
     "text": [
      "Ensemble STLSQ with Threshold 0.0005\n",
      "(x0)' = 0.9956 x0_1 + 0.0985 x0_111 + 0.0016 x0x0x0_1 + -0.0010 x0x0_111 + 0.0688 x0x0x0_111\n"
     ]
    }
   ],
   "source": [
    "thresh = 5e-4\n",
    "SINDyImplementEnsemble(working_dat, fileStr,thresh)"
   ]
  },
  {
   "cell_type": "code",
   "execution_count": 34,
   "id": "6b5a10d2",
   "metadata": {
    "scrolled": true
   },
   "outputs": [
    {
     "name": "stdout",
     "output_type": "stream",
     "text": [
      "Ensemble STLSQ with Threshold 0.8\n",
      "(x0)' = 0.9857 x0_1\n"
     ]
    }
   ],
   "source": [
    "thresh = 8e-1\n",
    "SINDyImplementEnsemble(working_dat, fileStr,thresh)"
   ]
  },
  {
   "cell_type": "code",
   "execution_count": 35,
   "id": "d9abd0a0",
   "metadata": {},
   "outputs": [
    {
     "name": "stdout",
     "output_type": "stream",
     "text": [
      "Ensemble STLSQ with Threshold 0.5\n",
      "(x0)' = 0.9901 x0_1 + 0.7876 x0_111\n"
     ]
    }
   ],
   "source": [
    "thresh = 5e-1\n",
    "SINDyImplementEnsemble(working_dat, fileStr,thresh)"
   ]
  },
  {
   "cell_type": "code",
   "execution_count": 36,
   "id": "aa945f0a",
   "metadata": {},
   "outputs": [
    {
     "name": "stdout",
     "output_type": "stream",
     "text": [
      "Ensemble STLSQ with Threshold 0.1\n",
      "(x0)' = 0.9913 x0_1 + 0.2486 x0_11 + 0.6362 x0_111 + 0.4078 x0x0x0_111\n"
     ]
    }
   ],
   "source": [
    "thresh = 1e-1\n",
    "SINDyImplementEnsemble(working_dat, fileStr,thresh)"
   ]
  },
  {
   "cell_type": "code",
   "execution_count": 37,
   "id": "5d62ee1c",
   "metadata": {
    "scrolled": true
   },
   "outputs": [
    {
     "name": "stdout",
     "output_type": "stream",
     "text": [
      "Ensemble STLSQ with Threshold 0.05\n",
      "(x0)' = 0.9920 x0_1 + 0.2425 x0_11 + 0.6415 x0_111 + 0.4103 x0x0x0_111\n"
     ]
    }
   ],
   "source": [
    "thresh = 5e-2\n",
    "SINDyImplementEnsemble(working_dat, fileStr,thresh)"
   ]
  },
  {
   "cell_type": "code",
   "execution_count": 38,
   "id": "63f2379b",
   "metadata": {
    "scrolled": true
   },
   "outputs": [
    {
     "name": "stdout",
     "output_type": "stream",
     "text": [
      "Ensemble STLSQ with Threshold 0.01\n",
      "(x0)' = 0.9916 x0_1 + 0.1872 x0_11 + 0.6255 x0_111 + 0.0210 x0_1111 + 0.0458 x0x0x0_11 + 0.4102 x0x0x0_111 + 0.0524 x0x0x0_1111\n"
     ]
    }
   ],
   "source": [
    "thresh = 1e-2\n",
    "SINDyImplementEnsemble(working_dat, fileStr,thresh)"
   ]
  },
  {
   "cell_type": "markdown",
   "id": "4fcb7abd",
   "metadata": {},
   "source": [
    "### Dataset 3"
   ]
  },
  {
   "cell_type": "code",
   "execution_count": 11,
   "id": "5b5a73fa",
   "metadata": {},
   "outputs": [],
   "source": [
    "fileStr = \"2021-11-02T0511_smoothed_rad_4\"\n",
    "\n",
    "working_dat = np.load(\"/home/ldoyle/notebooks/channel_drift_5_min_clips/rad_4_smoothed_decimated_normalized_5_min_start_South-C1-LR-95km-P1kHz-GL50m-SP2m-FS200Hz_2021-11-02T051114Z.npy\")\n",
    "scaler_val = np.std(working_dat)\n",
    "working_dat = working_dat/scaler_val\n",
    "working_dat = working_dat.reshape(working_dat.shape[0],working_dat.shape[1],1)\n"
   ]
  },
  {
   "cell_type": "code",
   "execution_count": 11,
   "id": "4bf64a25",
   "metadata": {
    "scrolled": true
   },
   "outputs": [
    {
     "name": "stdout",
     "output_type": "stream",
     "text": [
      "Ensemble STLSQ with Threshold 0.1\n",
      "(x0)' = 0.9967 x0_1\n"
     ]
    }
   ],
   "source": [
    "thresh = 1e-1\n",
    "SINDyImplementEnsemble(working_dat, fileStr,thresh)"
   ]
  },
  {
   "cell_type": "code",
   "execution_count": 12,
   "id": "ba2088a3",
   "metadata": {},
   "outputs": [
    {
     "name": "stdout",
     "output_type": "stream",
     "text": [
      "Ensemble STLSQ with Threshold 0.08\n",
      "(x0)' = 0.9967 x0_1 + 0.1249 x0_111\n"
     ]
    }
   ],
   "source": [
    "thresh = 8e-2\n",
    "SINDyImplementEnsemble(working_dat, fileStr,thresh)"
   ]
  },
  {
   "cell_type": "code",
   "execution_count": 30,
   "id": "313fc579",
   "metadata": {},
   "outputs": [
    {
     "name": "stdout",
     "output_type": "stream",
     "text": [
      "Ensemble STLSQ with Threshold 0.05\n",
      "(x0)' = 0.9970 x0_1 + 0.1036 x0_111 + 0.0536 x0x0x0_111\n"
     ]
    }
   ],
   "source": [
    "thresh = 5e-2\n",
    "SINDyImplementEnsemble(working_dat, fileStr,thresh)"
   ]
  },
  {
   "cell_type": "code",
   "execution_count": 24,
   "id": "7c076013",
   "metadata": {},
   "outputs": [
    {
     "name": "stdout",
     "output_type": "stream",
     "text": [
      "Ensemble STLSQ with Threshold 0.01\n",
      "(x0)' = 0.9971 x0_1 + 0.1017 x0_111 + 0.0564 x0x0x0_111\n"
     ]
    }
   ],
   "source": [
    "thresh = 1e-2\n",
    "SINDyImplementEnsemble(working_dat, fileStr,thresh)"
   ]
  },
  {
   "cell_type": "code",
   "execution_count": 16,
   "id": "69bca32a",
   "metadata": {
    "scrolled": true
   },
   "outputs": [
    {
     "name": "stdout",
     "output_type": "stream",
     "text": [
      "Ensemble STLSQ with Threshold 0.003\n",
      "(x0)' = 0.9974 x0_1 + 0.1028 x0_111 + 0.0601 x0x0x0_111\n"
     ]
    }
   ],
   "source": [
    "thresh = 3e-3\n",
    "SINDyImplementEnsemble(working_dat, fileStr,thresh)"
   ]
  },
  {
   "cell_type": "code",
   "execution_count": 10,
   "id": "490b34e1",
   "metadata": {
    "scrolled": true
   },
   "outputs": [
    {
     "name": "stdout",
     "output_type": "stream",
     "text": [
      "Ensemble STLSQ with Threshold 0.001\n",
      "(x0)' = 0.9957 x0_1 + 0.0987 x0_111 + 0.0014 x0x0x0_1 + -0.0013 x0x0_111 + 0.0655 x0x0x0_111\n"
     ]
    }
   ],
   "source": [
    "thresh = 1e-3\n",
    "SINDyImplementEnsemble(working_dat, fileStr,thresh)"
   ]
  },
  {
   "cell_type": "code",
   "execution_count": 12,
   "id": "d1b39bd6",
   "metadata": {},
   "outputs": [
    {
     "name": "stdout",
     "output_type": "stream",
     "text": [
      "Ensemble STLSQ with Threshold 0.0005\n",
      "(x0)' = 0.9956 x0_1 + 0.1011 x0_111 + 0.0013 x0x0x0_1 + 0.0018 x0x0_111 + 0.0618 x0x0x0_111 + -0.0018 x0x0x0_1111\n"
     ]
    }
   ],
   "source": [
    "thresh = 5e-4\n",
    "SINDyImplementEnsemble(working_dat, fileStr,thresh)"
   ]
  },
  {
   "cell_type": "code",
   "execution_count": 40,
   "id": "27fe7f9c",
   "metadata": {
    "scrolled": true
   },
   "outputs": [
    {
     "name": "stdout",
     "output_type": "stream",
     "text": [
      "Ensemble STLSQ with Threshold 0.8\n",
      "(x0)' = 0.9842 x0_1\n"
     ]
    }
   ],
   "source": [
    "thresh = 8e-1\n",
    "SINDyImplementEnsemble(working_dat, fileStr,thresh)"
   ]
  },
  {
   "cell_type": "code",
   "execution_count": 41,
   "id": "6a2bbe4d",
   "metadata": {},
   "outputs": [
    {
     "name": "stdout",
     "output_type": "stream",
     "text": [
      "Ensemble STLSQ with Threshold 0.5\n",
      "(x0)' = 0.9885 x0_1 + 0.7933 x0_111\n"
     ]
    }
   ],
   "source": [
    "thresh = 5e-1\n",
    "SINDyImplementEnsemble(working_dat, fileStr,thresh)"
   ]
  },
  {
   "cell_type": "code",
   "execution_count": 42,
   "id": "f0307990",
   "metadata": {},
   "outputs": [
    {
     "name": "stdout",
     "output_type": "stream",
     "text": [
      "Ensemble STLSQ with Threshold 0.1\n",
      "(x0)' = 0.9915 x0_1 + 0.2463 x0_11 + 0.6791 x0_111 + 0.3621 x0x0x0_111\n"
     ]
    }
   ],
   "source": [
    "thresh = 1e-1\n",
    "SINDyImplementEnsemble(working_dat, fileStr,thresh)"
   ]
  },
  {
   "cell_type": "code",
   "execution_count": 43,
   "id": "a04c8130",
   "metadata": {
    "scrolled": true
   },
   "outputs": [
    {
     "name": "stdout",
     "output_type": "stream",
     "text": [
      "Ensemble STLSQ with Threshold 0.05\n",
      "(x0)' = 0.9914 x0_1 + 0.2450 x0_11 + 0.6783 x0_111 + 0.3874 x0x0x0_111\n"
     ]
    }
   ],
   "source": [
    "thresh = 5e-2\n",
    "SINDyImplementEnsemble(working_dat, fileStr,thresh)"
   ]
  },
  {
   "cell_type": "code",
   "execution_count": 44,
   "id": "1228330a",
   "metadata": {
    "scrolled": true
   },
   "outputs": [
    {
     "name": "stdout",
     "output_type": "stream",
     "text": [
      "Ensemble STLSQ with Threshold 0.01\n",
      "(x0)' = 0.9921 x0_1 + 0.2116 x0_11 + 0.6587 x0_111 + 0.0328 x0x0x0_11 + 0.3925 x0x0x0_111 + 0.0435 x0x0x0_1111\n"
     ]
    }
   ],
   "source": [
    "thresh = 1e-2\n",
    "SINDyImplementEnsemble(working_dat, fileStr,thresh)"
   ]
  },
  {
   "cell_type": "markdown",
   "id": "5fe692e4",
   "metadata": {},
   "source": [
    "### Dataset 4"
   ]
  },
  {
   "cell_type": "code",
   "execution_count": 13,
   "id": "cc7bac00",
   "metadata": {},
   "outputs": [],
   "source": [
    "fileStr = \"2021-11-02T2311_smoothed_rad_4\"\n",
    "\n",
    "working_dat = np.load(\"/home/ldoyle/notebooks/channel_drift_5_min_clips/rad_4_smoothed_decimated_normalized_5_min_start_South-C1-LR-95km-P1kHz-GL50m-SP2m-FS200Hz_2021-11-02T231114Z.npy\")\n",
    "scaler_val = np.std(working_dat)\n",
    "working_dat = working_dat/scaler_val\n",
    "working_dat = working_dat.reshape(working_dat.shape[0],working_dat.shape[1],1)\n"
   ]
  },
  {
   "cell_type": "code",
   "execution_count": 14,
   "id": "02a8f624",
   "metadata": {
    "scrolled": true
   },
   "outputs": [
    {
     "name": "stdout",
     "output_type": "stream",
     "text": [
      "Ensemble STLSQ with Threshold 0.1\n",
      "(x0)' = 0.9978 x0_1 + 0.2204 x0_111\n"
     ]
    }
   ],
   "source": [
    "thresh = 1e-1\n",
    "SINDyImplementEnsemble(working_dat, fileStr,thresh)"
   ]
  },
  {
   "cell_type": "code",
   "execution_count": 14,
   "id": "694e8489",
   "metadata": {},
   "outputs": [
    {
     "name": "stdout",
     "output_type": "stream",
     "text": [
      "Ensemble STLSQ with Threshold 0.08\n",
      "(x0)' = 0.9978 x0_1 + 0.2152 x0_111\n"
     ]
    }
   ],
   "source": [
    "thresh = 8e-2\n",
    "SINDyImplementEnsemble(working_dat, fileStr,thresh)"
   ]
  },
  {
   "cell_type": "code",
   "execution_count": 32,
   "id": "dd89eab8",
   "metadata": {},
   "outputs": [
    {
     "name": "stdout",
     "output_type": "stream",
     "text": [
      "Ensemble STLSQ with Threshold 0.05\n",
      "(x0)' = 0.9983 x0_1 + 0.1798 x0_111 + 0.0607 x0x0x0_111\n"
     ]
    }
   ],
   "source": [
    "thresh = 5e-2\n",
    "SINDyImplementEnsemble(working_dat, fileStr,thresh)"
   ]
  },
  {
   "cell_type": "code",
   "execution_count": 26,
   "id": "015b74a7",
   "metadata": {},
   "outputs": [
    {
     "name": "stdout",
     "output_type": "stream",
     "text": [
      "Ensemble STLSQ with Threshold 0.01\n",
      "(x0)' = 0.9983 x0_1 + 0.1804 x0_111 + 0.0621 x0x0x0_111\n"
     ]
    }
   ],
   "source": [
    "thresh = 1e-2\n",
    "SINDyImplementEnsemble(working_dat, fileStr,thresh)"
   ]
  },
  {
   "cell_type": "code",
   "execution_count": 18,
   "id": "81d00112",
   "metadata": {
    "scrolled": true
   },
   "outputs": [
    {
     "name": "stdout",
     "output_type": "stream",
     "text": [
      "Ensemble STLSQ with Threshold 0.003\n",
      "(x0)' = 0.9983 x0_1 + 0.1830 x0_111 + 0.0565 x0x0x0_111\n"
     ]
    }
   ],
   "source": [
    "thresh = 3e-3\n",
    "SINDyImplementEnsemble(working_dat, fileStr,thresh)"
   ]
  },
  {
   "cell_type": "code",
   "execution_count": 12,
   "id": "c23c6550",
   "metadata": {
    "scrolled": true
   },
   "outputs": [
    {
     "name": "stdout",
     "output_type": "stream",
     "text": [
      "Ensemble STLSQ with Threshold 0.001\n",
      "(x0)' = 0.9966 x0_1 + 0.1826 x0_111 + 0.0015 x0x0x0_1 + 0.0019 x0x0_111 + 0.0667 x0x0x0_111\n"
     ]
    }
   ],
   "source": [
    "thresh = 1e-3\n",
    "SINDyImplementEnsemble(working_dat, fileStr,thresh)"
   ]
  },
  {
   "cell_type": "code",
   "execution_count": 15,
   "id": "e1269543",
   "metadata": {},
   "outputs": [
    {
     "name": "stdout",
     "output_type": "stream",
     "text": [
      "Ensemble STLSQ with Threshold 0.0005\n",
      "(x0)' = 0.9967 x0_1 + 0.1746 x0_111 + 0.0014 x0x0x0_1 + 0.0711 x0x0x0_111\n"
     ]
    }
   ],
   "source": [
    "thresh = 5e-4\n",
    "SINDyImplementEnsemble(working_dat, fileStr,thresh)"
   ]
  },
  {
   "cell_type": "code",
   "execution_count": 46,
   "id": "d748dddf",
   "metadata": {
    "scrolled": true
   },
   "outputs": [
    {
     "name": "stdout",
     "output_type": "stream",
     "text": [
      "Ensemble STLSQ with Threshold 0.8\n",
      "(x0)' = 0.9900 x0_1 + 1.4100 x0_111\n"
     ]
    }
   ],
   "source": [
    "thresh = 8e-1\n",
    "SINDyImplementEnsemble(working_dat, fileStr,thresh)"
   ]
  },
  {
   "cell_type": "code",
   "execution_count": 47,
   "id": "efd518fd",
   "metadata": {},
   "outputs": [
    {
     "name": "stdout",
     "output_type": "stream",
     "text": [
      "Ensemble STLSQ with Threshold 0.5\n",
      "(x0)' = 0.9909 x0_1 + 1.4133 x0_111\n"
     ]
    }
   ],
   "source": [
    "thresh = 5e-1\n",
    "SINDyImplementEnsemble(working_dat, fileStr,thresh)"
   ]
  },
  {
   "cell_type": "code",
   "execution_count": 48,
   "id": "088f5aed",
   "metadata": {},
   "outputs": [
    {
     "name": "stdout",
     "output_type": "stream",
     "text": [
      "Ensemble STLSQ with Threshold 0.1\n",
      "(x0)' = 0.9932 x0_1 + 0.2852 x0_11 + 1.1621 x0_111 + 0.4053 x0x0x0_111\n"
     ]
    }
   ],
   "source": [
    "thresh = 1e-1\n",
    "SINDyImplementEnsemble(working_dat, fileStr,thresh)"
   ]
  },
  {
   "cell_type": "code",
   "execution_count": 49,
   "id": "0b857987",
   "metadata": {
    "scrolled": true
   },
   "outputs": [
    {
     "name": "stdout",
     "output_type": "stream",
     "text": [
      "Ensemble STLSQ with Threshold 0.05\n",
      "(x0)' = 0.9927 x0_1 + 0.2970 x0_11 + 1.1693 x0_111 + 0.3979 x0x0x0_111\n"
     ]
    }
   ],
   "source": [
    "thresh = 5e-2\n",
    "SINDyImplementEnsemble(working_dat, fileStr,thresh)"
   ]
  },
  {
   "cell_type": "code",
   "execution_count": 50,
   "id": "4fea200c",
   "metadata": {
    "scrolled": true
   },
   "outputs": [
    {
     "name": "stdout",
     "output_type": "stream",
     "text": [
      "Ensemble STLSQ with Threshold 0.01\n",
      "(x0)' = 0.9936 x0_1 + 0.2663 x0_11 + 1.1514 x0_111 + 0.0615 x0_1111 + 0.0294 x0x0x0_11 + 0.0090 x0x0_111 + 0.4211 x0x0x0_111 + 0.1124 x0x0x0_1111\n"
     ]
    }
   ],
   "source": [
    "thresh = 1e-2\n",
    "SINDyImplementEnsemble(working_dat, fileStr,thresh)"
   ]
  },
  {
   "cell_type": "markdown",
   "id": "a2d83d73",
   "metadata": {},
   "source": [
    "## Multifilt (radius 10 smooth)"
   ]
  },
  {
   "cell_type": "markdown",
   "id": "d34d49cc",
   "metadata": {},
   "source": [
    "### Dataset 1"
   ]
  },
  {
   "cell_type": "code",
   "execution_count": null,
   "id": "4b849399",
   "metadata": {},
   "outputs": [],
   "source": [
    "# fileStr = \"2021-11-01T2311_smoothed_rad_10\"\n",
    "\n",
    "# working_dat = np.load(\"/home/ldoyle/notebooks/channel_drift_5_min_clips/rad_10_smoothed_decimated_normalized_5_min_start_South-C1-LR-95km-P1kHz-GL50m-SP2m-FS200Hz_2021-11-01T231114Z.npy\")\n",
    "# scaler_val = np.std(working_dat)\n",
    "# working_dat = working_dat/scaler_val\n",
    "# working_dat = working_dat.reshape(working_dat.shape[0],working_dat.shape[1],1)\n"
   ]
  },
  {
   "cell_type": "code",
   "execution_count": null,
   "id": "43401e43",
   "metadata": {},
   "outputs": [],
   "source": [
    "# thresh = 1e-2\n",
    "# SINDyImplementEnsemble(working_dat, fileStr,thresh)"
   ]
  },
  {
   "cell_type": "code",
   "execution_count": null,
   "id": "44352390",
   "metadata": {},
   "outputs": [],
   "source": [
    "# thresh = 3e-3\n",
    "# SINDyImplementEnsemble(working_dat, fileStr,thresh)"
   ]
  },
  {
   "cell_type": "code",
   "execution_count": null,
   "id": "e82fff93",
   "metadata": {
    "scrolled": true
   },
   "outputs": [],
   "source": [
    "# thresh = 1e-3\n",
    "# SINDyImplementEnsemble(working_dat, fileStr,thresh)"
   ]
  },
  {
   "cell_type": "code",
   "execution_count": null,
   "id": "d6570c06",
   "metadata": {},
   "outputs": [],
   "source": [
    "# thresh = 1e-4\n",
    "# SINDyImplementEnsemble(working_dat, fileStr,thresh)"
   ]
  },
  {
   "cell_type": "code",
   "execution_count": null,
   "id": "ed96d81a",
   "metadata": {
    "scrolled": true
   },
   "outputs": [],
   "source": [
    "# thresh = 1e-5\n",
    "# SINDyImplementEnsemble(working_dat, fileStr,thresh)"
   ]
  },
  {
   "cell_type": "markdown",
   "id": "2313d211",
   "metadata": {},
   "source": [
    "### Dataset 2"
   ]
  },
  {
   "cell_type": "code",
   "execution_count": null,
   "id": "ff6aa87b",
   "metadata": {},
   "outputs": [],
   "source": [
    "# fileStr = \"2021-11-01T2321_smoothed_rad_10\"\n",
    "\n",
    "# working_dat = np.load(\"/home/ldoyle/notebooks/channel_drift_5_min_clips/rad_10_smoothed_decimated_normalized_5_min_start_South-C1-LR-95km-P1kHz-GL50m-SP2m-FS200Hz_2021-11-01T232114Z.npy\")\n",
    "# scaler_val = np.std(working_dat)\n",
    "# working_dat = working_dat/scaler_val\n",
    "# working_dat = working_dat.reshape(working_dat.shape[0],working_dat.shape[1],1)\n"
   ]
  },
  {
   "cell_type": "code",
   "execution_count": null,
   "id": "06c687a3",
   "metadata": {},
   "outputs": [],
   "source": [
    "# thresh = 1e-2\n",
    "# SINDyImplementEnsemble(working_dat, fileStr,thresh)"
   ]
  },
  {
   "cell_type": "code",
   "execution_count": null,
   "id": "69955810",
   "metadata": {},
   "outputs": [],
   "source": [
    "# thresh = 3e-3\n",
    "# SINDyImplementEnsemble(working_dat, fileStr,thresh)"
   ]
  },
  {
   "cell_type": "code",
   "execution_count": null,
   "id": "51d0fe86",
   "metadata": {
    "scrolled": true
   },
   "outputs": [],
   "source": [
    "# thresh = 1e-3\n",
    "# SINDyImplementEnsemble(working_dat, fileStr,thresh)"
   ]
  },
  {
   "cell_type": "code",
   "execution_count": null,
   "id": "f023f5e8",
   "metadata": {},
   "outputs": [],
   "source": [
    "# thresh = 1e-4\n",
    "# SINDyImplementEnsemble(working_dat, fileStr,thresh)"
   ]
  },
  {
   "cell_type": "code",
   "execution_count": null,
   "id": "0e744e72",
   "metadata": {},
   "outputs": [],
   "source": [
    "# thresh = 1e-5\n",
    "# SINDyImplementEnsemble(working_dat, fileStr,thresh)"
   ]
  },
  {
   "cell_type": "markdown",
   "id": "67765ae0",
   "metadata": {},
   "source": [
    "### Dataset 3"
   ]
  },
  {
   "cell_type": "code",
   "execution_count": null,
   "id": "25977273",
   "metadata": {},
   "outputs": [],
   "source": [
    "# fileStr = \"2021-11-02T0511_smoothed_rad_10\"\n",
    "\n",
    "# working_dat = np.load(\"/home/ldoyle/notebooks/channel_drift_5_min_clips/rad_10_smoothed_decimated_normalized_5_min_start_South-C1-LR-95km-P1kHz-GL50m-SP2m-FS200Hz_2021-11-02T051114Z.npy\")\n",
    "# scaler_val = np.std(working_dat)\n",
    "# working_dat = working_dat/scaler_val\n",
    "# working_dat = working_dat.reshape(working_dat.shape[0],working_dat.shape[1],1)\n"
   ]
  },
  {
   "cell_type": "code",
   "execution_count": null,
   "id": "11e42e7f",
   "metadata": {},
   "outputs": [],
   "source": [
    "# thresh = 1e-2\n",
    "# SINDyImplementEnsemble(working_dat, fileStr,thresh)"
   ]
  },
  {
   "cell_type": "code",
   "execution_count": null,
   "id": "3ac69d41",
   "metadata": {},
   "outputs": [],
   "source": [
    "# thresh = 3e-3\n",
    "# SINDyImplementEnsemble(working_dat, fileStr,thresh)"
   ]
  },
  {
   "cell_type": "code",
   "execution_count": null,
   "id": "b5720fd9",
   "metadata": {
    "scrolled": true
   },
   "outputs": [],
   "source": [
    "# thresh = 1e-3\n",
    "# SINDyImplementEnsemble(working_dat, fileStr,thresh)"
   ]
  },
  {
   "cell_type": "code",
   "execution_count": null,
   "id": "ec80157d",
   "metadata": {},
   "outputs": [],
   "source": [
    "# thresh = 1e-4\n",
    "# SINDyImplementEnsemble(working_dat, fileStr,thresh)"
   ]
  },
  {
   "cell_type": "code",
   "execution_count": null,
   "id": "7dc417ff",
   "metadata": {},
   "outputs": [],
   "source": [
    "# thresh = 1e-5\n",
    "# SINDyImplementEnsemble(working_dat, fileStr,thresh)"
   ]
  },
  {
   "cell_type": "markdown",
   "id": "28038fe2",
   "metadata": {},
   "source": [
    "### Dataset 4"
   ]
  },
  {
   "cell_type": "code",
   "execution_count": null,
   "id": "21f7802e",
   "metadata": {},
   "outputs": [],
   "source": [
    "# fileStr = \"2021-11-02T2311_smoothed_rad_10\"\n",
    "\n",
    "# working_dat = np.load(\"/home/ldoyle/notebooks/channel_drift_5_min_clips/rad_10_smoothed_decimated_normalized_5_min_start_South-C1-LR-95km-P1kHz-GL50m-SP2m-FS200Hz_2021-11-02T231114Z.npy\")\n",
    "# scaler_val = np.std(working_dat)\n",
    "# working_dat = working_dat/scaler_val\n",
    "# working_dat = working_dat.reshape(working_dat.shape[0],working_dat.shape[1],1)\n"
   ]
  },
  {
   "cell_type": "code",
   "execution_count": null,
   "id": "a788b2cc",
   "metadata": {},
   "outputs": [],
   "source": [
    "# thresh = 1e-2\n",
    "# SINDyImplementEnsemble(working_dat, fileStr,thresh)"
   ]
  },
  {
   "cell_type": "code",
   "execution_count": null,
   "id": "178aba61",
   "metadata": {},
   "outputs": [],
   "source": [
    "# thresh = 3e-3\n",
    "# SINDyImplementEnsemble(working_dat, fileStr,thresh)"
   ]
  },
  {
   "cell_type": "code",
   "execution_count": null,
   "id": "c79d1352",
   "metadata": {
    "scrolled": true
   },
   "outputs": [],
   "source": [
    "# thresh = 1e-3\n",
    "# SINDyImplementEnsemble(working_dat, fileStr,thresh)"
   ]
  },
  {
   "cell_type": "code",
   "execution_count": null,
   "id": "ac55d6a5",
   "metadata": {},
   "outputs": [],
   "source": [
    "# thresh = 1e-4\n",
    "# SINDyImplementEnsemble(working_dat, fileStr,thresh)"
   ]
  },
  {
   "cell_type": "code",
   "execution_count": null,
   "id": "9f0265f7",
   "metadata": {},
   "outputs": [],
   "source": [
    "# thresh = 1e-5\n",
    "# SINDyImplementEnsemble(working_dat, fileStr,thresh)"
   ]
  },
  {
   "cell_type": "code",
   "execution_count": null,
   "id": "fc6b7c9b",
   "metadata": {},
   "outputs": [],
   "source": []
  }
 ],
 "metadata": {
  "kernelspec": {
   "display_name": "Python 3",
   "language": "python",
   "name": "python3"
  },
  "language_info": {
   "codemirror_mode": {
    "name": "ipython",
    "version": 3
   },
   "file_extension": ".py",
   "mimetype": "text/x-python",
   "name": "python",
   "nbconvert_exporter": "python",
   "pygments_lexer": "ipython3",
   "version": "3.9.16"
  }
 },
 "nbformat": 4,
 "nbformat_minor": 5
}
