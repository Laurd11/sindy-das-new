{
 "cells": [
  {
   "cell_type": "code",
   "execution_count": 1,
   "id": "9e4168e3",
   "metadata": {},
   "outputs": [],
   "source": [
    "import h5py\n",
    "import cv2\n",
    "import os\n",
    "from datetime import datetime\n",
    "import matplotlib.dates as mdates\n",
    "import numpy as np\n",
    "from tqdm import tqdm\n",
    "from matplotlib import gridspec\n",
    "import matplotlib.pyplot as plt\n",
    "path = \"/data/data2/south-data-ejm/hdd/South-C1-LR-95km-P1kHz-GL50m-SP2m-FS200Hz_2021-11-01T16_09_15-0700/\""
   ]
  },
  {
   "cell_type": "code",
   "execution_count": 8,
   "id": "ee2b6d2f",
   "metadata": {},
   "outputs": [],
   "source": [
    "import glob\n"
   ]
  },
  {
   "cell_type": "code",
   "execution_count": 16,
   "id": "9e98ce4e",
   "metadata": {},
   "outputs": [
    {
     "name": "stdout",
     "output_type": "stream",
     "text": [
      "['/home/ldoyle/packages/numpy/core/tests/data/umath-validation-set-log2.csv', '/home/ldoyle/packages/numpy/core/tests/data/umath-validation-set-expm1.csv', '/home/ldoyle/packages/numpy/core/tests/data/umath-validation-set-arctanh.csv', '/home/ldoyle/packages/numpy/core/tests/data/umath-validation-set-log.csv', '/home/ldoyle/packages/numpy/core/tests/data/umath-validation-set-exp2.csv', '/home/ldoyle/packages/numpy/core/tests/data/umath-validation-set-cosh.csv', '/home/ldoyle/packages/numpy/core/tests/data/umath-validation-set-tan.csv', '/home/ldoyle/packages/numpy/core/tests/data/umath-validation-set-exp.csv', '/home/ldoyle/packages/numpy/core/tests/data/umath-validation-set-cos.csv', '/home/ldoyle/packages/numpy/core/tests/data/umath-validation-set-arccosh.csv', '/home/ldoyle/packages/numpy/core/tests/data/umath-validation-set-arctan.csv', '/home/ldoyle/packages/numpy/core/tests/data/umath-validation-set-arcsin.csv', '/home/ldoyle/packages/numpy/core/tests/data/umath-validation-set-cbrt.csv', '/home/ldoyle/packages/numpy/core/tests/data/umath-validation-set-tanh.csv', '/home/ldoyle/packages/numpy/core/tests/data/umath-validation-set-log10.csv', '/home/ldoyle/packages/numpy/core/tests/data/umath-validation-set-arccos.csv', '/home/ldoyle/packages/numpy/core/tests/data/umath-validation-set-log1p.csv', '/home/ldoyle/packages/numpy/core/tests/data/umath-validation-set-sinh.csv', '/home/ldoyle/packages/numpy/core/tests/data/umath-validation-set-sin.csv', '/home/ldoyle/packages/numpy/core/tests/data/umath-validation-set-arcsinh.csv', '/home/ldoyle/packages/numpy/random/tests/data/mt19937-testset-1.csv', '/home/ldoyle/packages/numpy/random/tests/data/sfc64-testset-1.csv', '/home/ldoyle/packages/numpy/random/tests/data/pcg64-testset-2.csv', '/home/ldoyle/packages/numpy/random/tests/data/pcg64dxsm-testset-1.csv', '/home/ldoyle/packages/numpy/random/tests/data/philox-testset-1.csv', '/home/ldoyle/packages/numpy/random/tests/data/sfc64-testset-2.csv', '/home/ldoyle/packages/numpy/random/tests/data/mt19937-testset-2.csv', '/home/ldoyle/packages/numpy/random/tests/data/pcg64dxsm-testset-2.csv', '/home/ldoyle/packages/numpy/random/tests/data/pcg64-testset-1.csv', '/home/ldoyle/packages/numpy/random/tests/data/philox-testset-2.csv', '/home/ldoyle/packages/obspy/geodetics/tests/data/flinnengdahl.csv', '/home/ldoyle/packages/obspy/geodetics/data/Flinn-Engdahl.csv', '/home/ldoyle/packages/matplotlib/mpl-data/sample_data/percent_bachelors_degrees_women_usa.csv', '/home/ldoyle/packages/matplotlib/mpl-data/sample_data/data_x_x2_x3.csv', '/home/ldoyle/packages/matplotlib/mpl-data/sample_data/msft.csv', '/home/ldoyle/packages/sklearn/datasets/data/linnerud_exercise.csv', '/home/ldoyle/packages/sklearn/datasets/data/linnerud_physiological.csv', '/home/ldoyle/packages/sklearn/datasets/data/boston_house_prices.csv', '/home/ldoyle/packages/sklearn/datasets/data/iris.csv', '/home/ldoyle/packages/sklearn/datasets/data/breast_cancer.csv', '/home/ldoyle/packages/sklearn/datasets/data/wine_data.csv']\n"
     ]
    }
   ],
   "source": [
    "print(glob.glob('/home/**/*.csv',recursive=True))"
   ]
  },
  {
   "cell_type": "code",
   "execution_count": 2,
   "id": "95612638",
   "metadata": {},
   "outputs": [],
   "source": [
    "smoothed_dat = np.load('gaussian_smoothed_11_2_2022_channels_7500_12500South-C1-LR-95km-P1kHz-GL50m-SP2m-FS200Hz_2021-11-01T231114Z.npy')"
   ]
  },
  {
   "cell_type": "code",
   "execution_count": null,
   "id": "63fc7c2d",
   "metadata": {},
   "outputs": [],
   "source": []
  }
 ],
 "metadata": {
  "kernelspec": {
   "display_name": "Python 3",
   "language": "python",
   "name": "python3"
  },
  "language_info": {
   "codemirror_mode": {
    "name": "ipython",
    "version": 3
   },
   "file_extension": ".py",
   "mimetype": "text/x-python",
   "name": "python",
   "nbconvert_exporter": "python",
   "pygments_lexer": "ipython3",
   "version": "3.9.13"
  }
 },
 "nbformat": 4,
 "nbformat_minor": 5
}
