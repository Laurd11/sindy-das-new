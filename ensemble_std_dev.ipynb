{
 "cells": [
  {
   "cell_type": "code",
   "execution_count": 3,
   "id": "d3f483ca",
   "metadata": {},
   "outputs": [],
   "source": [
    "import sys\n",
    "sys.path.insert(0, '/home/ldoyle/packages')\n",
    "import numpy as np\n",
    "import pysindy as ps\n",
    "import matplotlib.pyplot as plt\n",
    "from glob import glob"
   ]
  },
  {
   "cell_type": "code",
   "execution_count": 4,
   "id": "2bdfa8d8",
   "metadata": {},
   "outputs": [],
   "source": [
    "def printEnsemble(coeff_arr, features, include_std=False,cut_off = 1e-3, median= False):\n",
    "    if median:\n",
    "        coefs = np.median(coeff_arr, axis=0)\n",
    "    else:\n",
    "        coefs = np.mean(coeff_arr, axis=0)\n",
    "    if include_std:\n",
    "        stds = np.std(coeff_arr, axis = 0)\n",
    "        std_str = \"St. Dev.:  \"\n",
    "    above_cut_off = np.argwhere(np.abs(coefs)>cut_off).flatten()\n",
    "#     features =  model.get_feature_names()\n",
    "    equation_str= \"(x0)' = \"\n",
    "    for count, val in enumerate(above_cut_off):\n",
    "        if count >0:\n",
    "            equation_str+=\" + \"\n",
    "        equation_str+= \"{0:.6f}\".format(coefs[val])\n",
    "        equation_str+= \" \"+features[val]\n",
    "        if include_std:\n",
    "            if count >0:\n",
    "                std_str+=\" , \"\n",
    "            std_str+=features[val]+\": \"\n",
    "            std_str+= \"{0:.6f}\".format(stds[val])\n",
    "        \n",
    "    print(equation_str)\n",
    "    if include_std:\n",
    "        print(std_str)"
   ]
  },
  {
   "cell_type": "code",
   "execution_count": 5,
   "id": "b1c6681e",
   "metadata": {},
   "outputs": [],
   "source": [
    "feats = ['1',\n",
    " 'x0',\n",
    " 'x0x0',\n",
    " 'x0_1',\n",
    " 'x0_11',\n",
    " 'x0_111',\n",
    " 'x0_1111',\n",
    " 'x0x0_1',\n",
    " 'x0x0x0_1',\n",
    " 'x0x0_11',\n",
    " 'x0x0x0_11',\n",
    " 'x0x0_111',\n",
    " 'x0x0x0_111',\n",
    " 'x0x0_1111',\n",
    " 'x0x0x0_1111']"
   ]
  },
  {
   "cell_type": "code",
   "execution_count": 6,
   "id": "5e88057b",
   "metadata": {},
   "outputs": [],
   "source": [
    "def get_coeff_stack(fileStr):\n",
    "    arr_list = []\n",
    "    for fil in glob(fileStr):\n",
    "        arr_list.append(np.load(fil)[:,0,:])\n",
    "    h_U = np.vstack(arr_list)\n",
    "    return h_U"
   ]
  },
  {
   "cell_type": "markdown",
   "id": "883b7608",
   "metadata": {},
   "source": [
    "## Multi-Ensembled "
   ]
  },
  {
   "cell_type": "markdown",
   "id": "ed92529c",
   "metadata": {},
   "source": [
    "### Unfiltered"
   ]
  },
  {
   "cell_type": "code",
   "execution_count": 5,
   "id": "d51343ba",
   "metadata": {},
   "outputs": [],
   "source": [
    "fil_str = \"/home/ldoyle/notebooks/ensembleSINDyArrays_3*/2021-11-*unfiltered_thresh_1.00E-01.npy\"\n",
    "h_U = get_coeff_stack(fil_str)"
   ]
  },
  {
   "cell_type": "code",
   "execution_count": 6,
   "id": "f51afb9c",
   "metadata": {},
   "outputs": [
    {
     "data": {
      "text/plain": [
       "8"
      ]
     },
     "execution_count": 6,
     "metadata": {},
     "output_type": "execute_result"
    }
   ],
   "source": [
    "h_U.shape[0]//30"
   ]
  },
  {
   "cell_type": "code",
   "execution_count": 7,
   "id": "34c44693",
   "metadata": {},
   "outputs": [
    {
     "name": "stdout",
     "output_type": "stream",
     "text": [
      "(x0)' = 0.658509 x0_1 + 0.368052 x0_111\n",
      "St. Dev.:  x0_1: 0.037267 , x0_111: 0.033358\n"
     ]
    }
   ],
   "source": [
    "printEnsemble(h_U, feats,median=True,include_std=True)\n"
   ]
  },
  {
   "cell_type": "code",
   "execution_count": 8,
   "id": "24e72e87",
   "metadata": {},
   "outputs": [],
   "source": [
    "fil_str = \"/home/ldoyle/notebooks/ensembleSINDyArrays_3*/2021-11-*unfiltered_thresh_1.00E-02.npy\"\n",
    "h_U = get_coeff_stack(fil_str)"
   ]
  },
  {
   "cell_type": "code",
   "execution_count": 9,
   "id": "48c58c83",
   "metadata": {},
   "outputs": [
    {
     "data": {
      "text/plain": [
       "8"
      ]
     },
     "execution_count": 9,
     "metadata": {},
     "output_type": "execute_result"
    }
   ],
   "source": [
    "h_U.shape[0]//30"
   ]
  },
  {
   "cell_type": "code",
   "execution_count": 10,
   "id": "dd74c398",
   "metadata": {},
   "outputs": [
    {
     "name": "stdout",
     "output_type": "stream",
     "text": [
      "(x0)' = 0.645245 x0_1 + 0.360646 x0_111\n",
      "St. Dev.:  x0_1: 0.039197 , x0_111: 0.032963\n"
     ]
    }
   ],
   "source": [
    "printEnsemble(h_U, feats,median=True,include_std=True)\n"
   ]
  },
  {
   "cell_type": "code",
   "execution_count": 11,
   "id": "7da43365",
   "metadata": {},
   "outputs": [],
   "source": [
    "fil_str = \"/home/ldoyle/notebooks/ensembleSINDyArrays_3*/2021-11-*unfiltered_thresh_5.00E-03.npy\"\n",
    "h_U = get_coeff_stack(fil_str)"
   ]
  },
  {
   "cell_type": "code",
   "execution_count": 12,
   "id": "24c5e228",
   "metadata": {},
   "outputs": [
    {
     "data": {
      "text/plain": [
       "8"
      ]
     },
     "execution_count": 12,
     "metadata": {},
     "output_type": "execute_result"
    }
   ],
   "source": [
    "h_U.shape[0]//30"
   ]
  },
  {
   "cell_type": "code",
   "execution_count": 13,
   "id": "20c91e70",
   "metadata": {},
   "outputs": [
    {
     "name": "stdout",
     "output_type": "stream",
     "text": [
      "(x0)' = 0.648989 x0_1 + 0.362853 x0_111\n",
      "St. Dev.:  x0_1: 0.036899 , x0_111: 0.029196\n"
     ]
    }
   ],
   "source": [
    "printEnsemble(h_U, feats,median=True,include_std=True)\n"
   ]
  },
  {
   "cell_type": "code",
   "execution_count": 14,
   "id": "60921e3d",
   "metadata": {},
   "outputs": [],
   "source": [
    "fil_str = \"/home/ldoyle/notebooks/ensembleSINDyArrays_3*/2021-11-*unfiltered_thresh_3.00E-03.npy\"\n",
    "h_U = get_coeff_stack(fil_str)"
   ]
  },
  {
   "cell_type": "code",
   "execution_count": 15,
   "id": "31e0a78f",
   "metadata": {},
   "outputs": [
    {
     "data": {
      "text/plain": [
       "8"
      ]
     },
     "execution_count": 15,
     "metadata": {},
     "output_type": "execute_result"
    }
   ],
   "source": [
    "h_U.shape[0]//30"
   ]
  },
  {
   "cell_type": "code",
   "execution_count": 16,
   "id": "412c1c98",
   "metadata": {},
   "outputs": [
    {
     "name": "stdout",
     "output_type": "stream",
     "text": [
      "(x0)' = 0.651448 x0_1 + 0.368176 x0_111 + 0.006267 x0x0x0_1 + -0.003980 x0x0_11 + -0.008392 x0x0_111 + 0.003952 x0x0x0_111\n",
      "St. Dev.:  x0_1: 0.036843 , x0_111: 0.032148 , x0x0x0_1: 0.018904 , x0x0_11: 0.029759 , x0x0_111: 0.022931 , x0x0x0_111: 0.015228\n"
     ]
    }
   ],
   "source": [
    "printEnsemble(h_U, feats,median=True,include_std=True)\n"
   ]
  },
  {
   "cell_type": "markdown",
   "id": "59d3a092",
   "metadata": {},
   "source": [
    "### Mean Removed"
   ]
  },
  {
   "cell_type": "code",
   "execution_count": 17,
   "id": "afea38e9",
   "metadata": {},
   "outputs": [],
   "source": [
    "fil_str = \"/home/ldoyle/notebooks/ensembleSINDyArrays_3*/2021-11-*normal_thresh_1.00E-01.npy\"\n",
    "h_U = get_coeff_stack(fil_str)"
   ]
  },
  {
   "cell_type": "code",
   "execution_count": 18,
   "id": "5fcc9b6b",
   "metadata": {},
   "outputs": [
    {
     "data": {
      "text/plain": [
       "16"
      ]
     },
     "execution_count": 18,
     "metadata": {},
     "output_type": "execute_result"
    }
   ],
   "source": [
    "h_U.shape[0]//30"
   ]
  },
  {
   "cell_type": "code",
   "execution_count": 19,
   "id": "bfdf30c0",
   "metadata": {},
   "outputs": [
    {
     "name": "stdout",
     "output_type": "stream",
     "text": [
      "(x0)' = 0.668423 x0_1 + 0.313872 x0_111\n",
      "St. Dev.:  x0_1: 0.067530 , x0_111: 0.050484\n"
     ]
    }
   ],
   "source": [
    "printEnsemble(h_U, feats,median=True,include_std=True)\n"
   ]
  },
  {
   "cell_type": "code",
   "execution_count": 20,
   "id": "27748b6b",
   "metadata": {},
   "outputs": [],
   "source": [
    "fil_str = \"/home/ldoyle/notebooks/ensembleSINDyArrays_3*/2021-11-*_normal_thresh_1.00E-02.npy\"\n",
    "h_U = get_coeff_stack(fil_str)"
   ]
  },
  {
   "cell_type": "code",
   "execution_count": 21,
   "id": "ca45610d",
   "metadata": {},
   "outputs": [
    {
     "data": {
      "text/plain": [
       "16"
      ]
     },
     "execution_count": 21,
     "metadata": {},
     "output_type": "execute_result"
    }
   ],
   "source": [
    "h_U.shape[0]//30"
   ]
  },
  {
   "cell_type": "code",
   "execution_count": 22,
   "id": "3f44ea69",
   "metadata": {},
   "outputs": [
    {
     "name": "stdout",
     "output_type": "stream",
     "text": [
      "(x0)' = 0.680039 x0_1 + 0.319574 x0_111\n",
      "St. Dev.:  x0_1: 0.054142 , x0_111: 0.033790\n"
     ]
    }
   ],
   "source": [
    "printEnsemble(h_U, feats,median=True,include_std=True)\n"
   ]
  },
  {
   "cell_type": "code",
   "execution_count": 23,
   "id": "94b4a664",
   "metadata": {},
   "outputs": [],
   "source": [
    "fil_str = \"/home/ldoyle/notebooks/ensembleSINDyArrays_3*/2021-11-*_normal_thresh_5.00E-03.npy\"\n",
    "h_U = get_coeff_stack(fil_str)"
   ]
  },
  {
   "cell_type": "code",
   "execution_count": 24,
   "id": "5bb7b5a9",
   "metadata": {},
   "outputs": [
    {
     "data": {
      "text/plain": [
       "16"
      ]
     },
     "execution_count": 24,
     "metadata": {},
     "output_type": "execute_result"
    }
   ],
   "source": [
    "h_U.shape[0]//30"
   ]
  },
  {
   "cell_type": "code",
   "execution_count": 25,
   "id": "23f65393",
   "metadata": {},
   "outputs": [
    {
     "name": "stdout",
     "output_type": "stream",
     "text": [
      "(x0)' = 0.679112 x0_1 + 0.319926 x0_111 + -0.006064 x0x0x0_1\n",
      "St. Dev.:  x0_1: 0.052186 , x0_111: 0.032241 , x0x0x0_1: 0.021492\n"
     ]
    }
   ],
   "source": [
    "printEnsemble(h_U, feats,median=True,include_std=True)\n"
   ]
  },
  {
   "cell_type": "code",
   "execution_count": 26,
   "id": "ca880921",
   "metadata": {},
   "outputs": [],
   "source": [
    "fil_str = \"/home/ldoyle/notebooks/ensembleSINDyArrays_3*/2021-11-*_normal_thresh_3.00E-03.npy\"\n",
    "h_U = get_coeff_stack(fil_str)"
   ]
  },
  {
   "cell_type": "code",
   "execution_count": 27,
   "id": "3f0e09bb",
   "metadata": {},
   "outputs": [
    {
     "data": {
      "text/plain": [
       "16"
      ]
     },
     "execution_count": 27,
     "metadata": {},
     "output_type": "execute_result"
    }
   ],
   "source": [
    "h_U.shape[0]//30"
   ]
  },
  {
   "cell_type": "code",
   "execution_count": 28,
   "id": "06653675",
   "metadata": {},
   "outputs": [
    {
     "name": "stdout",
     "output_type": "stream",
     "text": [
      "(x0)' = 0.679615 x0_1 + 0.318684 x0_111 + -0.007691 x0x0x0_1 + -0.003128 x0x0x0_111\n",
      "St. Dev.:  x0_1: 0.052781 , x0_111: 0.032987 , x0x0x0_1: 0.022856 , x0x0x0_111: 0.015278\n"
     ]
    }
   ],
   "source": [
    "printEnsemble(h_U, feats,median=True,include_std=True)\n"
   ]
  },
  {
   "cell_type": "code",
   "execution_count": 29,
   "id": "3c75c164",
   "metadata": {},
   "outputs": [],
   "source": [
    "fil_str = \"/home/ldoyle/notebooks/ensembleSINDyArrays_3*/2021-11-*_normal_thresh_1.00E-03.npy\"\n",
    "h_U = get_coeff_stack(fil_str)"
   ]
  },
  {
   "cell_type": "code",
   "execution_count": 30,
   "id": "90b50b92",
   "metadata": {},
   "outputs": [
    {
     "data": {
      "text/plain": [
       "16"
      ]
     },
     "execution_count": 30,
     "metadata": {},
     "output_type": "execute_result"
    }
   ],
   "source": [
    "h_U.shape[0]//30"
   ]
  },
  {
   "cell_type": "code",
   "execution_count": 31,
   "id": "0958e5be",
   "metadata": {},
   "outputs": [
    {
     "name": "stdout",
     "output_type": "stream",
     "text": [
      "(x0)' = 0.679905 x0_1 + -0.004579 x0_11 + 0.317040 x0_111 + -0.001475 x0_1111 + 0.003089 x0x0_1 + -0.006556 x0x0x0_1 + -0.003064 x0x0x0_111\n",
      "St. Dev.:  x0_1: 0.052480 , x0_11: 0.053323 , x0_111: 0.033026 , x0_1111: 0.017036 , x0x0_1: 0.029685 , x0x0x0_1: 0.022857 , x0x0x0_111: 0.014662\n"
     ]
    }
   ],
   "source": [
    "printEnsemble(h_U, feats,median=True,include_std=True)\n"
   ]
  },
  {
   "cell_type": "markdown",
   "id": "a3341569",
   "metadata": {},
   "source": [
    "### Smoothed"
   ]
  },
  {
   "cell_type": "code",
   "execution_count": 32,
   "id": "ab79d3ff",
   "metadata": {},
   "outputs": [],
   "source": [
    "fil_str = \"/home/ldoyle/notebooks/ensembleSINDyArrays_3*/2021-11-*smoothed_rad_4_thresh_1.00E-01.npy\"\n",
    "h_U = get_coeff_stack(fil_str)"
   ]
  },
  {
   "cell_type": "code",
   "execution_count": 33,
   "id": "8153216e",
   "metadata": {},
   "outputs": [
    {
     "data": {
      "text/plain": [
       "16"
      ]
     },
     "execution_count": 33,
     "metadata": {},
     "output_type": "execute_result"
    }
   ],
   "source": [
    "h_U.shape[0]//30"
   ]
  },
  {
   "cell_type": "code",
   "execution_count": 34,
   "id": "af41fb69",
   "metadata": {},
   "outputs": [
    {
     "name": "stdout",
     "output_type": "stream",
     "text": [
      "(x0)' = 0.996577 x0_1\n",
      "St. Dev.:  x0_1: 0.001075\n"
     ]
    }
   ],
   "source": [
    "printEnsemble(h_U, feats,median=True,include_std=True)\n"
   ]
  },
  {
   "cell_type": "code",
   "execution_count": 35,
   "id": "442e278c",
   "metadata": {},
   "outputs": [],
   "source": [
    "fil_str = \"/home/ldoyle/notebooks/ensembleSINDyArrays_3*/2021-11-*smoothed_rad_4_thresh_8.00E-02.npy\"\n",
    "h_U = get_coeff_stack(fil_str)"
   ]
  },
  {
   "cell_type": "code",
   "execution_count": 36,
   "id": "644658c7",
   "metadata": {},
   "outputs": [
    {
     "data": {
      "text/plain": [
       "16"
      ]
     },
     "execution_count": 36,
     "metadata": {},
     "output_type": "execute_result"
    }
   ],
   "source": [
    "h_U.shape[0]//30"
   ]
  },
  {
   "cell_type": "code",
   "execution_count": 37,
   "id": "ad14c48d",
   "metadata": {},
   "outputs": [
    {
     "name": "stdout",
     "output_type": "stream",
     "text": [
      "(x0)' = 0.996861 x0_1 + 0.122231 x0_111\n",
      "St. Dev.:  x0_1: 0.000889 , x0_111: 0.060202\n"
     ]
    }
   ],
   "source": [
    "printEnsemble(h_U, feats,median=True,include_std=True)\n"
   ]
  },
  {
   "cell_type": "code",
   "execution_count": 38,
   "id": "1c95bcb1",
   "metadata": {},
   "outputs": [],
   "source": [
    "fil_str = \"/home/ldoyle/notebooks/ensembleSINDyArrays_3*/2021-11-*smoothed_rad_4_thresh_5.00E-02.npy\"\n",
    "h_U = get_coeff_stack(fil_str)"
   ]
  },
  {
   "cell_type": "code",
   "execution_count": 39,
   "id": "abb61454",
   "metadata": {},
   "outputs": [
    {
     "data": {
      "text/plain": [
       "16"
      ]
     },
     "execution_count": 39,
     "metadata": {},
     "output_type": "execute_result"
    }
   ],
   "source": [
    "h_U.shape[0]//30"
   ]
  },
  {
   "cell_type": "code",
   "execution_count": 40,
   "id": "52bb3cc9",
   "metadata": {},
   "outputs": [
    {
     "name": "stdout",
     "output_type": "stream",
     "text": [
      "(x0)' = 0.997220 x0_1 + 0.101473 x0_111 + 0.060912 x0x0x0_111\n",
      "St. Dev.:  x0_1: 0.000814 , x0_111: 0.040456 , x0x0x0_111: 0.021836\n"
     ]
    }
   ],
   "source": [
    "printEnsemble(h_U, feats,median=True,include_std=True)\n"
   ]
  },
  {
   "cell_type": "code",
   "execution_count": 41,
   "id": "68c46cc8",
   "metadata": {},
   "outputs": [],
   "source": [
    "fil_str = \"/home/ldoyle/notebooks/ensembleSINDyArrays_3*/2021-11-*smoothed_rad_4_thresh_1.00E-02.npy\"\n",
    "h_U = get_coeff_stack(fil_str)"
   ]
  },
  {
   "cell_type": "code",
   "execution_count": 42,
   "id": "4ae6811e",
   "metadata": {},
   "outputs": [
    {
     "data": {
      "text/plain": [
       "16"
      ]
     },
     "execution_count": 42,
     "metadata": {},
     "output_type": "execute_result"
    }
   ],
   "source": [
    "h_U.shape[0]//30"
   ]
  },
  {
   "cell_type": "code",
   "execution_count": 43,
   "id": "74392960",
   "metadata": {},
   "outputs": [
    {
     "name": "stdout",
     "output_type": "stream",
     "text": [
      "(x0)' = 0.997363 x0_1 + 0.100087 x0_111 + 0.061086 x0x0x0_111\n",
      "St. Dev.:  x0_1: 0.000773 , x0_111: 0.038336 , x0x0x0_111: 0.009055\n"
     ]
    }
   ],
   "source": [
    "printEnsemble(h_U, feats,median=True,include_std=True)\n"
   ]
  },
  {
   "cell_type": "code",
   "execution_count": 44,
   "id": "0442c533",
   "metadata": {},
   "outputs": [],
   "source": [
    "fil_str = \"/home/ldoyle/notebooks/ensembleSINDyArrays_3*/2021-11-*smoothed_rad_4_thresh_3.00E-03.npy\"\n",
    "h_U = get_coeff_stack(fil_str)"
   ]
  },
  {
   "cell_type": "code",
   "execution_count": 45,
   "id": "26232f35",
   "metadata": {},
   "outputs": [
    {
     "data": {
      "text/plain": [
       "16"
      ]
     },
     "execution_count": 45,
     "metadata": {},
     "output_type": "execute_result"
    }
   ],
   "source": [
    "h_U.shape[0]//30"
   ]
  },
  {
   "cell_type": "code",
   "execution_count": 46,
   "id": "613ea267",
   "metadata": {
    "scrolled": true
   },
   "outputs": [
    {
     "name": "stdout",
     "output_type": "stream",
     "text": [
      "(x0)' = 0.997344 x0_1 + 0.100280 x0_111 + 0.061266 x0x0x0_111\n",
      "St. Dev.:  x0_1: 0.000797 , x0_111: 0.038372 , x0x0x0_111: 0.009430\n"
     ]
    }
   ],
   "source": [
    "printEnsemble(h_U, feats,median=True,include_std=True)\n"
   ]
  },
  {
   "cell_type": "code",
   "execution_count": 47,
   "id": "d8a5f0e0",
   "metadata": {},
   "outputs": [],
   "source": [
    "fil_str = \"/home/ldoyle/notebooks/ensembleSINDyArrays_3*/2021-11-*smoothed_rad_4_thresh_1.00E-03.npy\"\n",
    "h_U = get_coeff_stack(fil_str)"
   ]
  },
  {
   "cell_type": "code",
   "execution_count": 48,
   "id": "31c946d4",
   "metadata": {},
   "outputs": [
    {
     "data": {
      "text/plain": [
       "16"
      ]
     },
     "execution_count": 48,
     "metadata": {},
     "output_type": "execute_result"
    }
   ],
   "source": [
    "h_U.shape[0]//30"
   ]
  },
  {
   "cell_type": "code",
   "execution_count": 49,
   "id": "f245463d",
   "metadata": {
    "scrolled": true
   },
   "outputs": [
    {
     "name": "stdout",
     "output_type": "stream",
     "text": [
      "(x0)' = 0.995884 x0_1 + 0.098516 x0_111 + 0.001537 x0x0x0_1 + 0.068080 x0x0x0_111\n",
      "St. Dev.:  x0_1: 0.001091 , x0_111: 0.037357 , x0x0x0_1: 0.000680 , x0x0x0_111: 0.009298\n"
     ]
    }
   ],
   "source": [
    "printEnsemble(h_U, feats,median=True,include_std=True)\n"
   ]
  },
  {
   "cell_type": "code",
   "execution_count": 50,
   "id": "223f5a88",
   "metadata": {},
   "outputs": [],
   "source": [
    "fil_str = \"/home/ldoyle/notebooks/ensembleSINDyArrays_3*/2021-11-*smoothed_rad_4_thresh_5.00E-04.npy\"\n",
    "h_U = get_coeff_stack(fil_str)"
   ]
  },
  {
   "cell_type": "code",
   "execution_count": 51,
   "id": "d0382389",
   "metadata": {},
   "outputs": [
    {
     "data": {
      "text/plain": [
       "16"
      ]
     },
     "execution_count": 51,
     "metadata": {},
     "output_type": "execute_result"
    }
   ],
   "source": [
    "h_U.shape[0]//30"
   ]
  },
  {
   "cell_type": "code",
   "execution_count": 52,
   "id": "8a9315ab",
   "metadata": {},
   "outputs": [
    {
     "name": "stdout",
     "output_type": "stream",
     "text": [
      "(x0)' = 0.995820 x0_1 + 0.099374 x0_111 + 0.001534 x0x0x0_1 + 0.068218 x0x0x0_111\n",
      "St. Dev.:  x0_1: 0.000993 , x0_111: 0.037031 , x0x0x0_1: 0.000514 , x0x0x0_111: 0.008700\n"
     ]
    }
   ],
   "source": [
    "printEnsemble(h_U, feats,median=True,include_std=True)\n"
   ]
  },
  {
   "cell_type": "code",
   "execution_count": null,
   "id": "1fc016a3",
   "metadata": {},
   "outputs": [],
   "source": []
  },
  {
   "cell_type": "code",
   "execution_count": null,
   "id": "4f484957",
   "metadata": {},
   "outputs": [],
   "source": []
  }
 ],
 "metadata": {
  "kernelspec": {
   "display_name": "Python 3",
   "language": "python",
   "name": "python3"
  },
  "language_info": {
   "codemirror_mode": {
    "name": "ipython",
    "version": 3
   },
   "file_extension": ".py",
   "mimetype": "text/x-python",
   "name": "python",
   "nbconvert_exporter": "python",
   "pygments_lexer": "ipython3",
   "version": "3.9.16"
  }
 },
 "nbformat": 4,
 "nbformat_minor": 5
}
