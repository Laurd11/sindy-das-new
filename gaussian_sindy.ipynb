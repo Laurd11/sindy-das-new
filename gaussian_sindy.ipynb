{
 "cells": [
  {
   "cell_type": "code",
   "execution_count": 1,
   "id": "e27e745c",
   "metadata": {},
   "outputs": [],
   "source": [
    "import sys\n",
    "sys.path.insert(0, '/home/ldoyle/packages')\n",
    "import h5py\n",
    "import numpy as np\n",
    "from tqdm import tqdm\n",
    "import matplotlib\n",
    "import matplotlib.dates as mdates\n",
    "import matplotlib.pyplot as plt\n",
    "from sklearn.decomposition import PCA\n",
    "import pandas as pd\n",
    "import pysindy as ps\n",
    "from lr_ed import localreg\n",
    "from datetime import datetime\n",
    "from scipy.fft import fft, fftfreq,rfft2\n",
    "\n",
    "import scipy.signal as signal\n",
    "from obspy.signal import filter as obsfilt"
   ]
  },
  {
   "cell_type": "code",
   "execution_count": 2,
   "id": "672441ec",
   "metadata": {},
   "outputs": [],
   "source": [
    "import glob\n",
    "file_list = glob.glob(\"/home/ldoyle/notebooks/rad_4_smooth_data/*\")"
   ]
  },
  {
   "cell_type": "code",
   "execution_count": 3,
   "id": "06866b9a",
   "metadata": {},
   "outputs": [
    {
     "data": {
      "text/plain": [
       "['/home/ldoyle/notebooks/rad_4_smooth_data/gaussian_smoothed_channels_7500_12500_South-C1-LR-95km-P1kHz-GL50m-SP2m-FS200Hz_2021-11-01T231114Z.npy',\n",
       " '/home/ldoyle/notebooks/rad_4_smooth_data/gaussian_smoothed_channels_7500_12500_South-C1-LR-95km-P1kHz-GL50m-SP2m-FS200Hz_2021-11-01T231214Z.npy',\n",
       " '/home/ldoyle/notebooks/rad_4_smooth_data/gaussian_smoothed_channels_7500_12500_South-C1-LR-95km-P1kHz-GL50m-SP2m-FS200Hz_2021-11-01T231314Z.npy',\n",
       " '/home/ldoyle/notebooks/rad_4_smooth_data/gaussian_smoothed_channels_7500_12500_South-C1-LR-95km-P1kHz-GL50m-SP2m-FS200Hz_2021-11-01T231414Z.npy',\n",
       " '/home/ldoyle/notebooks/rad_4_smooth_data/gaussian_smoothed_channels_7500_12500_South-C1-LR-95km-P1kHz-GL50m-SP2m-FS200Hz_2021-11-01T231514Z.npy',\n",
       " '/home/ldoyle/notebooks/rad_4_smooth_data/gaussian_smoothed_channels_7500_12500_South-C1-LR-95km-P1kHz-GL50m-SP2m-FS200Hz_2021-11-01T231614Z.npy',\n",
       " '/home/ldoyle/notebooks/rad_4_smooth_data/gaussian_smoothed_channels_7500_12500_South-C1-LR-95km-P1kHz-GL50m-SP2m-FS200Hz_2021-11-01T231714Z.npy',\n",
       " '/home/ldoyle/notebooks/rad_4_smooth_data/gaussian_smoothed_channels_7500_12500_South-C1-LR-95km-P1kHz-GL50m-SP2m-FS200Hz_2021-11-01T231814Z.npy',\n",
       " '/home/ldoyle/notebooks/rad_4_smooth_data/gaussian_smoothed_channels_7500_12500_South-C1-LR-95km-P1kHz-GL50m-SP2m-FS200Hz_2021-11-01T231914Z.npy',\n",
       " '/home/ldoyle/notebooks/rad_4_smooth_data/gaussian_smoothed_channels_7500_12500_South-C1-LR-95km-P1kHz-GL50m-SP2m-FS200Hz_2021-11-01T232014Z.npy',\n",
       " '/home/ldoyle/notebooks/rad_4_smooth_data/gaussian_smoothed_channels_7500_12500_South-C1-LR-95km-P1kHz-GL50m-SP2m-FS200Hz_2021-11-01T232114Z.npy',\n",
       " '/home/ldoyle/notebooks/rad_4_smooth_data/gaussian_smoothed_channels_7500_12500_South-C1-LR-95km-P1kHz-GL50m-SP2m-FS200Hz_2021-11-01T232214Z.npy',\n",
       " '/home/ldoyle/notebooks/rad_4_smooth_data/gaussian_smoothed_channels_7500_12500_South-C1-LR-95km-P1kHz-GL50m-SP2m-FS200Hz_2021-11-01T232314Z.npy',\n",
       " '/home/ldoyle/notebooks/rad_4_smooth_data/gaussian_smoothed_channels_7500_12500_South-C1-LR-95km-P1kHz-GL50m-SP2m-FS200Hz_2021-11-01T232414Z.npy',\n",
       " '/home/ldoyle/notebooks/rad_4_smooth_data/gaussian_smoothed_channels_7500_12500_South-C1-LR-95km-P1kHz-GL50m-SP2m-FS200Hz_2021-11-01T232514Z.npy',\n",
       " '/home/ldoyle/notebooks/rad_4_smooth_data/gaussian_smoothed_channels_7500_12500_South-C1-LR-95km-P1kHz-GL50m-SP2m-FS200Hz_2021-11-01T232614Z.npy',\n",
       " '/home/ldoyle/notebooks/rad_4_smooth_data/gaussian_smoothed_channels_7500_12500_South-C1-LR-95km-P1kHz-GL50m-SP2m-FS200Hz_2021-11-01T232714Z.npy',\n",
       " '/home/ldoyle/notebooks/rad_4_smooth_data/gaussian_smoothed_channels_7500_12500_South-C1-LR-95km-P1kHz-GL50m-SP2m-FS200Hz_2021-11-01T232814Z.npy',\n",
       " '/home/ldoyle/notebooks/rad_4_smooth_data/gaussian_smoothed_channels_7500_12500_South-C1-LR-95km-P1kHz-GL50m-SP2m-FS200Hz_2021-11-01T232914Z.npy']"
      ]
     },
     "execution_count": 3,
     "metadata": {},
     "output_type": "execute_result"
    }
   ],
   "source": [
    "file_list"
   ]
  },
  {
   "cell_type": "code",
   "execution_count": 4,
   "id": "4ce81648",
   "metadata": {},
   "outputs": [
    {
     "name": "stdout",
     "output_type": "stream",
     "text": [
      "(5000, 12000)\n",
      "(5000, 12000)\n",
      "(5000, 12000)\n",
      "(5000, 12000)\n",
      "(5000, 12000)\n",
      "(5000, 12000)\n",
      "(5000, 12000)\n",
      "(5000, 12000)\n",
      "(5000, 12000)\n",
      "(5000, 12000)\n",
      "(5000, 12000)\n",
      "(5000, 12000)\n",
      "(5000, 12000)\n",
      "(5000, 12000)\n",
      "(5000, 12000)\n",
      "(5000, 12000)\n",
      "(5000, 12000)\n",
      "(5000, 12000)\n"
     ]
    }
   ],
   "source": [
    "time_subsample = 1\n",
    "full_dat = np.load(file_list[0])#data[7500:12500,::time_subsample]\n",
    "\n",
    "for i in np.arange(1,len(file_list)):\n",
    "    tmp=np.load(file_list[i])\n",
    "    print(tmp.shape)\n",
    "    full_dat = np.hstack((full_dat,tmp))"
   ]
  },
  {
   "cell_type": "code",
   "execution_count": 5,
   "id": "481768d6",
   "metadata": {},
   "outputs": [
    {
     "data": {
      "text/plain": [
       "(5000, 228000)"
      ]
     },
     "execution_count": 5,
     "metadata": {},
     "output_type": "execute_result"
    }
   ],
   "source": [
    "full_dat.shape"
   ]
  },
  {
   "cell_type": "code",
   "execution_count": 6,
   "id": "71262375",
   "metadata": {},
   "outputs": [],
   "source": [
    "fk_dat = np.fft.fftn(full_dat)\n",
    "\n",
    "xf = np.fft.fftfreq(5000, d=2)"
   ]
  },
  {
   "cell_type": "code",
   "execution_count": 7,
   "id": "54f1f7ac",
   "metadata": {},
   "outputs": [],
   "source": [
    "tf = np.fft.fftfreq(full_dat.shape[1], d=time_subsample/200)#[:N//2]\n",
    "\n",
    "X, Y = np.meshgrid(tf,xf)"
   ]
  },
  {
   "cell_type": "code",
   "execution_count": null,
   "id": "8d35d467",
   "metadata": {},
   "outputs": [],
   "source": [
    "plt.figure(figsize=(6,10))\n",
    "cp = plt.contourf(X[:,:X.shape[1]//2], Y[:,:X.shape[1]//2], 10*np.log10(np.abs(fk_dat[:,:X.shape[1]//2])**2))\n",
    "\n",
    "plt.scatter(np.sqrt(9.8*np.linspace(-0.01,0.01,30)*np.tanh(142*np.linspace(-0.01,0.01,30))),\n",
    "            np.linspace(-0.01,0.01,30), c=\"k\")\n",
    "# plt.scatter(-np.sqrt(9.8*np.linspace(-0.01,0.01,30)*np.tanh(50*np.linspace(-0.01,0.01,30))),\n",
    "#             np.linspace(-0.01,0.01,30), c=\"k\")\n",
    "plt.xlim(-0.,0.2)\n",
    "plt.ylim(-0.01,0.01)\n",
    "plt.xlabel(\"Freq. (Hz)\")\n",
    "plt.ylabel(\"Wavenumber (1/m)\",size=12)\n",
    "plt.colorbar(cp, pad = 0.04)\n",
    "plt.show()"
   ]
  },
  {
   "cell_type": "code",
   "execution_count": null,
   "id": "c4e5ca3e",
   "metadata": {},
   "outputs": [],
   "source": []
  }
 ],
 "metadata": {
  "kernelspec": {
   "display_name": "Python 3",
   "language": "python",
   "name": "python3"
  },
  "language_info": {
   "codemirror_mode": {
    "name": "ipython",
    "version": 3
   },
   "file_extension": ".py",
   "mimetype": "text/x-python",
   "name": "python",
   "nbconvert_exporter": "python",
   "pygments_lexer": "ipython3",
   "version": "3.9.13"
  }
 },
 "nbformat": 4,
 "nbformat_minor": 5
}
